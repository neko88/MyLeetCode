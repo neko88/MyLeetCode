{
 "cells": [
  {
   "metadata": {},
   "cell_type": "markdown",
   "source": [
    "```\n",
    "input: array prices of a given stock on the i-th day    -> prices[day] = price\n",
    "    choose the i-th day which maximizes buying a stock and \n",
    "    another i-th day to sell the stock\n",
    "\n",
    "output: the max profit from the chosen transaction(s),\n",
    "    if no profit can be achieved, return \n",
    "\n",
    "- can buy and sell throughout but only hold at most one stock at any time\n",
    "```"
   ],
   "id": "9ca1cc4c7c8df520"
  },
  {
   "metadata": {},
   "cell_type": "markdown",
   "source": [
    "```\n",
    "Approach:\n",
    "    buy: the price we currently decide on buying\n",
    "\n",
    "    iterate:\n",
    "    - if prices[i] > buy, there is potential profit\n",
    "    - calculate max_profit = prices[i] - buy\n",
    "        - then update price[i] to be the new buy price (profit or not)\n",
    "```\n"
   ],
   "id": "e430d889f3e741a6"
  },
  {
   "metadata": {},
   "cell_type": "code",
   "outputs": [],
   "execution_count": null,
   "source": "",
   "id": "fc50afeba8144b4"
  }
 ],
 "metadata": {
  "kernelspec": {
   "display_name": "Python 3",
   "language": "python",
   "name": "python3"
  },
  "language_info": {
   "codemirror_mode": {
    "name": "ipython",
    "version": 2
   },
   "file_extension": ".py",
   "mimetype": "text/x-python",
   "name": "python",
   "nbconvert_exporter": "python",
   "pygments_lexer": "ipython2",
   "version": "2.7.6"
  }
 },
 "nbformat": 4,
 "nbformat_minor": 5
}
