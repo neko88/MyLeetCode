{
 "cells": [
  {
   "metadata": {},
   "cell_type": "markdown",
   "source": [
    "```\n",
    "input:\n",
    "    root = root of binary search tree\n",
    "    k = int\n",
    "output:\n",
    "    kth smallest value of all the values of the nodes in the tree\n",
    "```"
   ],
   "id": "e709ab0b7cbdbd4c"
  },
  {
   "metadata": {},
   "cell_type": "code",
   "outputs": [],
   "execution_count": null,
   "source": [
    "# Definition for a binary tree node.\n",
    "# class TreeNode(object):\n",
    "#     def __init__(self, val=0, left=None, right=None):\n",
    "#         self.val = val\n",
    "#         self.left = left\n",
    "#         self.right = right\n",
    "\n",
    "def kthSmallest(root, k):\n",
    "    \"\"\"\n",
    "    :type root: TreeNode\n",
    "    :type k: int\n",
    "    :rtype: int\n",
    "    \"\"\"\n",
    "    node = root\n",
    "    count = 0\n",
    "    smallest = root\n",
    "    while node:\n",
    "        if node.val < smallest.val:\n",
    "            smallest = node\n",
    "            count += 1\n",
    "        if count == k:\n",
    "            break\n",
    "        node = node.right\n",
    "    return smallest.val\n"
   ],
   "id": "bc09995e515a873f"
  },
  {
   "metadata": {
    "ExecuteTime": {
     "end_time": "2024-05-22T07:53:02.468607Z",
     "start_time": "2024-05-22T07:53:02.456973Z"
    }
   },
   "cell_type": "code",
   "source": [
    "root = [5, 3, 6, 2, 4, None, None, 1]\n",
    "print(kthSmallest(root))"
   ],
   "id": "6428844ed5a240d8",
   "outputs": [
    {
     "name": "stdout",
     "output_type": "stream",
     "text": [
      "[5, 3, 6, 2, 4, None, None, 1]\n"
     ]
    }
   ],
   "execution_count": 1
  },
  {
   "metadata": {},
   "cell_type": "code",
   "outputs": [],
   "execution_count": null,
   "source": "",
   "id": "4e6d30f29e87161d"
  }
 ],
 "metadata": {
  "kernelspec": {
   "display_name": "Python 3",
   "language": "python",
   "name": "python3"
  },
  "language_info": {
   "codemirror_mode": {
    "name": "ipython",
    "version": 2
   },
   "file_extension": ".py",
   "mimetype": "text/x-python",
   "name": "python",
   "nbconvert_exporter": "python",
   "pygments_lexer": "ipython2",
   "version": "2.7.6"
  }
 },
 "nbformat": 4,
 "nbformat_minor": 5
}
