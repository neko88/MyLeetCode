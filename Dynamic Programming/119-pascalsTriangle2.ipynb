{
 "cells": [
  {
   "cell_type": "markdown",
   "source": [
    "# 119. Pascal's Triangle II\n",
    "Easy\n",
    "\n",
    "Given an integer **rowIndex**, return the **rowIndexth** (0-indexed) row of the Pascal's triangle.\n",
    "In Pascal's triangle, each number is the sum of the two numbers directly above it as shown:\n",
    "\n",
    "```\n",
    "Example 1:\n",
    "    Input: rowIndex = 3\n",
    "    Output: [1,3,3,1]\n",
    "\n",
    "Example 2:\n",
    "    Input: rowIndex = 0\n",
    "    Output: [1]\n",
    "\n",
    "Example 3:\n",
    "    Input: rowIndex = 1\n",
    "    Output: [1,1]\n",
    "```"
   ],
   "metadata": {
    "collapsed": false
   }
  },
  {
   "cell_type": "code",
   "execution_count": 5,
   "outputs": [],
   "source": [
    "def generate(rowIndex):\n",
    "    if rowIndex == 0:\n",
    "        return [1]\n",
    "    memo = {}\n",
    "    result = []\n",
    "    helper(memo, rowIndex+1, result)\n",
    "    return memo[rowIndex+1]\n",
    "\n",
    "def helper(memo, numRows, result):\n",
    "\n",
    "    if numRows not in memo:\n",
    "        memo[numRows] = []\n",
    "        memo[numRows].append(1)\n",
    "\n",
    "        if numRows == 2:\n",
    "            memo[1] = []\n",
    "            memo[1].append(1)\n",
    "            result.append(memo[1])\n",
    "\n",
    "        for i in range(1, numRows-1):\n",
    "            prev_row = helper(memo, numRows-1,result)\n",
    "            print(\"prev_row: {}     prev_row[{}]: {}   +   prev_row[{}]: {}  = {}\".format(numRows-1,i-1,i,prev_row[i-1], prev_row[i], prev_row[i-1] + prev_row[i]))\n",
    "            memo[numRows].append(prev_row[i-1] + prev_row[i])\n",
    "        print(\"\")\n",
    "        memo[numRows].append(1)\n",
    "        result.append(memo[numRows])\n",
    "\n",
    "    return memo[numRows]"
   ],
   "metadata": {
    "collapsed": false
   }
  },
  {
   "cell_type": "code",
   "execution_count": 6,
   "outputs": [
    {
     "name": "stdout",
     "output_type": "stream",
     "text": [
      "\n",
      "prev_row: 2     prev_row[0]: 1   +   prev_row[1]: 1  = 2\n",
      "\n",
      "prev_row: 3     prev_row[0]: 1   +   prev_row[1]: 2  = 3\n",
      "prev_row: 3     prev_row[1]: 2   +   prev_row[2]: 1  = 3\n",
      "\n"
     ]
    },
    {
     "data": {
      "text/plain": "[1, 3, 3, 1]"
     },
     "execution_count": 6,
     "metadata": {},
     "output_type": "execute_result"
    }
   ],
   "source": [
    "rowIndex = 3\n",
    "generate(3)"
   ],
   "metadata": {
    "collapsed": false
   }
  },
  {
   "cell_type": "code",
   "execution_count": null,
   "outputs": [],
   "source": [],
   "metadata": {
    "collapsed": false
   }
  }
 ],
 "metadata": {
  "kernelspec": {
   "display_name": "Python 3",
   "language": "python",
   "name": "python3"
  },
  "language_info": {
   "codemirror_mode": {
    "name": "ipython",
    "version": 2
   },
   "file_extension": ".py",
   "mimetype": "text/x-python",
   "name": "python",
   "nbconvert_exporter": "python",
   "pygments_lexer": "ipython2",
   "version": "2.7.6"
  }
 },
 "nbformat": 4,
 "nbformat_minor": 0
}
