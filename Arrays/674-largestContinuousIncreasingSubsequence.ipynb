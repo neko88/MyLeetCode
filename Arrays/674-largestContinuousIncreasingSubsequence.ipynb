{
 "cells": [
  {
   "metadata": {},
   "cell_type": "markdown",
   "source": [
    "# 674. Longest Continuous Increasing Subsequence\n",
    "Easy\n",
    "\n",
    "### Given an unsorted array of integers nums, return the length of the longest continuous increasing subsequence (i.e. subarray). The subsequence must be strictly increasing.\n",
    "\n",
    "```\n",
    "A continuous increasing subsequence is defined by \n",
    "two indices l and r (l < r) such that it is \n",
    "[nums[l], nums[l + 1], ..., nums[r - 1], \n",
    "nums[r]] and for each l <= i < r, nums[i] < nums[i + 1].\n",
    "```\n",
    " \n",
    "```\n",
    "Example 1:\n",
    "    Input: nums = [1,3,5,4,7]\n",
    "    Output: 3\n",
    "    Explanation: The longest continuous increasing subsequence is [1,3,5] with length 3.\n",
    "    Even though [1,3,5,7] is an increasing subsequence, it is not continuous as elements 5 and 7 are separated by element 4.\n",
    "\n",
    "Example 2:\n",
    "    Input: nums = [2,2,2,2,2]\n",
    "    Output: 1\n",
    "    Explanation: The longest continuous increasing subsequence is [2] with length 1. Note that it must be strictly increasing.\n",
    " \n",
    "Constraints:\n",
    "    1 <= nums.length <= 104\n",
    "    -109 <= nums[i] <= 109\n",
    "```"
   ],
   "id": "2aa267eb8870a7ca"
  },
  {
   "cell_type": "code",
   "id": "initial_id",
   "metadata": {
    "collapsed": true,
    "ExecuteTime": {
     "end_time": "2024-06-10T00:53:03.166027Z",
     "start_time": "2024-06-10T00:53:03.159923Z"
    }
   },
   "source": [
    "def findLengthOfLCIS(nums):\n",
    "    if not nums:\n",
    "        return 0\n",
    "    \n",
    "    # store the current length seen\n",
    "    cur_len = 1\n",
    "    # store the longest length seen\n",
    "    max_len = 1\n",
    "    \n",
    "    for i in range(1, len(nums)):\n",
    "        # if prev.idx is ledd than the curr.idx, add to the current length\n",
    "        if nums[i-1] < nums[i]:\n",
    "            cur_len += 1\n",
    "        # else: prev.idx is larger, reset the length and update the max\n",
    "        else:\n",
    "            max_len = max(max_len, cur_len)\n",
    "            cur_len = 1\n",
    "        \n",
    "    return max(max_len,cur_len)\n",
    "    "
   ],
   "outputs": [],
   "execution_count": 7
  },
  {
   "metadata": {
    "ExecuteTime": {
     "end_time": "2024-06-10T00:53:03.338011Z",
     "start_time": "2024-06-10T00:53:03.331038Z"
    }
   },
   "cell_type": "code",
   "source": [
    "nums = [1,3,5,4,7]\n",
    "findLengthOfLCIS(nums)"
   ],
   "id": "e4e3f44e3daae7cb",
   "outputs": [
    {
     "data": {
      "text/plain": [
       "3"
      ]
     },
     "execution_count": 8,
     "metadata": {},
     "output_type": "execute_result"
    }
   ],
   "execution_count": 8
  },
  {
   "metadata": {},
   "cell_type": "code",
   "outputs": [],
   "execution_count": null,
   "source": "",
   "id": "f4cd653dff52f926"
  }
 ],
 "metadata": {
  "kernelspec": {
   "display_name": "Python 3",
   "language": "python",
   "name": "python3"
  },
  "language_info": {
   "codemirror_mode": {
    "name": "ipython",
    "version": 2
   },
   "file_extension": ".py",
   "mimetype": "text/x-python",
   "name": "python",
   "nbconvert_exporter": "python",
   "pygments_lexer": "ipython2",
   "version": "2.7.6"
  }
 },
 "nbformat": 4,
 "nbformat_minor": 5
}
