{
 "cells": [
  {
   "metadata": {},
   "cell_type": "markdown",
   "source": "",
   "id": "9cd6e178e8e3db6"
  },
  {
   "metadata": {},
   "cell_type": "markdown",
   "source": [
    "# 63. Unique Paths II\n",
    "Medium\n",
    "\n",
    "https://leetcode.com/problems/unique-paths-ii/\n",
    "\n",
    "You are given an m x n integer array grid. There is a robot initially located at the top-left corner (i.e., grid[0][0]). The robot tries to move to the bottom-right corner (i.e., grid[m - 1][n - 1]). The robot can only move either down or right at any point in time.\n",
    "\n",
    "An obstacle and space are marked as 1 or 0 respectively in grid. A path that the robot takes cannot include any square that is an obstacle.\n",
    "\n",
    "### Return the number of possible unique paths that the robot can take to reach the bottom-right corner.\n",
    "\n",
    "The testcases are generated so that the answer will be less than or equal to 2 * 109.\n",
    " \n",
    "```\n",
    "Example 1:\n",
    "    Input: obstacleGrid = [[0,0,0],[0,1,0],[0,0,0]]\n",
    "    Output: 2\n",
    "    Explanation: There is one obstacle in the middle of the 3x3 grid above.\n",
    "    There are two ways to reach the bottom-right corner:\n",
    "    1. Right -> Right -> Down -> Down\n",
    "    2. Down -> Down -> Right -> Right\n",
    "Example 2:\n",
    "    Input: obstacleGrid = [[0,1],[0,0]]\n",
    "    Output: 1\n",
    "Constraints:\n",
    "    m == obstacleGrid.length\n",
    "    n == obstacleGrid[i].length\n",
    "    1 <= m, n <= 100\n",
    "    obstacleGrid[i][j] is 0 or 1.\n",
    "```"
   ],
   "id": "fc942052bf1d5128"
  },
  {
   "metadata": {},
   "cell_type": "markdown",
   "source": [
    "\"Unique Paths II\" is a problem where you need to find the number of unique paths from the top-left corner to the bottom-right corner of a grid, but the grid contains obstacles. The obstacles are represented as 1s in the grid, and free spaces are represented as 0s.\n",
    "\n",
    "Here's a step-by-step guide to solve the problem using dynamic programming in Python:\n",
    "\n",
    "### Step-by-Step Solution\n",
    "\n",
    "1. **Define the problem**: Given an `m x n` grid where `grid[i][j]` is either 0 (free space) or 1 (obstacle), find the number of unique paths from the top-left corner to the bottom-right corner.\n",
    "\n",
    "2. **Initialize the DP table**: Create a 2D list `dp` where `dp[i][j]` represents the number of unique paths to the cell `(i, j)`.\n",
    "\n",
    "3. **Base case**:\n",
    "    - If the starting cell `(0, 0)` is an obstacle, return 0 because no path is possible.\n",
    "    - Otherwise, set `dp[0][0]` to 1.\n",
    "\n",
    "4. **Fill the DP table**:\n",
    "    - For the first row and the first column, if a cell is an obstacle, all cells after it in that row or column should be set to 0.\n",
    "    - For other cells, if the cell itself is not an obstacle, set `dp[i][j] = dp[i-1][j] + dp[i][j-1]`, which means the number of ways to reach `(i, j)` is the sum of the ways to reach the cell directly above it and the cell directly to the left of it.\n",
    "\n",
    "5. **Return the result**: The value in `dp[m-1][n-1]` will be the number of unique paths from the top-left to the bottom-right corner.\n",
    "\n",
    "### Python Code Implementation\n",
    "\n",
    "Here's the complete Python code implementing the above logic:\n",
    "\n",
    "```python\n",
    "def uniquePathsWithObstacles(grid):\n",
    "    # If the starting cell has an obstacle, return 0\n",
    "    if grid[0][0] == 1:\n",
    "        return 0\n",
    "\n",
    "    m, n = len(grid), len(grid[0])\n",
    "    \n",
    "    # Initialize the DP table\n",
    "    dp = [[0] * n for _ in range(m)]\n",
    "    dp[0][0] = 1\n",
    "    \n",
    "    # Fill the first row\n",
    "    for j in range(1, n):\n",
    "        if grid[0][j] == 0:\n",
    "            dp[0][j] = dp[0][j-1]\n",
    "        else:\n",
    "            dp[0][j] = 0\n",
    "    \n",
    "    # Fill the first column\n",
    "    for i in range(1, m):\n",
    "        if grid[i][0] == 0:\n",
    "            dp[i][0] = dp[i-1][0]\n",
    "        else:\n",
    "            dp[i][0] = 0\n",
    "    \n",
    "    # Fill the rest of the DP table\n",
    "    for i in range(1, m):\n",
    "        for j in range(1, n):\n",
    "            if grid[i][j] == 0:\n",
    "                dp[i][j] = dp[i-1][j] + dp[i][j-1]\n",
    "            else:\n",
    "                dp[i][j] = 0\n",
    "    \n",
    "    return dp[m-1][n-1]\n",
    "\n",
    "# Example usage:\n",
    "grid = [\n",
    "    [0, 0, 0],\n",
    "    [0, 1, 0],\n",
    "    [0, 0, 0]\n",
    "]\n",
    "\n",
    "print(uniquePathsWithObstacles(grid))  # Output: 2\n",
    "```\n",
    "\n",
    "### Explanation\n",
    "- **Initialization**: We start by initializing the DP table `dp` and setting `dp[0][0]` to 1 if there's no obstacle.\n",
    "- **First row and column**: These are filled based on whether the cell is free or blocked.\n",
    "- **DP table filling**: For each cell `(i, j)`, if it's free, the value of `dp[i][j]` is the sum of the values from the top cell `dp[i-1][j]` and the left cell `dp[i][j-1]`.\n",
    "- **Result**: The final result is the value in the bottom-right corner of the DP table.\n",
    "\n",
    "This approach ensures that we correctly account for obstacles and find the total number of unique paths from the top-left to the bottom-right corner of the grid."
   ],
   "id": "7ea06ae7cc9171d3"
  },
  {
   "metadata": {
    "ExecuteTime": {
     "end_time": "2024-06-17T07:33:29.090463Z",
     "start_time": "2024-06-17T07:33:29.081735Z"
    }
   },
   "cell_type": "code",
   "source": [
    "def uniquePathsWithObstacles_wrong(obstacleGrid):\n",
    "    m = len(obstacleGrid)\n",
    "    n = len(obstacleGrid[0])\n",
    "    \n",
    "    dp = [ [1] * n for _ in range(m) ]\n",
    "  \n",
    "    print(dp)\n",
    "    print(obstacleGrid)\n",
    "    count = 0\n",
    "    for i in range(0, m):\n",
    "        print(\"\")\n",
    "        for j in range(0, n):\n",
    "            print(\"obstacleGrid[{}][{}]  =  {}\".format(i,j, obstacleGrid[i][j]))\n",
    "            if obstacleGrid[i][j] == 1:\n",
    "                print(\"dp[{}][{}] = 0\".format(i,j))\n",
    "                print(\"count:\", count)\n",
    "            else:\n",
    "                if i-1 >= 0 and j-1 >= 0 and i < m and j < n :\n",
    "                    dp[i][j] = dp[i-1][j] + dp[i][j-1]\n",
    "                    print(\"dp[{}][{}] = dp[{}][{}] + dp[{}][{}] =  {} + {}  =  {}\".format(i,j,i-1,j,i,j-1,dp[i-1][j],dp[i][j-1],dp[i][j]))\n",
    "    print(dp)\n",
    "    return dp[m-1][n-1]"
   ],
   "id": "c6a6114c4ef8648",
   "outputs": [],
   "execution_count": 124
  },
  {
   "metadata": {
    "ExecuteTime": {
     "end_time": "2024-06-17T20:19:33.048102Z",
     "start_time": "2024-06-17T20:19:33.034116Z"
    }
   },
   "cell_type": "code",
   "source": [
    "def uniquePathsWithObstacles(grid):\n",
    "    # If the starting cell has an obstacle, return 0\n",
    "    if grid[0][0] == 1:\n",
    "        return 0\n",
    "\n",
    "    m, n = len(grid), len(grid[0])\n",
    "    \n",
    "    # Initialize the DP table\n",
    "    dp = [[0] * n for _ in range(m)]\n",
    "    dp[0][0] = 1\n",
    "    \n",
    "    # --- setting up the first row and first columns -----\n",
    "    # since we can only move down or right, if there's an obstacle, then block the entire\n",
    "    # row down or column right\n",
    "    # Fill the first row\n",
    "    for j in range(1, n):\n",
    "        if grid[0][j] == 0:\n",
    "            dp[0][j] = dp[0][j-1]   # ( =1 )\n",
    "            print(\"dp[0][j] = dp[0][j-1]    =   dp[0][{}] = dp[0][{}]     =  {}\".format(j, j-1, dp[0][j-1] ))\n",
    "        else:\n",
    "            dp[0][j] = 0\n",
    "    \n",
    "    # Fill the first column\n",
    "    for i in range(1, m):\n",
    "        if grid[i][0] == 0:\n",
    "            dp[i][0] = dp[i-1][0]\n",
    "        else:\n",
    "            dp[i][0] = 0\n",
    "    \n",
    "    print(dp)\n",
    "    # Fill the rest of the DP table\n",
    "    for i in range(1, m):\n",
    "        for j in range(1, n):\n",
    "            if grid[i][j] == 0:\n",
    "                dp[i][j] = dp[i-1][j] + dp[i][j-1]\n",
    "            else:\n",
    "                dp[i][j] = 0\n",
    "    print(dp)\n",
    "    return dp[m-1][n-1]\n"
   ],
   "id": "a52b41da719287eb",
   "outputs": [],
   "execution_count": 148
  },
  {
   "metadata": {
    "ExecuteTime": {
     "end_time": "2024-06-17T20:19:33.382833Z",
     "start_time": "2024-06-17T20:19:33.374117Z"
    }
   },
   "cell_type": "code",
   "source": [
    "obstacleGrid = [[0,0,0],[0,1,0],[0,0,0]]\n",
    "uniquePathsWithObstacles(obstacleGrid)"
   ],
   "id": "77e679671dd79340",
   "outputs": [
    {
     "name": "stdout",
     "output_type": "stream",
     "text": [
      "dp[0][j] = dp[0][j-1]    =   dp[0][1] = dp[0][0]     =  1\n",
      "dp[0][j] = dp[0][j-1]    =   dp[0][2] = dp[0][1]     =  1\n",
      "[[1, 1, 1], [1, 0, 0], [1, 0, 0]]\n",
      "[[1, 1, 1], [1, 0, 1], [1, 1, 2]]\n"
     ]
    },
    {
     "data": {
      "text/plain": [
       "2"
      ]
     },
     "execution_count": 149,
     "metadata": {},
     "output_type": "execute_result"
    }
   ],
   "execution_count": 149
  },
  {
   "metadata": {
    "ExecuteTime": {
     "end_time": "2024-06-17T20:03:39.402218Z",
     "start_time": "2024-06-17T20:03:39.394274Z"
    }
   },
   "cell_type": "code",
   "source": [
    "obstacleGrid = [[0,1],[0,0]]\n",
    "uniquePathsWithObstacles(obstacleGrid)"
   ],
   "id": "db7f2c834ed719fc",
   "outputs": [
    {
     "name": "stdout",
     "output_type": "stream",
     "text": [
      "[[1, 0], [1, 0]]\n"
     ]
    },
    {
     "data": {
      "text/plain": [
       "1"
      ]
     },
     "execution_count": 144,
     "metadata": {},
     "output_type": "execute_result"
    }
   ],
   "execution_count": 144
  },
  {
   "metadata": {
    "ExecuteTime": {
     "end_time": "2024-06-17T07:37:12.486066Z",
     "start_time": "2024-06-17T07:37:12.477842Z"
    }
   },
   "cell_type": "code",
   "source": [
    "obstacleGrid = [[0,0],[1,1],[0,0]]\n",
    "uniquePathsWithObstacles(obstacleGrid)"
   ],
   "id": "c79c55f31bbe0b5c",
   "outputs": [
    {
     "data": {
      "text/plain": [
       "0"
      ]
     },
     "execution_count": 129,
     "metadata": {},
     "output_type": "execute_result"
    }
   ],
   "execution_count": 129
  },
  {
   "metadata": {
    "ExecuteTime": {
     "end_time": "2024-06-17T07:37:13.616302Z",
     "start_time": "2024-06-17T07:37:13.609931Z"
    }
   },
   "cell_type": "code",
   "source": [
    "obstacleGrid = [[0,1,0],[0,1,0],[0,1,0]]\n",
    "uniquePathsWithObstacles(obstacleGrid)"
   ],
   "id": "3b60a4cfd074cab6",
   "outputs": [
    {
     "data": {
      "text/plain": [
       "0"
      ]
     },
     "execution_count": 130,
     "metadata": {},
     "output_type": "execute_result"
    }
   ],
   "execution_count": 130
  },
  {
   "metadata": {},
   "cell_type": "code",
   "outputs": [],
   "execution_count": null,
   "source": "",
   "id": "ef788ff0f638aec4"
  }
 ],
 "metadata": {
  "kernelspec": {
   "display_name": "Python 3",
   "language": "python",
   "name": "python3"
  },
  "language_info": {
   "codemirror_mode": {
    "name": "ipython",
    "version": 2
   },
   "file_extension": ".py",
   "mimetype": "text/x-python",
   "name": "python",
   "nbconvert_exporter": "python",
   "pygments_lexer": "ipython2",
   "version": "2.7.6"
  }
 },
 "nbformat": 4,
 "nbformat_minor": 5
}
