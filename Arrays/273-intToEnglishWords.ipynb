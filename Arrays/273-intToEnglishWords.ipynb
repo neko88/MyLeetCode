{
 "cells": [
  {
   "metadata": {},
   "cell_type": "markdown",
   "source": [
    "```\n",
    "input:\n",
    "    num = non-negative int\n",
    "output:\n",
    "    equivalent English word representation\n",
    "\n",
    "Example 1:\n",
    "    Input: num = 123\n",
    "    Output: \"One Hundred Twenty Three\"\n",
    "Example 2:\n",
    "    Input: num = 12345\n",
    "    Output: \"Twelve Thousand Three Hundred Forty Five\"\n",
    "Example 3:\n",
    "    Input: num = 1234567\n",
    "    Output: \"One Million Two Hundred Thirty Four Thousand Five Hundred Sixty Seven\"\n",
    "```"
   ],
   "id": "3b7d0ab598787b0c"
  },
  {
   "metadata": {
    "ExecuteTime": {
     "end_time": "2024-05-24T00:20:19.747255Z",
     "start_time": "2024-05-24T00:20:19.733983Z"
    }
   },
   "cell_type": "code",
   "source": [
    "def numberToWords(number):\n",
    "    ones = { '0': 'Zero', '1': 'One', '2': 'Two', '3': 'Three', '4': 'Four', '5': 'Five', '6': 'Six', '7': 'Seven', '8': 'Eight', '9': 'Nine'}\n",
    "    tens = { '10': 'Ten', '11': 'Eleven', '12': 'Twelve', '13': 'Thirteen', '14': 'Fourteen', '15': 'Fifteen', '16': 'Sixteen', '17': 'Seventeen', '18': 'Eighteen', '19': 'Nineteen'}\n",
    "    tenty = { '0': '', '1': 'Ten', '2': 'Twenty', '3': 'Thirty', '4': 'Forty', '5': 'Fifty', '6': 'Sixty', '7': 'Seventy', '8': 'Eighty', '9': 'Ninety'}\n",
    "    \n",
    "    hundred = False\n",
    "    thousand = False\n",
    "    million = False\n",
    "    billion = False\n",
    "    \n",
    "    num = str(number)\n",
    "    word = []\n",
    "    \n",
    "    if len(num) == 1:                      # single digits\n",
    "        word.append(ones[num])\n",
    "        \n",
    "    digit = 1               # iterate right to left\n",
    "    i = len(num)-1      # start from max\n",
    "    while i > 0:\n",
    "        print(\"i: \" + str(num[i]))\n",
    "\n",
    "        if digit == 2:\n",
    "            if int(num) in range(10, 19):    # range 10 : 19\n",
    "                word.append(tens[num])\n",
    "                return word\n",
    "            else:\n",
    "                if num[i] == '0':        # tenties: 20, 30, 40...\n",
    "                    continue\n",
    "                else:\n",
    "                    word.append(ones[num[i]])\n",
    "                i -= 1\n",
    "                word.append(tenty[num[i]]) \n",
    "                \n",
    "        elif digit == 3 or digit == 6:\n",
    "            word.append(\"Hundred\")\n",
    "            i -= 1\n",
    "            word.append(ones[num[i]])\n",
    "\n",
    "        elif digit == 4 or digit == 5 or digit == 6:\n",
    "            thousand = True\n",
    "        elif digit == 7 or digit == 8 or digit == 9:\n",
    "            million = True\n",
    "        elif digit == 10 or digit == 11 or digit == 12:\n",
    "            billion = True\n",
    "            \n",
    "        digit += 1      # go to next digit up\n",
    "    \n",
    "    print(word)\n",
    "    result = []\n",
    "    while word:\n",
    "        result.append(word.pop())\n",
    "    return result"
   ],
   "id": "ff959ade1c28e073",
   "outputs": [],
   "execution_count": 135
  },
  {
   "metadata": {
    "ExecuteTime": {
     "end_time": "2024-05-24T00:20:38.648516Z",
     "start_time": "2024-05-24T00:20:38.642093Z"
    }
   },
   "cell_type": "code",
   "source": [
    "print(numberToWords(121))"
   ],
   "id": "c8522a1a7396b5c1",
   "outputs": [
    {
     "name": "stdout",
     "output_type": "stream",
     "text": [
      "i: 1\n",
      "i: 1\n",
      "i: 2\n",
      "['One', 'Twenty', 'Hundred', 'One']\n",
      "['One', 'Hundred', 'Twenty', 'One']\n"
     ]
    }
   ],
   "execution_count": 138
  },
  {
   "metadata": {
    "ExecuteTime": {
     "end_time": "2024-05-23T23:57:02.042766Z",
     "start_time": "2024-05-23T23:57:02.039451Z"
    }
   },
   "cell_type": "code",
   "source": [],
   "id": "14c1469a690dd50e",
   "outputs": [],
   "execution_count": 69
  },
  {
   "metadata": {},
   "cell_type": "code",
   "outputs": [],
   "execution_count": null,
   "source": [],
   "id": "5b908a0ae58bb358"
  }
 ],
 "metadata": {
  "kernelspec": {
   "display_name": "Python 3",
   "language": "python",
   "name": "python3"
  },
  "language_info": {
   "codemirror_mode": {
    "name": "ipython",
    "version": 2
   },
   "file_extension": ".py",
   "mimetype": "text/x-python",
   "name": "python",
   "nbconvert_exporter": "python",
   "pygments_lexer": "ipython2",
   "version": "2.7.6"
  }
 },
 "nbformat": 4,
 "nbformat_minor": 5
}
