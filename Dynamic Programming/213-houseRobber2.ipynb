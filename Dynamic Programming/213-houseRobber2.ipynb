{
 "cells": [
  {
   "metadata": {},
   "cell_type": "markdown",
   "source": [
    "# 213. House Robber II\n",
    "Medium\n",
    "\n",
    "You are a professional robber planning to rob houses along a street. Each house has a certain amount of money stashed. All houses at this place are arranged in a circle. That means the first house is the neighbor of the last one. Meanwhile, adjacent houses have a security system connected, and it will automatically contact the police if two adjacent houses were broken into on the same night.\n",
    "\n",
    "### Given an integer array nums representing the amount of money of each house, return the maximum amount of money you can rob tonight without alerting the police.\n",
    "\n",
    " \n",
    "```\n",
    "Example 1:\n",
    "    Input: nums = [2,3,2]\n",
    "    Output: 3\n",
    "    Explanation: You cannot rob house 1 (money = 2) and then rob house 3 (money = 2), because they are adjacent houses.\n",
    "Example 2:\n",
    "    Input: nums = [1,2,3,1]\n",
    "    Output: 4\n",
    "    Explanation: Rob house 1 (money = 1) and then rob house 3 (money = 3).\n",
    "    Total amount you can rob = 1 + 3 = 4.\n",
    "Example 3:\n",
    "    Input: nums = [1,2,3]\n",
    "    Output: 3\n",
    "Constraints:\n",
    "    1 <= nums.length <= 100\n",
    "    0 <= nums[i] <= 1000\n",
    "```"
   ],
   "id": "480dd9ca2fe981fc"
  },
  {
   "metadata": {},
   "cell_type": "markdown",
   "source": [
    "The House Robber II problem is a variation of the original House Robber problem where the houses are arranged in a circle. This means the first house is adjacent to the last house, adding a constraint that you cannot rob both the first and the last house.\n",
    "\n",
    "## Intuition\n",
    "\n",
    "The main idea is to leverage the solution of the original House Robber problem with a slight modification to handle the circular arrangement. Specifically, we need to consider two cases:\n",
    "1. Rob houses from the first to the second-to-last (excluding the last house).\n",
    "2. Rob houses from the second to the last (excluding the first house).\n",
    "\n",
    "By solving both cases independently and taking the maximum result, we ensure that we handle the circular constraint properly.\n",
    "\n",
    "## Algorithm\n",
    "\n",
    "1. **Special Cases**:\n",
    "   - If there are no houses, return 0.\n",
    "   - If there is only one house, return the amount in that house.\n",
    "   - If there are only two houses, return the maximum amount between them.\n",
    "\n",
    "2. **Define a Helper Function**:\n",
    "   - Define a function to solve the original House Robber problem on a linear list of houses.\n",
    "\n",
    "3. **Solve Two Cases**:\n",
    "   - Use the helper function to solve the two cases:\n",
    "     - Case 1: Rob houses from the first to the second-to-last.\n",
    "     - Case 2: Rob houses from the second to the last.\n",
    "\n",
    "4. **Combine Results**:\n",
    "   - Return the maximum of the two cases.\n",
    "\n",
    "### Explanation of the Code\n",
    "\n",
    "1. **Edge Cases**:\n",
    "   - If `nums` is empty, return 0.\n",
    "   - If `nums` contains only one house, return the amount in that house.\n",
    "   - If `nums` contains only two houses, return the maximum amount between them.\n",
    "\n",
    "2. **Helper Function**:\n",
    "   - `rob_linear(houses)` solves the original House Robber problem for a linear list of houses.\n",
    "   - It uses two variables, `prev2` and `prev1`, to keep track of the maximum amounts up to the two previous houses, reducing space usage to \\(O(1)\\).\n",
    "\n",
    "3. **Solve Two Cases**:\n",
    "   - `max1 = rob_linear(nums[:-1])`: Solve the problem for the subarray excluding the last house.\n",
    "   - `max2 = rob_linear(nums[1:])`: Solve the problem for the subarray excluding the first house.\n",
    "\n",
    "4. **Combine Results**:\n",
    "   - Return the maximum of `max1` and `max2` to get the maximum amount that can be robbed considering the circular arrangement.\n",
    "\n",
    "This approach ensures that we handle the circular constraint effectively by considering two non-overlapping subarrays and finding the maximum result from both. The time complexity remains \\(O(n)\\) and the space complexity is \\(O(1)\\), where \\(n\\) is the number of houses."
   ],
   "id": "945e5d502cedb155"
  },
  {
   "metadata": {
    "ExecuteTime": {
     "end_time": "2024-07-20T00:51:52.029680Z",
     "start_time": "2024-07-20T00:51:52.010029Z"
    }
   },
   "cell_type": "code",
   "source": [
    "def rob(nums):\n",
    "    if len(nums) == 0:\n",
    "        return 0\n",
    "    if len(nums) == 1:\n",
    "        return nums[0]\n",
    "    if len(nums) == 2:\n",
    "        return max(nums[0], nums[1])\n",
    "    \n",
    "    def rob_linear(houses):\n",
    "        n = len(houses)\n",
    "        if n == 0:\n",
    "            return 0\n",
    "        if n == 1:\n",
    "            return houses[0]\n",
    "        \n",
    "\n",
    "        # 2nd prev - must be the house 0\n",
    "        # 1st prev - choose between starting from house 0 or house 1\n",
    "        prev2, prev1 = houses[0], max(houses[0], houses[1])\n",
    "        \n",
    "        for i in range(2, n):\n",
    "            # take the max of prev1 house (skip current) or prev2 house (+ add current value)\n",
    "            current = max(prev1, prev2 + houses[i])\n",
    "            \n",
    "            # move forward: the chosen max will be previous 1 house\n",
    "            prev2, prev1 = prev1, current\n",
    "        \n",
    "        return prev1\n",
    "    \n",
    "    # Case 1: Exclude the last house\n",
    "    max1 = rob_linear(nums[:-1])\n",
    "    \n",
    "    # Case 2: Exclude the first house\n",
    "    max2 = rob_linear(nums[1:])\n",
    "    \n",
    "    return max(max1, max2)\n",
    "\n",
    "# Example usage\n",
    "houses = [2, 3, 2]\n",
    "print(rob(houses))  # Output: 3\n",
    "\n",
    "houses = [1, 2, 3, 1]\n",
    "print(rob(houses))  # Output: 4"
   ],
   "id": "1faa91147c2a4ce8",
   "outputs": [
    {
     "name": "stdout",
     "output_type": "stream",
     "text": [
      "3\n",
      "4\n"
     ]
    }
   ],
   "execution_count": 1
  },
  {
   "metadata": {},
   "cell_type": "code",
   "outputs": [],
   "execution_count": null,
   "source": [],
   "id": "6fb44a6ddac4c2a5"
  }
 ],
 "metadata": {
  "kernelspec": {
   "display_name": "Python 3",
   "language": "python",
   "name": "python3"
  },
  "language_info": {
   "codemirror_mode": {
    "name": "ipython",
    "version": 2
   },
   "file_extension": ".py",
   "mimetype": "text/x-python",
   "name": "python",
   "nbconvert_exporter": "python",
   "pygments_lexer": "ipython2",
   "version": "2.7.6"
  }
 },
 "nbformat": 4,
 "nbformat_minor": 5
}
