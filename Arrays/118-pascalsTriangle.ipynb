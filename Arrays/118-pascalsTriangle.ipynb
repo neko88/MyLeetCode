{
 "cells": [
  {
   "metadata": {},
   "cell_type": "markdown",
   "source": [
    "```\n",
    "input: integer numRows of Pascal's Triangle\n",
    "output: list of the first up to numRows of Pascal's Triangle\n",
    "constraint: 1 <= numRows <= 30\n",
    "```"
   ],
   "id": "4f3f2cabaddb3f49"
  },
  {
   "metadata": {},
   "cell_type": "markdown",
   "source": [
    "```\n",
    "Pascal's Triangle:\n",
    "    Each number in the triangle is the sum of the two numbers directly left and right above it.\n",
    "\n",
    "                  1\n",
    "                1    1\n",
    "              1   2    1\n",
    "            1   3    3    1\n",
    "         1    4    6   4    1\n",
    "numRows = 5\n",
    "output = [[1],[1,1],[1,2,1],[1,3,3,1],[1,4,6,4,1]]\n",
    "```"
   ],
   "id": "3f627c658c96dbd5"
  },
  {
   "cell_type": "markdown",
   "source": [
    "```\n",
    "Approaches:\n",
    "    1. Recursion\n",
    "        - recursively generate the triangle for numRows-1\n",
    "        - calculate current row by summing adjacent elements from prev. row\n",
    "\n",
    "    2. Combinatorial Formula\n",
    "        - Binomial Coefficient C(n,k) = C(n-1, k-1) + C(n-1, k)\n",
    "        - can calculate any element of the triangle\n",
    "        - avoids need for storingg entire triangle\n",
    "\n",
    "    3. Dynamic Programming\n",
    "        - use a 1D array to store the current row, update as we iterate through the rows\n",
    "        - generate the triangle row by row\n",
    "```"
   ],
   "metadata": {
    "collapsed": false
   }
  }
 ],
 "metadata": {
  "kernelspec": {
   "display_name": "Python 3",
   "language": "python",
   "name": "python3"
  },
  "language_info": {
   "codemirror_mode": {
    "name": "ipython",
    "version": 2
   },
   "file_extension": ".py",
   "mimetype": "text/x-python",
   "name": "python",
   "nbconvert_exporter": "python",
   "pygments_lexer": "ipython2",
   "version": "2.7.6"
  }
 },
 "nbformat": 4,
 "nbformat_minor": 5
}
