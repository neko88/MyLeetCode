{
 "cells": [
  {
   "cell_type": "markdown",
   "source": [
    "# 139. Word Break\n",
    "Medium\n",
    "\n",
    "### Given a string s and a dictionary of strings wordDict, return true if s can be segmented into a space-separated sequence of one or more dictionary words.\n",
    "\n",
    "Note that the same word in the dictionary may be reused multiple times in the segmentation.\n",
    "\n",
    "```\n",
    "Example 1:\n",
    "    Input: s = \"leetcode\", wordDict = [\"leet\",\"code\"]\n",
    "    Output: true\n",
    "    Explanation: Return true because \"leetcode\" can be segmented as \"leet code\".\n",
    "\n",
    "Example 2:\n",
    "    Input: s = \"applepenapple\", wordDict = [\"apple\",\"pen\"]\n",
    "    Output: true\n",
    "    Explanation: Return true because \"applepenapple\" can be segmented as \"apple pen apple\".\n",
    "    Note that you are allowed to reuse a dictionary word.\n",
    "\n",
    "Example 3:\n",
    "    Input: s = \"catsandog\", wordDict = [\"cats\",\"dog\",\"sand\",\"and\",\"cat\"]\n",
    "    Output: false\n",
    "\n",
    "Constraints:\n",
    "    1 <= s.length <= 300\n",
    "    1 <= wordDict.length <= 1000\n",
    "    1 <= wordDict[i].length <= 20\n",
    "    s and wordDict[i] consist of only lowercase English letters.\n",
    "    All the strings of wordDict are unique.\n",
    "```"
   ],
   "metadata": {
    "collapsed": false
   }
  },
  {
   "cell_type": "markdown",
   "source": [
    "The Word Break problem is a classic problem that can be solved using dynamic programming. Here's an explanation of the intuition and algorithm to solve it, along with a Python implementation.\n",
    "\n",
    "## Intuition\n",
    "\n",
    "The Word Break problem asks whether a given string can be segmented into a space-separated sequence of one or more dictionary words. For example, given the string `s = \"leetcode\"` and the dictionary `dict = [\"leet\", \"code\"]`, the output should be `True` because \"leetcode\" can be segmented as \"leet code\".\n",
    "\n",
    "To solve this problem, you can use dynamic programming to keep track of possible segmentations of the string.\n",
    "\n",
    "## Algorithm\n",
    "\n",
    "1. **Define the Dynamic Programming (DP) Array**:\n",
    "   - Create a boolean array `dp` of length `len(s) + 1`.\n",
    "   - `dp[i]` will be `True` if the substring `s[0:i]` can be segmented into dictionary words, otherwise it will be `False`.\n",
    "\n",
    "2. **Initialization**:\n",
    "   - Set `dp[0] = True`, because an empty string can always be segmented.\n",
    "\n",
    "3. **Fill the DP Array**:\n",
    "   - Iterate over the substring lengths `i` from 1 to `len(s)`.\n",
    "   - For each `i`, check all possible previous break points `j` (where `0 <= j < i`).\n",
    "   - If `dp[j]` is `True` and the substring `s[j:i]` is in the dictionary, set `dp[i] = True` and break out of the inner loop.\n",
    "\n",
    "4. **Result**:\n",
    "   - The value of `dp[len(s)]` will be `True` if the entire string can be segmented, otherwise it will be `False`.\n",
    "\n",
    "### Explanation of the Code:\n",
    "\n",
    "- `word_set = set(word_dict)` creates a set from the word dictionary for faster look-up.\n",
    "- `dp = [False] * (len(s) + 1)` initializes the DP array with `False`.\n",
    "- `dp[0] = True` sets the base case, indicating an empty string can be segmented.\n",
    "- The nested loops iterate over all possible substrings. If a valid segmentation is found (`dp[j]` is `True` and `s[j:i]` is in the dictionary), `dp[i]` is set to `True`, and the inner loop breaks to avoid redundant checks.\n",
    "- Finally, `dp[len(s)]` is returned, which indicates whether the entire string can be segmented using the dictionary.\n",
    "\n",
    "This algorithm has a time complexity of \\(O(n^2)\\), where \\(n\\) is the length of the string, because it involves nested loops iterating over the substring lengths. The space complexity is \\(O(n)\\) due to the DP array."
   ],
   "metadata": {
    "collapsed": false
   }
  },
  {
   "cell_type": "markdown",
   "source": [
    "\n",
    "# 'j' As the Marker\n",
    "`j` acts as a marker or memory to indicate where a valid word was found in the string up to that point. Here's a more detailed breakdown:\n",
    "\n",
    "1. **Role of `j`**:\n",
    "   - `j` represents the endpoint of a potential valid word within the substring `s[0:i]`.\n",
    "   - If `dp[j]` is `True`, it indicates that the substring `s[0:j]` can be segmented into valid dictionary words.\n",
    "   - This allows the algorithm to check if the next part of the substring `s[j:i]` is also a valid word in the dictionary.\n",
    "\n",
    "2. **Using `j` as a Memory Marker**:\n",
    "   - For each position `i` in the string `s` (from 1 to `len(s)`), you iterate over all possible previous positions `j` (from 0 to `i-1`).\n",
    "   - When you find a `j` where `dp[j]` is `True`, it means that the substring up to `j` can be segmented.\n",
    "   - You then check if the substring from `j` to `i` (`s[j:i]`) is in the dictionary.\n",
    "\n",
    "3. **Segmentation Check**:\n",
    "   - If both conditions (`dp[j]` is `True` and `s[j:i]` is in the dictionary) are met, you set `dp[i]` to `True` because it means that the substring `s[0:i]` can also be segmented into valid dictionary words.\n",
    "   - This effectively remembers that there is a valid segmentation up to index `i`.\n",
    "\n",
    "\n",
    "### Detailed Example:\n",
    "\n",
    "1. **Initialization**:\n",
    "   - `s = \"leetcode\"`\n",
    "   - `word_dict = [\"leet\", \"code\"]`\n",
    "   - `dp = [True, False, False, False, False, False, False, False, False]`\n",
    "\n",
    "2. **Filling the DP Array**:\n",
    "   - For `i = 1` to `8`:\n",
    "     - Check all `j` from `0` to `i-1`:\n",
    "       - `i = 4`:\n",
    "         - `j = 0`: `dp[0]` is `True` and `s[0:4] = \"leet\"` is in the dictionary.\n",
    "         - Set `dp[4] = True`.\n",
    "       - `i = 8`:\n",
    "         - `j = 4`: `dp[4]` is `True` and `s[4:8] = \"code\"` is in the dictionary.\n",
    "         - Set `dp[8] = True`.\n",
    "\n",
    "3. **Final DP Array**:\n",
    "   - `dp = [True, False, False, False, True, False, False, False, True]`\n",
    "   - `dp[8]` is `True`, indicating that the entire string \"leetcode\" can be segmented as \"leet code\".\n",
    "\n",
    "Thus, `j` serves as a memory marker indicating the end of a valid word, enabling the algorithm to build up solutions for longer substrings based on previously computed results."
   ],
   "metadata": {
    "collapsed": false
   }
  },
  {
   "cell_type": "code",
   "execution_count": null,
   "outputs": [],
   "source": [
    "## Python Implementation\n",
    "def word_break(s, word_dict):\n",
    "    # Create a set for quick look-up\n",
    "    word_set = set(word_dict)\n",
    "\n",
    "    # Initialize DP array\n",
    "    dp = [False] * (len(s) + 1)\n",
    "    dp[0] = True  # Base case: empty string\n",
    "\n",
    "    # Fill the DP array\n",
    "    for i in range(1, len(s) + 1):\n",
    "        for j in range(i):\n",
    "            if dp[j] and s[j:i] in word_set:\n",
    "                dp[i] = True\n",
    "                break\n",
    "\n",
    "    return dp[len(s)]\n",
    "\n",
    "# Example usage\n",
    "s = \"leetcode\"\n",
    "word_dict = [\"leet\", \"code\"]\n",
    "print(word_break(s, word_dict))  # Output: True\n"
   ],
   "metadata": {
    "collapsed": false
   }
  }
 ],
 "metadata": {
  "kernelspec": {
   "display_name": "Python 3",
   "language": "python",
   "name": "python3"
  },
  "language_info": {
   "codemirror_mode": {
    "name": "ipython",
    "version": 2
   },
   "file_extension": ".py",
   "mimetype": "text/x-python",
   "name": "python",
   "nbconvert_exporter": "python",
   "pygments_lexer": "ipython2",
   "version": "2.7.6"
  }
 },
 "nbformat": 4,
 "nbformat_minor": 0
}
