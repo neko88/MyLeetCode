{
 "cells": [
  {
   "cell_type": "markdown",
   "source": [
    "# 500. Keyboard Row\n",
    "Easy\n",
    "\n",
    "### Given an array of strings words, return the words that can be typed using letters of the alphabet on only one row of American keyboard like the image below.\n",
    "\n",
    "https://assets.leetcode.com/uploads/2018/10/12/keyboard.png\n",
    "\n",
    "In the American keyboard:\n",
    "\n",
    "the first row consists of the characters \"qwertyuiop\",\n",
    "the second row consists of the characters \"asdfghjkl\", and\n",
    "the third row consists of the characters \"zxcvbnm\".\n",
    "\n",
    "```\n",
    "Example 1:\n",
    "    Input: words = [\"Hello\",\"Alaska\",\"Dad\",\"Peace\"]\n",
    "    Output: [\"Alaska\",\"Dad\"]\n",
    "\n",
    "Example 2:\n",
    "    Input: words = [\"omk\"]\n",
    "    Output: []\n",
    "\n",
    "Example 3:\n",
    "    Input: words = [\"adsdf\",\"sfd\"]\n",
    "    Output: [\"adsdf\",\"sfd\"]\n",
    "\n",
    "Constraints:\n",
    "    1 <= words.length <= 20\n",
    "    1 <= words[i].length <= 100\n",
    "    words[i] consists of English letters (both lowercase and uppercase).\n",
    "```"
   ],
   "metadata": {
    "collapsed": false
   }
  },
  {
   "cell_type": "code",
   "execution_count": 32,
   "outputs": [],
   "source": [
    "def findWords(words):\n",
    "    r1 = set([c for c in \"qwertyuiop\"])\n",
    "    r2 = set([c for c in \"asdfghjkl\"])\n",
    "    r3 = set([c for c in \"zxcvbnm\"])\n",
    "    print(r1)\n",
    "    result = []\n",
    "\n",
    "    for word in words:\n",
    "        wordset = set(word.lower())\n",
    "        print(wordset)\n",
    "        if wordset:\n",
    "            if wordset.issubset(r1) or wordset.issubset(r2) or wordset.issubset(r3):\n",
    "                result.append(word)\n",
    "    return result"
   ],
   "metadata": {
    "collapsed": false
   }
  },
  {
   "cell_type": "code",
   "execution_count": 13,
   "outputs": [],
   "source": [
    "def findWords2(words):\n",
    "\n",
    "    if not words:\n",
    "        return None\n",
    "\n",
    "    r1 = [c for c in \"qwertyuiop\"]\n",
    "    r2 = [c for c in \"asdfghjkl\"]\n",
    "    r3 = [c for c in \"zxcvbnm\"]\n",
    "\n",
    "    result = []\n",
    "\n",
    "    for word in words:\n",
    "        countRow1 = 0\n",
    "        countRow2 = 0\n",
    "        countRow3 = 0\n",
    "        chars = set([c.lower() for c in word])\n",
    "        for c in chars:\n",
    "            if c in r1:\n",
    "                countRow1 += 1\n",
    "                if countRow1 == len(chars):\n",
    "                    result.append(word)\n",
    "            elif c in r2:\n",
    "                countRow2 += 1\n",
    "                if countRow2 == len(chars):\n",
    "                    result.append(word)\n",
    "            else:\n",
    "                countRow3 += 1\n",
    "                if countRow3 == len(chars):\n",
    "                    result.append(word)\n",
    "\n",
    "    print(result)"
   ],
   "metadata": {
    "collapsed": false
   }
  },
  {
   "cell_type": "code",
   "execution_count": 33,
   "outputs": [
    {
     "name": "stdout",
     "output_type": "stream",
     "text": [
      "{'r', 'u', 'e', 'q', 'w', 't', 'y', 'o', 'i', 'p'}\n",
      "{'e', 'h', 'o', 'l'}\n",
      "{'k', 's', 'a', 'l'}\n",
      "{'d', 'a'}\n",
      "{'e', 'p', 'c', 'a'}\n"
     ]
    },
    {
     "data": {
      "text/plain": "['Alaska', 'Dad']"
     },
     "execution_count": 33,
     "metadata": {},
     "output_type": "execute_result"
    }
   ],
   "source": [
    "words = [\"Hello\",\"Alaska\",\"Dad\",\"Peace\"]\n",
    "findWords(words)"
   ],
   "metadata": {
    "collapsed": false
   }
  },
  {
   "cell_type": "code",
   "execution_count": 31,
   "outputs": [
    {
     "name": "stdout",
     "output_type": "stream",
     "text": [
      "{'r', 'u', 'e', 'q', 'w', 't', 'y', 'o', 'i', 'p'}\n",
      "{'k', 'o', 'm'}\n"
     ]
    },
    {
     "data": {
      "text/plain": "[]"
     },
     "execution_count": 31,
     "metadata": {},
     "output_type": "execute_result"
    }
   ],
   "source": [
    "words = [\"omk\"]\n",
    "findWords(words)"
   ],
   "metadata": {
    "collapsed": false
   }
  },
  {
   "cell_type": "code",
   "execution_count": 23,
   "outputs": [
    {
     "data": {
      "text/plain": "[]"
     },
     "execution_count": 23,
     "metadata": {},
     "output_type": "execute_result"
    }
   ],
   "source": [
    "words = [\"adsdf\",\"sfd\"]\n",
    "findWords(words)"
   ],
   "metadata": {
    "collapsed": false
   }
  },
  {
   "cell_type": "code",
   "execution_count": null,
   "outputs": [],
   "source": [],
   "metadata": {
    "collapsed": false
   }
  }
 ],
 "metadata": {
  "kernelspec": {
   "display_name": "Python 3",
   "language": "python",
   "name": "python3"
  },
  "language_info": {
   "codemirror_mode": {
    "name": "ipython",
    "version": 2
   },
   "file_extension": ".py",
   "mimetype": "text/x-python",
   "name": "python",
   "nbconvert_exporter": "python",
   "pygments_lexer": "ipython2",
   "version": "2.7.6"
  }
 },
 "nbformat": 4,
 "nbformat_minor": 0
}
