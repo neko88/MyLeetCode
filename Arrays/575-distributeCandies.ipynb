{
 "cells": [
  {
   "cell_type": "markdown",
   "source": [
    "# 575. Distribute Candies\n",
    "Easy\n",
    "\n",
    "Alice has n candies, where the ith candy is of type candyType[i]. Alice noticed that she started to gain weight, so she visited a doctor.\n",
    "\n",
    "The doctor advised Alice to only eat n / 2 of the candies she has (n is always even). Alice likes her candies very much, and she wants to eat the maximum number of different types of candies while still following the doctor's advice.\n",
    "\n",
    "### Given the integer array candyType of length n, return the maximum number of different types of candies she can eat if she only eats n / 2 of them.\n",
    "\n",
    "```\n",
    "Example 1:\n",
    "    Input: candyType = [1,1,2,2,3,3]\n",
    "    Output: 3\n",
    "    Explanation: Alice can only eat 6 / 2 = 3 candies. Since there are only 3 types, she can eat one of each type.\n",
    "\n",
    "Example 2:\n",
    "    Input: candyType = [1,1,2,3]\n",
    "    Output: 2\n",
    "    Explanation: Alice can only eat 4 / 2 = 2 candies. Whether she eats types [1,2], [1,3], or [2,3], she still can only eat 2 different types.\n",
    "\n",
    "Example 3:\n",
    "    Input: candyType = [6,6,6,6]\n",
    "    Output: 1\n",
    "    Explanation: Alice can only eat 4 / 2 = 2 candies. Even though she can eat 2 candies, she only has 1 type.\n",
    "\n",
    "Constraints:\n",
    "    n == candyType.length\n",
    "    2 <= n <= 104\n",
    "    n is even.\n",
    "    -105 <= candyType[i] <= 105\n",
    "```"
   ],
   "metadata": {
    "collapsed": false
   }
  },
  {
   "cell_type": "code",
   "execution_count": 1,
   "outputs": [],
   "source": [
    "def distributeCandies(candyType):\n",
    "    unique_candy = set(candyType)\n",
    "    n = len(candyType)//2\n",
    "\n",
    "    if len(unique_candy) < n:\n",
    "        return len(unique_candy)\n",
    "    return n"
   ],
   "metadata": {
    "collapsed": false
   }
  },
  {
   "cell_type": "code",
   "execution_count": 2,
   "outputs": [
    {
     "data": {
      "text/plain": "3"
     },
     "execution_count": 2,
     "metadata": {},
     "output_type": "execute_result"
    }
   ],
   "source": [
    "candyType = [1,1,2,2,3,3]\n",
    "distributeCandies(candyType)"
   ],
   "metadata": {
    "collapsed": false
   }
  },
  {
   "cell_type": "code",
   "execution_count": 3,
   "outputs": [
    {
     "data": {
      "text/plain": "2"
     },
     "execution_count": 3,
     "metadata": {},
     "output_type": "execute_result"
    }
   ],
   "source": [
    "candyType = [1,1,2,3]\n",
    "distributeCandies(candyType)"
   ],
   "metadata": {
    "collapsed": false
   }
  },
  {
   "cell_type": "code",
   "execution_count": 4,
   "outputs": [
    {
     "data": {
      "text/plain": "1"
     },
     "execution_count": 4,
     "metadata": {},
     "output_type": "execute_result"
    }
   ],
   "source": [
    "candyType = [6,6,6,6,6]\n",
    "distributeCandies(candyType)"
   ],
   "metadata": {
    "collapsed": false
   }
  },
  {
   "cell_type": "code",
   "execution_count": null,
   "outputs": [],
   "source": [],
   "metadata": {
    "collapsed": false
   }
  }
 ],
 "metadata": {
  "kernelspec": {
   "display_name": "Python 3",
   "language": "python",
   "name": "python3"
  },
  "language_info": {
   "codemirror_mode": {
    "name": "ipython",
    "version": 2
   },
   "file_extension": ".py",
   "mimetype": "text/x-python",
   "name": "python",
   "nbconvert_exporter": "python",
   "pygments_lexer": "ipython2",
   "version": "2.7.6"
  }
 },
 "nbformat": 4,
 "nbformat_minor": 0
}
