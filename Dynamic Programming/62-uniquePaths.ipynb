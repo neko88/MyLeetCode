{
 "cells": [
  {
   "cell_type": "markdown",
   "source": [
    "# 62. Unique Paths\n",
    "Medium\n",
    "\n",
    "https://leetcode.com/problems/unique-paths/\n",
    "\n",
    "There is a robot on an m x n grid. The robot is initially located at the top-left corner (i.e., grid[0][0]). The robot tries to move to the bottom-right corner (i.e., grid[m - 1][n - 1]). The robot can only move either down or right at any point in time.\n",
    "\n",
    "### Given the two integers m and n, return the number of possible unique paths that the robot can take to reach the bottom-right corner.\n",
    "\n",
    "The test cases are generated so that the answer will be less than or equal to 2 * 109.\n",
    "\n",
    "```\n",
    "Example 1:\n",
    "    Input: m = 3, n = 7\n",
    "    Output: 28\n",
    "Example 2:\n",
    "    Input: m = 3, n = 2\n",
    "    Output: 3\n",
    "    Explanation: From the top-left corner, there are a total of 3 ways to reach the bottom-right corner:\n",
    "    1. Right -> Down -> Down\n",
    "    2. Down -> Down -> Right\n",
    "    3. Down -> Right -> Down\n",
    "Constraints:\n",
    "    1 <= m, n <= 100\n",
    "```"
   ],
   "metadata": {
    "collapsed": false
   }
  },
  {
   "metadata": {},
   "cell_type": "markdown",
   "source": [
    "The Unique Paths Problem is a classic problem in combinatorics and dynamic programming. The goal is to find the number of unique paths from the top-left corner to the bottom-right corner of an \\( m \\times n \\) grid. You can only move either down or right at any point in time.\n",
    "\n",
    "### Problem Statement\n",
    "Given two integers `m` and `n`, which represent the number of rows and columns of a grid, determine the number of unique paths from the top-left corner to the bottom-right corner.\n",
    "\n",
    "### Intuition\n",
    "\n",
    "The intuition behind solving the Unique Paths Problem involves breaking down the problem into smaller subproblems and using dynamic programming to build up the solution.\n",
    "\n",
    "1. **Define the Subproblem**:\n",
    "   - Let `dp[i][j]` represent the number of unique paths to the cell `(i, j)`.\n",
    "\n",
    "2. **Base Cases**:\n",
    "   - `dp[0][0] = 1`: There is only one way to be at the starting point.\n",
    "   - For the first row (`dp[0][j]` for all `j`), there is only one way to move right from the start.\n",
    "   - For the first column (`dp[i][0]` for all `i`), there is only one way to move down from the start.\n",
    "\n",
    "3. **Recurrence Relation**:\n",
    "   - For each cell `(i, j)`, the number of ways to get there is the sum of the number of ways to get to the cell directly above it and the cell directly to the left of it:\n",
    "     - `dp[i][j] = dp[i-1][j] + dp[i][j-1]`\n",
    "\n",
    "4. **Final Solution**:\n",
    "   - The answer will be in `dp[m-1][n-1]`, the bottom-right corner of the grid.\n",
    "\n",
    "### Example\n",
    "\n",
    "Let's say we have a `3x3` grid. The number of unique paths to reach each cell would be built up as follows:\n",
    "\n",
    "1. Initialize the `dp` table with dimensions `m x n` and set the base cases.\n",
    "2. Iterate through the table and fill in the number of paths for each cell using the recurrence relation.\n",
    "\n",
    "### Python Implementation\n",
    "\n",
    "Here’s a Python function implementing this logic:\n",
    "\n",
    "```python\n",
    "def uniquePaths(m, n):\n",
    "    # Initialize a 2D dp array with 1's\n",
    "    dp = [[1] * n for _ in range(m)]\n",
    "    \n",
    "    # Fill the dp array\n",
    "    for i in range(1, m):\n",
    "        for j in range(1, n):\n",
    "            dp[i][j] = dp[i-1][j] + dp[i][j-1]\n",
    "    \n",
    "    return dp[m-1][n-1]\n",
    "\n",
    "# Example usage\n",
    "m = 3\n",
    "n = 3\n",
    "print(uniquePaths(m, n))  # Output: 6\n",
    "```\n",
    "\n",
    "### Explanation of the Code\n",
    "\n",
    "1. **Initialization**:\n",
    "   - The `dp` array is initialized with `1`s because there is exactly one way to reach any cell in the first row or the first column.\n",
    "   \n",
    "2. **Filling the `dp` Array**:\n",
    "   - The nested loops iterate over the grid starting from `1,1` because the base cases are already set for the first row and the first column.\n",
    "   - For each cell `(i, j)`, the value of `dp[i][j]` is updated to the sum of the value from the cell directly above it (`dp[i-1][j]`) and the cell directly to the left of it (`dp[i][j-1]`).\n",
    "\n",
    "3. **Return the Result**:\n",
    "   - The number of unique paths to the bottom-right corner of the grid is found at `dp[m-1][n-1]`.\n",
    "\n",
    "This approach efficiently computes the number of unique paths by building up from the base cases using dynamic programming."
   ]
  },
  {
   "metadata": {
    "ExecuteTime": {
     "end_time": "2024-06-16T23:43:46.829742Z",
     "start_time": "2024-06-16T23:43:46.821802Z"
    }
   },
   "cell_type": "code",
   "source": [
    "def uniquePaths_wrong(m, n):\n",
    "    memo = {}\n",
    "    ans = path(memo, m-1, n-1)\n",
    "    return ans\n",
    "\n",
    "def path(memo, m, n):\n",
    "    if m == 1 or n == 1:\n",
    "        return 1\n",
    "    i = str(m + (n * 0.1))\n",
    "    if i not in memo:\n",
    "        memo[i] = path(memo, m-1, n) + path(memo, m, n-1)\n",
    "        print(\"memo[{}] = path(memo,{}, {})   +   path(memo,{}, {})   =   {}\". format(i, m-1, n, m, n-1, memo[i]))\n",
    "    return memo[i]\n",
    "\n"
   ],
   "outputs": [],
   "execution_count": 92
  },
  {
   "metadata": {
    "ExecuteTime": {
     "end_time": "2024-06-17T01:21:03.897311Z",
     "start_time": "2024-06-17T01:21:03.890846Z"
    }
   },
   "cell_type": "code",
   "source": [
    "def uniquePaths(m, n):\n",
    "    # Initialize a 2D dp array with 1's\n",
    "    dp = [[1] * n for _ in range(m)]\n",
    "    print(dp)\n",
    "    \n",
    "    # Fill the dp array\n",
    "    for i in range(1, m):\n",
    "        print(\"\")\n",
    "        for j in range(1, n):\n",
    "            dp[i][j] = dp[i-1][j] + dp[i][j-1]\n",
    "\n",
    "            print(\"dp[{}][{}] = dp[{}][{}] + dp[{}][{}] = {}\".format(i,j,i-1,j,i,j-1,dp[i][j]))\n",
    "    \n",
    "    return dp[m-1][n-1]"
   ],
   "outputs": [],
   "execution_count": 101
  },
  {
   "cell_type": "code",
   "source": "uniquePaths(10,10)",
   "metadata": {
    "collapsed": false,
    "ExecuteTime": {
     "end_time": "2024-06-17T01:21:04.071778Z",
     "start_time": "2024-06-17T01:21:04.063051Z"
    }
   },
   "outputs": [
    {
     "name": "stdout",
     "output_type": "stream",
     "text": [
      "[[1, 1, 1, 1, 1, 1, 1, 1, 1, 1], [1, 1, 1, 1, 1, 1, 1, 1, 1, 1], [1, 1, 1, 1, 1, 1, 1, 1, 1, 1], [1, 1, 1, 1, 1, 1, 1, 1, 1, 1], [1, 1, 1, 1, 1, 1, 1, 1, 1, 1], [1, 1, 1, 1, 1, 1, 1, 1, 1, 1], [1, 1, 1, 1, 1, 1, 1, 1, 1, 1], [1, 1, 1, 1, 1, 1, 1, 1, 1, 1], [1, 1, 1, 1, 1, 1, 1, 1, 1, 1], [1, 1, 1, 1, 1, 1, 1, 1, 1, 1]]\n",
      "\n",
      "dp[1][1] = dp[0][1] + dp[1][0] = 2\n",
      "dp[1][2] = dp[0][2] + dp[1][1] = 3\n",
      "dp[1][3] = dp[0][3] + dp[1][2] = 4\n",
      "dp[1][4] = dp[0][4] + dp[1][3] = 5\n",
      "dp[1][5] = dp[0][5] + dp[1][4] = 6\n",
      "dp[1][6] = dp[0][6] + dp[1][5] = 7\n",
      "dp[1][7] = dp[0][7] + dp[1][6] = 8\n",
      "dp[1][8] = dp[0][8] + dp[1][7] = 9\n",
      "dp[1][9] = dp[0][9] + dp[1][8] = 10\n",
      "\n",
      "dp[2][1] = dp[1][1] + dp[2][0] = 3\n",
      "dp[2][2] = dp[1][2] + dp[2][1] = 6\n",
      "dp[2][3] = dp[1][3] + dp[2][2] = 10\n",
      "dp[2][4] = dp[1][4] + dp[2][3] = 15\n",
      "dp[2][5] = dp[1][5] + dp[2][4] = 21\n",
      "dp[2][6] = dp[1][6] + dp[2][5] = 28\n",
      "dp[2][7] = dp[1][7] + dp[2][6] = 36\n",
      "dp[2][8] = dp[1][8] + dp[2][7] = 45\n",
      "dp[2][9] = dp[1][9] + dp[2][8] = 55\n",
      "\n",
      "dp[3][1] = dp[2][1] + dp[3][0] = 4\n",
      "dp[3][2] = dp[2][2] + dp[3][1] = 10\n",
      "dp[3][3] = dp[2][3] + dp[3][2] = 20\n",
      "dp[3][4] = dp[2][4] + dp[3][3] = 35\n",
      "dp[3][5] = dp[2][5] + dp[3][4] = 56\n",
      "dp[3][6] = dp[2][6] + dp[3][5] = 84\n",
      "dp[3][7] = dp[2][7] + dp[3][6] = 120\n",
      "dp[3][8] = dp[2][8] + dp[3][7] = 165\n",
      "dp[3][9] = dp[2][9] + dp[3][8] = 220\n",
      "\n",
      "dp[4][1] = dp[3][1] + dp[4][0] = 5\n",
      "dp[4][2] = dp[3][2] + dp[4][1] = 15\n",
      "dp[4][3] = dp[3][3] + dp[4][2] = 35\n",
      "dp[4][4] = dp[3][4] + dp[4][3] = 70\n",
      "dp[4][5] = dp[3][5] + dp[4][4] = 126\n",
      "dp[4][6] = dp[3][6] + dp[4][5] = 210\n",
      "dp[4][7] = dp[3][7] + dp[4][6] = 330\n",
      "dp[4][8] = dp[3][8] + dp[4][7] = 495\n",
      "dp[4][9] = dp[3][9] + dp[4][8] = 715\n",
      "\n",
      "dp[5][1] = dp[4][1] + dp[5][0] = 6\n",
      "dp[5][2] = dp[4][2] + dp[5][1] = 21\n",
      "dp[5][3] = dp[4][3] + dp[5][2] = 56\n",
      "dp[5][4] = dp[4][4] + dp[5][3] = 126\n",
      "dp[5][5] = dp[4][5] + dp[5][4] = 252\n",
      "dp[5][6] = dp[4][6] + dp[5][5] = 462\n",
      "dp[5][7] = dp[4][7] + dp[5][6] = 792\n",
      "dp[5][8] = dp[4][8] + dp[5][7] = 1287\n",
      "dp[5][9] = dp[4][9] + dp[5][8] = 2002\n",
      "\n",
      "dp[6][1] = dp[5][1] + dp[6][0] = 7\n",
      "dp[6][2] = dp[5][2] + dp[6][1] = 28\n",
      "dp[6][3] = dp[5][3] + dp[6][2] = 84\n",
      "dp[6][4] = dp[5][4] + dp[6][3] = 210\n",
      "dp[6][5] = dp[5][5] + dp[6][4] = 462\n",
      "dp[6][6] = dp[5][6] + dp[6][5] = 924\n",
      "dp[6][7] = dp[5][7] + dp[6][6] = 1716\n",
      "dp[6][8] = dp[5][8] + dp[6][7] = 3003\n",
      "dp[6][9] = dp[5][9] + dp[6][8] = 5005\n",
      "\n",
      "dp[7][1] = dp[6][1] + dp[7][0] = 8\n",
      "dp[7][2] = dp[6][2] + dp[7][1] = 36\n",
      "dp[7][3] = dp[6][3] + dp[7][2] = 120\n",
      "dp[7][4] = dp[6][4] + dp[7][3] = 330\n",
      "dp[7][5] = dp[6][5] + dp[7][4] = 792\n",
      "dp[7][6] = dp[6][6] + dp[7][5] = 1716\n",
      "dp[7][7] = dp[6][7] + dp[7][6] = 3432\n",
      "dp[7][8] = dp[6][8] + dp[7][7] = 6435\n",
      "dp[7][9] = dp[6][9] + dp[7][8] = 11440\n",
      "\n",
      "dp[8][1] = dp[7][1] + dp[8][0] = 9\n",
      "dp[8][2] = dp[7][2] + dp[8][1] = 45\n",
      "dp[8][3] = dp[7][3] + dp[8][2] = 165\n",
      "dp[8][4] = dp[7][4] + dp[8][3] = 495\n",
      "dp[8][5] = dp[7][5] + dp[8][4] = 1287\n",
      "dp[8][6] = dp[7][6] + dp[8][5] = 3003\n",
      "dp[8][7] = dp[7][7] + dp[8][6] = 6435\n",
      "dp[8][8] = dp[7][8] + dp[8][7] = 12870\n",
      "dp[8][9] = dp[7][9] + dp[8][8] = 24310\n",
      "\n",
      "dp[9][1] = dp[8][1] + dp[9][0] = 10\n",
      "dp[9][2] = dp[8][2] + dp[9][1] = 55\n",
      "dp[9][3] = dp[8][3] + dp[9][2] = 220\n",
      "dp[9][4] = dp[8][4] + dp[9][3] = 715\n",
      "dp[9][5] = dp[8][5] + dp[9][4] = 2002\n",
      "dp[9][6] = dp[8][6] + dp[9][5] = 5005\n",
      "dp[9][7] = dp[8][7] + dp[9][6] = 11440\n",
      "dp[9][8] = dp[8][8] + dp[9][7] = 24310\n",
      "dp[9][9] = dp[8][9] + dp[9][8] = 48620\n"
     ]
    },
    {
     "data": {
      "text/plain": [
       "48620"
      ]
     },
     "execution_count": 102,
     "metadata": {},
     "output_type": "execute_result"
    }
   ],
   "execution_count": 102
  },
  {
   "metadata": {
    "ExecuteTime": {
     "end_time": "2024-06-16T23:44:11.127045Z",
     "start_time": "2024-06-16T23:44:11.120542Z"
    }
   },
   "cell_type": "code",
   "source": "uniquePaths(7,3)",
   "outputs": [
    {
     "name": "stdout",
     "output_type": "stream",
     "text": [
      "memo[2.2] = path(memo,1, 2)   +   path(memo,2, 1)   =   2\n",
      "memo[3.2] = path(memo,2, 2)   +   path(memo,3, 1)   =   3\n",
      "memo[4.2] = path(memo,3, 2)   +   path(memo,4, 1)   =   4\n",
      "memo[5.2] = path(memo,4, 2)   +   path(memo,5, 1)   =   5\n",
      "memo[6.2] = path(memo,5, 2)   +   path(memo,6, 1)   =   6\n"
     ]
    },
    {
     "data": {
      "text/plain": [
       "6"
      ]
     },
     "execution_count": 94,
     "metadata": {},
     "output_type": "execute_result"
    }
   ],
   "execution_count": 94
  },
  {
   "cell_type": "markdown",
   "source": [
    "[ ][ ]\n",
    "[ ][ ]\n",
    "[ ][ ]"
   ],
   "metadata": {
    "collapsed": false
   }
  },
  {
   "metadata": {
    "ExecuteTime": {
     "end_time": "2024-06-16T23:39:46.425305Z",
     "start_time": "2024-06-16T23:39:46.418630Z"
    }
   },
   "cell_type": "code",
   "source": "uniquePaths(3,7)",
   "outputs": [
    {
     "name": "stdout",
     "output_type": "stream",
     "text": [
      "memo[1.1] = path(memo,0, 1)   +   path(memo,1, 0)   =   2\n",
      "memo[1.2] = path(memo,0, 2)   +   path(memo,1, 1)   =   3\n",
      "memo[1.3] = path(memo,0, 3)   +   path(memo,1, 2)   =   4\n",
      "memo[1.4] = path(memo,0, 4)   +   path(memo,1, 3)   =   5\n",
      "memo[1.5] = path(memo,0, 5)   +   path(memo,1, 4)   =   6\n",
      "memo[1.6] = path(memo,0, 6)   +   path(memo,1, 5)   =   7\n",
      "memo[2.1] = path(memo,1, 1)   +   path(memo,2, 0)   =   3\n",
      "memo[2.2] = path(memo,1, 2)   +   path(memo,2, 1)   =   6\n",
      "memo[2.3] = path(memo,1, 3)   +   path(memo,2, 2)   =   10\n",
      "memo[2.4] = path(memo,1, 4)   +   path(memo,2, 3)   =   15\n",
      "memo[2.5] = path(memo,1, 5)   +   path(memo,2, 4)   =   21\n",
      "memo[2.6] = path(memo,1, 6)   +   path(memo,2, 5)   =   28\n"
     ]
    },
    {
     "data": {
      "text/plain": [
       "28"
      ]
     },
     "execution_count": 81,
     "metadata": {},
     "output_type": "execute_result"
    }
   ],
   "execution_count": 81
  },
  {
   "metadata": {},
   "cell_type": "code",
   "outputs": [],
   "execution_count": null,
   "source": ""
  }
 ],
 "metadata": {
  "kernelspec": {
   "display_name": "Python 3",
   "language": "python",
   "name": "python3"
  },
  "language_info": {
   "codemirror_mode": {
    "name": "ipython",
    "version": 2
   },
   "file_extension": ".py",
   "mimetype": "text/x-python",
   "name": "python",
   "nbconvert_exporter": "python",
   "pygments_lexer": "ipython2",
   "version": "2.7.6"
  }
 },
 "nbformat": 4,
 "nbformat_minor": 0
}
