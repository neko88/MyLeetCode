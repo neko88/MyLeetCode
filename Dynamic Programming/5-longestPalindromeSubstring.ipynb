{
 "cells": [
  {
   "cell_type": "markdown",
   "source": [
    "# 5. Longest Palindromic Substring\n",
    "Medium\n",
    "\n",
    "### Given a string s, return the longest palindromic substring in s.\n",
    "\n",
    "```\n",
    "Example 1:\n",
    "Input: s = \"babad\"\n",
    "    Output: \"bab\"\n",
    "    Explanation: \"aba\" is also a valid answer.\n",
    "\n",
    "Example 2:\n",
    "    Input: s = \"cbbd\"\n",
    "    Output: \"bb\"\n",
    "\n",
    "Constraints:\n",
    "    1 <= s.length <= 1000\n",
    "    s consist of only digits and English letters.\n",
    "```"
   ],
   "metadata": {
    "collapsed": false
   }
  },
  {
   "cell_type": "code",
   "execution_count": 92,
   "outputs": [],
   "source": [],
   "metadata": {
    "collapsed": false
   }
  },
  {
   "cell_type": "code",
   "execution_count": 93,
   "outputs": [],
   "source": [
    "def longestPalindrome(s):\n",
    "    res = \"\"\n",
    "    for i in range(len(s)):\n",
    "        # odd case, like \"aba\"\n",
    "        tmp = helper(s, i, i)\n",
    "        if len(tmp) > len(res):\n",
    "            res = tmp\n",
    "        # even case, like \"abba\"\n",
    "        tmp = helper(s, i, i+1)\n",
    "        if len(tmp) > len(res):\n",
    "            res = tmp\n",
    "    return res\n",
    "\n",
    "# get the longest palindrome, l, r are the middle indexes\n",
    "# from inner to outer\n",
    "def helper(s, l, r):\n",
    "    while l >= 0 and r < len(s) and s[l] == s[r]:\n",
    "        l -= 1; r += 1\n",
    "    return s[l+1:r]"
   ],
   "metadata": {
    "collapsed": false
   }
  },
  {
   "cell_type": "code",
   "execution_count": 88,
   "outputs": [],
   "source": [
    "def longestPalindrome(s):\n",
    "\n",
    "    n = len(s)\n",
    "    if n == 1:\n",
    "        return s\n",
    "    left = 0\n",
    "    mid = 1\n",
    "    right = 0\n",
    "    last = \"\"\n",
    "    palindrome = \"\"\n",
    "\n",
    "    # iterate each character in the string\n",
    "    while mid < n:\n",
    "        print(mid,n)\n",
    "        # while the left and right are in the bounds...\n",
    "        while left >= 0 and right < n:\n",
    "            # for double char middle eg.'abba':\n",
    "            # if chars left and right are same, add them to the beginning/ends of the current palindrome. Move the pointers.\n",
    "            if s[left] == s[right]:\n",
    "                print(\"1:   \", s[left], s[right])\n",
    "                palindrome = s[left] + palindrome + s[right]\n",
    "                left -= 1\n",
    "                right += 1\n",
    "            # for single char middle eg. 'aba':\n",
    "            # if left is same as the next right (right+1), start the palindrome.\n",
    "            elif right+1 < n and s[left] == s[right+1]:\n",
    "                print(\"2:   \", s[left], s[right], s[right+1])\n",
    "                palindrome = s[left] + palindrome + s[right] + s[right+1]\n",
    "                left -= 1\n",
    "                right += 2\n",
    "            else:\n",
    "                # palindrome breaks, restart\n",
    "                break\n",
    "        # update: if the current palindrome is greater than the max seen so far.\n",
    "        if len(palindrome) > len(last):\n",
    "            last = palindrome\n",
    "        palindrome = \"\"\n",
    "        # update to the next char, move left one before and right to the mid.\n",
    "        mid += 1\n",
    "        left = mid\n",
    "        right = mid\n",
    "    if last == \"\":\n",
    "        return s[0]\n",
    "    return last"
   ],
   "metadata": {
    "collapsed": false
   }
  },
  {
   "cell_type": "code",
   "execution_count": 89,
   "outputs": [
    {
     "name": "stdout",
     "output_type": "stream",
     "text": [
      "1 6\n",
      "1:    a a\n",
      "2 6\n",
      "1:    b b\n",
      "2:    c b c\n",
      "1:    a a\n",
      "3 6\n",
      "1:    b b\n",
      "4 6\n",
      "1:    c c\n",
      "5 6\n",
      "1:    a a\n"
     ]
    },
    {
     "data": {
      "text/plain": "'acbbbca'"
     },
     "execution_count": 89,
     "metadata": {},
     "output_type": "execute_result"
    }
   ],
   "source": [
    "longestPalindrome(\"acbbca\")"
   ],
   "metadata": {
    "collapsed": false
   }
  },
  {
   "cell_type": "code",
   "execution_count": 90,
   "outputs": [
    {
     "name": "stdout",
     "output_type": "stream",
     "text": [
      "1 5\n",
      "1:    b b\n",
      "2 5\n",
      "1:    b b\n",
      "1:    a a\n",
      "3 5\n",
      "1:    a a\n",
      "4 5\n",
      "1:    d d\n"
     ]
    },
    {
     "data": {
      "text/plain": "'abba'"
     },
     "execution_count": 90,
     "metadata": {},
     "output_type": "execute_result"
    }
   ],
   "source": [
    "longestPalindrome(\"babad\")"
   ],
   "metadata": {
    "collapsed": false
   }
  },
  {
   "cell_type": "code",
   "execution_count": 91,
   "outputs": [
    {
     "name": "stdout",
     "output_type": "stream",
     "text": [
      "1 3\n",
      "1:    b b\n",
      "2 3\n",
      "1:    b b\n"
     ]
    },
    {
     "data": {
      "text/plain": "'bb'"
     },
     "execution_count": 91,
     "metadata": {},
     "output_type": "execute_result"
    }
   ],
   "source": [
    "longestPalindrome(\"bab\")"
   ],
   "metadata": {
    "collapsed": false
   }
  },
  {
   "cell_type": "code",
   "execution_count": 92,
   "outputs": [
    {
     "name": "stdout",
     "output_type": "stream",
     "text": [
      "1 3\n",
      "1:    c c\n",
      "2 3\n",
      "1:    c c\n"
     ]
    },
    {
     "data": {
      "text/plain": "'cc'"
     },
     "execution_count": 92,
     "metadata": {},
     "output_type": "execute_result"
    }
   ],
   "source": [
    "longestPalindrome(\"ccc\")"
   ],
   "metadata": {
    "collapsed": false
   }
  },
  {
   "cell_type": "code",
   "execution_count": null,
   "outputs": [],
   "source": [],
   "metadata": {
    "collapsed": false,
    "pycharm": {
     "is_executing": true
    }
   }
  },
  {
   "cell_type": "code",
   "execution_count": 92,
   "outputs": [],
   "source": [],
   "metadata": {
    "collapsed": false
   }
  }
 ],
 "metadata": {
  "kernelspec": {
   "display_name": "Python 3",
   "language": "python",
   "name": "python3"
  },
  "language_info": {
   "codemirror_mode": {
    "name": "ipython",
    "version": 2
   },
   "file_extension": ".py",
   "mimetype": "text/x-python",
   "name": "python",
   "nbconvert_exporter": "python",
   "pygments_lexer": "ipython2",
   "version": "2.7.6"
  }
 },
 "nbformat": 4,
 "nbformat_minor": 0
}
