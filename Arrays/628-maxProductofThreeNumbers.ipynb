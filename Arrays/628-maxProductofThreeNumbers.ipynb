{
 "cells": [
  {
   "metadata": {},
   "cell_type": "markdown",
   "source": [
    "# 628. Maximum Product of Three Numbers\n",
    "Easy\n",
    "\n",
    "### Given an integer array nums, find three numbers whose product is maximum and return the maximum product.\n",
    "\n",
    "```\n",
    "Example 1:\n",
    "    Input: nums = [1,2,3]\n",
    "    Output: 6\n",
    "Example 2:\n",
    "    Input: nums = [1,2,3,4]\n",
    "    Output: 24\n",
    "Example 3:\n",
    "    Input: nums = [-1,-2,-3]\n",
    "    Output: -6\n",
    "\n",
    "Constraints:\n",
    "    3 <= nums.length <= 104\n",
    "    -1000 <= nums[i] <= 1000\n",
    "```\n",
    "\n",
    "### sort the array, the left would contain any small negatives while right large positives. Take the max between the 2 smallest negatives & 1 largest positive or the 3 largest positives"
   ],
   "id": "3ec8829bbf8d16b6"
  },
  {
   "metadata": {
    "ExecuteTime": {
     "end_time": "2024-06-09T19:45:50.898591Z",
     "start_time": "2024-06-09T19:45:50.878137Z"
    }
   },
   "cell_type": "code",
   "source": [
    "def maximumProduct(nums):\n",
    "    if not nums:\n",
    "        return 0\n",
    "    nums.sort()\n",
    "    n = len(nums)\n",
    "    \n",
    "    front = nums[0] * nums[1] * nums[n-1]\n",
    "    back = nums[n-3] * nums[n-2] * nums[n-1]\n",
    "    \n",
    "    max_prod = max(front,back)\n",
    "    \n",
    "    return max_prod"
   ],
   "id": "4d3e8e3432899a27",
   "outputs": [],
   "execution_count": 15
  },
  {
   "metadata": {
    "ExecuteTime": {
     "end_time": "2024-06-09T19:45:51.246246Z",
     "start_time": "2024-06-09T19:45:51.234734Z"
    }
   },
   "cell_type": "code",
   "source": [
    "nums = [1,2,3,4]\n",
    "maximumProduct(nums)"
   ],
   "id": "2d0dc5d283a81bdd",
   "outputs": [
    {
     "data": {
      "text/plain": [
       "24"
      ]
     },
     "execution_count": 16,
     "metadata": {},
     "output_type": "execute_result"
    }
   ],
   "execution_count": 16
  },
  {
   "metadata": {
    "ExecuteTime": {
     "end_time": "2024-06-09T19:45:53.445699Z",
     "start_time": "2024-06-09T19:45:53.435486Z"
    }
   },
   "cell_type": "code",
   "source": [
    "nums = [-1,-2,-3]\n",
    "maximumProduct(nums)"
   ],
   "id": "b7a2cd1031d398f5",
   "outputs": [
    {
     "data": {
      "text/plain": [
       "-6"
      ]
     },
     "execution_count": 17,
     "metadata": {},
     "output_type": "execute_result"
    }
   ],
   "execution_count": 17
  },
  {
   "metadata": {
    "ExecuteTime": {
     "end_time": "2024-06-09T19:45:53.616772Z",
     "start_time": "2024-06-09T19:45:53.608346Z"
    }
   },
   "cell_type": "code",
   "source": [
    "nums = [-100,-98,-1,2,3,4]\n",
    "maximumProduct(nums)"
   ],
   "id": "1b4659a260b8aa29",
   "outputs": [
    {
     "data": {
      "text/plain": [
       "39200"
      ]
     },
     "execution_count": 18,
     "metadata": {},
     "output_type": "execute_result"
    }
   ],
   "execution_count": 18
  },
  {
   "cell_type": "code",
   "execution_count": null,
   "outputs": [],
   "source": [],
   "metadata": {
    "collapsed": false
   },
   "id": "7a3dc2c31879b12c"
  }
 ],
 "metadata": {
  "kernelspec": {
   "display_name": "Python 3",
   "language": "python",
   "name": "python3"
  },
  "language_info": {
   "codemirror_mode": {
    "name": "ipython",
    "version": 2
   },
   "file_extension": ".py",
   "mimetype": "text/x-python",
   "name": "python",
   "nbconvert_exporter": "python",
   "pygments_lexer": "ipython2",
   "version": "2.7.6"
  }
 },
 "nbformat": 4,
 "nbformat_minor": 5
}
