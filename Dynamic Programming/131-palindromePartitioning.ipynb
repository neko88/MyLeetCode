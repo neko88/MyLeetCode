{
 "cells": [
  {
   "metadata": {},
   "cell_type": "markdown",
   "source": [
    "# 131. Palindrome Partitioning\n",
    "Medium\n",
    "\n",
    "### Given a string s, partition s such that every substring of the partition is a palindrome. Return all possible palindrome partitioning of s.\n",
    "\n",
    " \n",
    "```\n",
    "Example 1:\n",
    "    Input: s = \"aab\"\n",
    "    Output: [[\"a\",\"a\",\"b\"],[\"aa\",\"b\"]]\n",
    "\n",
    "Example 2:\n",
    "    Input: s = \"a\"\n",
    "    Output: [[\"a\"]]\n",
    " \n",
    "Constraints:\n",
    "    1 <= s.length <= 16\n",
    "    s contains only lowercase English letters.\n",
    "```"
   ],
   "id": "385b9113bdae4022"
  },
  {
   "metadata": {},
   "cell_type": "code",
   "outputs": [],
   "execution_count": null,
   "source": [
    "def partition(s):\n",
    "    if not s:\n",
    "        return None\n",
    "    \n",
    "    n = len(s)\n",
    "    if n == 1:\n",
    "        return s\n",
    "    \n",
    "    dp = [ [0] * (n + 1) for _ in range(n + 1) ]\n",
    "    dp[0] = None\n",
    "    \n",
    "    for i in range(1, n + 1):\n",
    "        dp[i] = s[i-1]\n",
    "    \n",
    "    for i in range"
   ],
   "id": "167ed60cf7c73cb0"
  }
 ],
 "metadata": {
  "kernelspec": {
   "display_name": "Python 3",
   "language": "python",
   "name": "python3"
  },
  "language_info": {
   "codemirror_mode": {
    "name": "ipython",
    "version": 2
   },
   "file_extension": ".py",
   "mimetype": "text/x-python",
   "name": "python",
   "nbconvert_exporter": "python",
   "pygments_lexer": "ipython2",
   "version": "2.7.6"
  }
 },
 "nbformat": 4,
 "nbformat_minor": 5
}
