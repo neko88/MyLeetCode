{
 "cells": [
  {
   "cell_type": "markdown",
   "source": [
    "# 509. Fibonacci Number\n",
    "Easy\n",
    "\n",
    "### The Fibonacci numbers, commonly denoted F(n) form a sequence, called the Fibonacci sequence, such that each number is the sum of the two preceding ones, starting from 0 and 1. That is,\n",
    "```\n",
    "F(0) = 0, F(1) = 1\n",
    "F(n) = F(n - 1) + F(n - 2), for n > 1.\n",
    "Given n, calculate F(n).\n",
    "```\n",
    "\n",
    "```\n",
    "Example 1:\n",
    "    Input: n = 2\n",
    "    Output: 1\n",
    "    Explanation: F(2) = F(1) + F(0) = 1 + 0 = 1.\n",
    "\n",
    "Example 2:\n",
    "    Input: n = 3\n",
    "    Output: 2\n",
    "    Explanation: F(3) = F(2) + F(1) = 1 + 1 = 2.\n",
    "\n",
    "Example 3:\n",
    "    Input: n = 4\n",
    "    Output: 3\n",
    "    Explanation: F(4) = F(3) + F(2) = 2 + 1 = 3.\n",
    "\n",
    "Constraints:\n",
    "    0 <= n <= 30\n",
    "```"
   ],
   "metadata": {
    "collapsed": false
   }
  },
  {
   "cell_type": "code",
   "execution_count": 11,
   "outputs": [],
   "source": [
    "def fib(n):\n",
    "    memo = {}\n",
    "    helper(memo, n)\n",
    "    return memo[n]\n",
    "\n",
    "def helper(memo, n):\n",
    "    if n == 0:\n",
    "        return 0\n",
    "    if n == 1:\n",
    "        return 1\n",
    "\n",
    "    if n not in memo:\n",
    "        memo[n] = helper(memo, n-1) + helper(memo, n-2)\n",
    "    return memo[n]"
   ],
   "metadata": {
    "collapsed": false
   }
  },
  {
   "cell_type": "code",
   "execution_count": 12,
   "outputs": [
    {
     "data": {
      "text/plain": "3"
     },
     "execution_count": 12,
     "metadata": {},
     "output_type": "execute_result"
    }
   ],
   "source": [
    "fib(4)"
   ],
   "metadata": {
    "collapsed": false
   }
  },
  {
   "cell_type": "code",
   "execution_count": null,
   "outputs": [],
   "source": [],
   "metadata": {
    "collapsed": false
   }
  }
 ],
 "metadata": {
  "kernelspec": {
   "display_name": "Python 3",
   "language": "python",
   "name": "python3"
  },
  "language_info": {
   "codemirror_mode": {
    "name": "ipython",
    "version": 2
   },
   "file_extension": ".py",
   "mimetype": "text/x-python",
   "name": "python",
   "nbconvert_exporter": "python",
   "pygments_lexer": "ipython2",
   "version": "2.7.6"
  }
 },
 "nbformat": 4,
 "nbformat_minor": 0
}
