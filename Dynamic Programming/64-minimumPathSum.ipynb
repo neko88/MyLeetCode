{
 "cells": [
  {
   "metadata": {},
   "cell_type": "markdown",
   "source": [
    "# 64. Minimum Path Sum\n",
    "Medium\n",
    "\n",
    "https://leetcode.com/problems/minimum-path-sum/\n",
    "\n",
    "### Given a m x n grid filled with non-negative numbers, find a path from top left to bottom right, which minimizes the sum of all numbers along its path.\n",
    "\n",
    "Note: You can only move either down or right at any point in time.\n",
    "\n",
    " \n",
    "```\n",
    "Example 1:\n",
    "    Input: grid = [[1,3,1],[1,5,1],[4,2,1]]\n",
    "    Output: 7\n",
    "    Explanation: Because the path 1 → 3 → 1 → 1 → 1 minimizes the sum.\n",
    "Example 2:\n",
    "    Input: grid = [[1,2,3],[4,5,6]]\n",
    "    Output: 12\n",
    " \n",
    "Constraints:\n",
    "    m == grid.length\n",
    "    n == grid[i].length\n",
    "    1 <= m, n <= 200\n",
    "    0 <= grid[i][j] <= 200\n",
    "```"
   ],
   "id": "7c417334e6b00aae"
  },
  {
   "metadata": {
    "ExecuteTime": {
     "end_time": "2024-06-17T20:41:58.911280Z",
     "start_time": "2024-06-17T20:41:58.903343Z"
    }
   },
   "cell_type": "code",
   "source": [
    "\"\"\"\n",
    "go through grid. find unique paths by dp. for each path calculate a sum. track the global minimum sum and return.\n",
    "- no obstacles\n",
    "- down and right only\n",
    "\"\"\"\n",
    "def minPathSum(grid):\n",
    "    m,n = len(grid), len(grid[0])\n",
    "\n",
    "    if m == 1 and n == 1:\n",
    "        return grid[0][0]\n",
    "\n",
    "    dp = [ [0] * n for _ in range(m) ]\n",
    "    dp[0][0] = grid[0][0]\n",
    "\n",
    "    for i in range(m):\n",
    "        dp[i][0] = grid[i][0] + dp[i-1][0]\n",
    "    for j in range(n):\n",
    "        dp[0][j] = grid[0][j] + dp[0][j-1]\n",
    "\n",
    "    for i in range(1,m):\n",
    "        for j in range(1,n):\n",
    "                a = grid[i][j] + dp[i][j-1]\n",
    "                b = grid[i][j] + dp[i-1][j]\n",
    "                dp[i][j] = min(a, b)\n",
    "                \n",
    "    print(dp)\n",
    "    return dp[m-1][n-1]"
   ],
   "id": "77d314a4f7b92db2",
   "outputs": [],
   "execution_count": 19
  },
  {
   "metadata": {
    "ExecuteTime": {
     "end_time": "2024-06-17T20:41:59.386567Z",
     "start_time": "2024-06-17T20:41:59.377881Z"
    }
   },
   "cell_type": "code",
   "source": [
    "grid = [[1,3,1],\n",
    "        [1,5,1],\n",
    "        [4,2,1]]\n",
    "minPathSum(grid)"
   ],
   "id": "866bb42bb974ea74",
   "outputs": [
    {
     "name": "stdout",
     "output_type": "stream",
     "text": [
      "[[1, 4, 5], [2, 7, 6], [6, 8, 7]]\n"
     ]
    },
    {
     "data": {
      "text/plain": "7"
     },
     "execution_count": 20,
     "metadata": {},
     "output_type": "execute_result"
    }
   ],
   "execution_count": 20
  },
  {
   "cell_type": "code",
   "execution_count": 21,
   "outputs": [
    {
     "name": "stdout",
     "output_type": "stream",
     "text": [
      "[[1, 3, 6], [5, 8, 12]]\n"
     ]
    },
    {
     "data": {
      "text/plain": "12"
     },
     "execution_count": 21,
     "metadata": {},
     "output_type": "execute_result"
    }
   ],
   "source": [
    "grid = [[1,2,3],[4,5,6]]\n",
    "minPathSum(grid)"
   ],
   "metadata": {
    "collapsed": false
   }
  },
  {
   "cell_type": "code",
   "execution_count": 22,
   "outputs": [
    {
     "name": "stdout",
     "output_type": "stream",
     "text": [
      "[[9, 10, 14, 22]]\n"
     ]
    },
    {
     "data": {
      "text/plain": "22"
     },
     "execution_count": 22,
     "metadata": {},
     "output_type": "execute_result"
    }
   ],
   "source": [
    "grid = [[9,1,4,8]]\n",
    "minPathSum(grid)"
   ],
   "metadata": {
    "collapsed": false
   }
  },
  {
   "cell_type": "raw",
   "source": [
    "[1, 4, 5],\n",
    "[2, 4, 6],\n",
    "[6, 9, 3]\n",
    "\n",
    "[1, 4, 5],\n",
    "[2, 7, 6],\n",
    "[6, 8, 7]"
   ],
   "metadata": {
    "collapsed": false
   }
  },
  {
   "cell_type": "code",
   "execution_count": 23,
   "outputs": [
    {
     "name": "stdout",
     "output_type": "stream",
     "text": [
      "[[2], [2]]\n"
     ]
    },
    {
     "data": {
      "text/plain": "2"
     },
     "execution_count": 23,
     "metadata": {},
     "output_type": "execute_result"
    }
   ],
   "source": [
    "grid = [[1],[1]]\n",
    "minPathSum(grid)"
   ],
   "metadata": {
    "collapsed": false
   }
  },
  {
   "cell_type": "code",
   "execution_count": null,
   "outputs": [],
   "source": [],
   "metadata": {
    "collapsed": false
   }
  }
 ],
 "metadata": {
  "kernelspec": {
   "display_name": "Python 3",
   "language": "python",
   "name": "python3"
  },
  "language_info": {
   "codemirror_mode": {
    "name": "ipython",
    "version": 2
   },
   "file_extension": ".py",
   "mimetype": "text/x-python",
   "name": "python",
   "nbconvert_exporter": "python",
   "pygments_lexer": "ipython2",
   "version": "2.7.6"
  }
 },
 "nbformat": 4,
 "nbformat_minor": 5
}
