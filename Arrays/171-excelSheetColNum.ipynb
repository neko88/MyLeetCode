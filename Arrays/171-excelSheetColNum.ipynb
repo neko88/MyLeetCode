{
 "cells": [
  {
   "metadata": {},
   "cell_type": "markdown",
   "source": [
    "```\n",
    "input:\n",
    "    columnTitle: string of an alphabet corresponding to Excel column name\n",
    "output:\n",
    "    int which represents the corresponding Excel column alphabet\n",
    "\n",
    "Constraints:\n",
    "    1 <= columnTitle.length <= 7\n",
    "    columnTitle consists only of uppercase English letters.\n",
    "    columnTitle is in the range [\"A\", \"FXSHRXW\"]\n",
    "\n",
    "Example 1:\n",
    "Input: columnTitle = \"A\"\n",
    "Output: 1\n",
    "\n",
    "Example 2:\n",
    "Input: columnTitle = \"AB\"\n",
    "Output: 28\n",
    "\n",
    "Example 3:\n",
    "Input: columnTitle = \"ZY\"\n",
    "Output: 701\n",
    "```"
   ],
   "id": "883f0fbf5bcbc35a"
  },
  {
   "metadata": {},
   "cell_type": "markdown",
   "source": [
    "```\n",
    "Approach:\n",
    "Use a dictionary to map character:number, in the range 1, 27\n",
    "\n",
    "- initialize a list of values 1 to 27\n",
    "- initialize a list of alphabets\n",
    "- zip letters, values to create a dictionary and map\n",
    "\n",
    "- the value adds on to itself by multiplying the current value with 26 and adding the value of the character\n",
    "```"
   ],
   "id": "a9d1074e1c7be005"
  },
  {
   "metadata": {},
   "cell_type": "code",
   "outputs": [],
   "execution_count": null,
   "source": [
    "def titleToNumber(s):\n",
    "    value = 0\n",
    "    numbers = [i for i in range(1, 27)]     # create numeric vals for alphabet\n",
    "    letters = list(\"ABCDEFGHIJKLMNOPQRSTUVWXYZ\")\n",
    "    letter_map = dict(zip(letters, numbers))         # create a mapping\n",
    "    for char in s:\n",
    "        value = value * 26 + letter_map[char]\n",
    "    return value"
   ],
   "id": "7dc72485d11a01a7"
  }
 ],
 "metadata": {
  "kernelspec": {
   "display_name": "Python 3",
   "language": "python",
   "name": "python3"
  },
  "language_info": {
   "codemirror_mode": {
    "name": "ipython",
    "version": 2
   },
   "file_extension": ".py",
   "mimetype": "text/x-python",
   "name": "python",
   "nbconvert_exporter": "python",
   "pygments_lexer": "ipython2",
   "version": "2.7.6"
  }
 },
 "nbformat": 4,
 "nbformat_minor": 5
}
