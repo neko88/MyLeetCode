{
 "cells": [
  {
   "cell_type": "markdown",
   "source": [
    "# 645. Set Mismatch\n",
    "Easy\n",
    "\n",
    "You have a set of integers s, which originally contains all the numbers from 1 to n. Unfortunately, due to some error, one of the numbers in s got duplicated to another number in the set, which results in repetition of one number and loss of another number.\n",
    "\n",
    "You are given an integer array nums representing the data status of this set after the error.\n",
    "\n",
    "### Find the number that occurs twice and the number that is missing and return them in the form of an array.\n",
    "\n",
    "Example 1:\n",
    "    Input: nums = [1,2,2,4]\n",
    "    Output: [2,3]\n",
    "\n",
    "Example 2:\n",
    "    Input: nums = [1,1]\n",
    "    Output: [1,2]\n",
    "\n",
    "Constraints:\n",
    "    2 <= nums.length <= 104\n",
    "    1 <= nums[i] <= 104"
   ],
   "metadata": {
    "collapsed": false
   }
  },
  {
   "cell_type": "code",
   "source": [
    "from collections import Counter\n",
    "def findErrorNums(nums):\n",
    "    nums.sort()\n",
    "    dic = Counter(nums)\n",
    "    print(\"counts: \", dic)\n",
    "    print(\"nums sorted: \", nums)\n",
    "    repeat = None\n",
    "    missing = None\n",
    "    result = []\n",
    "\n",
    "    for i in range(1, len(nums)+1):\n",
    "        print(\"i, nums[i-1]\", i, nums[i-1])\n",
    "        if i != nums[i-1]:\n",
    "            if not dic[i]:\n",
    "                missing = i\n",
    "                dic[i] = 1\n",
    "        if dic[i] > 1:\n",
    "            repeat = i\n",
    "        if repeat is not None and missing is not None:\n",
    "            result.append(repeat)\n",
    "            result.append(missing)\n",
    "            return result\n",
    "    return result\n"
   ],
   "metadata": {
    "collapsed": false,
    "ExecuteTime": {
     "end_time": "2024-06-09T22:18:40.548038Z",
     "start_time": "2024-06-09T22:18:40.540955Z"
    }
   },
   "outputs": [],
   "execution_count": 20
  },
  {
   "cell_type": "code",
   "source": [
    "nums = [3,2,2]\n",
    "findErrorNums(nums)"
   ],
   "metadata": {
    "collapsed": false,
    "ExecuteTime": {
     "end_time": "2024-06-09T22:18:40.767627Z",
     "start_time": "2024-06-09T22:18:40.759738Z"
    }
   },
   "outputs": [
    {
     "name": "stdout",
     "output_type": "stream",
     "text": [
      "counts:  Counter({2: 2, 3: 1})\n",
      "nums sorted:  [2, 2, 3]\n",
      "i, nums[i-1] 1 2\n",
      "i, nums[i-1] 2 2\n"
     ]
    },
    {
     "data": {
      "text/plain": [
       "[2, 1]"
      ]
     },
     "execution_count": 21,
     "metadata": {},
     "output_type": "execute_result"
    }
   ],
   "execution_count": 21
  },
  {
   "cell_type": "code",
   "source": [
    "nums = [1,2,2,4]\n",
    "findErrorNums(nums)"
   ],
   "metadata": {
    "collapsed": false,
    "ExecuteTime": {
     "end_time": "2024-06-09T22:18:41.216611Z",
     "start_time": "2024-06-09T22:18:41.206024Z"
    }
   },
   "outputs": [
    {
     "name": "stdout",
     "output_type": "stream",
     "text": [
      "counts:  Counter({2: 2, 1: 1, 4: 1})\n",
      "nums sorted:  [1, 2, 2, 4]\n",
      "i, nums[i-1] 1 1\n",
      "i, nums[i-1] 2 2\n",
      "i, nums[i-1] 3 2\n"
     ]
    },
    {
     "data": {
      "text/plain": [
       "[2, 3]"
      ]
     },
     "execution_count": 22,
     "metadata": {},
     "output_type": "execute_result"
    }
   ],
   "execution_count": 22
  },
  {
   "cell_type": "code",
   "execution_count": 265,
   "outputs": [
    {
     "name": "stdout",
     "output_type": "stream",
     "text": [
      "counts:  Counter({3: 2, 2: 1, 4: 1, 5: 1, 6: 1})\n",
      "nums sorted:  [2, 3, 3, 4, 5, 6]\n",
      "i, nums[i-1] 1 2\n",
      "i, nums[i-1] 2 3\n",
      "i, nums[i-1] 3 3\n"
     ]
    },
    {
     "data": {
      "text/plain": "[3, 1]"
     },
     "execution_count": 265,
     "metadata": {},
     "output_type": "execute_result"
    }
   ],
   "source": [
    "nums = [3,2,3,4,6,5]\n",
    "findErrorNums(nums)"
   ],
   "metadata": {
    "collapsed": false
   }
  },
  {
   "cell_type": "code",
   "execution_count": 266,
   "outputs": [
    {
     "name": "stdout",
     "output_type": "stream",
     "text": [
      "counts:  Counter({2: 2})\n",
      "nums sorted:  [2, 2]\n",
      "i, nums[i-1] 1 2\n",
      "i, nums[i-1] 2 2\n"
     ]
    },
    {
     "data": {
      "text/plain": "[2, 1]"
     },
     "execution_count": 266,
     "metadata": {},
     "output_type": "execute_result"
    }
   ],
   "source": [
    "nums = [2,2]\n",
    "findErrorNums(nums)"
   ],
   "metadata": {
    "collapsed": false
   }
  },
  {
   "cell_type": "code",
   "execution_count": 267,
   "outputs": [
    {
     "name": "stdout",
     "output_type": "stream",
     "text": [
      "counts:  Counter({1: 1})\n",
      "nums sorted:  [1]\n",
      "i, nums[i-1] 1 1\n"
     ]
    },
    {
     "data": {
      "text/plain": "[]"
     },
     "execution_count": 267,
     "metadata": {},
     "output_type": "execute_result"
    }
   ],
   "source": [
    "nums = [1]\n",
    "findErrorNums(nums)"
   ],
   "metadata": {
    "collapsed": false
   }
  },
  {
   "cell_type": "code",
   "execution_count": null,
   "outputs": [],
   "source": [],
   "metadata": {
    "collapsed": false
   }
  }
 ],
 "metadata": {
  "kernelspec": {
   "display_name": "Python 3",
   "language": "python",
   "name": "python3"
  },
  "language_info": {
   "codemirror_mode": {
    "name": "ipython",
    "version": 2
   },
   "file_extension": ".py",
   "mimetype": "text/x-python",
   "name": "python",
   "nbconvert_exporter": "python",
   "pygments_lexer": "ipython2",
   "version": "2.7.6"
  }
 },
 "nbformat": 4,
 "nbformat_minor": 0
}
