{
 "cells": [
  {
   "metadata": {},
   "cell_type": "markdown",
   "source": [
    "```\n",
    "input:\n",
    "    nums = n+1 int array\n",
    "output:\n",
    "    the one repeated number in the array\n",
    "constraints:\n",
    "    O(1) space only\n",
    "\n",
    "Constraints:\n",
    "\n",
    "1 <= n <= 105\n",
    "nums.length == n + 1\n",
    "1 <= nums[i] <= n\n",
    "All the integers in nums appear only once except for precisely one integer which appears two or more times.\n",
    "```"
   ],
   "id": "9e9bbe60ed14821c"
  },
  {
   "metadata": {},
   "cell_type": "markdown",
   "source": [
    "# Approach:\n",
    "    Floyd's Cycle Detection Alg.\n",
    "    Find a cycle within the linked list\n",
    "\n",
    "## Two pointers:\n",
    "\n",
    "   \n",
    "Tortoise moves one\n",
    "   \n",
    "Hare moves twice as fast\n",
    "   \n",
    "\n",
    "- If tortoise and hare intersect, then there is a cycle\n",
    "- the hare would be the first to enter the cycle and run around it\n",
    "- the tortoise eventually enters the cycle\n",
    "- intersection can happen anywhere in the cycle\n",
    "\n",
    "if head and head.next does not exist, there is no cycle\n",
    "\n",
    "```\n",
    "Linked List: hare, hare.next, hare.next.next\n",
    "Array:  hare = nums[0]\n",
    "            hare_next = nums[ nums[0] ]             = nums[hare]\n",
    "            hare_next_next = nums[ nums[nums[0]] ]  = nums[hare_next]\n",
    "```\n",
    "\n",
    "The duplicate value is the entrance to the cycle.\n"
   ],
   "id": "71df125ce3afb45b"
  },
  {
   "metadata": {},
   "cell_type": "code",
   "outputs": [],
   "execution_count": 2,
   "source": [
    "def findDuplicate(nums):\n",
    "    tortoise = nums[0]\n",
    "    hare = nums[0]\n",
    "    \n",
    "    while True:\n",
    "        tortoise = nums[tortoise]\n",
    "        hare = nums[nums[hare]]\n",
    "        print(\"tortoise = \", tortoise, \" ...  hare = \", hare)\n",
    "        print(\"nums[\" + str(nums[hare]) + \"] = \", nums[nums[hare]])\n",
    "        if tortoise==hare:\n",
    "            break\n",
    "\n",
    "    tortoise = nums[0]\n",
    "    while tortoise!=hare:\n",
    "        tortoise = nums[tortoise]\n",
    "        hare = nums[hare]\n",
    "\n",
    "    return hare"
   ],
   "id": "77dd8ef0a4b24c84"
  },
  {
   "metadata": {},
   "cell_type": "code",
   "outputs": [
    {
     "name": "stdout",
     "output_type": "stream",
     "text": [
      "tortoise =  3  ...  hare =  2\n",
      "nums[4] =  2\n",
      "tortoise =  2  ...  hare =  2\n",
      "nums[4] =  2\n",
      "2\n"
     ]
    }
   ],
   "execution_count": 3,
   "source": [
    "nums = [1,3,4,2,2]\n",
    "print(findDuplicate(nums))"
   ],
   "id": "d0f58da73af93369"
  },
  {
   "metadata": {},
   "cell_type": "markdown",
   "source": [
    "```\n",
    "index= [0, 1, 2, 3, 4, 5, 6]\n",
    "nums = [2, 6, 4, 1, 3, 1, 5]\n",
    "\n",
    "nums[0] = 2\n",
    "    -> arr[2] = 4\n",
    "        -> arr[4] = 3\n",
    "            -> arr[3] = 1\n",
    "                -> arr[1] = 6\n",
    "                    -> arr[6] = 5\n",
    "                        -> arr[5] = 1\n",
    "```"
   ],
   "id": "220f338fb840871c"
  },
  {
   "metadata": {},
   "cell_type": "code",
   "outputs": [],
   "execution_count": null,
   "source": [
    "def hasCycle(head):\n",
    "    if head is None or head.next is None:\n",
    "        return False\n",
    "    tortoise = head\n",
    "    hare = head.next\n",
    "    \n",
    "    # if the hare's current ptr and its next ptr != null, continue\n",
    "    while hare and hare.next:\n",
    "        # check if tortoise ptr and hare ptr points to same node\n",
    "        # if so, then a cycle is found\n",
    "        # with a cycle, the hare will keep looping around it until it hits tortoise\n",
    "        if (tortoise == hare):\n",
    "            return True\n",
    "        \n",
    "        tortoise = tortoise.next\n",
    "        hare = hare.next.next\n",
    "        \n",
    "    return False"
   ],
   "id": "418362d9bcd16aa"
  }
 ],
 "metadata": {
  "kernelspec": {
   "display_name": "Python 3",
   "language": "python",
   "name": "python3"
  },
  "language_info": {
   "codemirror_mode": {
    "name": "ipython",
    "version": 2
   },
   "file_extension": ".py",
   "mimetype": "text/x-python",
   "name": "python",
   "nbconvert_exporter": "python",
   "pygments_lexer": "ipython2",
   "version": "2.7.6"
  }
 },
 "nbformat": 4,
 "nbformat_minor": 5
}
