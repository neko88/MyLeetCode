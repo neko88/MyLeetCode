{
 "cells": [
  {
   "metadata": {},
   "cell_type": "markdown",
   "source": [
    "# 349. Intersection of Two Arrays\n",
    "Easy\n",
    "\n",
    "### Given two integer arrays nums1 and nums2, return an array of their intersection. Each element in the result must be unique and you may return the result in any order.\n",
    "\n",
    " \n",
    "```\n",
    "Example 1:\n",
    "    Input: nums1 = [1,2,2,1], nums2 = [2,2]\n",
    "    Output: [2]\n",
    "\n",
    "Example 2:\n",
    "    Input: nums1 = [4,9,5], nums2 = [9,4,9,8,4]\n",
    "    Output: [9,4]\n",
    "    Explanation: [4,9] is also accepted.\n",
    " \n",
    "Constraints:\n",
    "    1 <= nums1.length, nums2.length <= 1000\n",
    "    0 <= nums1[i], nums2[i] <= 1000"
   ],
   "id": "48c4af77dc06f410"
  },
  {
   "metadata": {
    "ExecuteTime": {
     "end_time": "2024-06-01T01:18:41.343854Z",
     "start_time": "2024-06-01T01:18:41.335913Z"
    }
   },
   "cell_type": "code",
   "source": [
    "def intersection(nums1, nums2):\n",
    "    \"\"\"\n",
    "    :type nums1: List[int]\n",
    "    :type nums2: List[int]\n",
    "    :rtype: List[int]\n",
    "    \"\"\"\n",
    "    nums1.sort()\n",
    "    nums2.sort()\n",
    "    if len(nums1) <= len(nums2):\n",
    "        a = nums1\n",
    "        b = nums2\n",
    "    else:\n",
    "        a = nums2\n",
    "        b = nums1\n",
    "        \n",
    "    # iterate over small array, compare each element in larger array\n",
    "    # move over small array only if match is found\n",
    "    intersection = set()\n",
    "    i = 0\n",
    "    current = 0\n",
    "    while i < len(a):\n",
    "        if current == len(b):\n",
    "            return intersection\n",
    "        for j in range(current, len(b)):\n",
    "            # if same, append and move i up\n",
    "            if a[i] == b[j]:\n",
    "                intersection.add(a[i])\n",
    "                current = j+1\n",
    "                break\n",
    "        i += 1\n",
    "    return list(intersection)\n",
    "        \n",
    "        "
   ],
   "id": "initial_id",
   "outputs": [],
   "execution_count": 16
  },
  {
   "metadata": {
    "ExecuteTime": {
     "end_time": "2024-06-01T01:19:10.456426Z",
     "start_time": "2024-06-01T01:19:10.449436Z"
    }
   },
   "cell_type": "code",
   "source": [
    "numsA1 = [1,2,2,1]\n",
    "numsA2 = [2,2]\n",
    "numsB1 = [4,9,5]\n",
    "numsB2 = [9,4,9,8,4]\n",
    "numsC1 = [1,2]\n",
    "numsC2 = [2,1]\n",
    "\n",
    "print(intersection(numsA1, numsA2))\n",
    "print(intersection(numsB1, numsB2))\n",
    "print(intersection(numsC1, numsC2))"
   ],
   "id": "e1f18eb164cd0ff4",
   "outputs": [
    {
     "name": "stdout",
     "output_type": "stream",
     "text": [
      "[2]\n",
      "[9, 4]\n",
      "[1, 2]\n"
     ]
    }
   ],
   "execution_count": 18
  },
  {
   "metadata": {},
   "cell_type": "markdown",
   "source": [],
   "id": "3ddc03bd65d935c0"
  }
 ],
 "metadata": {
  "kernelspec": {
   "display_name": "Python 3",
   "language": "python",
   "name": "python3"
  },
  "language_info": {
   "codemirror_mode": {
    "name": "ipython",
    "version": 2
   },
   "file_extension": ".py",
   "mimetype": "text/x-python",
   "name": "python",
   "nbconvert_exporter": "python",
   "pygments_lexer": "ipython2",
   "version": "2.7.6"
  }
 },
 "nbformat": 4,
 "nbformat_minor": 5
}
