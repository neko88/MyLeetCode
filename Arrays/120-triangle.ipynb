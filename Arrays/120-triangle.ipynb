{
 "cells": [
  {
   "metadata": {},
   "cell_type": "markdown",
   "source": [
    "```\n",
    "input: triangle array [list of lists]\n",
    "output: minimum path sum\n",
    "\n",
    "Constraints:\n",
    "    1 <= triangle.length <= 200\n",
    "    triangle[0].length == 1\n",
    "    triangle[i].length == triangle[i - 1].length + 1\n",
    "    -104 <= triangle[i][j] <= 104\n",
    "\n",
    "Example 1:\n",
    "    Input: triangle = [[2],[3,4],[6,5,7],[4,1,8,3]]\n",
    "    Output: 11\n",
    "    Explanation: The triangle looks like:\n",
    "       2\n",
    "      3 4\n",
    "     6 5 7\n",
    "    4 1 8 3\n",
    "    The minimum path sum from top to bottom is 2 + 3 + 5 + 1 = 11 (underlined above).\n",
    "\n",
    "Example 2:\n",
    "    Input: triangle = [[-10]]\n",
    "    Output: -10\n",
    "```"
   ],
   "id": "98b49413572a51f8"
  },
  {
   "metadata": {},
   "cell_type": "markdown",
   "source": [
    "```\n",
    "up-to-bottom:   move i or i+1 down\n",
    "bottom-to-up:   move i or i-1 up\n",
    "Approach: memoization\n",
    "    - bottom-up approach\n",
    "    - take the next step choosing the minimum value of the choices\n",
    "```"
   ],
   "id": "c76c2ca9e0594b0b"
  },
  {
   "metadata": {},
   "cell_type": "code",
   "outputs": [],
   "execution_count": null,
   "source": [
    "def minimumTotal(triangle):\n",
    "    # iterate the list of lists\n",
    "    for row in range(1, len(triangle)):    \n",
    "        # iterate each element in the current list\n",
    "        for i in range(row + 1):\n",
    "            prev_i = min(i, row-1)      # i < row-1\n",
    "            prev_im1 = max(i-1, 0)      # i > 0\n",
    "            # add the minimum value between the two\n",
    "            triangle[row][i] \\\n",
    "                += min(triangle[row-1][prev_i], triangle[row-1][prev_im1])\n",
    "    # top of triangle has the minimum sum\n",
    "    return min(triangle[-1])\n",
    "            "
   ],
   "id": "cd1a0cafd57700a3"
  }
 ],
 "metadata": {
  "kernelspec": {
   "display_name": "Python 3",
   "language": "python",
   "name": "python3"
  },
  "language_info": {
   "codemirror_mode": {
    "name": "ipython",
    "version": 2
   },
   "file_extension": ".py",
   "mimetype": "text/x-python",
   "name": "python",
   "nbconvert_exporter": "python",
   "pygments_lexer": "ipython2",
   "version": "2.7.6"
  }
 },
 "nbformat": 4,
 "nbformat_minor": 5
}
