{
 "cells": [
  {
   "cell_type": "markdown",
   "source": [
    "# 45. Jump Game II\n",
    "Medium\n",
    "\n",
    "You are given a 0-indexed array of integers nums of length n. You are initially positioned at nums[0].\n",
    "\n",
    "Each element nums[i] represents the maximum length of a forward jump from index i. In other words, if you are at nums[i], you can jump to any nums[i + j] where:\n",
    "```\n",
    "0 <= j <= nums[i] and\n",
    "i + j < n\n",
    "```\n",
    "### Return the minimum number of jumps to reach nums[n - 1]. The test cases are generated such that you can reach nums[n - 1].\n",
    "\n",
    "\n",
    "```\n",
    "Example 1:\n",
    "    Input: nums = [2,3,1,1,4]\n",
    "    Output: 2\n",
    "    Explanation: The minimum number of jumps to reach the last index is 2. Jump 1 step from index 0 to 1, then 3 steps to the last index.\n",
    "\n",
    "Example 2:\n",
    "    Input: nums = [2,3,0,1,4]\n",
    "    Output: 2\n",
    "\n",
    "Constraints:\n",
    "    1 <= nums.length <= 104\n",
    "    0 <= nums[i] <= 1000\n",
    "    It's guaranteed that you can reach nums[n - 1].\n",
    "```"
   ],
   "metadata": {
    "collapsed": false
   }
  },
  {
   "metadata": {},
   "cell_type": "markdown",
   "source": [
    "To solve the Jump Game II problem, you can use a greedy algorithm. The problem is to find the minimum number of jumps required to reach the end of the array, starting from the first position.\n",
    "\n",
    "Here's a step-by-step explanation and the corresponding Python code:\n",
    "\n",
    "### Problem Statement\n",
    "Given an array of non-negative integers, where each element represents the maximum number of steps that can be jumped forward from that element, find the minimum number of jumps to reach the last element.\n",
    "\n",
    "### Greedy Algorithm Approach\n",
    "\n",
    "1. **Initialize Variables:**\n",
    "   - `jumps`: Number of jumps needed to reach the end of the array.\n",
    "   - `current_end`: The farthest point that can be reached with the current number of jumps.\n",
    "   - `farthest`: The farthest point that can be reached with the next jump.\n",
    "\n",
    "2. **Iterate through the array:**\n",
    "   - For each position in the array, update the `farthest` point that can be reached.\n",
    "   - If the current position reaches the `current_end`, increment the `jumps` counter and update `current_end` to `farthest`.\n",
    "   - If `current_end` reaches or exceeds the last index, break out of the loop.\n",
    "\n",
    "3. **Return the number of jumps.**\n",
    "\n",
    "### Python Code\n",
    "Here is the Python implementation of the greedy algorithm:\n",
    "\n",
    "```python\n",
    "def jump(nums):\n",
    "    n = len(nums)\n",
    "    if n <= 1:\n",
    "        return 0\n",
    "\n",
    "    jumps = 0\n",
    "    current_end = 0\n",
    "    farthest = 0\n",
    "\n",
    "    for i in range(n - 1):\n",
    "        # Update the farthest we can reach from the current position\n",
    "        farthest = max(farthest, i + nums[i])\n",
    "        \n",
    "        # If we have reached the end of the current jump range\n",
    "        if i == current_end:\n",
    "            jumps += 1\n",
    "            current_end = farthest\n",
    "            # If current_end is at or beyond the last element, we can stop\n",
    "            if current_end >= n - 1:\n",
    "                break\n",
    "\n",
    "    return jumps\n",
    "\n",
    "# Example usage:\n",
    "nums = [2, 3, 1, 1, 4]\n",
    "print(jump(nums))  # Output: 2\n",
    "```\n",
    "\n",
    "### Explanation of the Code\n",
    "- **Initialization:**\n",
    "  - `jumps` starts at 0 because no jumps have been made yet.\n",
    "  - `current_end` is the end of the range that can be reached with the current number of jumps.\n",
    "  - `farthest` is the farthest point that can be reached with the next jump.\n",
    "\n",
    "- **Loop through the array:**\n",
    "  - For each position `i`, calculate the farthest position that can be reached (`i + nums[i]`).\n",
    "  - If `i` equals `current_end`, it means we have to make a jump, so increment `jumps` and update `current_end` to `farthest`.\n",
    "  - If `current_end` reaches or surpasses the last index, the loop can terminate early.\n",
    "\n",
    "### Edge Cases\n",
    "- If the length of the array is 1 or less, return 0 because no jumps are needed.\n",
    "- The code assumes that the input array always allows reaching the last index, as per the problem constraints.\n",
    "\n",
    "This approach ensures an optimal solution with a time complexity of O(n), where n is the length of the input array."
   ]
  },
  {
   "metadata": {
    "ExecuteTime": {
     "end_time": "2024-06-15T20:03:00.949916Z",
     "start_time": "2024-06-15T20:03:00.942669Z"
    }
   },
   "cell_type": "code",
   "source": [
    "def jump(nums):\n",
    "    n = len(nums)\n",
    "    if n <= 1:\n",
    "        return 0\n",
    "\n",
    "    jumps = 0\n",
    "    current_end = 0\n",
    "    farthest = 0\n",
    "\n",
    "    for i in range(n - 1):\n",
    "        # Update the farthest we can reach from the current position\n",
    "        curr_jump = i + nums[i]\n",
    "        farthest = max(farthest, curr_jump)\n",
    "        print(\"farthest pos reachable: \", i, farthest)\n",
    "        \n",
    "        # If we have reached the end of the current jump range\n",
    "        if i == current_end:\n",
    "            print(\"     reached current_end: \", i, current_end)\n",
    "            jumps += 1\n",
    "            print(\"     jumps: \", jumps)\n",
    "            current_end = farthest\n",
    "            print(\"     current_end = farthest: \", current_end, farthest)\n",
    "            # If current_end is at or beyond the last element, we can stop\n",
    "            if current_end >= n - 1:\n",
    "                print(\"     --> (1)**reached: break at current_end (n-1): \", current_end)\n",
    "                break\n",
    "        # else if we can jump to the end from i\n",
    "        elif curr_jump >= n-1 and (curr_jump >= farthest):\n",
    "                print(\"     --> (2)**reached: break at current_end (n-1): \", current_end)\n",
    "                jumps += 1\n",
    "                break\n",
    "        else:\n",
    "            print(\"     *skip: current pos doesnt reach farther than current_end\", i, current_end)\n",
    "\n",
    "    return jumps\n"
   ],
   "outputs": [],
   "execution_count": 121
  },
  {
   "cell_type": "code",
   "source": "jump([1,1,1,1])",
   "metadata": {
    "collapsed": false,
    "ExecuteTime": {
     "end_time": "2024-06-15T20:03:17.005247Z",
     "start_time": "2024-06-15T20:03:16.998034Z"
    }
   },
   "outputs": [
    {
     "name": "stdout",
     "output_type": "stream",
     "text": [
      "farthest pos reachable:  0 1\n",
      "     reached current_end:  0 0\n",
      "     jumps:  1\n",
      "     current_end = farthest:  1 1\n",
      "farthest pos reachable:  1 2\n",
      "     reached current_end:  1 1\n",
      "     jumps:  2\n",
      "     current_end = farthest:  2 2\n",
      "farthest pos reachable:  2 3\n",
      "     reached current_end:  2 2\n",
      "     jumps:  3\n",
      "     current_end = farthest:  3 3\n",
      "     --> (1)**reached: break at current_end (n-1):  3\n"
     ]
    },
    {
     "data": {
      "text/plain": [
       "3"
      ]
     },
     "execution_count": 122,
     "metadata": {},
     "output_type": "execute_result"
    }
   ],
   "execution_count": 122
  },
  {
   "cell_type": "code",
   "source": [
    "jump([2,0,2,0,1])"
   ],
   "metadata": {
    "collapsed": false,
    "ExecuteTime": {
     "end_time": "2024-06-15T20:03:26.214092Z",
     "start_time": "2024-06-15T20:03:26.207659Z"
    }
   },
   "outputs": [
    {
     "name": "stdout",
     "output_type": "stream",
     "text": [
      "farthest pos reachable:  0 2\n",
      "     reached current_end:  0 0\n",
      "     jumps:  1\n",
      "     current_end = farthest:  2 2\n",
      "farthest pos reachable:  1 2\n",
      "     *skip: current pos doesnt reach farther than current_end 1 2\n",
      "farthest pos reachable:  2 4\n",
      "     reached current_end:  2 2\n",
      "     jumps:  2\n",
      "     current_end = farthest:  4 4\n",
      "     --> (1)**reached: break at current_end (n-1):  4\n"
     ]
    },
    {
     "data": {
      "text/plain": [
       "2"
      ]
     },
     "execution_count": 123,
     "metadata": {},
     "output_type": "execute_result"
    }
   ],
   "execution_count": 123
  },
  {
   "cell_type": "code",
   "source": [
    "jump([2,3,0,1,4])"
   ],
   "metadata": {
    "collapsed": false,
    "ExecuteTime": {
     "end_time": "2024-06-15T20:03:28.662222Z",
     "start_time": "2024-06-15T20:03:28.654930Z"
    }
   },
   "outputs": [
    {
     "name": "stdout",
     "output_type": "stream",
     "text": [
      "farthest pos reachable:  0 2\n",
      "     reached current_end:  0 0\n",
      "     jumps:  1\n",
      "     current_end = farthest:  2 2\n",
      "farthest pos reachable:  1 4\n",
      "     --> (2)**reached: break at current_end (n-1):  2\n"
     ]
    },
    {
     "data": {
      "text/plain": [
       "2"
      ]
     },
     "execution_count": 124,
     "metadata": {},
     "output_type": "execute_result"
    }
   ],
   "execution_count": 124
  },
  {
   "cell_type": "code",
   "source": [
    "jump([4,0])"
   ],
   "metadata": {
    "collapsed": false,
    "ExecuteTime": {
     "end_time": "2024-06-15T20:03:35.082368Z",
     "start_time": "2024-06-15T20:03:35.075446Z"
    }
   },
   "outputs": [
    {
     "name": "stdout",
     "output_type": "stream",
     "text": [
      "farthest pos reachable:  0 4\n",
      "     reached current_end:  0 0\n",
      "     jumps:  1\n",
      "     current_end = farthest:  4 4\n",
      "     --> (1)**reached: break at current_end (n-1):  4\n"
     ]
    },
    {
     "data": {
      "text/plain": [
       "1"
      ]
     },
     "execution_count": 125,
     "metadata": {},
     "output_type": "execute_result"
    }
   ],
   "execution_count": 125
  },
  {
   "metadata": {},
   "cell_type": "code",
   "outputs": [],
   "execution_count": 73,
   "source": [
    "def jump_wrong(nums):\n",
    "    n = len(nums)\n",
    "    if n == 1:\n",
    "        return 0\n",
    "    elif nums[0] >= n-1:\n",
    "        return 1\n",
    "\n",
    "    memo = {}\n",
    "    dp(memo, nums, n-1)\n",
    "    print(memo)\n",
    "    jumps = 0\n",
    "    for idx in memo:\n",
    "        print(idx, memo[idx])\n",
    "        jumps += 1\n",
    "        if memo[idx] >= n-1 :\n",
    "            return jumps\n",
    "\n",
    "def dp(memo, nums, i):\n",
    "    if i == 0:\n",
    "        memo[0] = nums[0]\n",
    "        return memo[0]\n",
    "\n",
    "    if i not in memo:\n",
    "        memo[i] = nums[i] + dp(memo,nums, i-1)\n",
    "\n",
    "        print(\" memo[{}] = nums[{}] + dp(memo,nums, {})     = {}\".format(i, i, i-1, memo[i]) )\n",
    "        print(\"      {}      +      {}      =     {}\".format(nums[i], dp(memo,nums, i-1), memo[i]))\n",
    "\n",
    "    return memo[i]"
   ]
  }
 ],
 "metadata": {
  "kernelspec": {
   "display_name": "Python 3",
   "language": "python",
   "name": "python3"
  },
  "language_info": {
   "codemirror_mode": {
    "name": "ipython",
    "version": 2
   },
   "file_extension": ".py",
   "mimetype": "text/x-python",
   "name": "python",
   "nbconvert_exporter": "python",
   "pygments_lexer": "ipython2",
   "version": "2.7.6"
  }
 },
 "nbformat": 4,
 "nbformat_minor": 0
}
