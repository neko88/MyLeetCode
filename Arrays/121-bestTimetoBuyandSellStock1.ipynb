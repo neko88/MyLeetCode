{
 "cells": [
  {
   "metadata": {},
   "cell_type": "markdown",
   "source": [
    "```\n",
    "input: array prices of a given stock on the i-th day    -> prices[day] = price\n",
    "    choose the i-th day which maximizes buying a stock and \n",
    "    another i-th day to sell the stock\n",
    "output: the max profit from the chosen transaction,\n",
    "    if no profit can be achieved, return \n",
    "\n",
    "- buy must occur before selling so:\n",
    "    i_buy < i_sell\n",
    "```"
   ],
   "id": "37853772a9604974"
  },
  {
   "metadata": {},
   "cell_type": "markdown",
   "source": [
    "```\n",
    "Example 1:\n",
    "    Input: prices = [7,1,5,3,6,4]\n",
    "    Output: 5\n",
    "    Explanation: Buy on day 2 (price = 1) and sell on day 5 (price = 6), profit = 6-1 = 5.\n",
    "    Note that buying on day 2 and selling on day 1 is not allowed because you must buy before you sell.\n",
    "\n",
    "Example 2:\n",
    "    Input: prices = [7,6,4,3,1]\n",
    "    Output: 0\n",
    "    Explanation: In this case, no transactions are done and the max profit = 0.\n",
    "```"
   ],
   "id": "84c872c929ce95f5"
  },
  {
   "metadata": {},
   "cell_type": "markdown",
   "source": [
    "```\n",
    "Approach:\n",
    "1. initialize variables:\n",
    "    - buy: the minimized value\n",
    "    - sell: the maximized value\n",
    "    - profit: the difference\n",
    "2. iterate through prices, start from [1]\n",
    "3. update 'buy' if prices[i] < prices[i-1]  current price < current buying price\n",
    "4. update profit if the new profit is greater than the current profit\n",
    "\n",
    "    - find the max positive difference between consecutive prices in the array\n",
    "```"
   ],
   "id": "876f939930f9f182"
  },
  {
   "metadata": {},
   "cell_type": "markdown",
   "source": [
    "```\n",
    "Dynamic Programming - Kadane's Algorithm\n",
    "    used to find the max subarray sum - in an array of numbers\n",
    "    iterate to update max_current to include current element or\n",
    "    start a new subarray if the current element > accumulated sum\n",
    "\n",
    "        -> max_current: max sum ending at the current position\n",
    "        -> max_global: max subarray sum encountered so far\n",
    "\n",
    "1. initialize:\n",
    "    - max_current, max_global to array[0]   -> since profit is a sum, profit=0\n",
    "2. iterate:\n",
    "    - update max_current based on array[i]'s value, decide if start a new sub array\n",
    "    - update buy when a lower price[i] is encountered\n",
    "    - take different between current price[i] and buy as the potential profit\n",
    "3. compare and update:\n",
    "    - max_current and max_global are updated each iter\n",
    "    - compare and update profit when the positive different between the price[i] and buy exceeds the current value of profit\n",
    "\n",
    "time: O(n)\n",
    "space: O(1)\n",
    "\n",
    "```"
   ],
   "id": "9eadc4fa6de092a"
  },
  {
   "metadata": {
    "ExecuteTime": {
     "end_time": "2024-05-07T22:44:47.304115Z",
     "start_time": "2024-05-07T22:44:47.291391Z"
    }
   },
   "cell_type": "code",
   "source": [
    "def maxProfit(prices):\n",
    "    buy = prices[0]\n",
    "    profit = 0\n",
    "    # iterate the prices array\n",
    "    for i in range(1, len(prices)):\n",
    "        \n",
    "        # DECIDE: SELL OR BUY?\n",
    "        # BUY DECISION: if the current price is less than our current buy price, update our decision\n",
    "        if prices[i] < buy:\n",
    "            buy = prices[i]\n",
    "        # SELL DECISION: if the current profit is greater than our profit, update it\n",
    "        elif prices[i] - buy > profit:\n",
    "            profit = prices[i] - buy\n",
    "            \n",
    "    return profit"
   ],
   "id": "e1fda89d265df113",
   "outputs": [],
   "execution_count": 1
  }
 ],
 "metadata": {
  "kernelspec": {
   "display_name": "Python 3",
   "language": "python",
   "name": "python3"
  },
  "language_info": {
   "codemirror_mode": {
    "name": "ipython",
    "version": 2
   },
   "file_extension": ".py",
   "mimetype": "text/x-python",
   "name": "python",
   "nbconvert_exporter": "python",
   "pygments_lexer": "ipython2",
   "version": "2.7.6"
  }
 },
 "nbformat": 4,
 "nbformat_minor": 5
}
