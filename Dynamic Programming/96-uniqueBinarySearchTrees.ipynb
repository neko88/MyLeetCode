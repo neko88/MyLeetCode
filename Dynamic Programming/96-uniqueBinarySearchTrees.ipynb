{
 "cells": [
  {
   "metadata": {},
   "cell_type": "markdown",
   "source": [
    "# 96. Unique Binary Search Trees\n",
    "Medium\n",
    "\n",
    "### Given an integer n, return the number of structurally unique BST's (binary search trees) which has exactly n nodes of unique values from 1 to n.\n",
    "\n",
    "```\n",
    "Example 1:\n",
    "    Input: n = 3\n",
    "    Output: 5\n",
    "Example 2:\n",
    "    Input: n = 1\n",
    "    Output: 1\n",
    "Constraints:\n",
    "    1 <= n <= 19\n",
    "```"
   ],
   "id": "bc8502cf578f53e4"
  },
  {
   "metadata": {},
   "cell_type": "markdown",
   "source": [
    "The problem of counting the number of unique Binary Search Trees (BSTs) that can be constructed with `n` nodes is a classic example of a dynamic programming problem. The algorithm to solve this problem leverages the properties of BSTs and the concept of Catalan numbers. Let's break down the algorithm and the intuition behind it.\n",
    "\n",
    "### Intuition\n",
    "\n",
    "1. **Properties of BSTs**:\n",
    "   - A BST is a tree where for each node, all nodes in its left subtree are smaller and all nodes in its right subtree are larger.\n",
    "   - For a BST with root `i`, all numbers from `1` to `i-1` will be in the left subtree, and all numbers from `i+1` to `n` will be in the right subtree.\n",
    "\n",
    "2. **Recursive Structure**:\n",
    "   - The key insight is to recognize that the number of unique BSTs with `n` nodes can be derived from smaller subproblems.\n",
    "   - If we choose a node `i` as the root, the left subtree will have `i-1` nodes and the right subtree will have `n-i` nodes.\n",
    "   - The total number of unique BSTs with `n` nodes, `G(n)`, is the sum of all possible BSTs formed by choosing each node as the root:\n",
    "     \\[\n",
    "     G(n) = \\sum_{i=1}^{n} G(i-1) * G(n-i)\n",
    "     \\]\n",
    "   - Here, `G(i-1)` is the number of unique BSTs that can be formed with `i-1` nodes (left subtree) and `G(n-i)` is the number of unique BSTs that can be formed with `n-i` nodes (right subtree).\n",
    "\n",
    "3. **Base Case**:\n",
    "   - There is exactly one unique BST that can be formed with 0 nodes (an empty tree): `G(0) = 1`.\n",
    "   - There is exactly one unique BST that can be formed with 1 node: `G(1) = 1`.\n",
    "\n",
    "### Algorithm\n",
    "\n",
    "1. **Dynamic Programming Table**:\n",
    "   - We create a table `G` where `G[i]` represents the number of unique BSTs with `i` nodes.\n",
    "\n",
    "2. **Fill the Table**:\n",
    "   - Initialize `G[0] = 1` and `G[1] = 1`.\n",
    "   - Use the recursive formula to fill the table from `G[2]` to `G[n]`:\n",
    "     \\[\n",
    "     G[n] = \\sum_{i=1}^{n} G[i-1] * G[n-i]\n",
    "     \\]\n",
    "\n",
    "### Python Implementation\n",
    "\n",
    "Here's the Python code to implement the above algorithm:\n",
    "\n",
    "```python\n",
    "def numTrees(n: int) -> int:\n",
    "    # Base case: An empty tree or a single node tree\n",
    "    if n == 0 or n == 1:\n",
    "        return 1\n",
    "\n",
    "    # Create a list to store the number of unique BSTs for each number of nodes\n",
    "    G = [0] * (n + 1)\n",
    "    G[0] = 1\n",
    "    G[1] = 1\n",
    "\n",
    "    # Fill the table using the recursive relation\n",
    "    for nodes in range(2, n + 1):\n",
    "        for root in range(1, nodes + 1):\n",
    "            G[nodes] += G[root - 1] * G[nodes - root]\n",
    "\n",
    "    return G[n]\n",
    "\n",
    "# Example usage\n",
    "print(numTrees(3))  # Output: 5\n",
    "```\n",
    "\n",
    "### Explanation\n",
    "\n",
    "- **Initialization**:\n",
    "  - `G[0] = 1` and `G[1] = 1` are set as the base cases.\n",
    "  \n",
    "- **Filling the DP Table**:\n",
    "  - For each number of nodes from 2 to `n`, compute the number of unique BSTs by considering each node as the root.\n",
    "  - For each root `i`, multiply the number of unique BSTs in the left subtree (`G[i-1]`) by the number of unique BSTs in the right subtree (`G[nodes-i]`).\n",
    "  - Sum these products for all possible roots to get `G[nodes]`.\n",
    "\n",
    "This approach ensures that all possible BST configurations are considered, resulting in the correct count of unique BSTs for `n` nodes."
   ],
   "id": "af9130fb3b29d143"
  },
  {
   "metadata": {
    "ExecuteTime": {
     "end_time": "2024-07-10T22:53:25.216959Z",
     "start_time": "2024-07-10T22:53:25.199472Z"
    }
   },
   "cell_type": "code",
   "source": [
    "def numTrees(n):\n",
    "    # Base case: An empty tree or a single node tree\n",
    "    if n == 0 or n == 1:\n",
    "        return 1\n",
    "\n",
    "    # Create a list to store the number of unique BSTs for each number of nodes\n",
    "    G = [0] * (n + 1)\n",
    "    G[0] = 1\n",
    "    G[1] = 1\n",
    "\n",
    "    # Fill the table using the recursive relation\n",
    "    print(\"start dp:\", G)\n",
    "    for nodes in range(2, n + 1):\n",
    "        print(\"\\ncurrent node:\", nodes)\n",
    "        for root in range(1, nodes + 1):\n",
    "            G[nodes] += G[root - 1] * G[nodes - root]\n",
    "            print(\"G[n{}] += G[r{} - 1] * G[n{}] - r{}]     += {} * {}  = {} \".format(nodes, root, nodes, root,G[root-1], G[nodes-root], G[nodes]))\n",
    "\n",
    "    return G[n]\n",
    "\n",
    "# Example usage\n",
    "print(numTrees(3))  # Output: 5\n"
   ],
   "id": "722ac3cab47d0162",
   "outputs": [
    {
     "name": "stdout",
     "output_type": "stream",
     "text": [
      "start dp: [1, 1, 0, 0]\n",
      "\n",
      "current node: 2\n",
      "G[n2] += G[r1 - 1] * G[n2] - r1]     += 1 * 1  = 1 \n",
      "G[n2] += G[r2 - 1] * G[n2] - r2]     += 1 * 1  = 2 \n",
      "\n",
      "current node: 3\n",
      "G[n3] += G[r1 - 1] * G[n3] - r1]     += 1 * 2  = 2 \n",
      "G[n3] += G[r2 - 1] * G[n3] - r2]     += 1 * 1  = 3 \n",
      "G[n3] += G[r3 - 1] * G[n3] - r3]     += 2 * 1  = 5 \n",
      "5\n"
     ]
    }
   ],
   "execution_count": 1
  },
  {
   "metadata": {
    "ExecuteTime": {
     "end_time": "2024-07-10T23:47:09.733392Z",
     "start_time": "2024-07-10T23:47:09.728306Z"
    }
   },
   "cell_type": "code",
   "source": [
    "def numTrees(n):\n",
    "    if n == 0 or n == 1:\n",
    "        return 1\n",
    "    \n",
    "    # initialize dp\n",
    "    G = [0] * (n + 1)\n",
    "    \n",
    "    # base cases\n",
    "    G[0] = 1\n",
    "    G[1] = 1\n",
    "    \n",
    "    # for each node: calculate the # unique BSTs left of node and # unique BSTs right of node.\n",
    "    for node in range(2, n + 1):\n",
    "        for root in range(1, node + 1):\n",
    "            G[node] += G[root - 1] * G[node - root]\n",
    "            \n",
    "    return G[n]\n",
    "    \n",
    "    # return last node for total"
   ],
   "id": "ee9d2fbf7b41ee02",
   "outputs": [],
   "execution_count": 9
  },
  {
   "metadata": {
    "ExecuteTime": {
     "end_time": "2024-07-10T23:47:10.203597Z",
     "start_time": "2024-07-10T23:47:10.197290Z"
    }
   },
   "cell_type": "code",
   "source": "numTrees(3)",
   "id": "43de23a7726015b8",
   "outputs": [
    {
     "data": {
      "text/plain": [
       "5"
      ]
     },
     "execution_count": 10,
     "metadata": {},
     "output_type": "execute_result"
    }
   ],
   "execution_count": 10
  },
  {
   "metadata": {},
   "cell_type": "code",
   "outputs": [],
   "execution_count": null,
   "source": "",
   "id": "fd7d0e51c6cd1831"
  }
 ],
 "metadata": {
  "kernelspec": {
   "display_name": "Python 3",
   "language": "python",
   "name": "python3"
  },
  "language_info": {
   "codemirror_mode": {
    "name": "ipython",
    "version": 2
   },
   "file_extension": ".py",
   "mimetype": "text/x-python",
   "name": "python",
   "nbconvert_exporter": "python",
   "pygments_lexer": "ipython2",
   "version": "2.7.6"
  }
 },
 "nbformat": 4,
 "nbformat_minor": 5
}
