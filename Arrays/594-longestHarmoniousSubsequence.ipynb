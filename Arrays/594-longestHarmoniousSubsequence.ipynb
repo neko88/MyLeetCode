{
 "cells": [
  {
   "cell_type": "markdown",
   "source": [
    "# 594. Longest Harmonious Subsequence\n",
    "Easy\n",
    "\n",
    "We define a harmonious array as an array where the difference between its maximum value and its minimum value is exactly 1.\n",
    "\n",
    "### Given an integer array nums, return the length of its longest harmonious subsequence among all its possible subsequences.\n",
    "\n",
    "A subsequence of array is a sequence that can be derived from the array by deleting some or no elements without changing the order of the remaining elements.\n",
    "\n",
    "\n",
    "\n",
    "Example 1:\n",
    "Input: nums = [1,3,2,2,5,2,3,7]\n",
    "    Output: 5\n",
    "    Explanation: The longest harmonious subsequence is [3,2,2,2,3].\n",
    "\n",
    "Example 2:\n",
    "    Input: nums = [1,2,3,4]\n",
    "    Output: 2\n",
    "\n",
    "Example 3:\n",
    "    Input: nums = [1,1,1,1]\n",
    "    Output: 0\n",
    "\n",
    "Constraints:\n",
    "    1 <= nums.length <= 2 * 104\n",
    "    -109 <= nums[i] <= 109"
   ],
   "metadata": {
    "collapsed": false
   }
  },
  {
   "cell_type": "code",
   "execution_count": 47,
   "outputs": [],
   "source": [
    "from collections import Counter\n",
    "def findLHS(nums):\n",
    "    if not nums or len(nums) <= 1:\n",
    "        return 0\n",
    "\n",
    "    # first count how many occurrences are in the array for each value\n",
    "    harmony = Counter(nums)\n",
    "\n",
    "    # create sets to sift unique numbers\n",
    "    unique_nums = set(nums)\n",
    "    # sort small -> largest\n",
    "    unique_nums = sorted(list(unique_nums))\n",
    "    print(harmony)\n",
    "    print(unique_nums)\n",
    "\n",
    "    largest = 0     # track the current largest length of LHS found\n",
    "    count = 0\n",
    "    for i in range(len(unique_nums)-1):\n",
    "        # calculate the difference if its 1 or not\n",
    "        diff = abs(unique_nums[i] - unique_nums[i+1])\n",
    "        if diff == 1:\n",
    "            # count how many values are in the array that differ by 1 from the map\n",
    "            count = harmony[unique_nums[i]] + harmony[unique_nums[i+1]]\n",
    "        # update the largest\n",
    "        largest = max(largest, count)\n",
    "\n",
    "    return largest"
   ],
   "metadata": {
    "collapsed": false
   }
  },
  {
   "cell_type": "code",
   "execution_count": 48,
   "outputs": [
    {
     "name": "stdout",
     "output_type": "stream",
     "text": [
      "Counter({2: 3, 3: 2, 1: 1, 5: 1, 7: 1})\n",
      "[1, 2, 3, 5, 7]\n",
      "1 2 1\n",
      "2 3 1\n",
      "3 5 2\n",
      "5 7 2\n"
     ]
    },
    {
     "data": {
      "text/plain": "5"
     },
     "execution_count": 48,
     "metadata": {},
     "output_type": "execute_result"
    }
   ],
   "source": [
    "nums = [1,3,2,2,5,2,3,7]\n",
    "findLHS(nums)"
   ],
   "metadata": {
    "collapsed": false
   }
  },
  {
   "cell_type": "code",
   "execution_count": 49,
   "outputs": [
    {
     "name": "stdout",
     "output_type": "stream",
     "text": [
      "Counter({1: 1, 2: 1, 3: 1, 4: 1})\n",
      "[1, 2, 3, 4]\n",
      "1 2 1\n",
      "2 3 1\n",
      "3 4 1\n"
     ]
    },
    {
     "data": {
      "text/plain": "2"
     },
     "execution_count": 49,
     "metadata": {},
     "output_type": "execute_result"
    }
   ],
   "source": [
    "nums = [1,2,3,4]\n",
    "findLHS(nums)"
   ],
   "metadata": {
    "collapsed": false
   }
  },
  {
   "cell_type": "code",
   "execution_count": 50,
   "outputs": [
    {
     "name": "stdout",
     "output_type": "stream",
     "text": [
      "Counter({1: 4})\n",
      "[1]\n"
     ]
    },
    {
     "data": {
      "text/plain": "0"
     },
     "execution_count": 50,
     "metadata": {},
     "output_type": "execute_result"
    }
   ],
   "source": [
    "nums = [1,1,1,1]\n",
    "findLHS(nums)"
   ],
   "metadata": {
    "collapsed": false
   }
  },
  {
   "cell_type": "code",
   "execution_count": 51,
   "outputs": [
    {
     "data": {
      "text/plain": "0"
     },
     "execution_count": 51,
     "metadata": {},
     "output_type": "execute_result"
    }
   ],
   "source": [
    "nums = []\n",
    "findLHS(nums)"
   ],
   "metadata": {
    "collapsed": false
   }
  },
  {
   "cell_type": "code",
   "execution_count": null,
   "outputs": [],
   "source": [],
   "metadata": {
    "collapsed": false
   }
  }
 ],
 "metadata": {
  "kernelspec": {
   "display_name": "Python 3",
   "language": "python",
   "name": "python3"
  },
  "language_info": {
   "codemirror_mode": {
    "name": "ipython",
    "version": 2
   },
   "file_extension": ".py",
   "mimetype": "text/x-python",
   "name": "python",
   "nbconvert_exporter": "python",
   "pygments_lexer": "ipython2",
   "version": "2.7.6"
  }
 },
 "nbformat": 4,
 "nbformat_minor": 0
}
