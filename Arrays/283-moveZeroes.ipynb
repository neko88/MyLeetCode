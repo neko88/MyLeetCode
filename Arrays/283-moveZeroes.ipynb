{
 "cells": [
  {
   "cell_type": "markdown",
   "source": [
    "```\n",
    "input:\n",
    "    nums = int array\n",
    "output:\n",
    "    all 0s moved to the end of the array without re-ordering other values\n",
    "constraints:\n",
    "    must be in place of array\n",
    "```"
   ],
   "metadata": {
    "collapsed": false
   }
  },
  {
   "cell_type": "code",
   "source": [
    "def moveZeros(nums):\n",
    "\n",
    "    # track the number of zeros\n",
    "    snowBall = 0\n",
    "\n",
    "    for i in range(len(nums)):\n",
    "\n",
    "        # increment when 0 is found\n",
    "        if nums[i] == 0:\n",
    "            snowBall += 1\n",
    "\n",
    "        # if not zero, make cur.idx zero and\n",
    "        elif snowBall > 0:\n",
    "            t = nums[i]\n",
    "            print(\"make 0 -> t: \", nums[i])\n",
    "            nums[i] = 0\n",
    "            nums[i-snowBall] = t\n",
    "            print (\"i - snowBall = \", t)\n",
    "            print(nums)\n",
    "    print(nums)"
   ],
   "metadata": {
    "collapsed": false,
    "ExecuteTime": {
     "end_time": "2024-05-24T07:08:38.793983Z",
     "start_time": "2024-05-24T07:08:38.785525Z"
    }
   },
   "outputs": [],
   "execution_count": 10
  },
  {
   "cell_type": "code",
   "source": [
    "arr = [1,0,1]\n",
    "moveZeros(arr)"
   ],
   "metadata": {
    "collapsed": false,
    "ExecuteTime": {
     "end_time": "2024-05-24T07:08:39.024588Z",
     "start_time": "2024-05-24T07:08:39.018872Z"
    }
   },
   "outputs": [
    {
     "name": "stdout",
     "output_type": "stream",
     "text": [
      "make 0 -> t:  1\n",
      "i - snowBall =  1\n",
      "[1, 1, 0]\n",
      "[1, 1, 0]\n"
     ]
    }
   ],
   "execution_count": 11
  },
  {
   "cell_type": "code",
   "execution_count": 12,
   "outputs": [
    {
     "name": "stdout",
     "output_type": "stream",
     "text": [
      "make 0 -> t:  1\n",
      "i - snowBall =  1\n",
      "[1, 0, 0, 3, 12]\n",
      "make 0 -> t:  3\n",
      "i - snowBall =  3\n",
      "[1, 3, 0, 0, 12]\n",
      "make 0 -> t:  12\n",
      "i - snowBall =  12\n",
      "[1, 3, 12, 0, 0]\n",
      "[1, 3, 12, 0, 0]\n"
     ]
    }
   ],
   "source": [
    "nums = [0,1,0,3,12]\n",
    "moveZeros(nums)"
   ],
   "metadata": {
    "collapsed": false
   }
  },
  {
   "cell_type": "code",
   "execution_count": null,
   "outputs": [],
   "source": [],
   "metadata": {
    "collapsed": false
   }
  }
 ],
 "metadata": {
  "kernelspec": {
   "display_name": "Python 3",
   "language": "python",
   "name": "python3"
  },
  "language_info": {
   "codemirror_mode": {
    "name": "ipython",
    "version": 2
   },
   "file_extension": ".py",
   "mimetype": "text/x-python",
   "name": "python",
   "nbconvert_exporter": "python",
   "pygments_lexer": "ipython2",
   "version": "2.7.6"
  }
 },
 "nbformat": 4,
 "nbformat_minor": 0
}
