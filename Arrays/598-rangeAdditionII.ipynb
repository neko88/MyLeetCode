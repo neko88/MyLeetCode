{
 "cells": [
  {
   "metadata": {},
   "cell_type": "markdown",
   "source": [
    "# 598. Range Addition II\n",
    "Easy\n",
    "\n",
    "You are given an m x n matrix M initialized with all 0's and an array of operations ops, where ```ops[i] = [ai, bi]``` means ```M[x][y]``` should be incremented by one for all ```0 <= x < ai and 0 <= y < bi.```\n",
    "\n",
    "### Count and return the number of maximum integers in the matrix after performing all the operations.\n",
    "\n",
    " \n",
    "```\n",
    "Example 1:\n",
    "    Input: m = 3, n = 3, ops = [[2,2],[3,3]]\n",
    "    Output: 4\n",
    "    Explanation: The maximum integer in M is 2, and there are four of it in M. So return 4.\n",
    "Example 2:\n",
    "    Input: m = 3, n = 3, ops = [[2,2],[3,3],[3,3],[3,3],[2,2],[3,3],[3,3],[3,3],[2,2],[3,3],[3,3],[3,3]]\n",
    "    Output: 4\n",
    "Example 3:\n",
    "    Input: m = 3, n = 3, ops = []\n",
    "    Output: 9\n",
    " \n",
    "Constraints:\n",
    "    1 <= m, n <= 4 * 104\n",
    "    0 <= ops.length <= 104\n",
    "    ops[i].length == 2\n",
    "    1 <= ai <= m\n",
    "    1 <= bi <= n"
   ],
   "id": "a27943bb9933a974"
  },
  {
   "metadata": {},
   "cell_type": "markdown",
   "source": [
    "Initialize two variables min_y and min_x to m and n, respectively.\n",
    "\n",
    "Iterate through each sublist in ops and for each sublist:\n",
    "\n",
    "Update min_y to be the minimum of its current value and the first element of the sublist.\n",
    "Update min_x to be the minimum of its current value and the second element of the sublist.\n",
    "Return the product of min_x and min_y, which is the maximum value in the resulting matrix.\n",
    "\n",
    "End of the algorithm."
   ],
   "id": "6da3b381bc0c6783"
  },
  {
   "metadata": {
    "ExecuteTime": {
     "end_time": "2024-06-06T23:07:49.563153Z",
     "start_time": "2024-06-06T23:07:49.557588Z"
    }
   },
   "cell_type": "code",
   "source": [
    "from collections import Counter\n",
    "def maxCount(m, n, ops):\n",
    "    min_y = m\n",
    "    min_x = n\n",
    "    \n",
    "    for y,x in ops:\n",
    "        print(\"y,x: ({}, {}) \".format(y,x))\n",
    "        min_y = min(min_y, y)\n",
    "        min_x = min(min_x, x)\n",
    "        print(\"min_y, min_x: ({}, {})\".format(min_y, min_x))\n",
    "        \n",
    "    return min_x * min_y"
   ],
   "id": "fc8f4d2a8f93b7c0",
   "outputs": [],
   "execution_count": 56
  },
  {
   "metadata": {
    "ExecuteTime": {
     "end_time": "2024-06-06T23:07:50.135093Z",
     "start_time": "2024-06-06T23:07:50.123885Z"
    }
   },
   "cell_type": "code",
   "source": [
    "m = 3\n",
    "n = 3\n",
    "ops = [[2,2],[3,3],[3,3],[3,3],[2,2],[3,3],[3,3],[3,3],[2,2],[3,3],[3,3],[3,3]]\n",
    "maxCount(m, n, ops)\n",
    "\n",
    "# 6 in 18 = 6*3 = 18\n"
   ],
   "id": "3739d78efa2d9693",
   "outputs": [
    {
     "name": "stdout",
     "output_type": "stream",
     "text": [
      "y,x: (2, 2) \n",
      "min_y, min_x: (2, 2)\n",
      "y,x: (3, 3) \n",
      "min_y, min_x: (2, 2)\n",
      "y,x: (3, 3) \n",
      "min_y, min_x: (2, 2)\n",
      "y,x: (3, 3) \n",
      "min_y, min_x: (2, 2)\n",
      "y,x: (2, 2) \n",
      "min_y, min_x: (2, 2)\n",
      "y,x: (3, 3) \n",
      "min_y, min_x: (2, 2)\n",
      "y,x: (3, 3) \n",
      "min_y, min_x: (2, 2)\n",
      "y,x: (3, 3) \n",
      "min_y, min_x: (2, 2)\n",
      "y,x: (2, 2) \n",
      "min_y, min_x: (2, 2)\n",
      "y,x: (3, 3) \n",
      "min_y, min_x: (2, 2)\n",
      "y,x: (3, 3) \n",
      "min_y, min_x: (2, 2)\n",
      "y,x: (3, 3) \n",
      "min_y, min_x: (2, 2)\n"
     ]
    },
    {
     "data": {
      "text/plain": [
       "4"
      ]
     },
     "execution_count": 57,
     "metadata": {},
     "output_type": "execute_result"
    }
   ],
   "execution_count": 57
  },
  {
   "metadata": {
    "ExecuteTime": {
     "end_time": "2024-06-06T22:58:31.951914Z",
     "start_time": "2024-06-06T22:58:31.941921Z"
    }
   },
   "cell_type": "code",
   "source": [
    "m = 3\n",
    "n = 3\n",
    "ops = [[2,2],[2,3],[3,2],[3,3],[2,2],[3,3],[3,3],[3,3],[2,2],[3,3],[3,3],[3,3]]\n",
    "maxCount(m, n, ops)"
   ],
   "id": "7f21eff5834c1481",
   "outputs": [
    {
     "data": {
      "text/plain": [
       "4"
      ]
     },
     "execution_count": 54,
     "metadata": {},
     "output_type": "execute_result"
    }
   ],
   "execution_count": 54
  },
  {
   "metadata": {
    "ExecuteTime": {
     "end_time": "2024-06-06T22:58:32.206541Z",
     "start_time": "2024-06-06T22:58:32.197142Z"
    }
   },
   "cell_type": "code",
   "source": [
    "m = 3\n",
    "n = 3\n",
    "ops = [[2,2],[3,3]]\n",
    "maxCount(m, n, ops)"
   ],
   "id": "45ca8c38873569da",
   "outputs": [
    {
     "data": {
      "text/plain": [
       "4"
      ]
     },
     "execution_count": 55,
     "metadata": {},
     "output_type": "execute_result"
    }
   ],
   "execution_count": 55
  },
  {
   "metadata": {},
   "cell_type": "code",
   "outputs": [],
   "execution_count": null,
   "source": "",
   "id": "27414aa5c5d52239"
  }
 ],
 "metadata": {
  "kernelspec": {
   "display_name": "Python 3",
   "language": "python",
   "name": "python3"
  },
  "language_info": {
   "codemirror_mode": {
    "name": "ipython",
    "version": 2
   },
   "file_extension": ".py",
   "mimetype": "text/x-python",
   "name": "python",
   "nbconvert_exporter": "python",
   "pygments_lexer": "ipython2",
   "version": "2.7.6"
  }
 },
 "nbformat": 4,
 "nbformat_minor": 5
}
