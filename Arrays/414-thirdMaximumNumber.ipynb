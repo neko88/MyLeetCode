{
 "cells": [
  {
   "cell_type": "markdown",
   "source": [
    "# 414. Third Maximum Number\n",
    "Easy\n",
    "\n",
    "### Given an integer array nums, return the third distinct maximum number in this array. If the third maximum does not exist, return the maximum number."
   ],
   "metadata": {
    "collapsed": false
   }
  },
  {
   "cell_type": "markdown",
   "source": [
    "```\n",
    "Example 1:\n",
    "    Input: nums = [3,2,1]\n",
    "    Output: 1\n",
    "Explanation:\n",
    "    The first distinct maximum is 3.\n",
    "    The second distinct maximum is 2.\n",
    "    The third distinct maximum is 1.\n",
    "\n",
    "Example 2:\n",
    "    Input: nums = [1,2]\n",
    "    Output: 2\n",
    "Explanation:\n",
    "    The first distinct maximum is 2.\n",
    "    The second distinct maximum is 1.\n",
    "    The third distinct maximum does not exist, so the maximum (2) is returned instead.\n",
    "\n",
    "Example 3:\n",
    "    Input: nums = [2,2,3,1]\n",
    "    Output: 1\n",
    "\n",
    "Explanation:\n",
    "    The first distinct maximum is 3.\n",
    "    The second distinct maximum is 2 (both 2's are counted together since they have the same value).\n",
    "    The third distinct maximum is 1.\n",
    "\n",
    "\n",
    "Constraints:\n",
    "    1 <= nums.length <= 104\n",
    "    -231 <= nums[i] <= 231 - 1\n",
    "```"
   ],
   "metadata": {
    "collapsed": false
   }
  },
  {
   "cell_type": "code",
   "source": [
    "def thirdNums(nums):\n",
    "    arr = list(set(nums))\n",
    "    if len(arr) < 3:\n",
    "        return max(arr)\n",
    "\n",
    "    arr.sort(reverse=True)\n",
    "    \n",
    "    print(arr[2])\n",
    "    return arr[2]"
   ],
   "metadata": {
    "collapsed": false,
    "ExecuteTime": {
     "end_time": "2024-06-02T00:15:23.496738Z",
     "start_time": "2024-06-02T00:15:23.488782Z"
    }
   },
   "outputs": [],
   "execution_count": 7
  },
  {
   "metadata": {
    "ExecuteTime": {
     "end_time": "2024-06-02T00:15:23.868975Z",
     "start_time": "2024-06-02T00:15:23.858006Z"
    }
   },
   "cell_type": "code",
   "source": [
    "thirdNums([2,2,3,1])"
   ],
   "outputs": [
    {
     "name": "stdout",
     "output_type": "stream",
     "text": [
      "1\n"
     ]
    },
    {
     "data": {
      "text/plain": [
       "1"
      ]
     },
     "execution_count": 8,
     "metadata": {},
     "output_type": "execute_result"
    }
   ],
   "execution_count": 8
  },
  {
   "metadata": {},
   "cell_type": "code",
   "outputs": [],
   "execution_count": null,
   "source": []
  }
 ],
 "metadata": {
  "kernelspec": {
   "display_name": "Python 3",
   "language": "python",
   "name": "python3"
  },
  "language_info": {
   "codemirror_mode": {
    "name": "ipython",
    "version": 2
   },
   "file_extension": ".py",
   "mimetype": "text/x-python",
   "name": "python",
   "nbconvert_exporter": "python",
   "pygments_lexer": "ipython2",
   "version": "2.7.6"
  }
 },
 "nbformat": 4,
 "nbformat_minor": 0
}
