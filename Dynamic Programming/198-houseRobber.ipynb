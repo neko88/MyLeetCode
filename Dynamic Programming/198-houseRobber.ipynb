{
 "cells": [
  {
   "cell_type": "markdown",
   "source": [],
   "metadata": {
    "collapsed": false
   }
  },
  {
   "cell_type": "markdown",
   "source": [
    "# 198. House Robber\n",
    "Medium\n",
    "\n",
    "You are a professional robber planning to rob houses along a street. Each house has a certain amount of money stashed, the only constraint stopping you from robbing each of them is that adjacent houses have security systems connected and it will automatically contact the police if two adjacent houses were broken into on the same night.\n",
    "\n",
    "### Given an integer array nums representing the amount of money of each house, return the maximum amount of money you can rob tonight without alerting the police.\n",
    "\n",
    "\n",
    "```\n",
    "Example 1:\n",
    "    Input: nums = [1,2,3,1]\n",
    "    Output: 4\n",
    "    Explanation: Rob house 1 (money = 1) and then rob house 3 (money = 3).\n",
    "    Total amount you can rob = 1 + 3 = 4.\n",
    "Example 2:\n",
    "    Input: nums = [2,7,9,3,1]\n",
    "    Output: 12\n",
    "    Explanation: Rob house 1 (money = 2), rob house 3 (money = 9) and rob house 5 (money = 1).\n",
    "    Total amount you can rob = 2 + 9 + 1 = 12.\n",
    "Constraints:\n",
    "    1 <= nums.length <= 100\n",
    "    0 <= nums[i] <= 400\n",
    "```"
   ],
   "metadata": {
    "collapsed": false
   }
  },
  {
   "cell_type": "markdown",
   "source": [
    "The House Robber problem is a classic dynamic programming problem that can be summarized as follows:\n",
    "\n",
    "Given an array of non-negative integers representing the amount of money of each house, you are to determine the maximum amount of money you can rob tonight without alerting the police, where adjacent houses have security systems connected, and if two adjacent houses are broken into, the alarm will sound.\n",
    "\n",
    "### Algorithm and Intuition\n",
    "\n",
    "The intuition behind solving this problem is to use dynamic programming to keep track of the maximum amount of money that can be robbed up to each house without triggering the alarm. At each house, you have two options:\n",
    "1. Rob the current house and add its amount to the total from the house before the previous one (since you cannot rob the immediate previous house).\n",
    "2. Skip the current house and carry forward the maximum amount robbed up to the previous house.\n",
    "\n",
    "You can summarize these two options with the following recurrence relation:\n",
    "\n",
    "```\n",
    "dp[i] = max(dp[i-1] , dp[i-2] + house[i])\n",
    "```\n",
    "\n",
    "Where:\n",
    "- `dp[i]` is the maximum amount of money that can be robbed up to house `i`.\n",
    "- `nums[i]` is the amount of money at house `i`.\n",
    "\n",
    "### Steps to Solve the Problem\n",
    "\n",
    "1. **Edge Cases**: Handle the edge cases where there are no houses or just one house.\n",
    "2. **Initialization**: Create a `dp` array to store the maximum amounts and initialize the first few values based on the number of houses.\n",
    "3. **Dynamic Programming Update**: Iterate through the houses and update the `dp` array using the recurrence relation.\n",
    "4. **Result**: The last element in the `dp` array will contain the maximum amount of money that can be robbed.\n",
    "\n",
    "\n",
    "### Explanation\n",
    "\n",
    "1. **Edge Cases**: If the input list `nums` is empty, return 0. If there is only one house, return the amount in that house.\n",
    "2. **Initialization**: The `dp` array is initialized to store the maximum amounts robbed up to each house. `dp[0]` is the amount in the first house, and `dp[1]` is the maximum of the first two houses.\n",
    "3. **Dynamic Programming Update**: From the third house onwards, update the `dp` array using the recurrence relation, which considers either robbing the current house plus the maximum from two houses back, or skipping the current house and taking the maximum from the previous house.\n",
    "4. **Result**: The maximum amount that can be robbed without triggering the alarm is found in `dp[-1]`.\n",
    "\n",
    "This approach ensures that the solution is computed efficiently in O(n) time with O(n) space complexity."
   ],
   "metadata": {
    "collapsed": false
   }
  },
  {
   "metadata": {
    "ExecuteTime": {
     "end_time": "2024-07-20T00:32:31.812836Z",
     "start_time": "2024-07-20T00:32:31.797752Z"
    }
   },
   "cell_type": "code",
   "source": [
    "def rob(nums):\n",
    "    if not nums:\n",
    "        return 0\n",
    "    if len(nums) == 1:\n",
    "        return nums[0]\n",
    "\n",
    "    # Initialize the dp array\n",
    "    dp = [0] * len(nums)\n",
    "    dp[0] = nums[0]\n",
    "    dp[1] = max(nums[0], nums[1])\n",
    "\n",
    "    # Fill in the dp array using the recurrence relation\n",
    "    for i in range(2, len(nums)):\n",
    "        dp[i] = max(nums[i] + dp[i-2], dp[i-1])\n",
    "        print(\"dp[{}] = {}\".format(i, dp[i]))\n",
    "\n",
    "    # The last element of dp contains the result\n",
    "    return dp[-1]\n",
    "\n",
    "# Example usage\n",
    "houses = [2, 7, 9, 3, 1]\n",
    "print(rob(houses))  # Output: 12"
   ],
   "outputs": [
    {
     "name": "stdout",
     "output_type": "stream",
     "text": [
      "dp[2] = 11\n",
      "dp[3] = 11\n",
      "dp[4] = 12\n",
      "12\n"
     ]
    }
   ],
   "execution_count": 1
  }
 ],
 "metadata": {
  "kernelspec": {
   "display_name": "Python 3",
   "language": "python",
   "name": "python3"
  },
  "language_info": {
   "codemirror_mode": {
    "name": "ipython",
    "version": 2
   },
   "file_extension": ".py",
   "mimetype": "text/x-python",
   "name": "python",
   "nbconvert_exporter": "python",
   "pygments_lexer": "ipython2",
   "version": "2.7.6"
  }
 },
 "nbformat": 4,
 "nbformat_minor": 0
}
