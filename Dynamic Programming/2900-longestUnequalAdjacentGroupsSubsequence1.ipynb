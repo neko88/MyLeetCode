{
 "cells": [
  {
   "cell_type": "markdown",
   "source": [
    "# 2900. Longest Unequal Adjacent Groups Subsequence I\n",
    "Easy\n",
    "\n",
    "You are given a string array words and a binary array groups both of length n, where words[i] is associated with groups[i].\n",
    "\n",
    "Your task is to select the longest alternating subsequence from words.\n",
    "A subsequence of words is alternating if for any two consecutive strings in the sequence, their corresponding elements in the binary array groups differ.\n",
    "Essentially, you are to choose strings such that adjacent elements have non-matching corresponding bits in the groups array.\n",
    "\n",
    "```\n",
    "Formally, you need to find the longest subsequence of an array of\n",
    "indices [0, 1, ..., n - 1] denoted as [i0, i1, ..., ik-1],\n",
    "such that groups[ij] != groups[ij+1] for each 0 <= j < k - 1\n",
    "and then find the words corresponding to these indices.\n",
    "```\n",
    "\n",
    "### Return the selected subsequence. If there are multiple answers, return any of them.\n",
    "\n",
    "Note: The elements in words are distinct.\n",
    "\n",
    "\n",
    "```\n",
    "Example 1:\n",
    "\n",
    "    Input: words = [\"e\",\"a\",\"b\"], groups = [0,0,1]\n",
    "\n",
    "    Output: [\"e\",\"b\"]\n",
    "\n",
    "    Explanation: A subsequence that can be selected is [\"e\",\"b\"]\n",
    "    because groups[0] != groups[2]. Another subsequence that can be selected\n",
    "    is [\"a\",\"b\"] because groups[1] != groups[2].\n",
    "    It can be demonstrated that the length of the longest\n",
    "    subsequence of indices that satisfies the condition is 2.\n",
    "\n",
    "Example 2:\n",
    "\n",
    "    Input: words = [\"a\",\"b\",\"c\",\"d\"], groups = [1,0,1,1]\n",
    "\n",
    "    Output: [\"a\",\"b\",\"c\"]\n",
    "\n",
    "    Explanation: A subsequence that can be selected is [\"a\",\"b\",\"c\"]\n",
    "    because groups[0] != groups[1] and groups[1] != groups[2].\n",
    "    Another subsequence that can be selected is [\"a\",\"b\",\"d\"] because groups[0] != groups[1]\n",
    "    and groups[1] != groups[3]. It can be shown that\n",
    "    the length of the longest subsequence of indices that satisfies the condition is 3.\n",
    "\n",
    "\n",
    "Constraints:\n",
    "    1 <= n == words.length == groups.length <= 100\n",
    "    1 <= words[i].length <= 10\n",
    "    groups[i] is either 0 or 1.\n",
    "    words consists of distinct strings.\n",
    "    words[i] consists of lowercase English letters.\n",
    "```"
   ],
   "metadata": {
    "collapsed": false
   }
  },
  {
   "cell_type": "code",
   "execution_count": 37,
   "outputs": [],
   "source": [
    "def getLongestSubsequence(words, groups):\n",
    "    switch = groups[0]\n",
    "    subsequence = []\n",
    "    subsequence.append(words[0])\n",
    "\n",
    "    if len(words) == 1:\n",
    "        return words\n",
    "\n",
    "    for i in range(1, len(words)):\n",
    "        if switch ^ groups[i] == 1:\n",
    "            subsequence.append(words[i])\n",
    "            print(\"switch: {},  subsequence: {}\".format(switch, subsequence))\n",
    "            switch = groups[i]\n",
    "    return subsequence"
   ],
   "metadata": {
    "collapsed": false
   }
  },
  {
   "cell_type": "code",
   "execution_count": 33,
   "outputs": [
    {
     "name": "stdout",
     "output_type": "stream",
     "text": [
      "switch: 1,  subsequence: ['a', 'b']\n",
      "switch: 0,  subsequence: ['a', 'b', 'c']\n"
     ]
    }
   ],
   "source": [
    "words = [\"a\",\"b\",\"c\",\"d\"]\n",
    "groups = [1,0,1,1]\n",
    "getLongestSubsequence(words, groups)"
   ],
   "metadata": {
    "collapsed": false
   }
  },
  {
   "cell_type": "code",
   "execution_count": 39,
   "outputs": [
    {
     "name": "stdout",
     "output_type": "stream",
     "text": [
      "switch: 0,  subsequence: ['e', 'a']\n"
     ]
    },
    {
     "data": {
      "text/plain": "['e', 'a']"
     },
     "execution_count": 39,
     "metadata": {},
     "output_type": "execute_result"
    }
   ],
   "source": [
    "words = [\"e\",\"a\"]\n",
    "groups = [0,1]\n",
    "getLongestSubsequence(words, groups)"
   ],
   "metadata": {
    "collapsed": false
   }
  },
  {
   "cell_type": "code",
   "execution_count": null,
   "outputs": [],
   "source": [],
   "metadata": {
    "collapsed": false
   }
  }
 ],
 "metadata": {
  "kernelspec": {
   "display_name": "Python 3",
   "language": "python",
   "name": "python3"
  },
  "language_info": {
   "codemirror_mode": {
    "name": "ipython",
    "version": 2
   },
   "file_extension": ".py",
   "mimetype": "text/x-python",
   "name": "python",
   "nbconvert_exporter": "python",
   "pygments_lexer": "ipython2",
   "version": "2.7.6"
  }
 },
 "nbformat": 4,
 "nbformat_minor": 0
}
