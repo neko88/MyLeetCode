{
 "cells": [
  {
   "cell_type": "markdown",
   "source": [
    "# 55. Jump Game\n",
    "Medium\n",
    "\n",
    "### You are given an integer array nums. You are initially positioned at the array's first index, and each element in the array represents your maximum jump length at that position.\n",
    "\n",
    "Return true if you can reach the last index, or false otherwise.\n",
    "\n",
    "\n",
    "```\n",
    "Example 1:\n",
    "    Input: nums = [2,3,1,1,4]\n",
    "    Output: true\n",
    "    Explanation: Jump 1 step from index 0 to 1, then 3 steps to the last index.\n",
    "Example 2:\n",
    "    Input: nums = [3,2,1,0,4]\n",
    "    Output: false\n",
    "    Explanation: You will always arrive at index 3 no matter what. Its maximum jump length is 0, which makes it impossible to reach the last index.\n",
    "\n",
    "Constraints:\n",
    "    1 <= nums.length <= 104\n",
    "    0 <= nums[i] <= 105\n",
    "```"
   ],
   "metadata": {
    "collapsed": false
   }
  },
  {
   "metadata": {},
   "cell_type": "markdown",
   "source": [
    "The jump problem is a common problem that can be found in coding interviews and algorithm exercises. It's also known as the \"jump game.\" The problem is typically stated as follows:\n",
    "\n",
    "**Problem Statement:**\n",
    "You are given an array of non-negative integers `nums` where each element represents the maximum number of steps you can jump forward from that position. Your goal is to determine if you can reach the last index starting from the first index.\n",
    "\n",
    "### Example\n",
    "```python\n",
    "nums = [2, 3, 1, 1, 4]\n",
    "```\n",
    "In this example, you can start at index 0 and jump to index 1 (since `nums[0] = 2`), then jump from index 1 to index 4 (since `nums[1] = 3`). Thus, you can reach the last index.\n",
    "\n",
    "### Backward Iteration Approach\n",
    "The backward iteration approach is a way to solve the jump problem by starting from the end of the array and moving towards the beginning. The key idea is to keep track of the leftmost position that can reach the end of the array. \n",
    "\n",
    "Here's the step-by-step breakdown of the backward iteration approach:\n",
    "\n",
    "1. Initialize a variable `goal` to the last index of the array.\n",
    "2. Iterate through the array from the second last element to the first element (backward).\n",
    "3. For each element, check if you can jump from the current position to the `goal` or beyond.\n",
    "4. If you can, update the `goal` to the current position.\n",
    "5. After the iteration, check if the `goal` is equal to 0. If it is, return `True` (you can reach the end); otherwise, return `False`.\n",
    "\n",
    "### Python Implementation\n",
    "\n",
    "Here is the Python implementation of the backward iteration approach:\n",
    "\n",
    "```python\n",
    "def canJump(nums):\n",
    "    # Set the initial goal to the last index\n",
    "    goal = len(nums) - 1\n",
    "    \n",
    "    # Iterate backwards from the second last element to the first element\n",
    "    for i in range(len(nums) - 2, -1, -1):\n",
    "        # Check if the current position can reach the goal or beyond\n",
    "        if i + nums[i] >= goal:\n",
    "            # Update the goal to the current position\n",
    "            goal = i\n",
    "    \n",
    "    # If the goal is 0, we can reach the end\n",
    "    return goal == 0\n",
    "\n",
    "# Example usage\n",
    "nums = [2, 3, 1, 1, 4]\n",
    "print(canJump(nums))  # Output: True\n",
    "\n",
    "nums = [3, 2, 1, 0, 4]\n",
    "print(canJump(nums))  # Output: False\n",
    "```\n",
    "\n",
    "### Explanation\n",
    "1. **Initialization**: Set `goal` to the last index (4 for the first example).\n",
    "2. **Iteration**:\n",
    "   - Start from index 3 (`nums[3] = 1`): `3 + 1 >= 4` → Update `goal` to 3.\n",
    "   - Move to index 2 (`nums[2] = 1`): `2 + 1 < 3` → No update.\n",
    "   - Move to index 1 (`nums[1] = 3`): `1 + 3 >= 3` → Update `goal` to 1.\n",
    "   - Move to index 0 (`nums[0] = 2`): `0 + 2 >= 1` → Update `goal` to 0.\n",
    "3. **Check Goal**: After the iteration, `goal` is 0, so you can reach the last index.\n",
    "\n",
    "By following these steps, you can determine if it's possible to jump to the end of the array using the backward iteration method."
   ]
  },
  {
   "cell_type": "code",
   "execution_count": 69,
   "outputs": [],
   "source": [
    "def canJump(nums):\n",
    "    # set goal to the last idx. of array\n",
    "    goal = len(nums)-1\n",
    "\n",
    "    # iterate backwards\n",
    "    # check if the jump value at i can reach the goal\n",
    "    # if true, update the goal to i for the next backwawrd idx.\n",
    "    for i in range(len(nums)-2, -1, -1):\n",
    "        if (i + nums[i]) >= goal:\n",
    "            goal = i\n",
    "    return goal == 0"
   ],
   "metadata": {
    "collapsed": false
   }
  },
  {
   "cell_type": "code",
   "execution_count": 70,
   "outputs": [
    {
     "data": {
      "text/plain": "True"
     },
     "execution_count": 70,
     "metadata": {},
     "output_type": "execute_result"
    }
   ],
   "source": [
    "nums = [2,3,1,1,4]\n",
    "canJump(nums)"
   ],
   "metadata": {
    "collapsed": false
   }
  },
  {
   "cell_type": "code",
   "execution_count": 71,
   "outputs": [
    {
     "data": {
      "text/plain": "True"
     },
     "execution_count": 71,
     "metadata": {},
     "output_type": "execute_result"
    }
   ],
   "source": [
    "nums = [3,0,8,2,0,0,1]\n",
    "canJump(nums)"
   ],
   "metadata": {
    "collapsed": false
   }
  },
  {
   "cell_type": "code",
   "execution_count": 72,
   "outputs": [
    {
     "data": {
      "text/plain": "False"
     },
     "execution_count": 72,
     "metadata": {},
     "output_type": "execute_result"
    }
   ],
   "source": [
    "nums = [1,0,1,0]\n",
    "canJump(nums)"
   ],
   "metadata": {
    "collapsed": false
   }
  },
  {
   "cell_type": "code",
   "execution_count": null,
   "outputs": [],
   "source": [],
   "metadata": {
    "collapsed": false
   }
  }
 ],
 "metadata": {
  "kernelspec": {
   "display_name": "Python 3",
   "language": "python",
   "name": "python3"
  },
  "language_info": {
   "codemirror_mode": {
    "name": "ipython",
    "version": 2
   },
   "file_extension": ".py",
   "mimetype": "text/x-python",
   "name": "python",
   "nbconvert_exporter": "python",
   "pygments_lexer": "ipython2",
   "version": "2.7.6"
  }
 },
 "nbformat": 4,
 "nbformat_minor": 0
}
