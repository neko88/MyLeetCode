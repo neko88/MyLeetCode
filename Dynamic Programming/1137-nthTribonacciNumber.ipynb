{
 "cells": [
  {
   "metadata": {},
   "cell_type": "markdown",
   "source": [
    "# 1137. N-th Tribonacci Number\n",
    "Easy\n",
    "\n",
    "The Tribonacci sequence Tn is defined as follows: \n",
    "```\n",
    "T0 = 0, \n",
    "T1 = 1, \n",
    "T2 = 1, and \n",
    "Tn+3 = Tn + Tn+1 + Tn+2 for n >= 0.\n",
    "```\n",
    "Given n, return the value of Tn.\n",
    "\n",
    " \n",
    "```\n",
    "Example 1:\n",
    "    Input: n = 4\n",
    "    Output: 4\n",
    "    Explanation:\n",
    "    T_3 = 0 + 1 + 1 = 2\n",
    "    T_4 = 1 + 1 + 2 = 4\n",
    "Example 2:\n",
    "    Input: n = 25\n",
    "    Output: 1389537\n",
    "Constraints:\n",
    "    0 <= n <= 37\n",
    "    The answer is guaranteed to fit within a 32-bit integer, ie. answer <= 2^31 - 1.\n",
    "```"
   ],
   "id": "ad8d94cd16913403"
  },
  {
   "metadata": {
    "ExecuteTime": {
     "end_time": "2024-06-12T23:29:02.432830Z",
     "start_time": "2024-06-12T23:29:02.403924Z"
    }
   },
   "cell_type": "code",
   "source": [
    "def tribonacci(n):\n",
    "    memo = {}\n",
    "    helper(memo, n)\n",
    "    return memo[n]\n",
    "\n",
    "def helper(memo, n):\n",
    "    if n == 0:\n",
    "        return 0\n",
    "    if n == 1 or n == 2:\n",
    "        return 1\n",
    "    \n",
    "    if n not in memo:\n",
    "        memo[n] = helper(memo, n-1) + helper(memo, n-2) + helper(memo, n-3)\n",
    "    \n",
    "    return memo[n]"
   ],
   "id": "6a5650f12fff7c02",
   "outputs": [],
   "execution_count": 2
  },
  {
   "metadata": {
    "ExecuteTime": {
     "end_time": "2024-06-12T23:29:24.432089Z",
     "start_time": "2024-06-12T23:29:24.425308Z"
    }
   },
   "cell_type": "code",
   "source": [
    "tribonacci(25)"
   ],
   "id": "4c75ec8529cca806",
   "outputs": [
    {
     "data": {
      "text/plain": [
       "1389537"
      ]
     },
     "execution_count": 4,
     "metadata": {},
     "output_type": "execute_result"
    }
   ],
   "execution_count": 4
  },
  {
   "metadata": {},
   "cell_type": "code",
   "outputs": [],
   "execution_count": null,
   "source": [],
   "id": "e3ed368657b861c5"
  }
 ],
 "metadata": {
  "kernelspec": {
   "display_name": "Python 3",
   "language": "python",
   "name": "python3"
  },
  "language_info": {
   "codemirror_mode": {
    "name": "ipython",
    "version": 2
   },
   "file_extension": ".py",
   "mimetype": "text/x-python",
   "name": "python",
   "nbconvert_exporter": "python",
   "pygments_lexer": "ipython2",
   "version": "2.7.6"
  }
 },
 "nbformat": 4,
 "nbformat_minor": 5
}
