{
 "cells": [
  {
   "metadata": {},
   "cell_type": "markdown",
   "source": [
    "## 1464. Maximum Product of Two Elements in an Array\n",
    "Easy\n",
    "\n",
    "Hint\n",
    "Given the array of integers nums, you will choose two different indices i and j of that array. \n",
    "\n",
    "### Return the maximum value of ```(nums[i]-1)*(nums[j]-1).```\n"
   ]
  },
  {
   "metadata": {},
   "cell_type": "markdown",
   "source": [
    "```\n",
    "\n",
    "Example 1:\n",
    "    Input: nums = [3,4,5,2]\n",
    "    Output: 12 \n",
    "    Explanation: If you choose the indices i=1 and j=2 (indexed from 0), you will get the maximum value, that is, (nums[1]-1)*(nums[2]-1) = (4-1)*(5-1) = 3*4 = 12\n",
    ". \n",
    "Example 2:\n",
    "    Input: nums = [1,5,4,5]\n",
    "    Output: 16\n",
    "    Explanation: Choosing the indices i=1 and j=3 (indexed from 0), you will get the maximum value of (5-1)*(5-1) = 16.\n",
    "\n",
    "Example 3:\n",
    "    Input: nums = [3,7]\n",
    "    Output: 12\n",
    "\n",
    "Constraints:\n",
    "    2 <= nums.length <= 500\n",
    "    1 <= nums[i] <= 10^3\n",
    "```"
   ]
  },
  {
   "cell_type": "code",
   "source": [
    "    def maxProduct(nums):\n",
    "        \"\"\"\n",
    "        :type nums: List[int]\n",
    "        :rtype: int\n",
    "        \"\"\"\n",
    "\n",
    "        if len(nums) == 2:\n",
    "            return (nums[0]-1) * (nums[1]-1)\n",
    "\n",
    "        # [1. 5, 4, 5]\n",
    "        # curr_max = 1\n",
    "        if len(nums) > 2:\n",
    "            curr_max = nums[0]\n",
    "            max_prod = 0\n",
    "\n",
    "            for i in range (1,len(nums)):\n",
    "                \n",
    "                # update the current max_product if the product is\n",
    "                # larger than the current max_prod\n",
    "                curr_prod = (curr_max-1) * (nums[i]-1)\n",
    "                \n",
    "                if curr_prod > max_prod:\n",
    "                    print(\"nums: \", nums[i])\n",
    "                    print(\"1 current max:\", curr_max)\n",
    "                    \n",
    "                    max_prod = curr_prod\n",
    "                    print(\"1 max product: \", max_prod)\n",
    "                    \n",
    "                # compare the current max val. vs. the current (every) index\n",
    "                curr_max = max(curr_max, nums[i])\n",
    "                print(\"2 current max:\", curr_max)\n",
    "                print(\"2 max product: \", max_prod)\n",
    "\n",
    "        return max_prod"
   ],
   "metadata": {
    "collapsed": false,
    "ExecuteTime": {
     "end_time": "2024-06-01T00:13:51.689621Z",
     "start_time": "2024-06-01T00:13:51.675400Z"
    }
   },
   "outputs": [],
   "execution_count": 1
  },
  {
   "cell_type": "code",
   "source": [
    "print(maxProduct([1,5,4,5]))"
   ],
   "metadata": {
    "collapsed": false,
    "ExecuteTime": {
     "end_time": "2024-06-01T00:14:29.080139Z",
     "start_time": "2024-06-01T00:14:29.074558Z"
    }
   },
   "outputs": [
    {
     "name": "stdout",
     "output_type": "stream",
     "text": [
      "2 current max: 5\n",
      "2 max product:  0\n",
      "nums:  4\n",
      "1 current max: 5\n",
      "1 max product:  12\n",
      "2 current max: 5\n",
      "2 max product:  12\n",
      "nums:  5\n",
      "1 current max: 5\n",
      "1 max product:  16\n",
      "2 current max: 5\n",
      "2 max product:  16\n",
      "16\n"
     ]
    }
   ],
   "execution_count": 2
  },
  {
   "metadata": {
    "ExecuteTime": {
     "end_time": "2024-06-01T00:16:17.910821Z",
     "start_time": "2024-06-01T00:16:17.905358Z"
    }
   },
   "cell_type": "code",
   "source": [
    "print(maxProduct([3,7]))"
   ],
   "outputs": [
    {
     "name": "stdout",
     "output_type": "stream",
     "text": [
      "12\n"
     ]
    }
   ],
   "execution_count": 3
  },
  {
   "cell_type": "markdown",
   "source": [],
   "metadata": {
    "collapsed": false
   }
  },
  {
   "cell_type": "code",
   "execution_count": null,
   "outputs": [],
   "source": [],
   "metadata": {
    "collapsed": false
   }
  }
 ],
 "metadata": {
  "kernelspec": {
   "display_name": "Python 3",
   "language": "python",
   "name": "python3"
  },
  "language_info": {
   "codemirror_mode": {
    "name": "ipython",
    "version": 2
   },
   "file_extension": ".py",
   "mimetype": "text/x-python",
   "name": "python",
   "nbconvert_exporter": "python",
   "pygments_lexer": "ipython2",
   "version": "2.7.6"
  }
 },
 "nbformat": 4,
 "nbformat_minor": 0
}
