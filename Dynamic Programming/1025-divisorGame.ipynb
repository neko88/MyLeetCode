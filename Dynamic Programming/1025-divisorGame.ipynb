{
 "cells": [
  {
   "metadata": {},
   "cell_type": "markdown",
   "source": [
    "# 1025. Divisor Game\n",
    "Easy\n",
    "\n",
    "Alice and Bob take turns playing a game, with Alice starting first.\n",
    "\n",
    "Initially, there is a number n on the chalkboard. On each player's turn, that player makes a move consisting of:\n",
    "\n",
    "### Choosing any x with **0 < x < n and n % x == 0.**\n",
    "### Replacing the number n on the chalkboard with n - x.\n",
    "### Also, if a player cannot make a move, they lose the game.\n",
    "\n",
    "Return true if and only if Alice wins the game, assuming both players play optimally.\n",
    "```\n",
    "Example 1:\n",
    "    Input: n = 2\n",
    "    Output: true\n",
    "    Explanation: Alice chooses 1, and Bob has no more moves.\n",
    "Example 2:\n",
    "    Input: n = 3\n",
    "    Output: false\n",
    "    Explanation: Alice chooses 1, Bob chooses 1, and Alice has no more moves.\n",
    "Constraints:\n",
    "    1 <= n <= 1000\n",
    "```"
   ],
   "id": "e81b2624b6f2513f"
  },
  {
   "metadata": {
    "ExecuteTime": {
     "end_time": "2024-06-12T17:53:03.925631Z",
     "start_time": "2024-06-12T17:53:03.918897Z"
    }
   },
   "cell_type": "code",
   "source": [
    "def divisorGame(n):\n",
    "    if (n & 1 != 0):\n",
    "        return False\n",
    "    return True"
   ],
   "id": "1f1f7673c396e5be",
   "outputs": [],
   "execution_count": 40
  },
  {
   "metadata": {
    "ExecuteTime": {
     "end_time": "2024-06-12T17:53:09.689400Z",
     "start_time": "2024-06-12T17:53:09.681408Z"
    }
   },
   "cell_type": "code",
   "source": [
    "n = 4\n",
    "divisorGame(n)"
   ],
   "id": "261fac89b9166873",
   "outputs": [
    {
     "data": {
      "text/plain": [
       "True"
      ]
     },
     "execution_count": 42,
     "metadata": {},
     "output_type": "execute_result"
    }
   ],
   "execution_count": 42
  }
 ],
 "metadata": {
  "kernelspec": {
   "display_name": "Python 3",
   "language": "python",
   "name": "python3"
  },
  "language_info": {
   "codemirror_mode": {
    "name": "ipython",
    "version": 2
   },
   "file_extension": ".py",
   "mimetype": "text/x-python",
   "name": "python",
   "nbconvert_exporter": "python",
   "pygments_lexer": "ipython2",
   "version": "2.7.6"
  }
 },
 "nbformat": 4,
 "nbformat_minor": 5
}
