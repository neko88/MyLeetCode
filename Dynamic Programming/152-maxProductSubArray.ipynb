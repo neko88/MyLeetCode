{
 "cells": [
  {
   "cell_type": "markdown",
   "source": [
    "# 152. Maximum Product Subarray\n",
    "Medium\n",
    "\n",
    "### Given an integer array nums, find a subarray that has the largest product, and return the product.\n",
    "\n",
    "The test cases are generated so that the answer will fit in a 32-bit integer.\n",
    "\n",
    "```\n",
    "Example 1:\n",
    "    Input: nums = [2,3,-2,4]\n",
    "    Output: 6\n",
    "    Explanation: [2,3] has the largest product 6.\n",
    "Example 2:\n",
    "    Input: nums = [-2,0,-1]\n",
    "    Output: 0\n",
    "    Explanation: The result cannot be 2, because [-2,-1] is not a subarray.\n",
    "Constraints:\n",
    "    1 <= nums.length <= 2 * 104\n",
    "    -10 <= nums[i] <= 10\n",
    "    The product of any prefix or suffix of nums is guaranteed to fit in a 32-bit integer.\n",
    "```"
   ],
   "metadata": {
    "collapsed": false
   }
  },
  {
   "cell_type": "code",
   "execution_count": 52,
   "outputs": [
    {
     "name": "stdout",
     "output_type": "stream",
     "text": [
      "nums[1] = 3\n",
      "     --> new max = 6\n",
      "     == current max found = 6\n",
      "nums[2] = -2\n",
      "     --> curSum = -2\n",
      "     == current max found = 6\n",
      "nums[3] = 4\n",
      "     --> curSum = 4\n",
      "     == current max found = 6\n"
     ]
    }
   ],
   "source": [
    "def maxProduct(nums):\n",
    "    \"\"\"\n",
    "    :type nums: List[int]\n",
    "    :rtype: int\n",
    "    \"\"\"\n",
    "    if not nums:\n",
    "        return 0\n",
    "\n",
    "    n = len(nums)\n",
    "    if n == 1:\n",
    "        return nums[0]\n",
    "\n",
    "    maxProd = nums[0]\n",
    "    curSum = nums[0]\n",
    "\n",
    "    for i in range(1, n):\n",
    "        print(\"nums[{}] = {}\".format(i, nums[i]))\n",
    "\n",
    "        if nums[i] == 0:\n",
    "            print(\"zero\")\n",
    "            curSum = 1\n",
    "\n",
    "        curSum *= nums[i]\n",
    "        if curSum > maxProd:\n",
    "            maxProd = curSum\n",
    "            print(\"     --> new max = {}\".format(maxProd))\n",
    "        else:\n",
    "            curSum = nums[i]\n",
    "            print(\"     --> curSum = {}\".format(curSum))\n",
    "        print(\"     == current max found = {}\".format(maxProd))\n",
    "\n",
    "\n",
    "maxProduct([2,3,-2,4])"
   ],
   "metadata": {
    "collapsed": false
   }
  },
  {
   "cell_type": "code",
   "execution_count": 53,
   "outputs": [
    {
     "name": "stdout",
     "output_type": "stream",
     "text": [
      "nums[1] = 0\n",
      "zero\n",
      "     --> new max = 0\n",
      "     == current max found = 0\n",
      "nums[2] = 1\n",
      "     --> curSum = 1\n",
      "     == current max found = 0\n"
     ]
    }
   ],
   "source": [
    "maxProduct([-2,0,1])"
   ],
   "metadata": {
    "collapsed": false
   }
  },
  {
   "cell_type": "code",
   "execution_count": 54,
   "outputs": [
    {
     "name": "stdout",
     "output_type": "stream",
     "text": [
      "nums[1] = 2\n",
      "     --> curSum = 2\n",
      "     == current max found = 0\n"
     ]
    }
   ],
   "source": [
    "maxProduct([0,2])"
   ],
   "metadata": {
    "collapsed": false
   }
  },
  {
   "cell_type": "code",
   "execution_count": null,
   "outputs": [],
   "source": [],
   "metadata": {
    "collapsed": false
   }
  }
 ],
 "metadata": {
  "kernelspec": {
   "display_name": "Python 3",
   "language": "python",
   "name": "python3"
  },
  "language_info": {
   "codemirror_mode": {
    "name": "ipython",
    "version": 2
   },
   "file_extension": ".py",
   "mimetype": "text/x-python",
   "name": "python",
   "nbconvert_exporter": "python",
   "pygments_lexer": "ipython2",
   "version": "2.7.6"
  }
 },
 "nbformat": 4,
 "nbformat_minor": 0
}
