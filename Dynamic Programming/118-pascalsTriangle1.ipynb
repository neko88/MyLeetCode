{
 "cells": [
  {
   "cell_type": "markdown",
   "source": [
    "# 118. Pascal's Triangle\n",
    "Easy\n",
    "\n",
    "### Given an integer numRows, return the first numRows of Pascal's triangle.\n",
    "\n",
    "In Pascal's triangle, each number is the sum of the two numbers directly above it as shown:\n",
    "\n",
    "```\n",
    "Example 1:\n",
    "    Input: numRows = 5\n",
    "    Output: [[1],[1,1],[1,2,1],[1,3,3,1],[1,4,6,4,1]]\n",
    "Example 2:\n",
    "    Input: numRows = 1\n",
    "    Output: [[1]]\n",
    "\n",
    "Constraints:\n",
    "    1 <= numRows <= 30\n",
    "```"
   ],
   "metadata": {
    "collapsed": false
   }
  },
  {
   "cell_type": "code",
   "execution_count": 87,
   "outputs": [],
   "source": [
    "def generate(numRows):\n",
    "    if numRows == 1:\n",
    "        return [[1]]\n",
    "    memo = {}\n",
    "    result = []\n",
    "    helper(memo, numRows, result)\n",
    "    return result\n",
    "\n",
    "def helper(memo, numRows, result):\n",
    "\n",
    "    if numRows not in memo:\n",
    "        memo[numRows] = []\n",
    "        memo[numRows].append(1)\n",
    "\n",
    "        if numRows == 2:\n",
    "            memo[1] = []\n",
    "            memo[1].append(1)\n",
    "            result.append(memo[1])\n",
    "\n",
    "        for i in range(1, numRows-1):\n",
    "            prev_row = helper(memo, numRows-1,result)\n",
    "            print(\"prev_row: {}     prev_row[{}]: {}   +   prev_row[{}]: {}  = {}\".format(numRows-1,i-1,i,prev_row[i-1], prev_row[i], prev_row[i-1] + prev_row[i]))\n",
    "            memo[numRows].append(prev_row[i-1] + prev_row[i])\n",
    "        print(\"\")\n",
    "        memo[numRows].append(1)\n",
    "        result.append(memo[numRows])\n",
    "\n",
    "    return memo[numRows]\n"
   ],
   "metadata": {
    "collapsed": false
   }
  },
  {
   "cell_type": "code",
   "execution_count": 88,
   "outputs": [
    {
     "name": "stdout",
     "output_type": "stream",
     "text": [
      "\n",
      "prev_row: 2     prev_row[0]: 1   +   prev_row[1]: 1  = 2\n",
      "\n",
      "prev_row: 3     prev_row[0]: 1   +   prev_row[1]: 2  = 3\n",
      "prev_row: 3     prev_row[1]: 2   +   prev_row[2]: 1  = 3\n",
      "\n",
      "prev_row: 4     prev_row[0]: 1   +   prev_row[1]: 3  = 4\n",
      "prev_row: 4     prev_row[1]: 2   +   prev_row[3]: 3  = 6\n",
      "prev_row: 4     prev_row[2]: 3   +   prev_row[3]: 1  = 4\n",
      "\n",
      "prev_row: 5     prev_row[0]: 1   +   prev_row[1]: 4  = 5\n",
      "prev_row: 5     prev_row[1]: 2   +   prev_row[4]: 6  = 10\n",
      "prev_row: 5     prev_row[2]: 3   +   prev_row[6]: 4  = 10\n",
      "prev_row: 5     prev_row[3]: 4   +   prev_row[4]: 1  = 5\n",
      "\n",
      "prev_row: 6     prev_row[0]: 1   +   prev_row[1]: 5  = 6\n",
      "prev_row: 6     prev_row[1]: 2   +   prev_row[5]: 10  = 15\n",
      "prev_row: 6     prev_row[2]: 3   +   prev_row[10]: 10  = 20\n",
      "prev_row: 6     prev_row[3]: 4   +   prev_row[10]: 5  = 15\n",
      "prev_row: 6     prev_row[4]: 5   +   prev_row[5]: 1  = 6\n",
      "\n",
      "prev_row: 7     prev_row[0]: 1   +   prev_row[1]: 6  = 7\n",
      "prev_row: 7     prev_row[1]: 2   +   prev_row[6]: 15  = 21\n",
      "prev_row: 7     prev_row[2]: 3   +   prev_row[15]: 20  = 35\n",
      "prev_row: 7     prev_row[3]: 4   +   prev_row[20]: 15  = 35\n",
      "prev_row: 7     prev_row[4]: 5   +   prev_row[15]: 6  = 21\n",
      "prev_row: 7     prev_row[5]: 6   +   prev_row[6]: 1  = 7\n",
      "\n"
     ]
    },
    {
     "data": {
      "text/plain": "[[1],\n [1, 1],\n [1, 2, 1],\n [1, 3, 3, 1],\n [1, 4, 6, 4, 1],\n [1, 5, 10, 10, 5, 1],\n [1, 6, 15, 20, 15, 6, 1],\n [1, 7, 21, 35, 35, 21, 7, 1]]"
     },
     "execution_count": 88,
     "metadata": {},
     "output_type": "execute_result"
    }
   ],
   "source": [
    "r = 5\n",
    "generate(8)"
   ],
   "metadata": {
    "collapsed": false
   }
  },
  {
   "cell_type": "code",
   "execution_count": 24,
   "outputs": [],
   "source": [],
   "metadata": {
    "collapsed": false
   }
  }
 ],
 "metadata": {
  "kernelspec": {
   "display_name": "Python 3",
   "language": "python",
   "name": "python3"
  },
  "language_info": {
   "codemirror_mode": {
    "name": "ipython",
    "version": 2
   },
   "file_extension": ".py",
   "mimetype": "text/x-python",
   "name": "python",
   "nbconvert_exporter": "python",
   "pygments_lexer": "ipython2",
   "version": "2.7.6"
  }
 },
 "nbformat": 4,
 "nbformat_minor": 0
}
