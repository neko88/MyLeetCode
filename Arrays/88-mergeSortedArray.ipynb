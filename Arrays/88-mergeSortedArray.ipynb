{
 "cells": [
  {
   "metadata": {},
   "cell_type": "markdown",
   "source": [
    "```\n",
    "input:\n",
    "    nums1 - sorted array\n",
    "    nums2 - sorted array\n",
    "    m - length of nums1\n",
    "    n - length of nums2\n",
    "\n",
    "output\n",
    "    merged nums1+nums2 sorted which is sorted inside nums1\n",
    "\n",
    "Constraints:\n",
    "    nums1.length == m + n\n",
    "    nums2.length == n\n",
    "    0 <= m, n <= 200\n",
    "    1 <= m + n <= 200\n",
    "    -109 <= nums1[i], nums2[j] <= 109\n",
    "    runtime: O(m+n)\n",
    "```"
   ],
   "id": "6eda958de92b4c79"
  },
  {
   "metadata": {},
   "cell_type": "markdown",
   "source": [
    "```\n",
    "Example 1:\n",
    "\n",
    "Input: nums1 = [1,2,3,0,0,0], m = 3, nums2 = [2,5,6], n = 3\n",
    "Output: [1,2,2,3,5,6]\n",
    "Explanation: The arrays we are merging are [1,2,3] and [2,5,6].\n",
    "The result of the merge is [1,2,2,3,5,6] with the underlined elements coming from nums1.\n",
    "\n",
    "Example 2:\n",
    "Input: nums1 = [1], m = 1, nums2 = [], n = 0\n",
    "Output: [1]\n",
    "Explanation: The arrays we are merging are [1] and [].\n",
    "The result of the merge is [1].\n",
    "\n",
    "Example 3:\n",
    "Input: nums1 = [0], m = 0, nums2 = [1], n = 1\n",
    "Output: [1]\n",
    "Explanation: The arrays we are merging are [] and [1].\n",
    "The result of the merge is [1].\n",
    "Note that because m = 0, there are no elements in nums1. The 0 is only there to ensure the merge result can fit in nums1.\n",
    "```"
   ],
   "id": "5f61de2389be2be3"
  },
  {
   "metadata": {},
   "cell_type": "markdown",
   "source": [
    "```\n",
    "Since the merged array should be in nums1, nums1 should accomodate space of m+n.\n",
    "```"
   ],
   "id": "7361ded7f61e1bc2"
  },
  {
   "metadata": {},
   "cell_type": "code",
   "outputs": [],
   "execution_count": null,
   "source": [
    "# SOLUTION 1: Using built-in sort()\n",
    "# Time: O( (m+n) * log(m+n) )\n",
    "# Space: O(1)\n",
    "# Simply add all nums2 to nums1 then do a final sort()\n",
    "\n",
    "def mergeSortedArray_sort(nums1, m, nums2, n):\n",
    "    for j in range(n):\n",
    "        nums1[m+j] = nums2[j]\n",
    "    nums1.sort()"
   ],
   "id": "dcc6c60f75eb541e"
  },
  {
   "metadata": {},
   "cell_type": "code",
   "outputs": [],
   "execution_count": null,
   "source": [
    "# SOLUTION 2: Two Pointer\n",
    "'''\n",
    "Time: O(m+n)\n",
    "\n",
    "pointers: \n",
    "    initialize two points to the ends:\n",
    "    i = m-1\n",
    "    j = n-1\n",
    "    k = m+n-1   final nums1 end index; track pos in nums1 to place the larger element\n",
    "\n",
    "iterate backwwards of all nums2, and compare i and j values:\n",
    "    - check that i >= 0 and that nums1[i] >= nums2[j]\n",
    "    - put larger element inside nums1 at pos k, then i-- or j--\n",
    "    - leftovers of nums1 are smaller and in correct places\n",
    "    - if length m < n, then it places the leftover of nums2 at k--\n",
    "'''\n",
    "def mergeSortedArray_pointer(nums1, m, nums2, n):\n",
    "    i = m-1\n",
    "    j = n-1\n",
    "    k = m+n-1\n",
    "    \n",
    "    while j >= 0:\n",
    "        # nums1 is larger\n",
    "        if i>=0 and nums1[i] > nums2[j]:\n",
    "            nums1[k] = nums1[i]\n",
    "            i -= 1\n",
    "            \n",
    "        # nums2 is larger\n",
    "        else:\n",
    "            nums1[k] = nums2[j]\n",
    "            j -= 1\n",
    "            \n",
    "        k -= 1"
   ],
   "id": "5494342763f85a9e"
  }
 ],
 "metadata": {
  "kernelspec": {
   "display_name": "Python 3",
   "language": "python",
   "name": "python3"
  },
  "language_info": {
   "codemirror_mode": {
    "name": "ipython",
    "version": 2
   },
   "file_extension": ".py",
   "mimetype": "text/x-python",
   "name": "python",
   "nbconvert_exporter": "python",
   "pygments_lexer": "ipython2",
   "version": "2.7.6"
  }
 },
 "nbformat": 4,
 "nbformat_minor": 5
}
