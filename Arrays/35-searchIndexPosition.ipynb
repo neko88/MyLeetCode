{
 "cells": [
  {
   "metadata": {},
   "cell_type": "markdown",
   "source": [
    "```\n",
    "Input: \n",
    "    - sorted array of distinct ints\n",
    "    - target value\n",
    "Return:\n",
    "    - index of target\n",
    "    - else: would-be index of target\n",
    "\n",
    "Constraints:\n",
    "    - O(logN) runtime\n",
    "\n",
    "Example 1:\n",
    "Input: nums = [1,3,5,6], target = 5\n",
    "Output: 2\n",
    "\n",
    "Example 2:\n",
    "Input: nums = [1,3,5,6], target = 2\n",
    "Output: 1\n",
    "\n",
    "Example 3:\n",
    "Input: nums = [1,3,5,6], target = 7\n",
    "Output: 4\n",
    "```"
   ],
   "id": "ca17510a13ee98eb"
  },
  {
   "metadata": {},
   "cell_type": "markdown",
   "source": [
    "```\n",
    "Binary Search\n",
    "pointers:\n",
    "    'left': start index\n",
    "    'right': end index\n",
    "loop:\n",
    "    - continue until 'left' > 'right' pointer\n",
    "    - calculate 'mid' // between 'left' and 'right'\n",
    "    - if mid == target, return index\n",
    "    - if mid < target, shift the left window: [mid+1, n]\n",
    "    - if mid > target, shift the right window: [0, mid-1]\n",
    "    - if no target found, exit loop\n",
    "        - return left = correct would-be position of target\n",
    "\n",
    "because binary search reduces to one value, the left position would be the index that the target should be in\n",
    "```"
   ],
   "id": "655fc12d29b6a90c"
  },
  {
   "metadata": {},
   "cell_type": "code",
   "outputs": [],
   "execution_count": null,
   "source": [
    "def searchInsert(nums, target):\n",
    "    left = 0\n",
    "    right = len(nums) - 1\n",
    "    \n",
    "    while left <= right:\n",
    "        # L + (R - L) = R prevents overflow from bounding by the right since L < R\n",
    "        mid = left + (right - left) // 2\n",
    "        \n",
    "        if nums[mid] == target:\n",
    "            return mid\n",
    "        elif nums[mid] < target:\n",
    "            left = mid + 1\n",
    "        else:\n",
    "            right = mid - 1\n",
    "            \n",
    "    return left\n",
    "            "
   ],
   "id": "fe452ccdd4b7348d"
  }
 ],
 "metadata": {
  "kernelspec": {
   "display_name": "Python 3",
   "language": "python",
   "name": "python3"
  },
  "language_info": {
   "codemirror_mode": {
    "name": "ipython",
    "version": 2
   },
   "file_extension": ".py",
   "mimetype": "text/x-python",
   "name": "python",
   "nbconvert_exporter": "python",
   "pygments_lexer": "ipython2",
   "version": "2.7.6"
  }
 },
 "nbformat": 4,
 "nbformat_minor": 5
}
