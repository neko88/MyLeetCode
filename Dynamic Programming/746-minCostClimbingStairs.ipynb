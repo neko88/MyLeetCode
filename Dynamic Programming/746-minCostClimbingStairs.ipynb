{
 "cells": [
  {
   "cell_type": "markdown",
   "source": [
    "# 746. Min Cost Climbing Stairs\n",
    "Easy\n",
    "\n",
    "You are given an integer array cost where cost[i] is the cost of ith step on a staircase. Once you pay the cost, you can either climb one or two steps.\n",
    "\n",
    "You can either start from the step with index 0, or the step with index 1.\n",
    "\n",
    "### Return the minimum cost to reach the top of the floor.\n",
    "\n",
    "```\n",
    "Example 1:\n",
    "    Input: cost = [10,15,20]\n",
    "    Output: 15\n",
    "    Explanation: You will start at index 1.\n",
    "    - Pay 15 and climb two steps to reach the top.\n",
    "    The total cost is 15.\n",
    "\n",
    "Example 2:\n",
    "    Input: cost = [1,100,1,1,1,100,1,1,100,1]\n",
    "    Output: 6\n",
    "    Explanation: You will start at index 0.\n",
    "    - Pay 1 and climb two steps to reach index 2.\n",
    "    - Pay 1 and climb two steps to reach index 4.\n",
    "    - Pay 1 and climb two steps to reach index 6.\n",
    "    - Pay 1 and climb one step to reach index 7.\n",
    "    - Pay 1 and climb two steps to reach index 9.\n",
    "    - Pay 1 and climb one step to reach the top.\n",
    "    The total cost is 6.\n",
    "\n",
    "Constraints:\n",
    "    2 <= cost.length <= 1000\n",
    "    0 <= cost[i] <= 999\n",
    "```"
   ],
   "metadata": {
    "collapsed": false
   }
  },
  {
   "cell_type": "code",
   "execution_count": 63,
   "outputs": [],
   "source": [
    "def minCostClimbingStairs(cost):\n",
    "    n = len(cost)\n",
    "    dp, dp1, dp2 = 0, 0, 0\n",
    "    for i in range(2, n + 1):\n",
    "        oneStep = dp1 + cost[i - 1]\n",
    "        twoStep = dp2 + cost[i - 2]\n",
    "        dp = min(oneStep, twoStep)\n",
    "        dp2 = dp1\n",
    "        dp1 = dp\n",
    "    return dp1\n"
   ],
   "metadata": {
    "collapsed": false
   }
  },
  {
   "cell_type": "code",
   "execution_count": 64,
   "outputs": [
    {
     "data": {
      "text/plain": "1"
     },
     "execution_count": 64,
     "metadata": {},
     "output_type": "execute_result"
    }
   ],
   "source": [
    "cost = [0,0,2,1]\n",
    "minCostClimbingStairs(cost)"
   ],
   "metadata": {
    "collapsed": false
   }
  },
  {
   "cell_type": "code",
   "execution_count": null,
   "outputs": [],
   "source": [
    "cost = [1,100,1,1,1,100,1,1,100,1]\n",
    "minCostClimbingStairs(cost)"
   ],
   "metadata": {
    "collapsed": false
   }
  },
  {
   "cell_type": "code",
   "execution_count": null,
   "outputs": [],
   "source": [
    "cost = [1,100,101]\n",
    "minCostClimbingStairs(cost)"
   ],
   "metadata": {
    "collapsed": false
   }
  },
  {
   "cell_type": "code",
   "execution_count": null,
   "outputs": [],
   "source": [
    "cost = [10,15,20,3,1,33]\n",
    "minCostClimbingStairs(cost)"
   ],
   "metadata": {
    "collapsed": false
   }
  },
  {
   "cell_type": "code",
   "execution_count": null,
   "outputs": [],
   "source": [
    "cost = [0,0,1,1]\n",
    "minCostClimbingStairs(cost)"
   ],
   "metadata": {
    "collapsed": false
   }
  },
  {
   "cell_type": "code",
   "execution_count": null,
   "outputs": [],
   "source": [
    "cost = [0,0,2,1]\n",
    "minCostClimbingStairs(cost)"
   ],
   "metadata": {
    "collapsed": false
   }
  },
  {
   "cell_type": "code",
   "execution_count": null,
   "outputs": [],
   "source": [
    "cost = [0,1,1,0]\n",
    "minCostClimbingStairs(cost)"
   ],
   "metadata": {
    "collapsed": false
   }
  },
  {
   "cell_type": "code",
   "execution_count": null,
   "outputs": [],
   "source": [
    "cost = [0,1,2,2]\n",
    "minCostClimbingStairs(cost)"
   ],
   "metadata": {
    "collapsed": false
   }
  },
  {
   "cell_type": "code",
   "execution_count": null,
   "outputs": [],
   "source": [],
   "metadata": {
    "collapsed": false,
    "pycharm": {
     "is_executing": true
    }
   }
  },
  {
   "cell_type": "code",
   "execution_count": null,
   "outputs": [],
   "source": [],
   "metadata": {
    "collapsed": false
   }
  }
 ],
 "metadata": {
  "kernelspec": {
   "display_name": "Python 3",
   "language": "python",
   "name": "python3"
  },
  "language_info": {
   "codemirror_mode": {
    "name": "ipython",
    "version": 2
   },
   "file_extension": ".py",
   "mimetype": "text/x-python",
   "name": "python",
   "nbconvert_exporter": "python",
   "pygments_lexer": "ipython2",
   "version": "2.7.6"
  }
 },
 "nbformat": 4,
 "nbformat_minor": 0
}
