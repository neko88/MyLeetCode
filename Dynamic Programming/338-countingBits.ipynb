{
 "cells": [
  {
   "metadata": {},
   "cell_type": "markdown",
   "source": [
    "# 338. Counting Bits\n",
    "Easy\n",
    "\n",
    "### Given an integer n, return an array ans of length n + 1 such that for each i (0 <= i <= n), ans[i] is the number of 1's in the binary representation of i.\n",
    "\n",
    "```\n",
    "Example 1:\n",
    "    Input: n = 2\n",
    "    Output: [0,1,1]\n",
    "    Explanation:\n",
    "    0 --> 0\n",
    "    1 --> 1\n",
    "    2 --> 10\n",
    "\n",
    "Example 2:\n",
    "    Input: n = 5\n",
    "    Output: [0,1,1,2,1,2]\n",
    "    Explanation:\n",
    "    0 --> 0\n",
    "    1 --> 1\n",
    "    2 --> 10\n",
    "    3 --> 11\n",
    "    4 --> 100\n",
    "    5 --> 101\n",
    "\n",
    "Constraints:\n",
    "    0 <= n <= 105   \n",
    "\n",
    "Follow up:\n",
    "    It is very easy to come up with a solution with a runtime of O(n log n). Can you do it in linear time O(n) and possibly in a single pass?\n",
    "    Can you do it without using any built-in function (i.e., like __builtin_popcount in C++)?\n",
    "```"
   ],
   "id": "8953d800b1c74000"
  },
  {
   "metadata": {
    "ExecuteTime": {
     "end_time": "2024-06-11T19:15:43.980128Z",
     "start_time": "2024-06-11T19:15:43.972738Z"
    }
   },
   "cell_type": "code",
   "source": [
    "# 2N - even numbers\n",
    "# 2N + 1 - odd numbers\n",
    "# shift  >> 1  divides by floor(i/2)\n",
    "# adding a zero = multiplying i*2       ->   bit.(i)+0\n",
    "# adding a one = odd bit representation ->   bit.(i)+0 + 1\n",
    "def countBits(n):\n",
    "    binary = bin(n)\n",
    "    stripped_binary = binary.lstrip('-0b')\n",
    "    print(\"binary:  \", stripped_binary)\n",
    "    \n",
    "    ans = [0] * (n + 1)\n",
    "    for i in range(1, n + 1):\n",
    "\n",
    "        # shift i by 1 = i//2, get ans[i//2] and add 1 if its odd number\n",
    "        ans[i] = ans[i >> 1] + (i & 1)\n",
    "\n",
    "\n",
    "        binary = bin(i)\n",
    "        stripped_binary = binary.lstrip('-0b')\n",
    "        binary_shift = bin(i>>1)\n",
    "        stripped_binary_shift = binary_shift.lstrip('-0b')\n",
    "        print(\"ans[{}]:  bin: {}   bits: {}    =   i>>1 ans[{}]:     i>>1 bin: {}    i>>1 bits: {}  +  (i&1): {}\".format(\n",
    "            i, stripped_binary, ans[i], i>>1, stripped_binary_shift, ans[i >> 1], (i & 1)))\n",
    "\n",
    "    return ans"
   ],
   "id": "b19b79060c78287a",
   "outputs": [],
   "execution_count": 34
  },
  {
   "metadata": {
    "ExecuteTime": {
     "end_time": "2024-06-11T19:16:39.706647Z",
     "start_time": "2024-06-11T19:16:39.697425Z"
    }
   },
   "cell_type": "code",
   "source": [
    "countBits(10)"
   ],
   "id": "107e8cb884f50a9f",
   "outputs": [
    {
     "name": "stdout",
     "output_type": "stream",
     "text": [
      "binary:   1010\n",
      "ans[1]:  bin: 1   bits: 1    =   i>>1 ans[0]:     i>>1 bin:     i>>1 bits: 0  +  (i&1): 1\n",
      "ans[2]:  bin: 10   bits: 1    =   i>>1 ans[1]:     i>>1 bin: 1    i>>1 bits: 1  +  (i&1): 0\n",
      "ans[3]:  bin: 11   bits: 2    =   i>>1 ans[1]:     i>>1 bin: 1    i>>1 bits: 1  +  (i&1): 1\n",
      "ans[4]:  bin: 100   bits: 1    =   i>>1 ans[2]:     i>>1 bin: 10    i>>1 bits: 1  +  (i&1): 0\n",
      "ans[5]:  bin: 101   bits: 2    =   i>>1 ans[2]:     i>>1 bin: 10    i>>1 bits: 1  +  (i&1): 1\n",
      "ans[6]:  bin: 110   bits: 2    =   i>>1 ans[3]:     i>>1 bin: 11    i>>1 bits: 2  +  (i&1): 0\n",
      "ans[7]:  bin: 111   bits: 3    =   i>>1 ans[3]:     i>>1 bin: 11    i>>1 bits: 2  +  (i&1): 1\n",
      "ans[8]:  bin: 1000   bits: 1    =   i>>1 ans[4]:     i>>1 bin: 100    i>>1 bits: 1  +  (i&1): 0\n",
      "ans[9]:  bin: 1001   bits: 2    =   i>>1 ans[4]:     i>>1 bin: 100    i>>1 bits: 1  +  (i&1): 1\n",
      "ans[10]:  bin: 1010   bits: 2    =   i>>1 ans[5]:     i>>1 bin: 101    i>>1 bits: 2  +  (i&1): 0\n"
     ]
    },
    {
     "data": {
      "text/plain": "[0, 1, 1, 2, 1, 2, 2, 3, 1, 2, 2]"
     },
     "execution_count": 35,
     "metadata": {},
     "output_type": "execute_result"
    }
   ],
   "execution_count": 35
  },
  {
   "metadata": {
    "ExecuteTime": {
     "end_time": "2024-06-11T19:17:25.071212Z",
     "start_time": "2024-06-11T19:17:25.065066Z"
    }
   },
   "cell_type": "code",
   "source": [
    "7 >> 1"
   ],
   "id": "a1ffafad3f9b9531",
   "outputs": [
    {
     "data": {
      "text/plain": "3"
     },
     "execution_count": 17,
     "metadata": {},
     "output_type": "execute_result"
    }
   ],
   "execution_count": 17
  },
  {
   "metadata": {},
   "cell_type": "code",
   "outputs": [],
   "execution_count": 14,
   "source": [
    "def countBits_loop(n):\n",
    "    count = 0\n",
    "    \n",
    "    binary = bin(n)\n",
    "    stripped_binary = binary.lstrip('-0b')\n",
    "    print(stripped_binary)\n",
    "    \n",
    "    while(n):\n",
    "        print(\"n: {}    &   1:       {} \".format(n, n & 1))\n",
    "        count += n & 1\n",
    "        print(\"n: {}    n >>= 1: {}\".format( n, n >> 1) )\n",
    "        n >>= 1\n",
    "    return count"
   ],
   "id": "8d09d2db40f2b76d"
  },
  {
   "metadata": {
    "ExecuteTime": {
     "end_time": "2024-06-11T19:07:38.734937Z",
     "start_time": "2024-06-11T19:07:38.726537Z"
    }
   },
   "cell_type": "code",
   "source": [
    "countBits_loop(4)"
   ],
   "id": "81327818cc4e58b9",
   "outputs": [
    {
     "name": "stdout",
     "output_type": "stream",
     "text": [
      "100\n",
      "n: 4    &   1:       0 \n",
      "n: 4    n >>= 1: 2\n",
      "n: 2    &   1:       0 \n",
      "n: 2    n >>= 1: 1\n",
      "n: 1    &   1:       1 \n",
      "n: 1    n >>= 1: 0\n"
     ]
    },
    {
     "data": {
      "text/plain": [
       "1"
      ]
     },
     "execution_count": 20,
     "metadata": {},
     "output_type": "execute_result"
    }
   ],
   "execution_count": 20
  },
  {
   "metadata": {
    "ExecuteTime": {
     "end_time": "2024-06-11T18:57:55.435223Z",
     "start_time": "2024-06-11T18:57:55.428976Z"
    }
   },
   "cell_type": "code",
   "source": [
    "9 >> 1"
   ],
   "id": "5157ef7ca07326af",
   "outputs": [
    {
     "data": {
      "text/plain": [
       "4"
      ]
     },
     "execution_count": 18,
     "metadata": {},
     "output_type": "execute_result"
    }
   ],
   "execution_count": 18
  },
  {
   "metadata": {
    "ExecuteTime": {
     "end_time": "2024-06-11T19:07:51.510896Z",
     "start_time": "2024-06-11T19:07:51.503376Z"
    }
   },
   "cell_type": "code",
   "source": [
    "4 & 1"
   ],
   "id": "ec9ee536c4834911",
   "outputs": [
    {
     "data": {
      "text/plain": [
       "0"
      ]
     },
     "execution_count": 21,
     "metadata": {},
     "output_type": "execute_result"
    }
   ],
   "execution_count": 21
  },
  {
   "metadata": {},
   "cell_type": "code",
   "outputs": [],
   "execution_count": null,
   "source": [],
   "id": "ef0e658a09d58a3f"
  }
 ],
 "metadata": {
  "kernelspec": {
   "display_name": "Python 3",
   "language": "python",
   "name": "python3"
  },
  "language_info": {
   "codemirror_mode": {
    "name": "ipython",
    "version": 2
   },
   "file_extension": ".py",
   "mimetype": "text/x-python",
   "name": "python",
   "nbconvert_exporter": "python",
   "pygments_lexer": "ipython2",
   "version": "2.7.6"
  }
 },
 "nbformat": 4,
 "nbformat_minor": 5
}
