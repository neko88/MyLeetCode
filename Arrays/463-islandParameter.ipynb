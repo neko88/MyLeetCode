{
 "cells": [
  {
   "metadata": {},
   "cell_type": "markdown",
   "source": [
    "### 463. Island Perimeter\n",
    "Easy\n",
    "\n",
    "### You are given row x col grid representing a map where grid[i][j] = 1 represents land and grid[i][j] = 0 represents water.\n",
    "\n",
    "Grid cells are connected horizontally/vertically (not diagonally). The grid is completely surrounded by water, and there is exactly one island (i.e., one or more connected land cells).\n",
    "\n",
    "The island doesn't have \"lakes\", meaning the water inside isn't connected to the water around the island. One cell is a square with side length 1. The grid is rectangular, width and height don't exceed 100. Determine the perimeter of the island.\n",
    "\n",
    " \n",
    "```\n",
    "Example 1:\n",
    "    Input: grid = [[0,1,0,0],[1,1,1,0],[0,1,0,0],[1,1,0,0]]\n",
    "    Output: 16\n",
    "    Explanation: The perimeter is the 16 yellow stripes in the image above.\n",
    "\n",
    "Example 2:\n",
    "    Input: grid = [[1]]\n",
    "    Output: 4\n",
    "\n",
    "Example 3:\n",
    "    Input: grid = [[1,0]]\n",
    "    Output: 4\n",
    "     \n",
    "Constraints:\n",
    "    row == grid.length\n",
    "    col == grid[i].length\n",
    "    1 <= row, col <= 100\n",
    "    grid[i][j] is 0 or 1.\n",
    "    There is exactly one island in grid\n",
    "```"
   ],
   "id": "47a2d76fbaeb4106"
  },
  {
   "metadata": {},
   "cell_type": "code",
   "outputs": [],
   "execution_count": null,
   "source": [
    "def islandPerimeter(grid):\n",
    "\n",
    "    m = len(grid)\n",
    "    n = len(grid[0])\n",
    "\n",
    "    islands = 0\n",
    "    neighbors = 0\n",
    "\n",
    "    for i in range(m):\n",
    "      for j in range(n):\n",
    "        if grid[i][j] == 1:\n",
    "          islands += 1\n",
    "          if i + 1 < m and grid[i + 1][j] == 1:\n",
    "            neighbors += 1\n",
    "          if j + 1 < n and grid[i][j + 1] == 1:\n",
    "            neighbors += 1\n",
    "\n",
    "    return islands * 4 - neighbors * 2\n",
    "                "
   ],
   "id": "6350ce1f771d5929"
  }
 ],
 "metadata": {
  "kernelspec": {
   "display_name": "Python 3",
   "language": "python",
   "name": "python3"
  },
  "language_info": {
   "codemirror_mode": {
    "name": "ipython",
    "version": 2
   },
   "file_extension": ".py",
   "mimetype": "text/x-python",
   "name": "python",
   "nbconvert_exporter": "python",
   "pygments_lexer": "ipython2",
   "version": "2.7.6"
  }
 },
 "nbformat": 4,
 "nbformat_minor": 5
}
