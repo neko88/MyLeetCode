{
 "cells": [
  {
   "metadata": {},
   "cell_type": "markdown",
   "source": [],
   "id": "2e446e0e549a5ca1"
  },
  {
   "metadata": {},
   "cell_type": "markdown",
   "source": [
    "# 53. Maximum Subarray\n",
    "Medium\n",
    "\n",
    "### Given an integer array nums, find the subarray with the largest sum, and return its sum.\n",
    "\n",
    "```\n",
    "Example 1:\n",
    "    Input: nums = [-2,1,-3,4,-1,2,1,-5,4]\n",
    "    Output: 6\n",
    "    Explanation: The subarray [4,-1,2,1] has the largest sum 6.\n",
    "Example 2:\n",
    "    Input: nums = [1]\n",
    "    Output: 1\n",
    "    Explanation: The subarray [1] has the largest sum 1.\n",
    "Example 3:\n",
    "    Input: nums = [5,4,-1,7,8]\n",
    "    Output: 23\n",
    "    Explanation: The subarray [5,4,-1,7,8] has the largest sum 23.\n",
    "     \n",
    "Constraints:\n",
    "    1 <= nums.length <= 105\n",
    "    -104 <= nums[i] <= 104\n",
    " ```\n",
    "Follow up: If you have figured out the O(n) solution, try coding another solution using the divide and conquer approach, which is more subtle.\n",
    "\n",
    "iterate each element in the array. for the current window, add the current element - if this current sum is greater than the element, continue the window. at the same time, see if the current sum is greater than our max value seen so far, if not, dont change max.\n",
    "if the current window sum including the element is less than the element itself, 'restart' the window by making the current window some = element."
   ],
   "id": "3160e559bd1ff437"
  },
  {
   "metadata": {
    "ExecuteTime": {
     "end_time": "2024-06-15T21:09:14.856775Z",
     "start_time": "2024-06-15T21:09:14.850777Z"
    }
   },
   "cell_type": "code",
   "source": [
    "def maxSubArray(nums):\n",
    "    # initialize vars to first idx\n",
    "    max_sum = nums[0]\n",
    "    curr_sum = nums[0]\n",
    "    \n",
    "    # begin iter. at idx.1\n",
    "    for i in nums[1:]:\n",
    "        print(\"\\n-- value: {}     current_sum: {} --          \".format(i, curr_sum))\n",
    "        p = curr_sum+i\n",
    "        pm = max_sum\n",
    "        curr_sum = max( i , curr_sum + i)\n",
    "        print(\"     curr_sum = max(i,curr_sum+i)           {}  vs. {}   --->   {} \".format(i, p, curr_sum))\n",
    "        max_sum = max(max_sum, curr_sum)\n",
    "        print(\"     max_sum = max(max_sum, curr_sum)        {}  vs. {}  --->   {} \".format(pm, curr_sum, max_sum))\n",
    "    return max_sum"
   ],
   "id": "416ff9bcb89e7473",
   "outputs": [],
   "execution_count": 37
  },
  {
   "metadata": {
    "ExecuteTime": {
     "end_time": "2024-06-15T21:09:15.064558Z",
     "start_time": "2024-06-15T21:09:15.054949Z"
    }
   },
   "cell_type": "code",
   "source": [
    "nums = [-2,1,-3,5,-1,2,1,-5,4]\n",
    "maxSubArray(nums)"
   ],
   "id": "905f79f9ff4b78cd",
   "outputs": [
    {
     "name": "stdout",
     "output_type": "stream",
     "text": [
      "\n",
      "-- value: 1     current_sum: -2 --          \n",
      "     curr_sum = max(i,curr_sum+i)           1  vs. -1   --->   1 \n",
      "     max_sum = max(max_sum, curr_sum)        -2  vs. 1  --->   1 \n",
      "\n",
      "-- value: -3     current_sum: 1 --          \n",
      "     curr_sum = max(i,curr_sum+i)           -3  vs. -2   --->   -2 \n",
      "     max_sum = max(max_sum, curr_sum)        1  vs. -2  --->   1 \n",
      "\n",
      "-- value: 5     current_sum: -2 --          \n",
      "     curr_sum = max(i,curr_sum+i)           5  vs. 3   --->   5 \n",
      "     max_sum = max(max_sum, curr_sum)        1  vs. 5  --->   5 \n",
      "\n",
      "-- value: -1     current_sum: 5 --          \n",
      "     curr_sum = max(i,curr_sum+i)           -1  vs. 4   --->   4 \n",
      "     max_sum = max(max_sum, curr_sum)        5  vs. 4  --->   5 \n",
      "\n",
      "-- value: 2     current_sum: 4 --          \n",
      "     curr_sum = max(i,curr_sum+i)           2  vs. 6   --->   6 \n",
      "     max_sum = max(max_sum, curr_sum)        5  vs. 6  --->   6 \n",
      "\n",
      "-- value: 1     current_sum: 6 --          \n",
      "     curr_sum = max(i,curr_sum+i)           1  vs. 7   --->   7 \n",
      "     max_sum = max(max_sum, curr_sum)        6  vs. 7  --->   7 \n",
      "\n",
      "-- value: -5     current_sum: 7 --          \n",
      "     curr_sum = max(i,curr_sum+i)           -5  vs. 2   --->   2 \n",
      "     max_sum = max(max_sum, curr_sum)        7  vs. 2  --->   7 \n",
      "\n",
      "-- value: 4     current_sum: 2 --          \n",
      "     curr_sum = max(i,curr_sum+i)           4  vs. 6   --->   6 \n",
      "     max_sum = max(max_sum, curr_sum)        7  vs. 6  --->   7 \n"
     ]
    },
    {
     "data": {
      "text/plain": "7"
     },
     "execution_count": 39,
     "metadata": {},
     "output_type": "execute_result"
    }
   ],
   "execution_count": 39
  },
  {
   "metadata": {
    "pycharm": {
     "is_executing": true
    }
   },
   "cell_type": "code",
   "outputs": [],
   "execution_count": null,
   "source": [],
   "id": "9dcb9408c39a5ca8"
  },
  {
   "cell_type": "code",
   "execution_count": 39,
   "outputs": [],
   "source": [],
   "metadata": {
    "collapsed": false
   }
  }
 ],
 "metadata": {
  "kernelspec": {
   "display_name": "Python 3",
   "language": "python",
   "name": "python3"
  },
  "language_info": {
   "codemirror_mode": {
    "name": "ipython",
    "version": 2
   },
   "file_extension": ".py",
   "mimetype": "text/x-python",
   "name": "python",
   "nbconvert_exporter": "python",
   "pygments_lexer": "ipython2",
   "version": "2.7.6"
  }
 },
 "nbformat": 4,
 "nbformat_minor": 5
}
