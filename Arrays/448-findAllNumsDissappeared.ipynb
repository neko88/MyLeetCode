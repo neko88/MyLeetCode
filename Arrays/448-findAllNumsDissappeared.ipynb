{
 "cells": [
  {
   "metadata": {},
   "cell_type": "markdown",
   "source": [
    "# 448. Find All Numbers Disappeared in an Array\n",
    "Easy\n",
    "\n",
    "### Given an array nums of n integers where nums[i] is in the range [1, n], return an array of all the integers in the range [1, n] that do not appear in nums.\n",
    "\n",
    "```\n",
    "Example 1:\n",
    "    Input: nums = [4,3,2,7,8,2,3,1]\n",
    "    Output: [5,6]\n",
    "\n",
    "Example 2:\n",
    "    Input: nums = [1,1]\n",
    "    Output: [2]\n",
    " \n",
    "Constraints:\n",
    "    n == nums.length\n",
    "    1 <= n <= 105\n",
    "    1 <= nums[i] <= n\n",
    " ```\n",
    "\n",
    "Follow up: Could you do it without extra space and in O(n) runtime? You may assume the returned list does not count as extra space"
   ],
   "id": "1fb7dd1d30aee921"
  },
  {
   "metadata": {},
   "cell_type": "code",
   "outputs": [],
   "execution_count": null,
   "source": [
    "def findDisappearedNumbers1(nums):\n",
    "    \n",
    "    set_nums = nums.set()\n",
    "    set_range = set(range(1, len(nums)+1 ))\n",
    "    missing = set_range - set_nums\n",
    "    \n",
    "    return  missing"
   ],
   "id": "2401a8a82daf95f1"
  }
 ],
 "metadata": {
  "kernelspec": {
   "display_name": "Python 3",
   "language": "python",
   "name": "python3"
  },
  "language_info": {
   "codemirror_mode": {
    "name": "ipython",
    "version": 2
   },
   "file_extension": ".py",
   "mimetype": "text/x-python",
   "name": "python",
   "nbconvert_exporter": "python",
   "pygments_lexer": "ipython2",
   "version": "2.7.6"
  }
 },
 "nbformat": 4,
 "nbformat_minor": 5
}
