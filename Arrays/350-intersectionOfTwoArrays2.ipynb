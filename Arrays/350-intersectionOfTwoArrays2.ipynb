{
 "cells": [
  {
   "cell_type": "markdown",
   "source": [
    "# 350. Intersection of Two Arrays II\n",
    "Easy\n",
    "\n",
    "### Given two integer arrays nums1 and nums2, return an array of their intersection. Each element in the result must appear as many times as it shows in both arrays and you may return the result in any order."
   ],
   "metadata": {
    "collapsed": false
   }
  },
  {
   "cell_type": "markdown",
   "source": [
    "```\n",
    "Example 1:\n",
    "    Input: nums1 = [1,2,2,1], nums2 = [2,2]\n",
    "    Output: [2,2]\n",
    "\n",
    "Example 2:\n",
    "    Input: nums1 = [4,9,5], nums2 = [9,4,9,8,4]\n",
    "    Output: [4,9]\n",
    "    Explanation: [9,4] is also accepted.\n",
    "\n",
    "\n",
    "Constraints:\n",
    "    1 <= nums1.length, nums2.length <= 1000\n",
    "    0 <= nums1[i], nums2[i] <= 1000\n",
    "\n",
    "Follow up:\n",
    "    What if the given array is already sorted?\n",
    "    How would you optimize your algorithm?\n",
    "    What if nums1's size is small compared to nums2's size?\n",
    "    Which algorithm is better?\n",
    "    What if elements of nums2 are stored on disk, and the memory is\n",
    "    limited such that you cannot load all elements into the memory at once?\n",
    "```"
   ],
   "metadata": {
    "collapsed": false
   }
  },
  {
   "cell_type": "code",
   "execution_count": 1,
   "outputs": [],
   "source": [
    "def intersection(nums1, nums2):\n",
    "    \"\"\"\n",
    "    :type nums1: List[int]\n",
    "    :type nums2: List[int]\n",
    "    :rtype: List[int]\n",
    "    \"\"\"\n",
    "    nums1.sort()\n",
    "    nums2.sort()\n",
    "    if len(nums1) <= len(nums2):\n",
    "        a = nums1\n",
    "        b = nums2\n",
    "    else:\n",
    "        a = nums2\n",
    "        b = nums1\n",
    "\n",
    "    # iterate over small array, compare each element in larger array\n",
    "    # move over small array only if match is found\n",
    "    intersection = []\n",
    "    i = 0\n",
    "    current = 0\n",
    "    while i < len(a):\n",
    "        if current == len(b):\n",
    "            return intersection\n",
    "        for j in range(current, len(b)):\n",
    "            # if same, append and move i up\n",
    "            if a[i] == b[j]:\n",
    "                intersection.append(a[i])\n",
    "                current = j+1\n",
    "                break\n",
    "        i += 1\n",
    "    return list(intersection)\n"
   ],
   "metadata": {
    "collapsed": false
   }
  },
  {
   "cell_type": "code",
   "execution_count": 2,
   "outputs": [
    {
     "name": "stdout",
     "output_type": "stream",
     "text": [
      "[2, 2]\n"
     ]
    }
   ],
   "source": [
    "numsA1 = [1,2,2,1]\n",
    "numsA2 = [2,2]\n",
    "print(intersection(numsA1, numsA2))"
   ],
   "metadata": {
    "collapsed": false
   }
  },
  {
   "cell_type": "code",
   "execution_count": 4,
   "outputs": [
    {
     "name": "stdout",
     "output_type": "stream",
     "text": [
      "[4, 9]\n"
     ]
    }
   ],
   "source": [
    "numsB1 = [4,9,5]\n",
    "numsB2 = [4,9]\n",
    "print(intersection(numsB1, numsB2))"
   ],
   "metadata": {
    "collapsed": false
   }
  },
  {
   "cell_type": "code",
   "execution_count": null,
   "outputs": [],
   "source": [],
   "metadata": {
    "collapsed": false
   }
  }
 ],
 "metadata": {
  "kernelspec": {
   "display_name": "Python 3",
   "language": "python",
   "name": "python3"
  },
  "language_info": {
   "codemirror_mode": {
    "name": "ipython",
    "version": 2
   },
   "file_extension": ".py",
   "mimetype": "text/x-python",
   "name": "python",
   "nbconvert_exporter": "python",
   "pygments_lexer": "ipython2",
   "version": "2.7.6"
  }
 },
 "nbformat": 4,
 "nbformat_minor": 0
}
