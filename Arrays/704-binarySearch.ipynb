{
 "cells": [
  {
   "metadata": {},
   "cell_type": "markdown",
   "source": [
    "# 704. Binary Search\n",
    "Easy\n",
    "\n",
    "### Given an array of integers nums which is sorted in ascending order, and an integer target, write a function to search target in nums. If target exists, then return its index. Otherwise, return -1.\n",
    "\n",
    "You must write an algorithm with O(log n) runtime complexity.\n",
    "\n",
    "```\n",
    "Example 1:\n",
    "    Input: nums = [-1,0,3,5,9,12], target = 9\n",
    "    Output: 4\n",
    "    Explanation: 9 exists in nums and its index is 4\n",
    "Example 2:\n",
    "    Input: nums = [-1,0,3,5,9,12], target = 2\n",
    "    Output: -1\n",
    "    Explanation: 2 does not exist in nums so return -1\n",
    "Constraints:\n",
    "    1 <= nums.length <= 104\n",
    "    -104 < nums[i], target < 104\n",
    "    All the integers in nums are unique.\n",
    "    nums is sorted in ascending order.\n",
    "```"
   ],
   "id": "14a8659274419eb4"
  },
  {
   "metadata": {
    "ExecuteTime": {
     "end_time": "2024-06-10T18:18:39.816932Z",
     "start_time": "2024-06-10T18:18:39.810126Z"
    }
   },
   "cell_type": "code",
   "source": [
    "def search(nums, target):\n",
    "    \n",
    "    \n",
    "    n = len(nums)\n",
    "    # get the middle index\n",
    "    mid = n // 2\n",
    "    print(\"length, mid = \", n, mid)\n",
    "    start = 0\n",
    "    end = 0\n",
    "    # find if the target is greater or less than the middle index or equal to.\n",
    "    if target < nums[mid]:\n",
    "        print(\"search left\")\n",
    "        start = 0\n",
    "        end = mid\n",
    "    elif target == nums[mid]:\n",
    "        print(\"found in middle\")\n",
    "        return mid\n",
    "    elif target > nums[mid]:\n",
    "        print(\"search right\")\n",
    "        start = mid + 1\n",
    "        end = n\n",
    "        \n",
    "    # search for the target in the left or right side\n",
    "    for i in range(start, end, 1):\n",
    "        print(i)\n",
    "        if nums[i] == target:\n",
    "            print(\"target found at i nums[{}] = {} \".format(i, target))\n",
    "            return i\n",
    "    \n",
    "    # target not found, return -1\n",
    "    return -1\n"
   ],
   "id": "cee7af487ab9e92d",
   "outputs": [],
   "execution_count": 11
  },
  {
   "metadata": {
    "ExecuteTime": {
     "end_time": "2024-06-10T18:18:40.248324Z",
     "start_time": "2024-06-10T18:18:40.237931Z"
    }
   },
   "cell_type": "code",
   "source": [
    "nums = [-1,0,3,5,9,12] \n",
    "target = 9\n",
    "search(nums,target)"
   ],
   "id": "f4737b27e1f5d14d",
   "outputs": [
    {
     "name": "stdout",
     "output_type": "stream",
     "text": [
      "length, mid =  6 3\n",
      "search right\n",
      "4\n",
      "target found at i nums[4] = 9 \n"
     ]
    },
    {
     "data": {
      "text/plain": [
       "4"
      ]
     },
     "execution_count": 12,
     "metadata": {},
     "output_type": "execute_result"
    }
   ],
   "execution_count": 12
  },
  {
   "metadata": {
    "ExecuteTime": {
     "end_time": "2024-06-10T18:18:40.712596Z",
     "start_time": "2024-06-10T18:18:40.704685Z"
    }
   },
   "cell_type": "code",
   "source": [
    "nums = [-1,0,3,5,9,12] \n",
    "target = 2\n",
    "search(nums,target)"
   ],
   "id": "d4c1e66ad047d54",
   "outputs": [
    {
     "name": "stdout",
     "output_type": "stream",
     "text": [
      "length, mid =  6 3\n",
      "search left\n",
      "0\n",
      "1\n",
      "2\n"
     ]
    },
    {
     "data": {
      "text/plain": [
       "-1"
      ]
     },
     "execution_count": 13,
     "metadata": {},
     "output_type": "execute_result"
    }
   ],
   "execution_count": 13
  },
  {
   "metadata": {
    "ExecuteTime": {
     "end_time": "2024-06-10T18:19:06.364837Z",
     "start_time": "2024-06-10T18:19:06.357012Z"
    }
   },
   "cell_type": "code",
   "source": [
    "nums=[2]\n",
    "target=2\n",
    "search(nums,target)"
   ],
   "id": "3a46b97a73152aad",
   "outputs": [
    {
     "name": "stdout",
     "output_type": "stream",
     "text": [
      "length, mid =  1 0\n",
      "found in middle\n"
     ]
    },
    {
     "data": {
      "text/plain": [
       "0"
      ]
     },
     "execution_count": 15,
     "metadata": {},
     "output_type": "execute_result"
    }
   ],
   "execution_count": 15
  },
  {
   "metadata": {},
   "cell_type": "code",
   "outputs": [],
   "execution_count": null,
   "source": "",
   "id": "ea4082206d9b502a"
  }
 ],
 "metadata": {
  "kernelspec": {
   "display_name": "Python 3",
   "language": "python",
   "name": "python3"
  },
  "language_info": {
   "codemirror_mode": {
    "name": "ipython",
    "version": 2
   },
   "file_extension": ".py",
   "mimetype": "text/x-python",
   "name": "python",
   "nbconvert_exporter": "python",
   "pygments_lexer": "ipython2",
   "version": "2.7.6"
  }
 },
 "nbformat": 4,
 "nbformat_minor": 5
}
