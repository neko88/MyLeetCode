{
 "cells": [
  {
   "metadata": {},
   "cell_type": "markdown",
   "source": [
    "```\n",
    "input: int array nums, sorted ascending order\n",
    "output: height-balanced binary search tree\n",
    "\n",
    "Input: nums = [-10,-3,0,5,9]\n",
    "Output: [0,-3,9,-10,null,5]\n",
    "Explanation: [0,-10,5,null,-3,null,9] is also accepted\n",
    "\n",
    "Input: nums = [1,3]\n",
    "Output: [3,1]\n",
    "Explanation: [1,null,3] and [3,1] are both height-balanced BSTs\n",
    "\n",
    "Constraints:\n",
    "1 <= nums.length <= 104\n",
    "-104 <= nums[i] <= 104\n",
    "nums is sorted in a strictly increasing order.\n",
    "```"
   ],
   "id": "1c01d64d5ddbf71e"
  },
  {
   "metadata": {},
   "cell_type": "markdown",
   "source": [
    "'''\n",
    "Height balanced BST:\n",
    "- height of left and right subtree of ANY node differ by not more than 1\n",
    "- the left and right subtree are balanced\n",
    "- any element can be found wwith at most k-jumps with a tree of height k\n",
    "\n",
    "Check the height balance of each node:\n",
    "    - store height balance info of every subtree in the root/parent node of that subtree\n",
    "    - height = longest path from a node to the bottom-most leaf; O(logN)\n",
    "    \n",
    "    height_balance_node = height_right_subtree - height_left_subtree\n",
    "        positive: right st is taller\n",
    "        negative: left st is taller\n",
    "'''"
   ],
   "id": "ed1befe893b45eda"
  },
  {
   "metadata": {},
   "cell_type": "markdown",
   "source": [
    "```\n",
    "If the BST is sorted, then the root node is\n",
    "    root = nums[len(nums)//2]\n",
    "    left_st = nums[ : len(nums)//2]         ie. [0, root]\n",
    "    right_st = nums[ len(nums)//2 + 1 : ]   ie. [root+1, n-1]\n",
    "```"
   ],
   "id": "176001431725dcd6"
  },
  {
   "metadata": {},
   "cell_type": "markdown",
   "source": [
    "https://assets.leetcode.com/users/images/9b668608-b437-47d4-8816-8dfe9dbdd318_1660126464.7137046.png\n",
    "\n",
    "https://media.geeksforgeeks.org/wp-content/uploads/20220519132303/Balancedandunbalanced-660x396.png"
   ],
   "id": "f6a999a58c4bfee8"
  },
  {
   "metadata": {},
   "cell_type": "code",
   "outputs": [],
   "execution_count": null,
   "source": [
    "# Definition for a binary tree node.\n",
    "class TreeNode(object):\n",
    "     def __init__(self, val=0, left=None, right=None):\n",
    "         self.val = val\n",
    "         self.left = left\n",
    "         self.right = right\n",
    "\n",
    "# Recursion on left and right subtrees\n",
    "# Here, nums[:middle] keeps creating a list of size N/2,\n",
    "# making runtime as O(NlogN)\n",
    "def sortedArrayToBST_1(nums):\n",
    "    n = len(nums)\n",
    "    if not n:\n",
    "        return None\n",
    "    \n",
    "    middle = n // 2\n",
    "    left_st = nums[ : middle]       # new arrays created and passed dowm beloww\n",
    "    right_st = nums[middle+1 : ]\n",
    "    \n",
    "    node = TreeNode(val=nums[middle],\n",
    "                    left=sortedArrayToBST_1(left_st),\n",
    "                    right=sortedArrayToBST_1(right_st))\n",
    "    return node\n",
    "\n",
    "'''\n",
    "Since the original function only takes in the array,\n",
    "create a helper function so that the helper method takes the left and right pointer along with the array\n",
    "More efficient since no new arrays are created\n",
    "'''\n",
    "def sortedArrayToBST_2(nums):\n",
    "    return makeBST(nums, 0, len(nums))\n",
    "\n",
    "def makeBST(nums, start, end):\n",
    "    if start >= end:\n",
    "        return None\n",
    "    middle = (start + end) // 2\n",
    "    node = TreeNode(val=nums[middle],\n",
    "                    left=makeBST(nums, start, middle ),\n",
    "                    right=makeBST(nums, middle+1, end))\n",
    "    return node"
   ],
   "id": "d511aa56361ef6aa"
  },
  {
   "metadata": {},
   "cell_type": "markdown",
   "source": "",
   "id": "3885f9db4fe586be"
  }
 ],
 "metadata": {
  "kernelspec": {
   "display_name": "Python 3",
   "language": "python",
   "name": "python3"
  },
  "language_info": {
   "codemirror_mode": {
    "name": "ipython",
    "version": 2
   },
   "file_extension": ".py",
   "mimetype": "text/x-python",
   "name": "python",
   "nbconvert_exporter": "python",
   "pygments_lexer": "ipython2",
   "version": "2.7.6"
  }
 },
 "nbformat": 4,
 "nbformat_minor": 5
}
