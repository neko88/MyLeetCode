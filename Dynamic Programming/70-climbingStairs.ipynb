{
 "cells": [
  {
   "metadata": {},
   "cell_type": "markdown",
   "source": [
    "# 70. Climbing Stairs\n",
    "Easy\n",
    "\n",
    "You are climbing a staircase. It takes n steps to reach the top.\n",
    "\n",
    "### Each time you can either climb 1 or 2 steps. In how many distinct ways can you climb to the top?\n",
    "\n",
    " \n",
    "```\n",
    "Example 1:\n",
    "    Input: n = 2\n",
    "    Output: 2\n",
    "    Explanation: There are two ways to climb to the top.\n",
    "    1. 1 step + 1 step\n",
    "    2. 2 steps\n",
    "    3. \n",
    "Example 2:\n",
    "    Input: n = 3\n",
    "    Output: 3\n",
    "    Explanation: There are three ways to climb to the top.\n",
    "    1. 1 step + 1 step + 1 step\n",
    "    2. 1 step + 2 steps\n",
    "    3. 2 steps + 1 step\n",
    "Constraints:\n",
    "    1 <= n <= 45\n",
    " ```"
   ],
   "id": "9b23db979b0ff1d5"
  },
  {
   "metadata": {},
   "cell_type": "markdown",
   "source": [
    "Intuition:\n",
    "To calculate the number of ways to climb the stairs, we can observe that when we are on the nth stair,\n",
    "we have two options:\n",
    "\n",
    "1. either we climbed one stair from the (n-1)th stair or\n",
    "2. we climbed two stairs from the (n-2)th stair.\n",
    "\n",
    "By leveraging this observation, we can break down the problem into smaller subproblems and apply the concept of the Fibonacci series.\n",
    "The base cases are when we are on the 1st stair (only one way to reach it) and the 2nd stair (two ways to reach it).\n",
    "By summing up the number of ways to reach the (n-1)th and (n-2)th stairs, we can compute the total number of ways to climb the stairs. This allows us to solve the problem efficiently using various dynamic programming techniques such as recursion, memoization, tabulation, or space optimization."
   ],
   "id": "99b6ba302e9a010c"
  },
  {
   "metadata": {
    "ExecuteTime": {
     "end_time": "2024-06-10T18:33:21.872045Z",
     "start_time": "2024-06-10T18:33:21.858334Z"
    }
   },
   "cell_type": "code",
   "source": [
    "def climbStairs_recursion(n, count):\n",
    "    if n == 0 or n == 1:\n",
    "        print(\"n = {}, level = {}\".format(n, count))\n",
    "        return 1\n",
    "\n",
    "    print(\"climbStairs({}, {}) + climbStairs({}, {}) = {}\".format(n-1,count,n-2,count,climbStairs_recursion(n-1, count) + climbStairs_recursion(n-2, count)))\n",
    "    count += 1\n",
    "\n",
    "    return climbStairs_recursion(n-1, count) + climbStairs_recursion(n-2, count)"
   ],
   "id": "5aba3e88608742c1",
   "outputs": [],
   "execution_count": 108
  },
  {
   "cell_type": "code",
   "execution_count": 104,
   "outputs": [],
   "source": [
    "def climbStairs_memo(n):\n",
    "    memo = {}\n",
    "    return helper(n, memo)\n",
    "\n",
    "def helper(n, memo):\n",
    "    if n == 0 or n == 1:\n",
    "        print(\"return 1\")\n",
    "        return 1\n",
    "\n",
    "    if n not in memo:\n",
    "        memo[n] = helper(n-1, memo) + helper(n-2, memo)\n",
    "        print(\"memo[{}] = helper(n-1: {})   +   helper(n-2: {})     =  {}     memo: {}\".format(n, n-1,n-2,memo[n],memo))\n",
    "\n",
    "    return memo[n]"
   ],
   "metadata": {
    "collapsed": false
   }
  },
  {
   "cell_type": "code",
   "execution_count": null,
   "outputs": [],
   "source": [
    "def climbStairs(n):\n",
    "    memo = {}\n",
    "    return helper(n, memo)\n",
    "\n",
    "def helper(n, memo):\n",
    "    if n == 0 or n == 1:\n",
    "        return 1\n",
    "\n",
    "    if n not in memo:\n",
    "        memo[n] = helper(n-1, memo) + helper(n-2, memo)\n",
    "\n",
    "    return memo[n]"
   ],
   "metadata": {
    "collapsed": false
   }
  },
  {
   "cell_type": "code",
   "execution_count": 102,
   "outputs": [],
   "source": [
    " \"\"\"The space-optimized solution further reduces the space complexity by using only two variables (prev and curr) instead of an entire DP table. It initializes prev and curr to 1 since there is only one way to reach the base cases (0 and 1 steps). Then, in each iteration, it updates prev and curr by shifting their values:\n",
    "     [curr] becomes the sum of the previous two values, and\n",
    "     [prev] stores the previous value of curr.\"\"\"\n",
    "def climbStairs_tab(n):\n",
    "    if n == 0 or n == 1:\n",
    "        return 1\n",
    "    prev, curr = 1, 1\n",
    "    for i in range(2, n+1):\n",
    "        print(\"i: {}    prev: {}    curr: {}\".format(i, prev, curr))\n",
    "        temp = curr\n",
    "        print(\"prev + curr = {} + {} = {}\".format(prev, curr, prev+curr))\n",
    "        curr = prev + curr\n",
    "        prev = temp\n",
    "    return curr"
   ],
   "metadata": {
    "collapsed": false
   }
  },
  {
   "cell_type": "code",
   "execution_count": 105,
   "outputs": [
    {
     "name": "stdout",
     "output_type": "stream",
     "text": [
      "i: 2    prev: 1    curr: 1\n",
      "prev + curr = 1 + 1 = 2\n",
      "i: 3    prev: 1    curr: 2\n",
      "prev + curr = 1 + 2 = 3\n",
      "i: 4    prev: 2    curr: 3\n",
      "prev + curr = 2 + 3 = 5\n",
      "i: 5    prev: 3    curr: 5\n",
      "prev + curr = 3 + 5 = 8\n"
     ]
    },
    {
     "data": {
      "text/plain": "8"
     },
     "execution_count": 105,
     "metadata": {},
     "output_type": "execute_result"
    }
   ],
   "source": [
    "climbStairs_tab(5)"
   ],
   "metadata": {
    "collapsed": false
   }
  },
  {
   "cell_type": "code",
   "execution_count": 109,
   "outputs": [
    {
     "name": "stdout",
     "output_type": "stream",
     "text": [
      "n = 1, level = 0\n",
      "n = 0, level = 0\n",
      "climbStairs(1, 0) + climbStairs(0, 0) = 2\n",
      "n = 1, level = 1\n",
      "n = 0, level = 1\n",
      "n = 1, level = 0\n",
      "climbStairs(2, 0) + climbStairs(1, 0) = 3\n",
      "n = 1, level = 1\n",
      "n = 0, level = 1\n",
      "climbStairs(1, 1) + climbStairs(0, 1) = 2\n",
      "n = 1, level = 2\n",
      "n = 0, level = 2\n",
      "n = 1, level = 1\n",
      "n = 1, level = 0\n",
      "n = 0, level = 0\n",
      "climbStairs(1, 0) + climbStairs(0, 0) = 2\n",
      "n = 1, level = 1\n",
      "n = 0, level = 1\n",
      "climbStairs(3, 0) + climbStairs(2, 0) = 5\n",
      "n = 1, level = 1\n",
      "n = 0, level = 1\n",
      "climbStairs(1, 1) + climbStairs(0, 1) = 2\n",
      "n = 1, level = 2\n",
      "n = 0, level = 2\n",
      "n = 1, level = 1\n",
      "climbStairs(2, 1) + climbStairs(1, 1) = 3\n",
      "n = 1, level = 2\n",
      "n = 0, level = 2\n",
      "climbStairs(1, 2) + climbStairs(0, 2) = 2\n",
      "n = 1, level = 3\n",
      "n = 0, level = 3\n",
      "n = 1, level = 2\n",
      "n = 1, level = 1\n",
      "n = 0, level = 1\n",
      "climbStairs(1, 1) + climbStairs(0, 1) = 2\n",
      "n = 1, level = 2\n",
      "n = 0, level = 2\n",
      "n = 1, level = 0\n",
      "n = 0, level = 0\n",
      "climbStairs(1, 0) + climbStairs(0, 0) = 2\n",
      "n = 1, level = 1\n",
      "n = 0, level = 1\n",
      "n = 1, level = 0\n",
      "climbStairs(2, 0) + climbStairs(1, 0) = 3\n",
      "n = 1, level = 1\n",
      "n = 0, level = 1\n",
      "climbStairs(1, 1) + climbStairs(0, 1) = 2\n",
      "n = 1, level = 2\n",
      "n = 0, level = 2\n",
      "n = 1, level = 1\n",
      "climbStairs(4, 0) + climbStairs(3, 0) = 8\n",
      "n = 1, level = 1\n",
      "n = 0, level = 1\n",
      "climbStairs(1, 1) + climbStairs(0, 1) = 2\n",
      "n = 1, level = 2\n",
      "n = 0, level = 2\n",
      "n = 1, level = 1\n",
      "climbStairs(2, 1) + climbStairs(1, 1) = 3\n",
      "n = 1, level = 2\n",
      "n = 0, level = 2\n",
      "climbStairs(1, 2) + climbStairs(0, 2) = 2\n",
      "n = 1, level = 3\n",
      "n = 0, level = 3\n",
      "n = 1, level = 2\n",
      "n = 1, level = 1\n",
      "n = 0, level = 1\n",
      "climbStairs(1, 1) + climbStairs(0, 1) = 2\n",
      "n = 1, level = 2\n",
      "n = 0, level = 2\n",
      "climbStairs(3, 1) + climbStairs(2, 1) = 5\n",
      "n = 1, level = 2\n",
      "n = 0, level = 2\n",
      "climbStairs(1, 2) + climbStairs(0, 2) = 2\n",
      "n = 1, level = 3\n",
      "n = 0, level = 3\n",
      "n = 1, level = 2\n",
      "climbStairs(2, 2) + climbStairs(1, 2) = 3\n",
      "n = 1, level = 3\n",
      "n = 0, level = 3\n",
      "climbStairs(1, 3) + climbStairs(0, 3) = 2\n",
      "n = 1, level = 4\n",
      "n = 0, level = 4\n",
      "n = 1, level = 3\n",
      "n = 1, level = 2\n",
      "n = 0, level = 2\n",
      "climbStairs(1, 2) + climbStairs(0, 2) = 2\n",
      "n = 1, level = 3\n",
      "n = 0, level = 3\n",
      "n = 1, level = 1\n",
      "n = 0, level = 1\n",
      "climbStairs(1, 1) + climbStairs(0, 1) = 2\n",
      "n = 1, level = 2\n",
      "n = 0, level = 2\n",
      "n = 1, level = 1\n",
      "climbStairs(2, 1) + climbStairs(1, 1) = 3\n",
      "n = 1, level = 2\n",
      "n = 0, level = 2\n",
      "climbStairs(1, 2) + climbStairs(0, 2) = 2\n",
      "n = 1, level = 3\n",
      "n = 0, level = 3\n",
      "n = 1, level = 2\n"
     ]
    },
    {
     "data": {
      "text/plain": "8"
     },
     "execution_count": 109,
     "metadata": {},
     "output_type": "execute_result"
    }
   ],
   "source": [
    "climbStairs_recursion(5,0)"
   ],
   "metadata": {
    "collapsed": false
   }
  },
  {
   "cell_type": "code",
   "execution_count": 107,
   "outputs": [
    {
     "name": "stdout",
     "output_type": "stream",
     "text": [
      "return 1\n",
      "return 1\n",
      "memo[2] = helper(n-1: 1)   +   helper(n-2: 0)     =  2     memo: {2: 2}\n",
      "return 1\n",
      "memo[3] = helper(n-1: 2)   +   helper(n-2: 1)     =  3     memo: {2: 2, 3: 3}\n",
      "memo[4] = helper(n-1: 3)   +   helper(n-2: 2)     =  5     memo: {2: 2, 3: 3, 4: 5}\n",
      "memo[5] = helper(n-1: 4)   +   helper(n-2: 3)     =  8     memo: {2: 2, 3: 3, 4: 5, 5: 8}\n"
     ]
    },
    {
     "data": {
      "text/plain": "8"
     },
     "execution_count": 107,
     "metadata": {},
     "output_type": "execute_result"
    }
   ],
   "source": [
    "climbStairs_memo(5)"
   ],
   "metadata": {
    "collapsed": false
   }
  },
  {
   "cell_type": "code",
   "execution_count": null,
   "outputs": [],
   "source": [],
   "metadata": {
    "collapsed": false
   }
  }
 ],
 "metadata": {
  "kernelspec": {
   "display_name": "Python 3",
   "language": "python",
   "name": "python3"
  },
  "language_info": {
   "codemirror_mode": {
    "name": "ipython",
    "version": 2
   },
   "file_extension": ".py",
   "mimetype": "text/x-python",
   "name": "python",
   "nbconvert_exporter": "python",
   "pygments_lexer": "ipython2",
   "version": "2.7.6"
  }
 },
 "nbformat": 4,
 "nbformat_minor": 5
}
