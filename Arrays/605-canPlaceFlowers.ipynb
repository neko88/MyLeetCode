{
 "cells": [
  {
   "cell_type": "markdown",
   "source": [
    "# 605. Can Place Flowers\n",
    "Easy\n",
    "\n",
    "You have a long flowerbed in which some of the plots are planted, and some are not. However, flowers cannot be planted in adjacent plots.\n",
    "\n",
    "### Given an integer array flowerbed containing 0's and 1's, where 0 means empty and 1 means not empty, and an integer n, return true if n new flowers can be planted in the flowerbed without violating the no-adjacent-flowers rule and false otherwise.\n",
    "\n",
    "\n",
    "```\n",
    "Example 1:\n",
    "    Input: flowerbed = [1,0,0,0,1], n = 1\n",
    "    Output: true\n",
    "\n",
    "Example 2:\n",
    "    Input: flowerbed = [1,0,0,0,1], n = 2\n",
    "    Output: false\n",
    "\n",
    "Constraints:\n",
    "    1 <= flowerbed.length <= 2 * 104\n",
    "    flowerbed[i] is 0 or 1.\n",
    "    There are no two adjacent flowers in flowerbed.\n",
    "    0 <= n <= flowerbed.length\n",
    "```"
   ],
   "metadata": {
    "collapsed": false
   }
  },
  {
   "metadata": {},
   "cell_type": "code",
   "outputs": [],
   "execution_count": null,
   "source": [
    "def canPlaceFlowers(flowerbed, n):\n",
    "    if n == 0:\n",
    "        return True\n",
    "    for i in range(len(flowerbed)):\n",
    "        # if pot is empty at the current index AND the prev. pot is empty = possible pot\n",
    "        # AND the current pot is last OR the next pot is empty (esp. for last), then plant & set current to 1.\n",
    "        if (flowerbed[i] == 0 and (i == 0 or flowerbed[i-1] == 0) and \n",
    "                (i == len(flowerbed)-1 or flowerbed[i+1] == 0)):\n",
    "            flowerbed[i] = 1\n",
    "            n -= 1\n",
    "            if n == 0:\n",
    "                return True\n",
    "    return False"
   ]
  },
  {
   "cell_type": "code",
   "source": [
    "def canPlaceFlowers_wrong(flowerbed, n):\n",
    "    if not flowerbed:\n",
    "        return False\n",
    "    if len(flowerbed) == 1:\n",
    "        if flowerbed[0] == 1:\n",
    "            return False\n",
    "        else:\n",
    "            return True\n",
    "    #[1,    0,  1, 0, 0, 0, 1, 0, 0, 0, 0]\n",
    "    #[prev, pot]\n",
    "    prev = flowerbed.pop(0)\n",
    "    zeros = 0\n",
    "    count = 1\n",
    "    while flowerbed:\n",
    "        print(\"-----flowerbed: [{}] -----\".format(count))\n",
    "        count += 1\n",
    "        print(\"prev: \", prev)\n",
    "        pot = flowerbed.pop(0)\n",
    "        print(\"     pot: \", pot)\n",
    "        # check the end case, if 1 is last, another pot can never be planted before it.\n",
    "\n",
    "        if pot == 0 and prev == 0:\n",
    "            zeros += 1\n",
    "            prev = 1\n",
    "            print(\"++++ add\")\n",
    "        elif pot == 0 and prev == 1:\n",
    "            prev = 0\n",
    "            print(\"---> skip\")\n",
    "        else:\n",
    "            prev = 1\n",
    "            print(\"---> skip\")\n",
    "            \n",
    "        if n - zeros == 0:\n",
    "            return True\n",
    "        if len(flowerbed) == 1:\n",
    "            last = flowerbed.pop()\n",
    "            if last == 1:\n",
    "                return False\n",
    "            elif last == 0:\n",
    "                return True\n",
    "\n",
    "    return False\n"
   ],
   "metadata": {
    "collapsed": false,
    "ExecuteTime": {
     "end_time": "2024-06-07T23:45:51.288458Z",
     "start_time": "2024-06-07T23:45:51.279716Z"
    }
   },
   "outputs": [],
   "execution_count": 109
  },
  {
   "cell_type": "code",
   "source": [
    "flowerbed = [1, 0, 1, 0, 0, 0, 1, 0, 0, 0, 0]\n",
    "n = 1\n",
    "canPlaceFlowers(flowerbed, n)"
   ],
   "metadata": {
    "collapsed": false,
    "ExecuteTime": {
     "end_time": "2024-06-07T23:45:51.526280Z",
     "start_time": "2024-06-07T23:45:51.516379Z"
    }
   },
   "outputs": [
    {
     "name": "stdout",
     "output_type": "stream",
     "text": [
      "-----flowerbed: [1] -----\n",
      "prev:  1\n",
      "     pot:  0\n",
      "---> skip\n",
      "-----flowerbed: [2] -----\n",
      "prev:  0\n",
      "     pot:  1\n",
      "---> skip\n",
      "-----flowerbed: [3] -----\n",
      "prev:  1\n",
      "     pot:  0\n",
      "---> skip\n",
      "-----flowerbed: [4] -----\n",
      "prev:  0\n",
      "     pot:  0\n",
      "++++ add\n"
     ]
    },
    {
     "data": {
      "text/plain": [
       "True"
      ]
     },
     "execution_count": 110,
     "metadata": {},
     "output_type": "execute_result"
    }
   ],
   "execution_count": 110
  },
  {
   "metadata": {
    "ExecuteTime": {
     "end_time": "2024-06-07T23:45:51.871029Z",
     "start_time": "2024-06-07T23:45:51.860420Z"
    }
   },
   "cell_type": "code",
   "source": [
    "flowerbed = [1,0,0,0,0,1]\n",
    "n = 2\n",
    "canPlaceFlowers(flowerbed,n)"
   ],
   "outputs": [
    {
     "name": "stdout",
     "output_type": "stream",
     "text": [
      "-----flowerbed: [1] -----\n",
      "prev:  1\n",
      "     pot:  0\n",
      "---> skip\n",
      "-----flowerbed: [2] -----\n",
      "prev:  0\n",
      "     pot:  0\n",
      "++++ add\n",
      "-----flowerbed: [3] -----\n",
      "prev:  1\n",
      "     pot:  0\n",
      "---> skip\n",
      "-----flowerbed: [4] -----\n",
      "prev:  0\n",
      "     pot:  0\n",
      "++++ add\n"
     ]
    },
    {
     "data": {
      "text/plain": [
       "True"
      ]
     },
     "execution_count": 111,
     "metadata": {},
     "output_type": "execute_result"
    }
   ],
   "execution_count": 111
  },
  {
   "metadata": {
    "ExecuteTime": {
     "end_time": "2024-06-07T23:45:52.317264Z",
     "start_time": "2024-06-07T23:45:52.307136Z"
    }
   },
   "cell_type": "code",
   "source": [
    "flowerbed = [0]\n",
    "n = 1\n",
    "canPlaceFlowers(flowerbed,n)"
   ],
   "outputs": [
    {
     "data": {
      "text/plain": [
       "True"
      ]
     },
     "execution_count": 112,
     "metadata": {},
     "output_type": "execute_result"
    }
   ],
   "execution_count": 112
  },
  {
   "metadata": {
    "ExecuteTime": {
     "end_time": "2024-06-07T23:45:52.847318Z",
     "start_time": "2024-06-07T23:45:52.836825Z"
    }
   },
   "cell_type": "code",
   "source": [
    "flowerbed = [0,0,1,0,0]\n",
    "n = 1\n",
    "canPlaceFlowers(flowerbed,n)"
   ],
   "outputs": [
    {
     "name": "stdout",
     "output_type": "stream",
     "text": [
      "-----flowerbed: [1] -----\n",
      "prev:  0\n",
      "     pot:  0\n",
      "++++ add\n"
     ]
    },
    {
     "data": {
      "text/plain": [
       "True"
      ]
     },
     "execution_count": 113,
     "metadata": {},
     "output_type": "execute_result"
    }
   ],
   "execution_count": 113
  },
  {
   "metadata": {
    "ExecuteTime": {
     "end_time": "2024-06-07T23:45:53.529927Z",
     "start_time": "2024-06-07T23:45:53.516841Z"
    }
   },
   "cell_type": "code",
   "source": [
    "flowerbed = [0,0,0,0,1]\n",
    "n = 2\n",
    "canPlaceFlowers(flowerbed,n)"
   ],
   "outputs": [
    {
     "name": "stdout",
     "output_type": "stream",
     "text": [
      "-----flowerbed: [1] -----\n",
      "prev:  0\n",
      "     pot:  0\n",
      "++++ add\n",
      "-----flowerbed: [2] -----\n",
      "prev:  1\n",
      "     pot:  0\n",
      "---> skip\n",
      "-----flowerbed: [3] -----\n",
      "prev:  0\n",
      "     pot:  0\n",
      "++++ add\n"
     ]
    },
    {
     "data": {
      "text/plain": [
       "True"
      ]
     },
     "execution_count": 114,
     "metadata": {},
     "output_type": "execute_result"
    }
   ],
   "execution_count": 114
  },
  {
   "metadata": {},
   "cell_type": "code",
   "outputs": [],
   "execution_count": null,
   "source": []
  }
 ],
 "metadata": {
  "kernelspec": {
   "display_name": "Python 3",
   "language": "python",
   "name": "python3"
  },
  "language_info": {
   "codemirror_mode": {
    "name": "ipython",
    "version": 2
   },
   "file_extension": ".py",
   "mimetype": "text/x-python",
   "name": "python",
   "nbconvert_exporter": "python",
   "pygments_lexer": "ipython2",
   "version": "2.7.6"
  }
 },
 "nbformat": 4,
 "nbformat_minor": 0
}
