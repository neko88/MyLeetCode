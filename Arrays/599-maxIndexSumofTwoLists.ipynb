{
 "cells": [
  {
   "metadata": {},
   "cell_type": "markdown",
   "source": [
    "# 599. Minimum Index Sum of Two Lists\n",
    "Easy\n",
    "\n",
    "Given two arrays of strings list1 and list2, find the common strings with the least index sum.\n",
    "\n",
    "A common string is a string that appeared in both list1 and list2.\n",
    "\n",
    "A common string with the least index sum is a common string such that if it appeared at list1[i] and list2[j] then i + j should be the minimum value among all the other common strings.\n",
    "\n",
    "### Return all the common strings with the least index sum. Return the answer in any order.\n",
    "\n",
    "```\n",
    "Example 1:\n",
    "    Input: list1 = [\"Shogun\",\"Tapioca Express\",\"Burger King\",\"KFC\"], list2 = [\"Piatti\",\"The Grill at Torrey Pines\",\"Hungry Hunter Steakhouse\",\"Shogun\"]\n",
    "    Output: [\"Shogun\"]\n",
    "    Explanation: The only common string is \"Shogun\".\n",
    "\n",
    "Example 2:\n",
    "    Input: list1 = [\"Shogun\",\"Tapioca Express\",\"Burger King\",\"KFC\"], list2 = [\"KFC\",\"Shogun\",\"Burger King\"]\n",
    "    Output: [\"Shogun\"]\n",
    "    Explanation: The common string with the least index sum is \"Shogun\" with index sum = (0 + 1) = 1.\n",
    "\n",
    "Example 3:\n",
    "    Input: list1 = [\"happy\",\"sad\",\"good\"], list2 = [\"sad\",\"happy\",\"good\"]\n",
    "    Output: [\"sad\",\"happy\"]\n",
    "    Explanation: There are three common strings:\n",
    "    \"happy\" with index sum = (0 + 1) = 1.\n",
    "    \"sad\" with index sum = (1 + 0) = 1.\n",
    "    \"good\" with index sum = (2 + 2) = 4.\n",
    "    The strings with the least index sum are \"sad\" and \"happy\".\n",
    "     \n",
    "\n",
    "Constraints:\n",
    "    1 <= list1.length, list2.length <= 1000\n",
    "    1 <= list1[i].length, list2[i].length <= 30\n",
    "    list1[i] and list2[i] consist of spaces ' ' and English letters.\n",
    "    All the strings of list1 are unique.\n",
    "    All the strings of list2 are unique.\n",
    "    There is at least a common string between list1 and list2.\n",
    "```"
   ],
   "id": "a9942cd4fa83ec6f"
  },
  {
   "metadata": {
    "ExecuteTime": {
     "end_time": "2024-06-07T00:39:44.940315Z",
     "start_time": "2024-06-07T00:39:44.926035Z"
    }
   },
   "cell_type": "code",
   "source": [
    "def findRestaurant(list1, list2):\n",
    "\n",
    "    # current minimum index sum\n",
    "    current_min_idx = None\n",
    "    current_min_restaurant = []\n",
    "\n",
    "    result = []\n",
    "    list1_idx = {}\n",
    "    list_sums = {}\n",
    "\n",
    "    # create a dic of string and their index\n",
    "    for i,s in enumerate(list1):\n",
    "        list1_idx[s] = i\n",
    "\n",
    "    # iterate list2 to get the sums with list1_idx\n",
    "    for j,s in enumerate(list2):\n",
    "        if s in list1_idx:\n",
    "            list_sums[s] = j + list1_idx[s]\n",
    "            # initialize current minimums if None\n",
    "            # iterate: if new min.idx found, replace result array and min.idx\n",
    "            if current_min_idx is None or list_sums[s] < current_min_idx:\n",
    "                current_min_restaurant = []\n",
    "                current_min_restaurant.append(s)\n",
    "                current_min_idx = list_sums[s]\n",
    "            # iterate: if equal min.idx found, add string to result array\n",
    "            elif list_sums[s] == current_min_idx:\n",
    "                current_min_restaurant.append(s)\n",
    "\n",
    "    print(\"list1_idx: \", list1_idx)\n",
    "    print(\"list_sums: \", list_sums)\n",
    "    print(\"current_min_restaurant: \", current_min_restaurant)\n"
   ],
   "id": "61d48692f1998143",
   "outputs": [],
   "execution_count": 41
  },
  {
   "cell_type": "code",
   "execution_count": null,
   "outputs": [],
   "source": [
    "    def findRestaurant2(list1, list2):\n",
    "        s = list(set(list1).intersection(set(list2)))\n",
    "        res = []\n",
    "        mn = float('inf')\n",
    "        for i in s:\n",
    "            ss = list1.index(i)+list2.index(i)\n",
    "            if ss<mn:\n",
    "                res = [i]\n",
    "                mn = ss\n",
    "            elif ss == mn:\n",
    "                res.append(i)\n",
    "        return res"
   ],
   "metadata": {
    "collapsed": false
   }
  },
  {
   "metadata": {
    "ExecuteTime": {
     "end_time": "2024-06-07T00:39:46.131919Z",
     "start_time": "2024-06-07T00:39:45.333203Z"
    }
   },
   "cell_type": "code",
   "source": [
    "list1 = [\"Shogun\",\"Tapioca Express\",\"Burger King\",\"KFC\"]\n",
    "list2 = [\"Piatti\",\"The Grill at Torrey Pines\",\"Hungry Hunter Steakhouse\",\"Shogun\"]\n",
    "findRestaurant(list1,list2)"
   ],
   "id": "7d4a8f6803c22896",
   "outputs": [
    {
     "name": "stdout",
     "output_type": "stream",
     "text": [
      "list1_idx:  {'Shogun': 0, 'Tapioca Express': 1, 'Burger King': 2, 'KFC': 3}\n",
      "list_sums:  {'Shogun': 3}\n",
      "current_min_restaurant:  ['Shogun']\n"
     ]
    }
   ],
   "execution_count": 42
  },
  {
   "metadata": {},
   "cell_type": "code",
   "outputs": [
    {
     "name": "stdout",
     "output_type": "stream",
     "text": [
      "list1_idx:  {'Shogun': 0, 'Tapioca Express': 1, 'Burger King': 2, 'KFC': 3}\n",
      "list_sums:  {'KFC': 3, 'Shogun': 1, 'Burger King': 4}\n",
      "current_min_restaurant:  ['Shogun']\n"
     ]
    }
   ],
   "execution_count": 43,
   "source": [
    "list1 = [\"Shogun\",\"Tapioca Express\",\"Burger King\",\"KFC\"]\n",
    "list2 = [\"KFC\",\"Shogun\",\"Burger King\"]\n",
    "findRestaurant(list1,list2)"
   ],
   "id": "13264f8080b1450f"
  },
  {
   "metadata": {},
   "cell_type": "code",
   "outputs": [
    {
     "name": "stdout",
     "output_type": "stream",
     "text": [
      "list1_idx:  {'happy': 0, 'sad': 1, 'good': 2}\n",
      "list_sums:  {'sad': 1, 'happy': 1, 'good': 4}\n",
      "current_min_restaurant:  ['sad', 'happy']\n"
     ]
    }
   ],
   "execution_count": 44,
   "source": [
    "list1 = [\"happy\",\"sad\",\"good\"]\n",
    "list2 = [\"sad\",\"happy\",\"good\"]\n",
    "findRestaurant(list1,list2)"
   ],
   "id": "ba8220c4735688af"
  },
  {
   "cell_type": "code",
   "execution_count": null,
   "outputs": [],
   "source": [],
   "metadata": {
    "collapsed": false,
    "pycharm": {
     "is_executing": true
    }
   }
  }
 ],
 "metadata": {
  "kernelspec": {
   "display_name": "Python 3",
   "language": "python",
   "name": "python3"
  },
  "language_info": {
   "codemirror_mode": {
    "name": "ipython",
    "version": 2
   },
   "file_extension": ".py",
   "mimetype": "text/x-python",
   "name": "python",
   "nbconvert_exporter": "python",
   "pygments_lexer": "ipython2",
   "version": "2.7.6"
  }
 },
 "nbformat": 4,
 "nbformat_minor": 5
}
