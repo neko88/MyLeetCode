{
 "cells": [
  {
   "cell_type": "markdown",
   "source": [
    "# 392. Is Subsequence\n",
    "Easy\n",
    "\n",
    "### Given two strings s and t, return true if s is a subsequence of t, or false otherwise.\n",
    "\n",
    "A subsequence of a string is a new string that is formed from the original string by deleting some (can be none) of the characters without disturbing the relative positions of the remaining characters. (i.e., \"ace\" is a subsequence of \"abcde\" while \"aec\" is not).\n",
    "\n",
    "```\n",
    "Example 1:\n",
    "    Input: s = \"abc\", t = \"ahbgdc\"\n",
    "    Output: true\n",
    "\n",
    "Example 2:\n",
    "    Input: s = \"axc\", t = \"ahbgdc\"\n",
    "    Output: false\n",
    "\n",
    "Constraints:\n",
    "    0 <= s.length <= 100\n",
    "    0 <= t.length <= 104\n",
    "    s and t consist only of lowercase English letters.\n",
    "```"
   ],
   "metadata": {
    "collapsed": false
   }
  },
  {
   "cell_type": "code",
   "execution_count": 26,
   "outputs": [],
   "source": [
    "def isSubsequence(s, t):\n",
    "    if len(s) > len(t):\n",
    "        return False\n",
    "    if s==\"\" or (s == \"\" and t == \"\"):\n",
    "        return True\n",
    "\n",
    "    # use the window method\n",
    "    left = 0\n",
    "    right = 0\n",
    "\n",
    "    result = []\n",
    "\n",
    "    while right < len(t):\n",
    "        if s[left] == t[right]:\n",
    "            result.append(s[left])\n",
    "            left += 1\n",
    "            if len(s) == len(result):\n",
    "                print(result)\n",
    "                return True\n",
    "        right += 1\n",
    "\n",
    "    print(result)\n",
    "    return False"
   ],
   "metadata": {
    "collapsed": false
   }
  },
  {
   "cell_type": "code",
   "execution_count": 27,
   "outputs": [
    {
     "data": {
      "text/plain": "True"
     },
     "execution_count": 27,
     "metadata": {},
     "output_type": "execute_result"
    }
   ],
   "source": [
    "s = \"\"\n",
    "t = \"\"\n",
    "isSubsequence(s, t)"
   ],
   "metadata": {
    "collapsed": false
   }
  },
  {
   "cell_type": "code",
   "execution_count": 7,
   "outputs": [
    {
     "name": "stdout",
     "output_type": "stream",
     "text": [
      "['a']\n"
     ]
    },
    {
     "data": {
      "text/plain": "False"
     },
     "execution_count": 7,
     "metadata": {},
     "output_type": "execute_result"
    }
   ],
   "source": [
    "s = \"axc\"\n",
    "t = \"ahbgdc\"\n",
    "isSubsequence(s, t)"
   ],
   "metadata": {
    "collapsed": false
   }
  },
  {
   "cell_type": "code",
   "execution_count": null,
   "outputs": [],
   "source": [],
   "metadata": {
    "collapsed": false
   }
  }
 ],
 "metadata": {
  "kernelspec": {
   "display_name": "Python 3",
   "language": "python",
   "name": "python3"
  },
  "language_info": {
   "codemirror_mode": {
    "name": "ipython",
    "version": 2
   },
   "file_extension": ".py",
   "mimetype": "text/x-python",
   "name": "python",
   "nbconvert_exporter": "python",
   "pygments_lexer": "ipython2",
   "version": "2.7.6"
  }
 },
 "nbformat": 4,
 "nbformat_minor": 0
}
