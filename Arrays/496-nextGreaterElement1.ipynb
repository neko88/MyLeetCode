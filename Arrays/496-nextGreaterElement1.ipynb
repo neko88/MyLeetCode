{
 "cells": [
  {
   "cell_type": "markdown",
   "source": [
    "# 496. Next Greater Element I\n",
    "Easy\n",
    "\n",
    "The next greater element of some element x in an array is the first greater element that is to the right of x in the same array.\n",
    "\n",
    "You are given two distinct 0-indexed integer arrays nums1 and nums2, where nums1 is a subset of nums2.\n",
    "\n",
    "### For each 0 <= i < nums1.length, find the index j such that nums1[i] == nums2[j] and determine the next greater element of nums2[j] in nums2. If there is no next greater element, then the answer for this query is -1.\n",
    "\n",
    "### Return an array ans of length nums1.length such that ans[i] is the next greater element as described above.\n",
    "\n",
    "\n",
    "```\n",
    "Example 1:\n",
    "    Input: nums1 = [4,1,2], nums2 = [1,3,4,2]\n",
    "    Output: [-1,3,-1]\n",
    "    Explanation: The next greater element for each value of nums1 is as follows:\n",
    "    - 4 is underlined in nums2 = [1,3,4,2]. There is no next greater element, so the answer is -1.\n",
    "    - 1 is underlined in nums2 = [1,3,4,2]. The next greater element is 3.\n",
    "    - 2 is underlined in nums2 = [1,3,4,2]. There is no next greater element, so the answer is -1.\n",
    "\n",
    "Example 2:\n",
    "    Input: nums1 = [2,4], nums2 = [1,2,3,4]\n",
    "    Output: [3,-1]\n",
    "    Explanation: The next greater element for each value of nums1 is as follows:\n",
    "    - 2 is underlined in nums2 = [1,2,3,4]. The next greater element is 3.\n",
    "    - 4 is underlined in nums2 = [1,2,3,4]. There is no next greater element, so the answer is -1.\n",
    "\n",
    "\n",
    "Constraints:\n",
    "    1 <= nums1.length <= nums2.length <= 1000\n",
    "    0 <= nums1[i], nums2[i] <= 104\n",
    "    All integers in nums1 and nums2 are unique.\n",
    "    All the integers of nums1 also appear in nums2.\n",
    "```"
   ],
   "metadata": {
    "collapsed": false
   }
  },
  {
   "cell_type": "code",
   "execution_count": 18,
   "outputs": [],
   "source": [
    "def nextGreaterElement(nums1, nums2):\n",
    "\n",
    "    # case: does nums2 exist?\n",
    "    if not nums2:\n",
    "        return None\n",
    "\n",
    "    # to store nums2 values : any right values greater than\n",
    "    map = {}\n",
    "    stack = []\n",
    "    result = []\n",
    "\n",
    "    # begin by appending nums2[0]\n",
    "    stack.append(nums2[0])\n",
    "\n",
    "    for i in range(1, len(nums2)):\n",
    "        # while there are still values in stack\n",
    "        # and the current nums2.val is greater than the top stack\n",
    "        # add it to the map\n",
    "        while stack and nums2[i] > stack[-1]:\n",
    "            map[stack[-1]] = nums2[i]       # record that there is a greater value\n",
    "            stack.pop()     # remove the top stack\n",
    "\n",
    "        # add the next value into the stack\n",
    "        stack.append(nums2[i])\n",
    "\n",
    "    # at this point, any leftover values in the stack do not have a greater value\n",
    "    for element in stack:\n",
    "        map[element] = -1\n",
    "\n",
    "    for i in nums1:\n",
    "        result.append(map[i])\n",
    "\n",
    "    return result\n"
   ],
   "metadata": {
    "collapsed": false
   }
  },
  {
   "cell_type": "code",
   "execution_count": 10,
   "outputs": [
    {
     "data": {
      "text/plain": "[-1, 3, -1]"
     },
     "execution_count": 10,
     "metadata": {},
     "output_type": "execute_result"
    }
   ],
   "source": [
    "nums1 = [4,1,2]\n",
    "nums2 = [1,3,4,2]\n",
    "\n",
    "nextGreaterElement(nums1,nums2)"
   ],
   "metadata": {
    "collapsed": false
   }
  },
  {
   "cell_type": "code",
   "execution_count": 17,
   "outputs": [
    {
     "name": "stdout",
     "output_type": "stream",
     "text": [
      "1\n"
     ]
    }
   ],
   "source": [],
   "metadata": {
    "collapsed": false
   }
  },
  {
   "cell_type": "code",
   "execution_count": null,
   "outputs": [],
   "source": [],
   "metadata": {
    "collapsed": false
   }
  }
 ],
 "metadata": {
  "kernelspec": {
   "display_name": "Python 3",
   "language": "python",
   "name": "python3"
  },
  "language_info": {
   "codemirror_mode": {
    "name": "ipython",
    "version": 2
   },
   "file_extension": ".py",
   "mimetype": "text/x-python",
   "name": "python",
   "nbconvert_exporter": "python",
   "pygments_lexer": "ipython2",
   "version": "2.7.6"
  }
 },
 "nbformat": 4,
 "nbformat_minor": 0
}
