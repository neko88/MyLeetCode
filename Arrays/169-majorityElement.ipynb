{
 "cells": [
  {
   "metadata": {},
   "cell_type": "markdown",
   "source": [
    "```\n",
    "input:\n",
    "    nums: int array\n",
    "       n: size n of nums\n",
    "output:\n",
    "    majority element which appears more than n/2 times\n",
    "\n",
    "\n",
    "Example 1:\n",
    "Input: nums = [3,2,3]\n",
    "Output: 3\n",
    "\n",
    "Example 2:\n",
    "Input: nums = [2,2,1,1,1,2,2]\n",
    "Output: 2\n",
    "\n",
    "```\n",
    "    \n"
   ],
   "id": "3a03f058f543b492"
  },
  {
   "metadata": {},
   "cell_type": "markdown",
   "source": [
    "Approach:\n",
    "\n",
    "Boyer-moore Majority Vote\n",
    "    var count\n",
    "    var majority\n",
    "    \n",
    "    1. iterate\n",
    "        - take nums[0] as the majority candidate\n",
    "        - compare nums[i] with majority element\n",
    "            - if nums[i] == m.e then +1 count of this occurence\n",
    "            - if nums[i] != m.e then -1 count of this occurence\n",
    "        - if count = 0, update majority to the current element, reset count=1"
   ],
   "id": "a25a87b46a110fc0"
  },
  {
   "metadata": {},
   "cell_type": "code",
   "outputs": [],
   "execution_count": null,
   "source": [
    "def majorityElement(nums, n):\n",
    "    count = 0\n",
    "    majority = 0    # initialize to 0\n",
    "    \n",
    "    for i in range(n): \n",
    "        if count == 0 and majority != nums[i]:\n",
    "            majority = nums[i]\n",
    "            count = 1\n",
    "        elif majority == nums[i]:\n",
    "            count += 1\n",
    "        else:\n",
    "            count -= 1\n",
    "    return majority     # the final number will have count > 0"
   ],
   "id": "initial_id"
  }
 ],
 "metadata": {
  "kernelspec": {
   "display_name": "Python 3",
   "language": "python",
   "name": "python3"
  },
  "language_info": {
   "codemirror_mode": {
    "name": "ipython",
    "version": 2
   },
   "file_extension": ".py",
   "mimetype": "text/x-python",
   "name": "python",
   "nbconvert_exporter": "python",
   "pygments_lexer": "ipython2",
   "version": "2.7.6"
  }
 },
 "nbformat": 4,
 "nbformat_minor": 5
}
