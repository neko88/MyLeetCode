{
 "cells": [
  {
   "cell_type": "markdown",
   "source": [
    "The edit distance (or Levenshtein distance) between two strings `word1` and `word2` is the minimum number of operations required to transform one string into the other. The allowed operations are:\n",
    "\n",
    "1. **Insert a character**\n",
    "2. **Delete a character**\n",
    "3. **Replace a character**\n",
    "\n",
    "To solve this problem in Python, we typically use dynamic programming. Here's how you can approach it:\n",
    "\n",
    "### Steps to Solve the Edit Distance Problem:\n",
    "\n",
    "1. **Define the Problem:**\n",
    "   - Let `word1` be the first string and `word2` be the second string.\n",
    "   - We need to find the minimum number of operations to convert `word1` to `word2`.\n",
    "\n",
    "2. **Initialize the DP Table:**\n",
    "   - Create a 2D list `dp` where `dp[i][j]` represents the minimum number of operations required to convert the first `i` characters of `word1` to the first `j` characters of `word2`.\n",
    "\n",
    "3. **Base Cases:**\n",
    "   - If either string is empty, the edit distance is the length of the other string (all insertions or deletions).\n",
    "   - `dp[i][0] = i` for all `i` (convert `word1` to an empty string by deleting all characters).\n",
    "   - `dp[0][j] = j` for all `j` (convert an empty string to `word2` by inserting all characters).\n",
    "\n",
    "4. **Fill the DP Table:**\n",
    "   - For each character in `word1` and `word2`, determine if they are the same.\n",
    "   - If they are the same, no new operation is needed, so `dp[i][j] = dp[i-1][j-1]`.\n",
    "   - If they are different, consider the minimum of the three possible operations (insert, delete, replace) and add one to the result:\n",
    "     - Insert: `dp[i][j-1] + 1`\n",
    "     - Delete: `dp[i-1][j] + 1`\n",
    "     - Replace: `dp[i-1][j-1] + 1`\n",
    "\n",
    "5. **Return the Result:**\n",
    "   - The value at `dp[len(word1)][len(word2)]` will be the minimum number of operations required to convert `word1` to `word2`.\n",
    "\n",
    "Here is the Python code implementing this approach:\n",
    "\n",
    "```python\n",
    "def minDistance(word1: str, word2: str) -> int:\n",
    "    m, n = len(word1), len(word2)\n",
    "\n",
    "    # Initialize the dp table with dimensions (m+1) x (n+1)\n",
    "    dp = [[0] * (n + 1) for _ in range(m + 1)]\n",
    "\n",
    "    # Base cases\n",
    "    for i in range(m + 1):\n",
    "        dp[i][0] = i\n",
    "    for j in range(n + 1):\n",
    "        dp[0][j] = j\n",
    "\n",
    "    # Fill the dp table\n",
    "    for i in range(1, m + 1):\n",
    "        for j in range(1, n + 1):\n",
    "            if word1[i - 1] == word2[j - 1]:\n",
    "                dp[i][j] = dp[i - 1][j - 1]  # Characters match, no operation needed\n",
    "            else:\n",
    "                dp[i][j] = min(dp[i - 1][j] + 1,    # Delete\n",
    "                               dp[i][j - 1] + 1,    # Insert\n",
    "                               dp[i - 1][j - 1] + 1)  # Replace\n",
    "\n",
    "    return dp[m][n]\n",
    "\n",
    "# Example usage:\n",
    "word1 = \"horse\"\n",
    "word2 = \"ros\"\n",
    "print(minDistance(word1, word2))  # Output: 3\n",
    "```\n",
    "\n",
    "### Explanation of Example Usage:\n",
    "- `word1 = \"horse\"`, `word2 = \"ros\"`\n",
    "- To transform \"horse\" into \"ros\":\n",
    "  1. Replace 'h' with 'r' -> \"rorse\"\n",
    "  2. Remove 'r' -> \"rose\"\n",
    "  3. Remove 'e' -> \"ros\"\n",
    "- Total of 3 operations.\n",
    "\n",
    "The `minDistance` function calculates the minimum number of operations needed to convert `word1` into `word2` using the dynamic programming approach outlined above."
   ],
   "metadata": {
    "collapsed": false
   }
  },
  {
   "metadata": {},
   "cell_type": "markdown",
   "source": [
    "# 72. Edit Distance\n",
    "Medium\n",
    "\n",
    "### Given two strings word1 and word2, return the minimum number of operations required to convert word1 to word2.\n",
    "\n",
    "You have the following three operations permitted on a word:\n",
    "- Insert a character\n",
    "- Delete a character\n",
    "- Replace a character\n",
    "\n",
    "```\n",
    "Example 1:\n",
    "    Input: word1 = \"horse\", word2 = \"ros\"\n",
    "    Output: 3\n",
    "    Explanation:\n",
    "    horse -> rorse (replace 'h' with 'r')\n",
    "    rorse -> rose (remove 'r')\n",
    "    rose -> ros (remove 'e')\n",
    "Example 2:\n",
    "    Input: word1 = \"intention\", word2 = \"execution\"\n",
    "    Output: 5\n",
    "    Explanation:\n",
    "    intention -> inention (remove 't')\n",
    "    inention -> enention (replace 'i' with 'e')\n",
    "    enention -> exention (replace 'n' with 'x')\n",
    "    exention -> exection (replace 'n' with 'c')\n",
    "    exection -> execution (insert 'u')\n",
    "\n",
    "Constraints:\n",
    "    0 <= word1.length, word2.length <= 500\n",
    "    word1 and word2 consist of lowercase English letters.\n",
    "```"
   ]
  },
  {
   "metadata": {},
   "cell_type": "code",
   "outputs": [],
   "execution_count": null,
   "source": []
  },
  {
   "cell_type": "markdown",
   "source": [
    "To understand the intuition behind solving the edit distance problem using a 2D array (dynamic programming table), let's break down the problem and the role of each element in the table:\n",
    "\n",
    "### 1. Problem Breakdown\n",
    "\n",
    "The goal is to find the minimum number of operations required to transform one string (`word1`) into another string (`word2`). The operations allowed are insertion, deletion, and substitution.\n",
    "\n",
    "### 2. Dynamic Programming Table Setup\n",
    "\n",
    "We use a 2D table `dp` where `dp[i][j]` represents the minimum number of operations required to transform the first `i` characters of `word1` into the first `j` characters of `word2`.\n",
    "\n",
    "### 3. Initialization\n",
    "\n",
    "- **Base Cases:**\n",
    "  - `dp[0][j]`: Transforming an empty `word1` to the first `j` characters of `word2` requires `j` insertions.\n",
    "  - `dp[i][0]`: Transforming the first `i` characters of `word1` to an empty `word2` requires `i` deletions.\n",
    "\n",
    "### 4. Filling the DP Table\n",
    "\n",
    "For each cell `dp[i][j]`:\n",
    "- **If the characters are the same** (`word1[i-1] == word2[j-1]`), no new operation is needed, and thus `dp[i][j] = dp[i-1][j-1]`.\n",
    "- **If the characters are different**, we consider the three possible operations (insert, delete, replace) and take the minimum of these operations plus one:\n",
    "  - **Insert**: `dp[i][j-1] + 1`\n",
    "  - **Delete**: `dp[i-1][j] + 1`\n",
    "  - **Replace**: `dp[i-1][j-1] + 1`\n",
    "\n",
    "### 5. Intuition Behind the Diagonal\n",
    "\n",
    "The diagonal in the 2D table (`dp[i-1][j-1]`) is significant because it represents the state where the previous characters of both strings have already been matched or transformed optimally. Here's why it's important:\n",
    "\n",
    "- **Diagonal Move (`dp[i-1][j-1]`)**:\n",
    "  - If the characters are the same, no operation is needed, and we carry over the previous state (`dp[i-1][j-1]`).\n",
    "  - If the characters are different, a substitution is required, representing the diagonal move plus one substitution operation.\n",
    "\n",
    "- **Vertical Move (`dp[i-1][j]`)**:\n",
    "  - Represents a deletion operation from `word1`.\n",
    "\n",
    "- **Horizontal Move (`dp[i][j-1]`)**:\n",
    "  - Represents an insertion operation to `word2`.\n",
    "\n",
    "The diagonal move is particularly important for matching characters and performing substitutions, making it a critical part of the transformation logic.\n",
    "\n",
    "### Example to Illustrate\n",
    "\n",
    "Consider transforming \"intention\" into \"execution\":\n",
    "\n",
    "```python\n",
    "word1 = \"intention\"\n",
    "word2 = \"execution\"\n",
    "```\n",
    "\n",
    "The `dp` table will be filled as follows:\n",
    "\n",
    "1. **Initialization**:\n",
    "   - `dp[0][j]` for `j` in range(len(word2)+1)\n",
    "   - `dp[i][0]` for `i` in range(len(word1)+1)\n",
    "\n",
    "2. **Filling the Table**:\n",
    "   - Iterate over each character pair (`i`, `j`) and update `dp[i][j]` based on whether the characters match or not.\n",
    "\n",
    "Here's a partial visualization of the table filling process:\n",
    "\n",
    "|    |   | e | x | e | c | u | t | i | o | n |\n",
    "|----|---|---|---|---|---|---|---|---|---|---|\n",
    "|    | 0 | 1 | 2 | 3 | 4 | 5 | 6 | 7 | 8 | 9 |\n",
    "| i  | 1 | 1 | 2 | 2 | 3 | 4 | 5 | 6 | 7 | 8 |\n",
    "| n  | 2 | 2 | 2 | 3 | 3 | 4 | 5 | 6 | 7 | 8 |\n",
    "| t  | 3 | 3 | 3 | 3 | 4 | 4 | 4 | 5 | 6 | 7 |\n",
    "| e  | 4 | 3 | 4 | 3 | 4 | 5 | 5 | 5 | 6 | 7 |\n",
    "| n  | 5 | 4 | 4 | 4 | 4 | 5 | 6 | 6 | 6 | 7 |\n",
    "| t  | 6 | 5 | 5 | 5 | 5 | 5 | 6 | 7 | 7 | 7 |\n",
    "| i  | 7 | 6 | 6 | 6 | 6 | 6 | 6 | 6 | 7 | 8 |\n",
    "| o  | 8 | 7 | 7 | 7 | 7 | 7 | 7 | 7 | 7 | 7 |\n",
    "| n  | 9 | 8 | 8 | 8 | 8 | 8 | 8 | 8 | 8 | 7 |\n",
    "\n",
    "The final value at `dp[len(word1)][len(word2)]` gives the minimum edit distance, which is 5 in this case.\n",
    "\n",
    "### Conclusion\n",
    "\n",
    "Using a 2D array allows us to keep track of the optimal transformation costs for all subproblems (prefixes of the strings). The diagonal entries are particularly significant because they represent situations where characters are either matched (no change needed) or substituted, providing a clear pathway for optimal transformation decisions. This structured approach ensures that we consider all possible transformations efficiently."
   ],
   "metadata": {
    "collapsed": false
   }
  },
  {
   "metadata": {},
   "cell_type": "markdown",
   "source": [
    "# Why compare the previous cells for the value of the current cell?\n",
    "In the edit distance problem, the character comparison at the previous index is crucial for building up the solution incrementally. Let's explore why this is necessary by understanding the nature of the problem and the dynamic programming approach used to solve it.\n",
    "\n",
    "### Edit Distance Problem\n",
    "\n",
    "The edit distance (or Levenshtein distance) between two strings is the minimum number of operations (insertions, deletions, or substitutions) required to transform one string into the other.\n",
    "\n",
    "### Dynamic Programming Approach\n",
    "\n",
    "We use a 2D array `dp` where `dp[i][j]` represents the edit distance between the first `i` characters of string `A` and the first `j` characters of string `B`.\n",
    "\n",
    "### Character Comparison\n",
    "\n",
    "When comparing characters from the two strings, we have three possible operations:\n",
    "1. **Insertion**: Inserting a character into `A` to match `B`.\n",
    "2. **Deletion**: Deleting a character from `A` to match `B`.\n",
    "3. **Substitution**: Replacing a character in `A` to match `B`.\n",
    "\n",
    "### Recursive Relation\n",
    "\n",
    "To fill in `dp[i][j]`, we consider the following cases:\n",
    "\n",
    "1. **Characters Match**: If the characters `A[i-1]` and `B[j-1]` are the same, no new operation is needed, so:\n",
    "   \\[\n",
    "   dp[i][j] = dp[i-1][j-1]\n",
    "   \\]\n",
    "   This means the edit distance remains the same as for the previous indices.\n",
    "\n",
    "2. **Characters Don't Match**: If the characters `A[i-1]` and `B[j-1]` are different, we consider the minimum operations required from the previous steps and add 1 (for the current operation):\n",
    "   \\[\n",
    "   dp[i][j] = 1 + \\min(dp[i-1][j], dp[i][j-1], dp[i-1][j-1])\n",
    "   \\]\n",
    "   - `dp[i-1][j]`: Deletion (removing a character from `A`)\n",
    "   - `dp[i][j-1]`: Insertion (adding a character to `A`)\n",
    "   - `dp[i-1][j-1]`: Substitution (replacing a character in `A`)\n",
    "\n",
    "### Example\n",
    "\n",
    "Let's consider two strings `A = \"kitten\"` and `B = \"sitting\"`.\n",
    "\n",
    "Here's how the comparison and filling of the `dp` table work:\n",
    "\n",
    "```plaintext\n",
    "  \"\" s i t t i n g\n",
    "\"\" 0 1 2 3 4 5 6 7\n",
    "k 1 1 2 3 4 5 6 7\n",
    "i 2 2 1 2 3 4 5 6\n",
    "t 3 3 2 1 2 3 4 5\n",
    "t 4 4 3 2 1 2 3 4\n",
    "e 5 5 4 3 2 2 3 4\n",
    "n 6 6 5 4 3 3 2 3\n",
    "```\n",
    "\n",
    "- `dp[1][1]`: Compare `k` and `s`. They are different. So, `dp[1][1] = 1 + min(dp[0][1], dp[1][0], dp[0][0]) = 1 + min(1, 1, 0) = 1`.\n",
    "- `dp[2][2]`: Compare `i` and `i`. They are the same. So, `dp[2][2] = dp[1][1] = 1`.\n",
    "- And so on...\n",
    "\n",
    "By looking at the previous indices, we ensure that we are considering all possible ways to transform the strings up to that point and choose the minimum operations required.\n",
    "\n",
    "In summary, the character comparison at the previous index allows us to build the solution incrementally, ensuring we account for all possible operations (insertions, deletions, substitutions) and choose the optimal solution at each step.\n",
    "\n",
    "### The comparison \"if word1[i-1] == word2[j-1]\" rather than \"if word1[i] == word2[j]\" ensures that we are correctly comparing the appropriate characters based on the current lengths of the substrings being considered since the loop begins at 1, and the words need to compare starting from the 0th index of the words. This aligns with the definition of the DP table, where dp[i][j] represents the edit distance between the first i characters of word1 and the first j characters of word2."
   ]
  },
  {
   "cell_type": "code",
   "execution_count": 84,
   "outputs": [],
   "source": [
    "def minDistance(word1: str, word2: str) -> int:\n",
    "    m, n = len(word1), len(word2)\n",
    "\n",
    "    # Initialize the dp table with dimensions (m+1) x (n+1)\n",
    "    dp = [[0] * (n + 1) for _ in range(m + 1)]\n",
    "\n",
    "    # Base cases\n",
    "    for i in range(m + 1):\n",
    "        dp[i][0] = i\n",
    "    for j in range(n + 1):\n",
    "        dp[0][j] = j\n",
    "    print(\"base case, \",dp)\n",
    "\n",
    "    # Fill the dp table\n",
    "    for i in range(1, m + 1):\n",
    "        for j in range(1, n + 1):\n",
    "            if word1[i - 1] == word2[j - 1]:\n",
    "                dp[i][j] = dp[i - 1][j - 1]  # Characters match, no operation needed\n",
    "            else:\n",
    "                dp[i][j] = min(dp[i - 1][j] + 1,    # Delete\n",
    "                               dp[i][j - 1] + 1,    # Insert\n",
    "                               dp[i - 1][j - 1] + 1)  # Replace\n",
    "    print(\"\\ndp: \",dp)\n",
    "    return dp[m][n]"
   ],
   "metadata": {
    "collapsed": false
   }
  },
  {
   "cell_type": "raw",
   "source": [
    "word1 = \"\"\n",
    "word2 = \"a\"\n",
    "minDistance(word1,word2)"
   ],
   "metadata": {
    "collapsed": false
   }
  },
  {
   "metadata": {},
   "cell_type": "code",
   "outputs": [
    {
     "name": "stdout",
     "output_type": "stream",
     "text": [
      "base case,  [[0, 1, 2, 3], [1, 0, 0, 0], [2, 0, 0, 0], [3, 0, 0, 0], [4, 0, 0, 0], [5, 0, 0, 0]]\n",
      "\n",
      "dp:  [[0, 1, 2, 3], [1, 1, 2, 3], [2, 2, 1, 2], [3, 2, 2, 2], [4, 3, 3, 2], [5, 4, 4, 3]]\n"
     ]
    },
    {
     "data": {
      "text/plain": "3"
     },
     "execution_count": 82,
     "metadata": {},
     "output_type": "execute_result"
    }
   ],
   "execution_count": 82,
   "source": [
    "word1 = \"horse\"\n",
    "word2 = \"ros\"\n",
    "minDistance(word1,word2)"
   ]
  },
  {
   "metadata": {},
   "cell_type": "code",
   "outputs": [
    {
     "name": "stdout",
     "output_type": "stream",
     "text": [
      "base case,  [[0, 1, 2, 3, 4, 5, 6, 7, 8, 9], [1, 0, 0, 0, 0, 0, 0, 0, 0, 0], [2, 0, 0, 0, 0, 0, 0, 0, 0, 0], [3, 0, 0, 0, 0, 0, 0, 0, 0, 0], [4, 0, 0, 0, 0, 0, 0, 0, 0, 0], [5, 0, 0, 0, 0, 0, 0, 0, 0, 0], [6, 0, 0, 0, 0, 0, 0, 0, 0, 0], [7, 0, 0, 0, 0, 0, 0, 0, 0, 0], [8, 0, 0, 0, 0, 0, 0, 0, 0, 0], [9, 0, 0, 0, 0, 0, 0, 0, 0, 0]]\n",
      "\n",
      "dp:  [[0, 1, 2, 3, 4, 5, 6, 7, 8, 9], [1, 1, 2, 3, 4, 5, 6, 6, 7, 8], [2, 2, 2, 3, 4, 5, 6, 7, 7, 7], [3, 3, 3, 3, 4, 5, 5, 6, 7, 8], [4, 3, 4, 3, 4, 5, 6, 6, 7, 8], [5, 4, 4, 4, 4, 5, 6, 7, 7, 7], [6, 5, 5, 5, 5, 5, 5, 6, 7, 8], [7, 6, 6, 6, 6, 6, 6, 5, 6, 7], [8, 7, 7, 7, 7, 7, 7, 6, 5, 6], [9, 8, 8, 8, 8, 8, 8, 7, 6, 5]]\n"
     ]
    },
    {
     "data": {
      "text/plain": "5"
     },
     "execution_count": 83,
     "metadata": {},
     "output_type": "execute_result"
    }
   ],
   "execution_count": 83,
   "source": [
    "word1 = \"intention\"\n",
    "word2 = \"execution\"\n",
    "minDistance(word1,word2)"
   ]
  },
  {
   "cell_type": "raw",
   "source": [
    "[[0, 1, 2, 3, 4, 5, 6, 7, 8, 9],\n",
    "[1, 1, 2, 3, 4, 5, 6, 6, 7, 8],\n",
    "[2, 2, 2, 3, 4, 5, 6, 7, 7, 7],\n",
    "[3, 3, 3, 3, 4, 5, 5, 6, 7, 8],\n",
    "[4, 3, 4, 3, 4, 5, 6, 6, 7, 8],\n",
    "[5, 4, 4, 4, 4, 5, 6, 7, 7, 7],\n",
    "[6, 5, 5, 5, 5, 5, 5, 6, 7, 8],\n",
    "[7, 6, 6, 6, 6, 6, 6, 5, 6, 7],\n",
    "[8, 7, 7, 7, 7, 7, 7, 6, 5, 6],\n",
    "[9, 8, 8, 8, 8, 8, 8, 7, 6, 5]]"
   ],
   "metadata": {
    "collapsed": false
   }
  },
  {
   "metadata": {
    "ExecuteTime": {
     "end_time": "2024-07-09T18:57:44.389559Z",
     "start_time": "2024-07-09T18:57:44.358917Z"
    }
   },
   "cell_type": "code",
   "source": [
    "def func(word1, word2):\n",
    "    \n",
    "    # get lengths of words\n",
    "    n = len(word1)\n",
    "    m = len(word2)\n",
    "\n",
    "    # initialize dp 2D array to count the number of operations for the ith,jth cell\n",
    "        # let insert be (j - 1) + 1\n",
    "        # let delete be (i - 1) + 1\n",
    "        # let replace/no change be j, i +/- 1\n",
    "    dp = [ [0] * (n + 1) for _ in range(m + 1) ]\n",
    "        \n",
    "    # initialize base cases\n",
    "    for j in range(n+1):\n",
    "        dp[0][j] = j\n",
    "        # perform only insertion on the word\n",
    "    for i in range(m+1):\n",
    "        dp[i][0] = i\n",
    "        # perform only deletion on the word\n",
    "    print(dp)\n",
    "    \n",
    "    # LOOP: iterate each cell, begin from 1\n",
    "    for i in range(1, m + 1):\n",
    "        for j in range(1, n + 1):\n",
    "            # check if the characters are same/diff\n",
    "            # case 1: same chars. take the value from the prev.upper.diag, dont add 1.\n",
    "            if word1[i-1] == word2[j-1]:\n",
    "                dp[i][j] = dp[i-1][j-1]\n",
    "            # case 2: different chars. choose the minimum distance between the three neighbour cells for the current cell\n",
    "            else:\n",
    "                least = min(dp[i-1][j-1], dp[i-1][j], dp[i][j-1])\n",
    "                dp[i][j] = least + 1\n",
    "                \n",
    "    print(\"\\ndp: \",dp)\n",
    "    return dp[m][n]\n",
    "    # at the end, return the minimum"
   ],
   "outputs": [],
   "execution_count": 15
  },
  {
   "metadata": {
    "ExecuteTime": {
     "end_time": "2024-07-09T18:57:45.136172Z",
     "start_time": "2024-07-09T18:57:45.125701Z"
    }
   },
   "cell_type": "code",
   "source": [
    "word1 = \"intention\"\n",
    "word2 = \"execution\"\n",
    "func(word1,word2)"
   ],
   "outputs": [
    {
     "name": "stdout",
     "output_type": "stream",
     "text": [
      "[[0, 1, 2, 3, 4, 5, 6, 7, 8, 9], [1, 0, 0, 0, 0, 0, 0, 0, 0, 0], [2, 0, 0, 0, 0, 0, 0, 0, 0, 0], [3, 0, 0, 0, 0, 0, 0, 0, 0, 0], [4, 0, 0, 0, 0, 0, 0, 0, 0, 0], [5, 0, 0, 0, 0, 0, 0, 0, 0, 0], [6, 0, 0, 0, 0, 0, 0, 0, 0, 0], [7, 0, 0, 0, 0, 0, 0, 0, 0, 0], [8, 0, 0, 0, 0, 0, 0, 0, 0, 0], [9, 0, 0, 0, 0, 0, 0, 0, 0, 0]]\n",
      "\n",
      "dp:  [[0, 1, 2, 3, 4, 5, 6, 7, 8, 9], [1, 1, 2, 3, 4, 5, 6, 6, 7, 8], [2, 2, 2, 3, 4, 5, 6, 7, 7, 7], [3, 3, 3, 3, 4, 5, 5, 6, 7, 8], [4, 3, 4, 3, 4, 5, 6, 6, 7, 8], [5, 4, 4, 4, 4, 5, 6, 7, 7, 7], [6, 5, 5, 5, 5, 5, 5, 6, 7, 8], [7, 6, 6, 6, 6, 6, 6, 5, 6, 7], [8, 7, 7, 7, 7, 7, 7, 6, 5, 6], [9, 8, 8, 8, 8, 8, 8, 7, 6, 5]]\n"
     ]
    },
    {
     "data": {
      "text/plain": [
       "5"
      ]
     },
     "execution_count": 16,
     "metadata": {},
     "output_type": "execute_result"
    }
   ],
   "execution_count": 16
  },
  {
   "metadata": {},
   "cell_type": "code",
   "outputs": [],
   "execution_count": null,
   "source": []
  }
 ],
 "metadata": {
  "kernelspec": {
   "display_name": "Python 3",
   "language": "python",
   "name": "python3"
  },
  "language_info": {
   "codemirror_mode": {
    "name": "ipython",
    "version": 2
   },
   "file_extension": ".py",
   "mimetype": "text/x-python",
   "name": "python",
   "nbconvert_exporter": "python",
   "pygments_lexer": "ipython2",
   "version": "2.7.6"
  }
 },
 "nbformat": 4,
 "nbformat_minor": 0
}
