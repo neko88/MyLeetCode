{
 "cells": [
  {
   "cell_type": "markdown",
   "source": [
    "# 495. Teemo Attacking\n",
    "Easy\n",
    "\n",
    "Our hero Teemo is attacking an enemy Ashe with poison attacks! When Teemo attacks Ashe, Ashe gets poisoned for a exactly duration seconds. More formally, an attack at second t will mean Ashe is poisoned during the inclusive time interval ```[t, t + duration - 1]```. If Teemo attacks again before the poison effect ends, the timer for it is reset, and the poison effect will end duration seconds after the new attack.\n",
    "\n",
    "You are given a non-decreasing integer array timeSeries, where timeSeries[i] denotes that Teemo attacks Ashe at second timeSeries[i], and an integer duration.\n",
    "\n",
    "Return the total number of seconds that Ashe is poisoned.\n",
    "\n",
    "\n",
    "```\n",
    "Example 1:\n",
    "    Input: timeSeries = [1,4], duration = 2\n",
    "    Output: 4\n",
    "    Explanation: Teemo's attacks on Ashe go as follows:\n",
    "    - At second 1, Teemo attacks, and Ashe is poisoned for seconds 1 and 2.\n",
    "    - At second 4, Teemo attacks, and Ashe is poisoned for seconds 4 and 5.\n",
    "    Ashe is poisoned for seconds 1, 2, 4, and 5, which is 4 seconds in total.\n",
    "\n",
    "Example 2:\n",
    "    Input: timeSeries = [1,2], duration = 2\n",
    "    Output: 3\n",
    "    Explanation: Teemo's attacks on Ashe go as follows:\n",
    "    - At second 1, Teemo attacks, and Ashe is poisoned for seconds 1 and 2.\n",
    "    - At second 2 however, Teemo attacks again and resets the poison timer. Ashe is poisoned for seconds 2 and 3.\n",
    "    Ashe is poisoned for seconds 1, 2, and 3, which is 3 seconds in total.\n",
    "\n",
    "Constraints:\n",
    "    1 <= timeSeries.length <= 104\n",
    "    0 <= timeSeries[i], duration <= 107\n",
    "    timeSeries is sorted in non-decreasing order.\n",
    "```"
   ],
   "metadata": {
    "collapsed": false
   }
  },
  {
   "cell_type": "code",
   "execution_count": 119,
   "outputs": [],
   "source": [
    "def findPoisonedDuration(timeSeries, duration):\n",
    "    \"\"\"\n",
    "    :type timeSeries: List[int]\n",
    "    :type duration: int\n",
    "    :rtype: int\n",
    "    \"\"\"\n",
    "    repeat = 0\n",
    "\n",
    "    print(timeSeries)\n",
    "    # iterate the timestamp in timeSeries\n",
    "    for time_stamp in range(len(timeSeries)-1):\n",
    "\n",
    "        print(\"\\n===== attack on timeStamp: {} =====\".format(time_stamp))\n",
    "        diff = timeSeries[time_stamp+1] - timeSeries[time_stamp]\n",
    "        print(\"     diff = timeSeries[{}] - timeSeries[{}] = \".format(time_stamp+1, time_stamp), diff)\n",
    "        print(\"     diff =     {}      -     {}      =     \".format(timeSeries[time_stamp+1], timeSeries[time_stamp]), diff)\n",
    "\n",
    "\n",
    "        print(\"     is diff ({}) less than duration of {} ?\".format(diff, duration))\n",
    "        if diff < duration:\n",
    "            print(\"     --> yes, that means it's an overlap of attack\")\n",
    "            print(\"     --> repeat += duration ({}) - diff ({})     += {} \".format(duration, diff, duration - diff))\n",
    "            repeat += duration - diff\n",
    "\n",
    "        else:\n",
    "            print(\"    --> no, there's not overlap of attack\")\n",
    "            print(\"    --> repeated seconds = \", repeat)\n",
    "\n",
    "    return len(timeSeries)*duration - repeat"
   ],
   "metadata": {
    "collapsed": false
   }
  },
  {
   "cell_type": "code",
   "execution_count": 120,
   "outputs": [
    {
     "name": "stdout",
     "output_type": "stream",
     "text": [
      "[1, 4]\n",
      "\n",
      "===== attack on timeStamp: 0 =====\n",
      "     diff = timeSeries[1] - timeSeries[0] =  3\n",
      "     diff =     4      -     1      =      3\n",
      "     is diff (3) less than duration of 2 ?\n",
      "    --> no, there's not overlap of attack\n",
      "    --> repeated seconds =  0\n"
     ]
    },
    {
     "data": {
      "text/plain": "4"
     },
     "execution_count": 120,
     "metadata": {},
     "output_type": "execute_result"
    }
   ],
   "source": [
    "findPoisonedDuration([1,4], 2)"
   ],
   "metadata": {
    "collapsed": false
   }
  },
  {
   "cell_type": "code",
   "execution_count": 121,
   "outputs": [
    {
     "name": "stdout",
     "output_type": "stream",
     "text": [
      "[1, 2]\n",
      "\n",
      "===== attack on timeStamp: 0 =====\n",
      "     diff = timeSeries[1] - timeSeries[0] =  1\n",
      "     diff =     2      -     1      =      1\n",
      "     is diff (1) less than duration of 2 ?\n",
      "     --> yes, that means it's an overlap of attack\n",
      "     --> repeat += duration (2) - diff (1)     += 1 \n"
     ]
    },
    {
     "data": {
      "text/plain": "3"
     },
     "execution_count": 121,
     "metadata": {},
     "output_type": "execute_result"
    }
   ],
   "source": [
    "findPoisonedDuration([1,2], 2)"
   ],
   "metadata": {
    "collapsed": false
   }
  },
  {
   "cell_type": "code",
   "execution_count": 122,
   "outputs": [
    {
     "name": "stdout",
     "output_type": "stream",
     "text": [
      "[1, 2, 4]\n",
      "\n",
      "===== attack on timeStamp: 0 =====\n",
      "     diff = timeSeries[1] - timeSeries[0] =  1\n",
      "     diff =     2      -     1      =      1\n",
      "     is diff (1) less than duration of 2 ?\n",
      "     --> yes, that means it's an overlap of attack\n",
      "     --> repeat += duration (2) - diff (1)     += 1 \n",
      "\n",
      "===== attack on timeStamp: 1 =====\n",
      "     diff = timeSeries[2] - timeSeries[1] =  2\n",
      "     diff =     4      -     2      =      2\n",
      "     is diff (2) less than duration of 2 ?\n",
      "    --> no, there's not overlap of attack\n",
      "    --> repeated seconds =  1\n"
     ]
    },
    {
     "data": {
      "text/plain": "5"
     },
     "execution_count": 122,
     "metadata": {},
     "output_type": "execute_result"
    }
   ],
   "source": [
    "findPoisonedDuration([1,2,4], 2)"
   ],
   "metadata": {
    "collapsed": false
   }
  },
  {
   "cell_type": "code",
   "execution_count": 123,
   "outputs": [
    {
     "name": "stdout",
     "output_type": "stream",
     "text": [
      "[1, 2, 3, 4, 5, 6, 7, 8, 9]\n",
      "\n",
      "===== attack on timeStamp: 0 =====\n",
      "     diff = timeSeries[1] - timeSeries[0] =  1\n",
      "     diff =     2      -     1      =      1\n",
      "     is diff (1) less than duration of 1000000 ?\n",
      "     --> yes, that means it's an overlap of attack\n",
      "     --> repeat += duration (1000000) - diff (1)     += 999999 \n",
      "\n",
      "===== attack on timeStamp: 1 =====\n",
      "     diff = timeSeries[2] - timeSeries[1] =  1\n",
      "     diff =     3      -     2      =      1\n",
      "     is diff (1) less than duration of 1000000 ?\n",
      "     --> yes, that means it's an overlap of attack\n",
      "     --> repeat += duration (1000000) - diff (1)     += 999999 \n",
      "\n",
      "===== attack on timeStamp: 2 =====\n",
      "     diff = timeSeries[3] - timeSeries[2] =  1\n",
      "     diff =     4      -     3      =      1\n",
      "     is diff (1) less than duration of 1000000 ?\n",
      "     --> yes, that means it's an overlap of attack\n",
      "     --> repeat += duration (1000000) - diff (1)     += 999999 \n",
      "\n",
      "===== attack on timeStamp: 3 =====\n",
      "     diff = timeSeries[4] - timeSeries[3] =  1\n",
      "     diff =     5      -     4      =      1\n",
      "     is diff (1) less than duration of 1000000 ?\n",
      "     --> yes, that means it's an overlap of attack\n",
      "     --> repeat += duration (1000000) - diff (1)     += 999999 \n",
      "\n",
      "===== attack on timeStamp: 4 =====\n",
      "     diff = timeSeries[5] - timeSeries[4] =  1\n",
      "     diff =     6      -     5      =      1\n",
      "     is diff (1) less than duration of 1000000 ?\n",
      "     --> yes, that means it's an overlap of attack\n",
      "     --> repeat += duration (1000000) - diff (1)     += 999999 \n",
      "\n",
      "===== attack on timeStamp: 5 =====\n",
      "     diff = timeSeries[6] - timeSeries[5] =  1\n",
      "     diff =     7      -     6      =      1\n",
      "     is diff (1) less than duration of 1000000 ?\n",
      "     --> yes, that means it's an overlap of attack\n",
      "     --> repeat += duration (1000000) - diff (1)     += 999999 \n",
      "\n",
      "===== attack on timeStamp: 6 =====\n",
      "     diff = timeSeries[7] - timeSeries[6] =  1\n",
      "     diff =     8      -     7      =      1\n",
      "     is diff (1) less than duration of 1000000 ?\n",
      "     --> yes, that means it's an overlap of attack\n",
      "     --> repeat += duration (1000000) - diff (1)     += 999999 \n",
      "\n",
      "===== attack on timeStamp: 7 =====\n",
      "     diff = timeSeries[8] - timeSeries[7] =  1\n",
      "     diff =     9      -     8      =      1\n",
      "     is diff (1) less than duration of 1000000 ?\n",
      "     --> yes, that means it's an overlap of attack\n",
      "     --> repeat += duration (1000000) - diff (1)     += 999999 \n"
     ]
    },
    {
     "data": {
      "text/plain": "1000008"
     },
     "execution_count": 123,
     "metadata": {},
     "output_type": "execute_result"
    }
   ],
   "source": [
    "findPoisonedDuration([1,2,3,4,5,6,7,8,9], 1000000)"
   ],
   "metadata": {
    "collapsed": false
   }
  },
  {
   "cell_type": "code",
   "execution_count": 123,
   "outputs": [],
   "source": [],
   "metadata": {
    "collapsed": false
   }
  },
  {
   "cell_type": "code",
   "execution_count": null,
   "outputs": [],
   "source": [],
   "metadata": {
    "collapsed": false,
    "pycharm": {
     "is_executing": true
    }
   }
  },
  {
   "cell_type": "code",
   "execution_count": 87,
   "outputs": [],
   "source": [],
   "metadata": {
    "collapsed": false
   }
  }
 ],
 "metadata": {
  "kernelspec": {
   "display_name": "Python 3",
   "language": "python",
   "name": "python3"
  },
  "language_info": {
   "codemirror_mode": {
    "name": "ipython",
    "version": 2
   },
   "file_extension": ".py",
   "mimetype": "text/x-python",
   "name": "python",
   "nbconvert_exporter": "python",
   "pygments_lexer": "ipython2",
   "version": "2.7.6"
  }
 },
 "nbformat": 4,
 "nbformat_minor": 0
}
