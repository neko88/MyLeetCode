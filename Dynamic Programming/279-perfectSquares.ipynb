{
 "cells": [
  {
   "metadata": {},
   "cell_type": "markdown",
   "source": [
    "# 279. Perfect Squares\n",
    "Medium\n",
    "\n",
    "### Given an integer n, return the least number of perfect square numbers that sum to n.\n",
    "\n",
    "A perfect square is an integer that is the square of an integer; in other words, it is the product of some integer with itself. For example, 1, 4, 9, and 16 are perfect squares while 3 and 11 are not.\n",
    "\n",
    " \n",
    "```\n",
    "Example 1:\n",
    "    Input: n = 12\n",
    "    Output: 3\n",
    "    Explanation: 12 = 4 + 4 + 4.\n",
    "Example 2:\n",
    "    Input: n = 13\n",
    "    Output: 2\n",
    "    Explanation: 13 = 4 + 9.\n",
    "Constraints:\n",
    "1 <= n <= 104\n",
    "```"
   ],
   "id": "b1ac7b8d800e572c"
  },
  {
   "cell_type": "markdown",
   "source": [
    "The \"Perfect Squares\" problem asks us to find the least number of perfect square numbers (like 1, 4, 9, 16, ...) that sum to a given positive integer \\( n \\). This is a classic dynamic programming problem that can be efficiently solved using several approaches.\n",
    "\n",
    "### Intuition\n",
    "\n",
    "To solve this problem, consider breaking down the problem into smaller subproblems. For each number \\( k \\) less than or equal to \\( n \\), determine the minimum number of perfect squares that sum up to \\( k \\). We can do this by trying all perfect squares less than or equal to \\( k \\) and seeing which combination yields the minimum count.\n",
    "\n",
    "### Algorithm\n",
    "\n",
    "1. **Dynamic Programming Approach**:\n",
    "   - Define an array `dp` where `dp[i]` represents the least number of perfect squares that sum to \\( i \\).\n",
    "   - Initialize `dp[0] = 0` since zero perfect squares sum to zero.\n",
    "   - For each number \\( i \\) from 1 to \\( n \\), try every perfect square \\( j^2 \\) such that \\( j^2 \\leq i \\). Update `dp[i]` as:\n",
    "     \\[\n",
    "     dp[i] = \\min(dp[i], dp[i - j^2] + 1)\n",
    "     \\]\n",
    "   - The answer will be stored in `dp[n]`.\n",
    "\n",
    "### Python Code\n",
    "\n",
    "```python\n",
    "def numSquares(n):\n",
    "    # Initialize dp array with \"infinity\" values, except dp[0] = 0\n",
    "    dp = [float('inf')] * (n + 1)\n",
    "    dp[0] = 0\n",
    "\n",
    "    # Populate the dp array\n",
    "    for i in range(1, n + 1):\n",
    "        j = 1\n",
    "        while j * j <= i:\n",
    "            dp[i] = min(dp[i], dp[i - j * j] + 1)\n",
    "            j += 1\n",
    "\n",
    "    return dp[n]\n",
    "\n",
    "# Example usage\n",
    "n = 12\n",
    "print(numSquares(n))  # Output: 3 (because 12 = 4 + 4 + 4)\n",
    "```\n",
    "\n",
    "### Explanation of the Code\n",
    "\n",
    "1. **Initialization**:\n",
    "   - `dp` is initialized with \\( n+1 \\) elements, all set to infinity (`float('inf')`), except `dp[0]` which is set to 0 because zero perfect squares are needed to sum to zero.\n",
    "\n",
    "2. **Populating the dp Array**:\n",
    "   - For each integer \\( i \\) from 1 to \\( n \\):\n",
    "     - Iterate over all perfect squares \\( j^2 \\) less than or equal to \\( i \\).\n",
    "     - Update `dp[i]` by comparing its current value with `dp[i - j^2] + 1`. This represents using one more perfect square \\( j^2 \\) in the sum to reach \\( i \\).\n",
    "\n",
    "3. **Result**:\n",
    "   - After filling up the `dp` array, `dp[n]` will contain the minimum number of perfect squares that sum to \\( n \\).\n",
    "\n",
    "### Time Complexity\n",
    "\n",
    "- **Time Complexity**: \\( O(n \\sqrt{n}) \\)\n",
    "  - The outer loop runs \\( n \\) times.\n",
    "  - The inner loop runs up to \\( \\sqrt{n} \\) times for each \\( i \\).\n",
    "\n",
    "- **Space Complexity**: \\( O(n) \\)\n",
    "  - We use a single array `dp` of size \\( n+1 \\).\n",
    "\n",
    "### Example\n",
    "\n",
    "For \\( n = 12 \\):\n",
    "- \\( dp[1] \\) is 1 (1).\n",
    "- \\( dp[2] \\) is 2 (1 + 1).\n",
    "- \\( dp[3] \\) is 3 (1 + 1 + 1).\n",
    "- \\( dp[4] \\) is 1 (4).\n",
    "- \\( dp[5] \\) is 2 (4 + 1).\n",
    "- ...\n",
    "- \\( dp[12] \\) will be 3 because \\( 12 = 4 + 4 + 4 \\).\n",
    "\n",
    "Thus, the minimum number of perfect squares that sum to 12 is 3."
   ],
   "metadata": {
    "collapsed": false
   }
  },
  {
   "cell_type": "code",
   "id": "initial_id",
   "metadata": {
    "collapsed": true,
    "ExecuteTime": {
     "end_time": "2024-08-05T01:57:27.894654Z",
     "start_time": "2024-08-05T01:57:27.887746Z"
    }
   },
   "source": [
    "def numSquares(n):\n",
    "    \n",
    "    # dp[int component of a perfect square] = perfect square\n",
    "    dp = {}\n",
    "    i = 1\n",
    "    \n",
    "    while (i*i) <= n:\n",
    "        dp[i] = i * i\n",
    "        i += 1\n",
    "    \n",
    "    numbers = []\n",
    "    sum = n\n",
    "\n",
    "    for _, i in reversed(list(enumerate(dp))):\n",
    "        sum = n\n",
    "        for _, j in reversed(list(enumerate(dp[:i]))):\n",
    "            while (sum - dp[j]) >= 0:\n",
    "                numbers.append(dp[j])\n",
    "                sum -= dp[j]\n",
    "                print(numbers)\n",
    "    \n",
    "    print(dp)\n",
    "    print(numbers)\n",
    "        "
   ],
   "outputs": [],
   "execution_count": 22
  },
  {
   "metadata": {
    "ExecuteTime": {
     "end_time": "2024-08-05T01:57:28.412026Z",
     "start_time": "2024-08-05T01:57:28.359815Z"
    }
   },
   "cell_type": "code",
   "source": [
    "numSquares(13)"
   ],
   "id": "b15af559d8aaa85d",
   "outputs": [
    {
     "ename": "TypeError",
     "evalue": "unhashable type: 'slice'",
     "output_type": "error",
     "traceback": [
      "\u001B[0;31m---------------------------------------------------------------------------\u001B[0m",
      "\u001B[0;31mTypeError\u001B[0m                                 Traceback (most recent call last)",
      "Cell \u001B[0;32mIn[23], line 1\u001B[0m\n\u001B[0;32m----> 1\u001B[0m \u001B[43mnumSquares\u001B[49m\u001B[43m(\u001B[49m\u001B[38;5;241;43m13\u001B[39;49m\u001B[43m)\u001B[49m\n",
      "Cell \u001B[0;32mIn[22], line 16\u001B[0m, in \u001B[0;36mnumSquares\u001B[0;34m(n)\u001B[0m\n\u001B[1;32m     14\u001B[0m \u001B[38;5;28;01mfor\u001B[39;00m _, i \u001B[38;5;129;01min\u001B[39;00m \u001B[38;5;28mreversed\u001B[39m(\u001B[38;5;28mlist\u001B[39m(\u001B[38;5;28menumerate\u001B[39m(dp))):\n\u001B[1;32m     15\u001B[0m     \u001B[38;5;28msum\u001B[39m \u001B[38;5;241m=\u001B[39m n\n\u001B[0;32m---> 16\u001B[0m     \u001B[38;5;28;01mfor\u001B[39;00m _, j \u001B[38;5;129;01min\u001B[39;00m \u001B[38;5;28mreversed\u001B[39m(\u001B[38;5;28mlist\u001B[39m(\u001B[38;5;28menumerate\u001B[39m(\u001B[43mdp\u001B[49m\u001B[43m[\u001B[49m\u001B[43m:\u001B[49m\u001B[43mi\u001B[49m\u001B[43m]\u001B[49m))):\n\u001B[1;32m     17\u001B[0m         \u001B[38;5;28;01mwhile\u001B[39;00m (\u001B[38;5;28msum\u001B[39m \u001B[38;5;241m-\u001B[39m dp[j]) \u001B[38;5;241m>\u001B[39m\u001B[38;5;241m=\u001B[39m \u001B[38;5;241m0\u001B[39m:\n\u001B[1;32m     18\u001B[0m             numbers\u001B[38;5;241m.\u001B[39mappend(dp[j])\n",
      "\u001B[0;31mTypeError\u001B[0m: unhashable type: 'slice'"
     ]
    }
   ],
   "execution_count": 23
  },
  {
   "metadata": {},
   "cell_type": "code",
   "outputs": [],
   "execution_count": null,
   "source": [],
   "id": "bdc6e5ef0dc24b83"
  }
 ],
 "metadata": {
  "kernelspec": {
   "display_name": "Python 3",
   "language": "python",
   "name": "python3"
  },
  "language_info": {
   "codemirror_mode": {
    "name": "ipython",
    "version": 2
   },
   "file_extension": ".py",
   "mimetype": "text/x-python",
   "name": "python",
   "nbconvert_exporter": "python",
   "pygments_lexer": "ipython2",
   "version": "2.7.6"
  }
 },
 "nbformat": 4,
 "nbformat_minor": 5
}
