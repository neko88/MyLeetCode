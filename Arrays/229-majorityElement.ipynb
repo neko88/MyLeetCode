{
 "cells": [
  {
   "metadata": {},
   "cell_type": "markdown",
   "source": [
    "```\n",
    "input:\n",
    "    nums = array of ints\n",
    "output:\n",
    "    all elements that appear more than n/3 times\n",
    "\n",
    "Example 1:\n",
    "    Input: nums = [3,2,3]\n",
    "    Output: [3]\n",
    "\n",
    "Example 2:\n",
    "    Input: nums = [1]\n",
    "    Output: [1]\n",
    "\n",
    "Example 3:\n",
    "    Input: nums = [1,2]\n",
    "    Output: [1,2]\n",
    "```"
   ],
   "id": "ae870461cad6f39c"
  },
  {
   "metadata": {},
   "cell_type": "markdown",
   "source": [
    "```\n",
    "Approach\n",
    "    - majority array is unique\n",
    "\n",
    "```"
   ],
   "id": "214bbb8c4851424f"
  },
  {
   "metadata": {
    "ExecuteTime": {
     "end_time": "2024-05-21T21:28:31.792852Z",
     "start_time": "2024-05-21T21:28:31.786468Z"
    }
   },
   "cell_type": "code",
   "source": [
    "def majorityElement(nums):\n",
    "    res = {}\n",
    "    n = len(nums)\n",
    "    majority = set()\n",
    "    \n",
    "    for num in nums:\n",
    "        if num in res:\n",
    "            res[num] += 1\n",
    "            if res[num] > n//3:\n",
    "                majority.add(num)\n",
    "        else:\n",
    "            res[num] = 1\n",
    "    print(res)\n",
    "    if not majority and len(nums) <= 2:\n",
    "        return nums\n",
    "    \n",
    "    return list(majority)\n",
    "    "
   ],
   "id": "fee7c10fbd3cff8d",
   "outputs": [],
   "execution_count": 13
  },
  {
   "metadata": {
    "ExecuteTime": {
     "end_time": "2024-05-21T21:28:32.470947Z",
     "start_time": "2024-05-21T21:28:32.464925Z"
    }
   },
   "cell_type": "code",
   "source": "print(majorityElement([0,0,0]))",
   "id": "7f692e902e75b45",
   "execution_count": 14,
   "outputs": [
    {
     "name": "stdout",
     "output_type": "stream",
     "text": [
      "{0: 3}\n",
      "[0]\n"
     ]
    }
   ]
  },
  {
   "metadata": {},
   "cell_type": "code",
   "outputs": [],
   "execution_count": null,
   "source": [
    "from collections import Counter\n",
    "\n",
    "\n",
    "def majorityElement2(nums):\n",
    "    num_count = Counter(nums)   # initialize counter, first count all elements\n",
    "    majority = []\n",
    "    threshold = len(nums) // 3\n",
    "    \n",
    "    for num, count in num_count.items():\n",
    "        if count > threshold:\n",
    "            majority.append(num)\n",
    "    \n",
    "    return majority\n",
    "    "
   ],
   "id": "39d67dd0ecb16458"
  },
  {
   "metadata": {},
   "cell_type": "code",
   "outputs": [],
   "execution_count": null,
   "source": "",
   "id": "a081de9fcbcac60f"
  }
 ],
 "metadata": {
  "kernelspec": {
   "display_name": "Python 3",
   "language": "python",
   "name": "python3"
  },
  "language_info": {
   "codemirror_mode": {
    "name": "ipython",
    "version": 2
   },
   "file_extension": ".py",
   "mimetype": "text/x-python",
   "name": "python",
   "nbconvert_exporter": "python",
   "pygments_lexer": "ipython2",
   "version": "2.7.6"
  }
 },
 "nbformat": 4,
 "nbformat_minor": 5
}
