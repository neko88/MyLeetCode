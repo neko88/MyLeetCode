{
 "cells": [
  {
   "cell_type": "code",
   "execution_count": 2,
   "metadata": {
    "collapsed": true
   },
   "outputs": [],
   "source": [
    "class Solution1(object):\n",
    "    def findMedianSortedArrays(self, nums1, nums2):\n",
    "\n",
    "        merged = nums1 + nums2\n",
    "        merged.sort()\n",
    "        print(\"merged :\", merged)\n",
    "        total = len(merged)\n",
    "\n",
    "        if total % 1 == 1:\n",
    "            return float(merged[total] // 2)\n",
    "        else:\n",
    "            middle1 = merged[total // 2 - 1]\n",
    "            middle2 = merged[total // 2]\n",
    "            return (float(middle1) + float(middle2)) / 2.0"
   ]
  },
  {
   "cell_type": "code",
   "execution_count": 3,
   "outputs": [
    {
     "name": "stdout",
     "output_type": "stream",
     "text": [
      "merged : [1, 2, 2, 2, 4, 5, 5, 5, 7]\n",
      "3.0\n"
     ]
    }
   ],
   "source": [
    "nums1 = [2, 4, 5, 2, 7]\n",
    "nums2 = [1, 5, 2, 5]\n",
    "\n",
    "solution = Solution1()\n",
    "print(solution.findMedianSortedArrays(nums1, nums2))"
   ],
   "metadata": {
    "collapsed": false
   }
  },
  {
   "cell_type": "code",
   "execution_count": null,
   "outputs": [],
   "source": [],
   "metadata": {
    "collapsed": false
   }
  }
 ],
 "metadata": {
  "kernelspec": {
   "display_name": "Python 3",
   "language": "python",
   "name": "python3"
  },
  "language_info": {
   "codemirror_mode": {
    "name": "ipython",
    "version": 2
   },
   "file_extension": ".py",
   "mimetype": "text/x-python",
   "name": "python",
   "nbconvert_exporter": "python",
   "pygments_lexer": "ipython2",
   "version": "2.7.6"
  }
 },
 "nbformat": 4,
 "nbformat_minor": 0
}
