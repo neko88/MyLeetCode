{
 "cells": [
  {
   "cell_type": "markdown",
   "source": [],
   "metadata": {
    "collapsed": false
   }
  },
  {
   "cell_type": "markdown",
   "source": [
    "# 501. Find Mode in Binary Search Tree\n",
    "Easy\n",
    "\n",
    "### Given the root of a binary search tree (BST) with duplicates, return all the mode(s) (i.e., the most frequently occurred element) in it. If the tree has more than one mode, return them in any order.\n",
    "\n",
    "Assume a BST is defined as follows:\n",
    "\n",
    "The **left** subtree of a node contains only nodes with keys **less than or equal** to the node's key.\n",
    "The **right** subtree of a node contains only nodes with keys **greater than or equal** to the node's key.\n",
    "Both the left and right subtrees must also be binary search trees.\n",
    "\n",
    "```\n",
    "Example 1:\n",
    "    Input: root = [1,null,2,2]\n",
    "    Output: [2]\n",
    "\n",
    "Example 2:\n",
    "    Input: root = [0]\n",
    "    Output: [0]\n",
    "\n",
    "Constraints:\n",
    "    The number of nodes in the tree is in the range [1, 104].\n",
    "    -105 <= Node.val <= 105\n",
    "\n",
    "Follow up: Could you do that without using any extra space?\n",
    "(Assume that the implicit stack space incurred due to recursion does not count).\n",
    "```"
   ],
   "metadata": {
    "collapsed": false
   }
  },
  {
   "cell_type": "code",
   "execution_count": null,
   "outputs": [],
   "source": [],
   "metadata": {
    "collapsed": false
   }
  }
 ],
 "metadata": {
  "kernelspec": {
   "display_name": "Python 3",
   "language": "python",
   "name": "python3"
  },
  "language_info": {
   "codemirror_mode": {
    "name": "ipython",
    "version": 2
   },
   "file_extension": ".py",
   "mimetype": "text/x-python",
   "name": "python",
   "nbconvert_exporter": "python",
   "pygments_lexer": "ipython2",
   "version": "2.7.6"
  }
 },
 "nbformat": 4,
 "nbformat_minor": 0
}
