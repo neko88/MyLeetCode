{
 "cells": [
  {
   "cell_type": "markdown",
   "source": [
    "# 643. Maximum Average Subarray I\n",
    "Easy\n",
    "\n",
    "You are given an integer array nums consisting of n elements, and an integer k.\n",
    "\n",
    "### Find a contiguous subarray whose length is equal to k that has the maximum average value and return this value. Any answer with a calculation error less than 10-5 will be accepted.\n",
    "\n",
    "```\n",
    "Example 1:\n",
    "    Input: nums = [1,12,-5,-6,50,3], k = 4\n",
    "    Output: 12.75000\n",
    "    Explanation: Maximum average is\n",
    "\n",
    "    (12 - 5 - 6 + 50) / 4       --> sub array size k\n",
    "    = 51 / 4                    --> k\n",
    "    = 12.75\n",
    "\n",
    "Example 2:\n",
    "    Input: nums = [5], k = 1\n",
    "    Output: 5.00000\n",
    "\n",
    "Constraints:\n",
    "    n == nums.length\n",
    "    1 <= k <= n <= 105\n",
    "    -104 <= nums[i] <= 104\n",
    "```"
   ],
   "metadata": {
    "collapsed": false
   }
  },
  {
   "cell_type": "code",
   "source": [
    "def findMaxAverage(nums,k):\n",
    "    # take a window of k\n",
    "    # shift the window and calculate the avg\n",
    "    # each shift, divide the previous number\n",
    "    n = len(nums)\n",
    "\n",
    "    max_sum = float(0)\n",
    "\n",
    "    # begin the max sum of nums[0:k-1]\n",
    "    for i in range(k):\n",
    "        max_sum += nums[i]\n",
    "        print(max_sum, i)\n",
    "    if k == n:          # if equal, return the max_sum\n",
    "        return max_sum/k\n",
    "\n",
    "    # initialize the previous sum for iter. to be current max sum\n",
    "    prev_sum = max_sum\n",
    "    \n",
    "    # initialize the subtrahend as the first index\n",
    "    # this is subtracted for every shift in the iteration since it will be out of hte windoww\n",
    "    prev_idx = 0      # keep track of the prev_index\n",
    "    # start the iteration from k\n",
    "    curr = k\n",
    "\n",
    "    while curr < n:\n",
    "        # calculate the current window sum of size k:\n",
    "        # 1. subtract the prev_int from the sum\n",
    "        window_sum = prev_sum - float(nums[prev_idx])\n",
    "        print(\"1   window sum = prev_sum - prev_int     = {} - {}     = {}\".format(prev_sum, nums[prev_idx], window_sum))\n",
    "        \n",
    "        # 2. add the current/new index to the window sum\n",
    "        window_sum += nums[curr]\n",
    "        \n",
    "        # 3. set the current window and index as the prev. to prep for the next iter.\n",
    "        prev_sum = window_sum\n",
    "        prev_idx += 1\n",
    "        print(\"         current window sum: \", window_sum)\n",
    "        print(\"2   window sum = prev_sum - prev_int     = {} - {}     = {}\".format(prev_sum, nums[prev_idx], window_sum))\n",
    "        curr += 1\n",
    "        # 4. update and take the max_sum\n",
    "        max_sum = max(max_sum, window_sum)\n",
    "        \n",
    "    print(max_sum)\n",
    "    \n",
    "    # 5. return the average of the max sum found\n",
    "    return float(max_sum/float(k))"
   ],
   "metadata": {
    "collapsed": false,
    "ExecuteTime": {
     "end_time": "2024-06-09T20:09:25.897133Z",
     "start_time": "2024-06-09T20:09:25.889755Z"
    }
   },
   "outputs": [],
   "execution_count": 46
  },
  {
   "cell_type": "code",
   "source": [
    "nums = [7,4,5,8,8,3,9,8,7,6]\n",
    "k=7\n",
    "findMaxAverage(nums,k)"
   ],
   "metadata": {
    "collapsed": false,
    "ExecuteTime": {
     "end_time": "2024-06-09T20:09:26.036486Z",
     "start_time": "2024-06-09T20:09:26.023793Z"
    }
   },
   "outputs": [
    {
     "name": "stdout",
     "output_type": "stream",
     "text": [
      "7.0 0\n",
      "11.0 1\n",
      "16.0 2\n",
      "24.0 3\n",
      "32.0 4\n",
      "35.0 5\n",
      "44.0 6\n",
      "1   window sum = prev_sum - prev_int     = 44.0 - 7     = 37.0\n",
      "         current window sum:  45.0\n",
      "2   window sum = prev_sum - prev_int     = 45.0 - 4     = 45.0\n",
      "1   window sum = prev_sum - prev_int     = 45.0 - 4     = 41.0\n",
      "         current window sum:  48.0\n",
      "2   window sum = prev_sum - prev_int     = 48.0 - 5     = 48.0\n",
      "1   window sum = prev_sum - prev_int     = 48.0 - 5     = 43.0\n",
      "         current window sum:  49.0\n",
      "2   window sum = prev_sum - prev_int     = 49.0 - 8     = 49.0\n",
      "49.0\n"
     ]
    },
    {
     "data": {
      "text/plain": [
       "7.0"
      ]
     },
     "execution_count": 47,
     "metadata": {},
     "output_type": "execute_result"
    }
   ],
   "execution_count": 47
  },
  {
   "metadata": {
    "ExecuteTime": {
     "end_time": "2024-06-09T19:59:24.380893Z",
     "start_time": "2024-06-09T19:59:24.374275Z"
    }
   },
   "cell_type": "code",
   "source": [
    "nums = [3,3,4,3,0]\n",
    "k=3\n",
    "findMaxAverage(nums,k)"
   ],
   "outputs": [
    {
     "name": "stdout",
     "output_type": "stream",
     "text": [
      "3.0 0\n",
      "6.0 1\n",
      "10.0 2\n",
      "1   window sum = prev_sum - prev_int     = 10.0 - 3.0     = 7.0\n",
      "         current window sum:  10.0\n",
      "2   window sum = prev_sum - prev_int     = 10.0 - 3.0     = 10.0\n",
      "1   window sum = prev_sum - prev_int     = 10.0 - 3.0     = 7.0\n",
      "         current window sum:  7.0\n",
      "2   window sum = prev_sum - prev_int     = 7.0 - 0.0     = 7.0\n",
      "10.0\n"
     ]
    },
    {
     "data": {
      "text/plain": [
       "3.3333333333333335"
      ]
     },
     "execution_count": 26,
     "metadata": {},
     "output_type": "execute_result"
    }
   ],
   "execution_count": 26
  },
  {
   "metadata": {},
   "cell_type": "code",
   "outputs": [
    {
     "name": "stdout",
     "output_type": "stream",
     "text": [
      "1.0 0\n",
      "13.0 1\n",
      "8.0 2\n",
      "2.0 3\n",
      "1   window sum = prev_sum - prev_int     = 2.0 - 1.0     = 1.0\n",
      "         current window sum:  -5.0\n",
      "2   window sum = prev_sum - prev_int     = -5.0 - -6.0     = -5.0\n",
      "1   window sum = prev_sum - prev_int     = -5.0 - -6.0     = 1.0\n",
      "         current window sum:  51.0\n",
      "2   window sum = prev_sum - prev_int     = 51.0 - 50.0     = 51.0\n",
      "1   window sum = prev_sum - prev_int     = 51.0 - 50.0     = 1.0\n",
      "         current window sum:  4.0\n",
      "2   window sum = prev_sum - prev_int     = 4.0 - 3.0     = 4.0\n",
      "51.0\n"
     ]
    },
    {
     "data": {
      "text/plain": [
       "12.75"
      ]
     },
     "execution_count": 19,
     "metadata": {},
     "output_type": "execute_result"
    }
   ],
   "execution_count": 19,
   "source": [
    "nums = [1,12,-5,-6,50,3]\n",
    "k = 4\n",
    "findMaxAverage(nums,k)"
   ]
  },
  {
   "metadata": {},
   "cell_type": "code",
   "outputs": [
    {
     "name": "stdout",
     "output_type": "stream",
     "text": [
      "5.0 0\n"
     ]
    },
    {
     "data": {
      "text/plain": [
       "5.0"
      ]
     },
     "execution_count": 20,
     "metadata": {},
     "output_type": "execute_result"
    }
   ],
   "execution_count": 20,
   "source": [
    "nums = [5]\n",
    "k = 1\n",
    "findMaxAverage(nums,k)"
   ]
  },
  {
   "cell_type": "code",
   "execution_count": null,
   "outputs": [],
   "source": [],
   "metadata": {
    "collapsed": false
   }
  },
  {
   "cell_type": "code",
   "execution_count": 89,
   "outputs": [],
   "source": [],
   "metadata": {
    "collapsed": false
   }
  }
 ],
 "metadata": {
  "kernelspec": {
   "display_name": "Python 3",
   "language": "python",
   "name": "python3"
  },
  "language_info": {
   "codemirror_mode": {
    "name": "ipython",
    "version": 2
   },
   "file_extension": ".py",
   "mimetype": "text/x-python",
   "name": "python",
   "nbconvert_exporter": "python",
   "pygments_lexer": "ipython2",
   "version": "2.7.6"
  }
 },
 "nbformat": 4,
 "nbformat_minor": 0
}
