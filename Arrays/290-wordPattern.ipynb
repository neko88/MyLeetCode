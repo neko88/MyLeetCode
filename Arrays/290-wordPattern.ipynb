{
 "cells": [
  {
   "metadata": {},
   "cell_type": "markdown",
   "source": [
    "```\n",
    "input: \n",
    "    pattern = pattern of letters\n",
    "    s  = string of words\n",
    "output:\n",
    "    True - the letters of pattern match unique words\n",
    "    False - there are more than one value that map to the same letter\n",
    "    \n",
    "```"
   ],
   "id": "ba0719930146a0ea"
  },
  {
   "metadata": {},
   "cell_type": "markdown",
   "source": [
    "\n",
    "# Approach:\n",
    "    Use a dictionary to map first occurences\n",
    "\n",
    "1. create dictionary\n",
    "2. split string\n",
    "3. check base cases: length, unique?\n",
    "\n",
    "## loop:\n",
    "\n",
    "4. enumerate i, c. go through the pattern\n",
    "\n",
    "5. check: is c in dic?\n",
    "    - if yes, check if vals match\n",
    "    - if not, add and map to current val\n"
   ],
   "id": "853af6e5de220cd1"
  },
  {
   "metadata": {},
   "cell_type": "code",
   "outputs": [],
   "execution_count": null,
   "source": [
    "class Solution(object):\n",
    "    def wordPattern(self, pattern, s):\n",
    "        \"\"\"\n",
    "        :type pattern: str\n",
    "        :type s: str\n",
    "        :rtype: bool\n",
    "        \"\"\"\n",
    "        dic = {}  # key: pattern letter     value: word\n",
    "        words = s.split(' ')\n",
    "\t\t\n",
    "        # set checks if same number of unique values in each param.\n",
    "        if len(pattern) != len(words) or len(set(pattern)) != len(set(words)): return False\n",
    "        \n",
    "        # enumerate: index: char\n",
    "            # 'a' : dog     'b' : cat   \n",
    "        for i, c in enumerate(pattern):\n",
    "            if c in dic:  \n",
    "                # c has been mapped to some word\n",
    "                # check if vals match in the current word\n",
    "                if dic[c] != words[i]: return False  # 'aba' -> 'cat dog dog'\n",
    "            else:\n",
    "                # register a new char to the dictionary 'a' : dog\n",
    "                dic[c] = words[i]\n",
    "        return True"
   ],
   "id": "436b0b83f4704194"
  },
  {
   "metadata": {},
   "cell_type": "code",
   "outputs": [],
   "execution_count": null,
   "source": [],
   "id": "14dafcfe8c44123"
  }
 ],
 "metadata": {
  "kernelspec": {
   "display_name": "Python 3",
   "language": "python",
   "name": "python3"
  },
  "language_info": {
   "codemirror_mode": {
    "name": "ipython",
    "version": 2
   },
   "file_extension": ".py",
   "mimetype": "text/x-python",
   "name": "python",
   "nbconvert_exporter": "python",
   "pygments_lexer": "ipython2",
   "version": "2.7.6"
  }
 },
 "nbformat": 4,
 "nbformat_minor": 5
}
