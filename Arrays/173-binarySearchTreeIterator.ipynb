{
 "cells": [
  {
   "metadata": {},
   "cell_type": "markdown",
   "source": [
    "```\n",
    "# Definition for a binary tree node.\n",
    "# class TreeNode(object):\n",
    "#     def __init__(self, val=0, left=None, right=None):\n",
    "#         self.val = val\n",
    "#         self.left = left\n",
    "#         self.right = right\n",
    "\n",
    "class BSTIterator(object):\n",
    "\n",
    "    def __init__(self, root):\n",
    "        \"\"\"\n",
    "        :type root: TreeNode\n",
    "        \"\"\"\n",
    "        \n",
    "    def next(self):\n",
    "        \"\"\"\n",
    "        :rtype: int\n",
    "        \"\"\"\n",
    "\n",
    "    def hasNext(self):\n",
    "        \"\"\"\n",
    "        :rtype: bool\n",
    "        \"\"\"\n",
    "       \n",
    "# Your BSTIterator object will be instantiated and called as such:\n",
    "# obj = BSTIterator(root)\n",
    "# param_1 = obj.next()\n",
    "# param_2 = obj.hasNext()\n",
    "```"
   ],
   "id": "15b256902c880ae3"
  },
  {
   "metadata": {},
   "cell_type": "markdown",
   "source": [
    "```\n",
    "problem: implement BST iter class that iterates a BST in-order traversal\n",
    "\n",
    "BSTIterator(root) --> new iter\n",
    "    - initializes an object of the BSTIterator class\n",
    "    - pointer shall be initialized to a non-existance number smaller than any element in the BST.\n",
    "hasNext()   --> bool\n",
    "    - returns true if exists a number in the traversal to the right of the current pointer, else false\n",
    "next()      --> int value\n",
    "    - moves pointer to the right, then returns the number at the pointer\n",
    "    - first call to next() returns the smallest element in the BST\n",
    "    \n",
    "```"
   ],
   "id": "ec3284a075c767a5"
  },
  {
   "metadata": {},
   "cell_type": "markdown",
   "source": "",
   "id": "5e0878bbf3fd57f"
  },
  {
   "metadata": {},
   "cell_type": "code",
   "outputs": [],
   "execution_count": null,
   "source": [
    "# Definition for a binary tree node.\n",
    "# class TreeNode(object):\n",
    "#     def __init__(self, val=0, left=None, right=None):\n",
    "#         self.val = val\n",
    "#         self.left = left\n",
    "#         self.right = right\n",
    "\n",
    "class BSTIterator(object):\n",
    "    def __init__(self, root):\n",
    "        \"\"\"\n",
    "        :type root: TreeNode\n",
    "        \"\"\"\n",
    "        self.iter = self._inOrder(root)     # Initialize iterator (generator)\n",
    "        self.nxt = next(self.iter, None)    # Return next item from the iterator\n",
    "\n",
    "    def _inOrder(self, node):\n",
    "        if node:\n",
    "            yield from self._inorder(node.left)\n",
    "            yield node.val\n",
    "            yield from self._inOrder(node.right)\n",
    "        \n",
    "    def next(self):\n",
    "        \"\"\"\n",
    "        :rtype: int\n",
    "        \"\"\"\n",
    "        new_node, self.nxt = self.nxt, next(self.iter,None)\n",
    "        return new_node\n",
    "\n",
    "    def hasNext(self):\n",
    "        \"\"\"\n",
    "        :rtype: bool\n",
    "        \"\"\"\n",
    "        return self.nxt is not None\n",
    "    \n",
    "    '''\n",
    "    TC: O(1), since the generator object handles everything for us.\n",
    "    EDIT: Amortised O(1), see this comment for a simple explanation.\n",
    "    SC: O(h), due to the implicit recursive call stack used by the generator function.\n",
    "    '''"
   ],
   "id": "a5dd04a95ab825b3"
  },
  {
   "metadata": {},
   "cell_type": "markdown",
   "source": [
    "```\n",
    "Your input\n",
    "[\"BSTIterator\",\"next\",\"next\",\"hasNext\",\"next\",\"hasNext\",\"next\",\"hasNext\",\"next\",\"hasNext\"]\n",
    "[[[7,3,15,null,null,9,20]],[],[],[],[],[],[],[],[],[]]\n",
    "Output\n",
    "[null,3,7,true,9,true,15,true,20,false]\n",
    "Expected\n",
    "[null,3,7,true,9,true,15,true,20,false]\n",
    "```"
   ],
   "id": "6790622c5fdf387d"
  }
 ],
 "metadata": {
  "kernelspec": {
   "display_name": "Python 3",
   "language": "python",
   "name": "python3"
  },
  "language_info": {
   "codemirror_mode": {
    "name": "ipython",
    "version": 2
   },
   "file_extension": ".py",
   "mimetype": "text/x-python",
   "name": "python",
   "nbconvert_exporter": "python",
   "pygments_lexer": "ipython2",
   "version": "2.7.6"
  }
 },
 "nbformat": 4,
 "nbformat_minor": 5
}
