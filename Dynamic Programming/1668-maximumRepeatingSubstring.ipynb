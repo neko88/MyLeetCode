{
 "cells": [
  {
   "cell_type": "code",
   "id": "initial_id",
   "metadata": {
    "collapsed": true,
    "ExecuteTime": {
     "end_time": "2024-06-13T00:45:43.392359Z",
     "start_time": "2024-06-13T00:45:43.385548Z"
    }
   },
   "source": [
    "def maxRepeatingsequence(sequence, word):\n",
    "    n = len(sequence)//len(word)\n",
    "    print(\"n: \", n)\n",
    "    ans = 0\n",
    "    for i in range(1,n+1):\n",
    "        print (\"if  {}*{}: {}    in sequence:   ans = {}\".format(word, i,word*i, max(ans,i)))\n",
    "        if word*i in sequence: ans = max(ans, i)\n",
    "    return ans\n",
    "                "
   ],
   "outputs": [],
   "execution_count": 1
  },
  {
   "metadata": {
    "ExecuteTime": {
     "end_time": "2024-06-13T00:45:43.667763Z",
     "start_time": "2024-06-13T00:45:43.660463Z"
    }
   },
   "cell_type": "code",
   "source": [
    "sequence = \"ababc\"\n",
    "word = \"ab\"\n",
    "maxRepeatingsequence(sequence, word)"
   ],
   "id": "6fa79113f5030945",
   "outputs": [
    {
     "name": "stdout",
     "output_type": "stream",
     "text": [
      "n:  2\n",
      "if  ab*1: ab    in sequence:   ans = 1\n",
      "if  ab*2: abab    in sequence:   ans = 2\n"
     ]
    },
    {
     "data": {
      "text/plain": "2"
     },
     "execution_count": 2,
     "metadata": {},
     "output_type": "execute_result"
    }
   ],
   "execution_count": 2
  },
  {
   "metadata": {
    "ExecuteTime": {
     "end_time": "2024-06-13T00:43:31.400175Z",
     "start_time": "2024-06-13T00:43:31.387372Z"
    }
   },
   "cell_type": "code",
   "source": [
    "sequence = \"a\"\n",
    "word = \"b\"\n",
    "maxRepeatingsequence(sequence, word)"
   ],
   "id": "2d6c20960fe2af72",
   "outputs": [
    {
     "data": {
      "text/plain": [
       "0"
      ]
     },
     "execution_count": 48,
     "metadata": {},
     "output_type": "execute_result"
    }
   ],
   "execution_count": 48
  },
  {
   "metadata": {
    "ExecuteTime": {
     "end_time": "2024-06-13T00:39:07.428380Z",
     "start_time": "2024-06-13T00:39:07.419285Z"
    }
   },
   "cell_type": "code",
   "source": [
    "sequence = \"ababc\"\n",
    "word = \"ac\"\n",
    "maxRepeatingsequence(sequence, word)"
   ],
   "id": "9f1963a8827b9dee",
   "outputs": [
    {
     "name": "stdout",
     "output_type": "stream",
     "text": [
      "0 a\n",
      "1 c\n"
     ]
    },
    {
     "data": {
      "text/plain": [
       "1"
      ]
     },
     "execution_count": 42,
     "metadata": {},
     "output_type": "execute_result"
    }
   ],
   "execution_count": 42
  },
  {
   "metadata": {},
   "cell_type": "code",
   "outputs": [
    {
     "name": "stdout",
     "output_type": "stream",
     "text": [
      "a\n",
      "b\n",
      "c\n",
      "c\n",
      "c\n",
      "ab\n",
      "bc\n",
      "cc\n",
      "cc\n",
      "abc\n",
      "bcc\n",
      "ccc\n",
      "abcc\n",
      "bccc\n",
      "abccc\n"
     ]
    }
   ],
   "execution_count": 4,
   "source": [
    "def subString(Str,n):\n",
    "\n",
    "    # Pick starting point\n",
    "    for Len in range(1,n + 1):\n",
    "\n",
    "        # Pick ending point\n",
    "        for i in range(n - Len + 1):\n",
    "\n",
    "            # Print characters from current\n",
    "            # starting point to current ending\n",
    "            # point.\n",
    "            j = i + Len - 1\n",
    "\n",
    "            for k in range(i,j + 1):\n",
    "                print(Str[k],end=\"\")\n",
    "            print()\n",
    "\n",
    "# Driver program to test above function\n",
    "Str = \"abccc\"\n",
    "subString(Str,len(Str))"
   ],
   "id": "b9539214cf521859"
  },
  {
   "cell_type": "code",
   "execution_count": null,
   "outputs": [],
   "source": [],
   "metadata": {
    "collapsed": false
   }
  }
 ],
 "metadata": {
  "kernelspec": {
   "display_name": "Python 3",
   "language": "python",
   "name": "python3"
  },
  "language_info": {
   "codemirror_mode": {
    "name": "ipython",
    "version": 2
   },
   "file_extension": ".py",
   "mimetype": "text/x-python",
   "name": "python",
   "nbconvert_exporter": "python",
   "pygments_lexer": "ipython2",
   "version": "2.7.6"
  }
 },
 "nbformat": 4,
 "nbformat_minor": 5
}
