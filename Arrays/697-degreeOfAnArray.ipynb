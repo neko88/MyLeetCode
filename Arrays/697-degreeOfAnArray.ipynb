{
 "cells": [
  {
   "cell_type": "markdown",
   "source": [
    "# 697. Degree of an Array\n",
    "Easy\n",
    "\n",
    "Given a non-empty array of non-negative integers nums, the degree of this array is defined as the maximum frequency of any one of its elements.\n",
    "\n",
    "### Your task is to find the smallest possible length of a (contiguous) subarray of nums, that has the same degree as nums.\n",
    "\n",
    "\n",
    "```\n",
    "Example 1:\n",
    "    Input: nums = [1,2,2,3,1]\n",
    "    Output: 2\n",
    "    Explanation:\n",
    "    The input array has a degree of 2 because both elements 1 and 2 appear twice.\n",
    "    Of the subarrays that have the same degree:\n",
    "    [1, 2, 2, 3, 1], [1, 2, 2, 3], [2, 2, 3, 1], [1, 2, 2], [2, 2, 3], [2, 2]\n",
    "    The shortest length is 2. So return 2.\n",
    "\n",
    "Example 2:\n",
    "    Input: nums = [1,2,2,3,1,4,2]\n",
    "    Output: 6\n",
    "    Explanation:\n",
    "    The degree is 3 because the element 2 is repeated 3 times.\n",
    "    So [2,2,3,1,4,2] is the shortest subarray, therefore returning 6.\n",
    "\n",
    "Constraints:\n",
    "    nums.length will be between 1 and 50,000.\n",
    "    nums[i] will be an integer between 0 and 49,999.\n",
    "```"
   ],
   "metadata": {
    "collapsed": false
   }
  },
  {
   "metadata": {
    "ExecuteTime": {
     "end_time": "2024-06-10T17:58:19.761880Z",
     "start_time": "2024-06-10T17:58:19.752527Z"
    }
   },
   "cell_type": "code",
   "source": [
    "# The goal is to find the smallest possible subarray containing the same degree of the most frequent value. This can be considered the smallest window of this value that starts with it and ends in it.\n",
    "\n",
    "def findShortestSubArray(nums):\n",
    "    dic = {}\n",
    "\n",
    "    # locate where each value is in the array and save its index as its value\n",
    "    for i, n in enumerate(nums):\n",
    "        print(\"for num, idx \", n, i)\n",
    "        # if the value is in the dic, append the idx.\n",
    "        if n in dic:\n",
    "            dic[n].append(i)\n",
    "            print(\"          in: \", dic[n])\n",
    "        else:\n",
    "            # if not in dic, add and add array beginning with idx.\n",
    "            dic[n] = [i]\n",
    "            print(\"          else: \", dic[n])\n",
    "\n",
    "    degree = max( [len(i) for i in dic.values()] )\n",
    "    print(max( [len(i) for i in dic.values()] ))\n",
    "\n",
    "    smallest = float('inf')\n",
    "\n",
    "    print(\"\\n\",dic)\n",
    "    # iterate the dictionary to find the bucket arrays with length equal to the degree of the max.frequency value\n",
    "    for k in dic:\n",
    "        if len(dic[k]) == degree:\n",
    "            print(\"key = {}      dic[k][-1] - dic[k][0] = {} - {} \\n = distance ({})\".format(k, dic[k][-1], dic[k][0], dic[k][-1] - dic[k][0]))\n",
    "            smallest = min(smallest, (dic[k][-1] - dic[k][0]))\n",
    "            \n",
    "    # add one to account for an index\n",
    "    return smallest + 1\n",
    "    #miner = min( [i[-1] - i[0] for i in dic.values() if len(i) == maxer]) + 1\n",
    "\n"
   ],
   "outputs": [],
   "execution_count": 21
  },
  {
   "cell_type": "code",
   "source": [
    "nums = [1,2,2,3,1]\n",
    "findShortestSubArray(nums)"
   ],
   "metadata": {
    "collapsed": false,
    "ExecuteTime": {
     "end_time": "2024-06-10T17:58:20.041691Z",
     "start_time": "2024-06-10T17:58:20.032527Z"
    }
   },
   "outputs": [
    {
     "name": "stdout",
     "output_type": "stream",
     "text": [
      "for num, idx  1 0\n",
      "          else:  [0]\n",
      "for num, idx  2 1\n",
      "          else:  [1]\n",
      "for num, idx  2 2\n",
      "          in:  [1, 2]\n",
      "for num, idx  3 3\n",
      "          else:  [3]\n",
      "for num, idx  1 4\n",
      "          in:  [0, 4]\n",
      "2\n",
      "\n",
      " {1: [0, 4], 2: [1, 2], 3: [3]}\n",
      "key = 1      dic[k][-1] - dic[k][0] = 4 - 0 \n",
      " = distance (4)\n",
      "key = 2      dic[k][-1] - dic[k][0] = 2 - 1 \n",
      " = distance (1)\n"
     ]
    },
    {
     "data": {
      "text/plain": [
       "2"
      ]
     },
     "execution_count": 22,
     "metadata": {},
     "output_type": "execute_result"
    }
   ],
   "execution_count": 22
  },
  {
   "cell_type": "code",
   "source": [
    "nums = [1,2,2,3,1,4,2]\n",
    "findShortestSubArray(nums)"
   ],
   "metadata": {
    "collapsed": false,
    "ExecuteTime": {
     "end_time": "2024-06-10T17:58:21.152304Z",
     "start_time": "2024-06-10T17:58:21.143283Z"
    }
   },
   "outputs": [
    {
     "name": "stdout",
     "output_type": "stream",
     "text": [
      "for num, idx  1 0\n",
      "          else:  [0]\n",
      "for num, idx  2 1\n",
      "          else:  [1]\n",
      "for num, idx  2 2\n",
      "          in:  [1, 2]\n",
      "for num, idx  3 3\n",
      "          else:  [3]\n",
      "for num, idx  1 4\n",
      "          in:  [0, 4]\n",
      "for num, idx  4 5\n",
      "          else:  [5]\n",
      "for num, idx  2 6\n",
      "          in:  [1, 2, 6]\n",
      "3\n",
      "\n",
      " {1: [0, 4], 2: [1, 2, 6], 3: [3], 4: [5]}\n",
      "key = 2      dic[k][-1] - dic[k][0] = 6 - 1 \n",
      " = distance (5)\n"
     ]
    },
    {
     "data": {
      "text/plain": [
       "6"
      ]
     },
     "execution_count": 23,
     "metadata": {},
     "output_type": "execute_result"
    }
   ],
   "execution_count": 23
  },
  {
   "cell_type": "code",
   "execution_count": null,
   "outputs": [],
   "source": [],
   "metadata": {
    "collapsed": false
   }
  }
 ],
 "metadata": {
  "kernelspec": {
   "display_name": "Python 3",
   "language": "python",
   "name": "python3"
  },
  "language_info": {
   "codemirror_mode": {
    "name": "ipython",
    "version": 2
   },
   "file_extension": ".py",
   "mimetype": "text/x-python",
   "name": "python",
   "nbconvert_exporter": "python",
   "pygments_lexer": "ipython2",
   "version": "2.7.6"
  }
 },
 "nbformat": 4,
 "nbformat_minor": 0
}
