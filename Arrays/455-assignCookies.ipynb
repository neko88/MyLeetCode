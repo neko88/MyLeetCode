{
 "cells": [
  {
   "metadata": {},
   "cell_type": "markdown",
   "source": [
    "# 455. Assign Cookies\n",
    "Easy\n",
    "\n",
    "### Assume you are an awesome parent and want to give your children some cookies. But, you should give each child at most one cookie.\n",
    "\n",
    "Each child i has a greed factor g[i], which is the minimum size of a cookie that the child will be content with; and each cookie j has a size s[j]. If s[j] >= g[i], we can assign the cookie j to the child i, and the child i will be content. Your goal is to maximize the number of your content children and output the maximum number.\n",
    "\n",
    " \n",
    "```\n",
    "Example 1:\n",
    "    Input: g = [1,2,3], s = [1,1]\n",
    "    Output: 1\n",
    "    Explanation: You have 3 children and 2 cookies. The greed factors of 3 children are 1, 2, 3. \n",
    "    And even though you have 2 cookies, since their size is both 1, you could only make the child whose greed factor is 1 content.\n",
    "    You need to output 1.\n",
    "\n",
    "Example 2:\n",
    "    Input: g = [1,2], s = [1,2,3]\n",
    "    Output: 2\n",
    "    Explanation: You have 2 children and 3 cookies. The greed factors of 2 children are 1, 2. \n",
    "    You have 3 cookies and their sizes are big enough to gratify all of the children, \n",
    "    You need to output 2.\n",
    " \n",
    "Constraints:\n",
    "    1 <= g.length <= 3 * 104\n",
    "    0 <= s.length <= 3 * 104\n",
    "    1 <= g[i], s[j] <= 231 - 1\n",
    "```"
   ],
   "id": "dbca88be413eaedd"
  },
  {
   "metadata": {
    "ExecuteTime": {
     "end_time": "2024-06-02T02:14:04.001598Z",
     "start_time": "2024-06-02T02:14:03.992443Z"
    }
   },
   "cell_type": "code",
   "source": [
    "def findContentChildren(g,s):\n",
    "    greed = g.sort()\n",
    "    size = s.sort()\n",
    "\n",
    "    # to keep a track of the number of children satisfied\n",
    "    num_children_satisfied = 0\n",
    "\n",
    "    # to offer child[j]\n",
    "    j = 0\n",
    "\n",
    "    for i in range(len(size)):\n",
    "        if greed[j] <= size[i]:            # given condition that size of cookie can satisfy child j\n",
    "            j = j + 1                       # if so, go to next child\n",
    "            num_children_satisfied += 1\n",
    "\n",
    "        # stop checking when all children offered\n",
    "        if j == len(greed):\n",
    "            break\n",
    "\n",
    "    return num_children_satisfied"
   ],
   "id": "f732f8b7a2fff982",
   "outputs": [],
   "execution_count": 7
  },
  {
   "metadata": {
    "ExecuteTime": {
     "end_time": "2024-06-02T02:14:04.247039Z",
     "start_time": "2024-06-02T02:14:04.237626Z"
    }
   },
   "cell_type": "code",
   "source": [
    "g1 = [1,2]\n",
    "s1 = [2, 3]\n",
    "findContentChildren(g1, s1)"
   ],
   "id": "a916600182dfce52",
   "outputs": [
    {
     "ename": "TypeError",
     "evalue": "object of type 'NoneType' has no len()",
     "output_type": "error",
     "traceback": [
      "\u001B[1;31m---------------------------------------------------------------------------\u001B[0m",
      "\u001B[1;31mTypeError\u001B[0m                                 Traceback (most recent call last)",
      "Cell \u001B[1;32mIn[8], line 3\u001B[0m\n\u001B[0;32m      1\u001B[0m g1 \u001B[38;5;241m=\u001B[39m [\u001B[38;5;241m1\u001B[39m,\u001B[38;5;241m2\u001B[39m]\n\u001B[0;32m      2\u001B[0m s1 \u001B[38;5;241m=\u001B[39m [\u001B[38;5;241m2\u001B[39m, \u001B[38;5;241m3\u001B[39m]\n\u001B[1;32m----> 3\u001B[0m \u001B[43mfindContentChildren\u001B[49m\u001B[43m(\u001B[49m\u001B[43mg1\u001B[49m\u001B[43m,\u001B[49m\u001B[43m \u001B[49m\u001B[43ms1\u001B[49m\u001B[43m)\u001B[49m\n",
      "Cell \u001B[1;32mIn[7], line 11\u001B[0m, in \u001B[0;36mfindContentChildren\u001B[1;34m(g, s)\u001B[0m\n\u001B[0;32m      8\u001B[0m \u001B[38;5;66;03m# to offer child[j]\u001B[39;00m\n\u001B[0;32m      9\u001B[0m j \u001B[38;5;241m=\u001B[39m \u001B[38;5;241m0\u001B[39m\n\u001B[1;32m---> 11\u001B[0m \u001B[38;5;28;01mfor\u001B[39;00m i \u001B[38;5;129;01min\u001B[39;00m \u001B[38;5;28mrange\u001B[39m(\u001B[38;5;28;43mlen\u001B[39;49m\u001B[43m(\u001B[49m\u001B[43msize\u001B[49m\u001B[43m)\u001B[49m):\n\u001B[0;32m     12\u001B[0m     \u001B[38;5;28;01mif\u001B[39;00m greed[j] \u001B[38;5;241m<\u001B[39m\u001B[38;5;241m=\u001B[39m size[i]:            \u001B[38;5;66;03m# given condition that size of cookie can satisfy child j\u001B[39;00m\n\u001B[0;32m     13\u001B[0m         j \u001B[38;5;241m=\u001B[39m j \u001B[38;5;241m+\u001B[39m \u001B[38;5;241m1\u001B[39m                       \u001B[38;5;66;03m# if so, go to next child\u001B[39;00m\n",
      "\u001B[1;31mTypeError\u001B[0m: object of type 'NoneType' has no len()"
     ]
    }
   ],
   "execution_count": 8
  },
  {
   "metadata": {},
   "cell_type": "markdown",
   "source": [],
   "id": "16e4a9a80dbaba64"
  },
  {
   "metadata": {
    "ExecuteTime": {
     "end_time": "2024-06-02T02:16:01.911285Z",
     "start_time": "2024-06-02T02:16:01.902346Z"
    }
   },
   "cell_type": "code",
   "source": [
    "g2 = [1,2,3]\n",
    "s2 = [1,1]\n",
    "findContentChildren(g2,s2)"
   ],
   "id": "afb7951c77d5b484",
   "outputs": [
    {
     "data": {
      "text/plain": "1"
     },
     "execution_count": 5,
     "metadata": {},
     "output_type": "execute_result"
    }
   ],
   "execution_count": 5
  },
  {
   "cell_type": "code",
   "execution_count": null,
   "outputs": [],
   "source": [],
   "metadata": {
    "collapsed": false
   }
  }
 ],
 "metadata": {
  "kernelspec": {
   "display_name": "Python 3",
   "language": "python",
   "name": "python3"
  },
  "language_info": {
   "codemirror_mode": {
    "name": "ipython",
    "version": 2
   },
   "file_extension": ".py",
   "mimetype": "text/x-python",
   "name": "python",
   "nbconvert_exporter": "python",
   "pygments_lexer": "ipython2",
   "version": "2.7.6"
  }
 },
 "nbformat": 4,
 "nbformat_minor": 5
}
