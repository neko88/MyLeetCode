{
 "cells": [
  {
   "metadata": {},
   "cell_type": "markdown",
   "source": [
    "# 303. Range Sum Query - Immutable\n",
    "Easy\n",
    "\n",
    "Given an integer array nums, handle multiple queries of the following type:\n",
    "\n",
    "### Calculate the sum of the elements of nums between indices left and right inclusive where left <= right.\n"
   ],
   "id": "3edf856316dd4e73"
  },
  {
   "metadata": {},
   "cell_type": "markdown",
   "source": [
    "```\n",
    "Implement the NumArray class:\n",
    "- NumArray(int[] nums) Initializes the object with the integer array nums.\n",
    "- int sumRange(int left, int right) Returns the sum of the \n",
    "elements of nums between indices left and right inclusive\n",
    " (i.e. nums[left] + nums[left + 1] + ... + nums[right])\n",
    "```"
   ],
   "id": "a5198cffd72e8e7c"
  },
  {
   "metadata": {},
   "cell_type": "markdown",
   "source": [
    "```\n",
    "Example 1:\n",
    "    Input\n",
    "    [\"NumArray\", \"sumRange\", \"sumRange\", \"sumRange\"]\n",
    "    [[[-2, 0, 3, -5, 2, -1]], [0, 2], [2, 5], [0, 5]]\n",
    "\n",
    "    Output\n",
    "    [null, 1, -1, -3]\n",
    "\n",
    "    Explanation\n",
    "    NumArray numArray = new NumArray([-2, 0, 3, -5, 2, -1]);\n",
    "    numArray.sumRange(0, 2); // return (-2) + 0 + 3 = 1\n",
    "    numArray.sumRange(2, 5); // return 3 + (-5) + 2 + (-1) = -1\n",
    "    numArray.sumRange(0, 5); // return (-2) + 0 + 3 + (-5) + 2 + (-1) = -3\n",
    " \n",
    "\n",
    "Constraints:\n",
    "    1 <= nums.length <= 104\n",
    "    -105 <= nums[i] <= 105\n",
    "    0 <= left <= right < nums.length\n",
    "    At most 104 calls will be made to sumRange.\n",
    "\n",
    "```"
   ],
   "id": "50ea07a2857120d5"
  },
  {
   "metadata": {
    "ExecuteTime": {
     "end_time": "2024-06-01T00:48:33.957573Z",
     "start_time": "2024-06-01T00:48:33.948015Z"
    }
   },
   "cell_type": "code",
   "source": [
    "class NumArray(object):\n",
    "\n",
    "    def __init__(self, nums):\n",
    "        \"\"\"\n",
    "        :type nums: List[int]\n",
    "        \"\"\"\n",
    "        self.nums = nums\n",
    "        \n",
    "\n",
    "    def sumRange(self, left, right):\n",
    "        \"\"\"\n",
    "        :type left: int\n",
    "        :type right: int\n",
    "        :rtype: int\n",
    "        \"\"\"\n",
    "        if left == right:\n",
    "            return self.nums[left]\n",
    "        \n",
    "        if left <= right:\n",
    "            print(\"--> left: \" + str(left)  + \", right: \" + str(right))\n",
    "            sum = 0\n",
    "            for i in range(left, right + 1):\n",
    "                sum += self.nums[i]\n",
    "        print(\"sum: \", sum)\n",
    "        return sum\n",
    "        \n",
    "# Your NumArray object will be instantiated and called as such:\n",
    "# obj = NumArray(nums)\n",
    "# param_1 = obj.sumRange(left,right)"
   ],
   "id": "5d3b3b17623f60ba",
   "outputs": [],
   "execution_count": 11
  },
  {
   "metadata": {
    "ExecuteTime": {
     "end_time": "2024-06-01T00:48:34.299865Z",
     "start_time": "2024-06-01T00:48:34.291279Z"
    }
   },
   "cell_type": "code",
   "source": [
    "numArray = NumArray([-2, 0, 3, -5, 2, -1])\n",
    "print(numArray.nums)\n",
    "numArray.sumRange(0, 2)\n",
    "numArray.sumRange(2, 5)\n",
    "numArray.sumRange(0, 5)"
   ],
   "id": "875be83cf1761fef",
   "outputs": [
    {
     "name": "stdout",
     "output_type": "stream",
     "text": [
      "[-2, 0, 3, -5, 2, -1]\n",
      "--> left: 0, right: 2\n",
      "sum:  1\n",
      "--> left: 2, right: 5\n",
      "sum:  -1\n",
      "--> left: 0, right: 5\n",
      "sum:  -3\n"
     ]
    },
    {
     "data": {
      "text/plain": [
       "-3"
      ]
     },
     "execution_count": 12,
     "metadata": {},
     "output_type": "execute_result"
    }
   ],
   "execution_count": 12
  },
  {
   "metadata": {},
   "cell_type": "code",
   "outputs": [],
   "execution_count": null,
   "source": "",
   "id": "f62c3cdb92fdee2a"
  }
 ],
 "metadata": {
  "kernelspec": {
   "display_name": "Python 3",
   "language": "python",
   "name": "python3"
  },
  "language_info": {
   "codemirror_mode": {
    "name": "ipython",
    "version": 2
   },
   "file_extension": ".py",
   "mimetype": "text/x-python",
   "name": "python",
   "nbconvert_exporter": "python",
   "pygments_lexer": "ipython2",
   "version": "2.7.6"
  }
 },
 "nbformat": 4,
 "nbformat_minor": 5
}
