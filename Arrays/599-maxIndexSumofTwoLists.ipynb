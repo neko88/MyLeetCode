{
 "cells": [
  {
   "metadata": {},
   "cell_type": "markdown",
   "source": [
    "# 599. Minimum Index Sum of Two Lists\n",
    "Easy\n",
    "\n",
    "Given two arrays of strings list1 and list2, find the common strings with the least index sum.\n",
    "\n",
    "A common string is a string that appeared in both list1 and list2.\n",
    "\n",
    "A common string with the least index sum is a common string such that if it appeared at list1[i] and list2[j] then i + j should be the minimum value among all the other common strings.\n",
    "\n",
    "### Return all the common strings with the least index sum. Return the answer in any order.\n",
    "\n",
    "```\n",
    "Example 1:\n",
    "    Input: list1 = [\"Shogun\",\"Tapioca Express\",\"Burger King\",\"KFC\"], list2 = [\"Piatti\",\"The Grill at Torrey Pines\",\"Hungry Hunter Steakhouse\",\"Shogun\"]\n",
    "    Output: [\"Shogun\"]\n",
    "    Explanation: The only common string is \"Shogun\".\n",
    "\n",
    "Example 2:\n",
    "    Input: list1 = [\"Shogun\",\"Tapioca Express\",\"Burger King\",\"KFC\"], list2 = [\"KFC\",\"Shogun\",\"Burger King\"]\n",
    "    Output: [\"Shogun\"]\n",
    "    Explanation: The common string with the least index sum is \"Shogun\" with index sum = (0 + 1) = 1.\n",
    "\n",
    "Example 3:\n",
    "    Input: list1 = [\"happy\",\"sad\",\"good\"], list2 = [\"sad\",\"happy\",\"good\"]\n",
    "    Output: [\"sad\",\"happy\"]\n",
    "    Explanation: There are three common strings:\n",
    "    \"happy\" with index sum = (0 + 1) = 1.\n",
    "    \"sad\" with index sum = (1 + 0) = 1.\n",
    "    \"good\" with index sum = (2 + 2) = 4.\n",
    "    The strings with the least index sum are \"sad\" and \"happy\".\n",
    "     \n",
    "\n",
    "Constraints:\n",
    "    1 <= list1.length, list2.length <= 1000\n",
    "    1 <= list1[i].length, list2[i].length <= 30\n",
    "    list1[i] and list2[i] consist of spaces ' ' and English letters.\n",
    "    All the strings of list1 are unique.\n",
    "    All the strings of list2 are unique.\n",
    "    There is at least a common string between list1 and list2.\n",
    "```"
   ],
   "id": "a9942cd4fa83ec6f"
  },
  {
   "metadata": {
    "ExecuteTime": {
     "end_time": "2024-06-07T00:39:44.940315Z",
     "start_time": "2024-06-07T00:39:44.926035Z"
    }
   },
   "cell_type": "code",
   "source": [
    "def findRestaurant(list1, list2):\n",
    "    dic = {}\n",
    "    max_size = max(len(list1),len(list2))\n",
    "    min_size = min(len(list1), len(list2))\n",
    "    \n",
    "    i = 0\n",
    "    j = 0\n",
    "    while max_size >= 0:\n",
    "        if min_size >= 0:\n",
    "            if not dic.get([list1[i]]):\n",
    "                dic.update({list1[i] : 1})\n",
    "            else:\n",
    "                dic[list1[i]] += 1\n",
    "            min_size -= 1\n",
    "        if not dic.get([list2[j]]):\n",
    "            dic.update({list2[j] : 1})\n",
    "        else:\n",
    "            dic[list[j]] += 1\n",
    "        max_size -= 1\n",
    "        i += 1\n",
    "        j += 1\n",
    "        \n",
    "    print(dic)\n",
    "        \n",
    "    \n",
    "    "
   ],
   "id": "61d48692f1998143",
   "outputs": [],
   "execution_count": 3
  },
  {
   "metadata": {
    "ExecuteTime": {
     "end_time": "2024-06-07T00:39:46.131919Z",
     "start_time": "2024-06-07T00:39:45.333203Z"
    }
   },
   "cell_type": "code",
   "source": [
    "list1 = [\"Shogun\",\"Tapioca Express\",\"Burger King\",\"KFC\"]\n",
    "list2 = [\"Piatti\",\"The Grill at Torrey Pines\",\"Hungry Hunter Steakhouse\",\"Shogun\"]\n",
    "findRestaurant(list1,list2)"
   ],
   "id": "7d4a8f6803c22896",
   "outputs": [
    {
     "ename": "TypeError",
     "evalue": "unhashable type: 'list'",
     "output_type": "error",
     "traceback": [
      "\u001B[0;31m---------------------------------------------------------------------------\u001B[0m",
      "\u001B[0;31mTypeError\u001B[0m                                 Traceback (most recent call last)",
      "Cell \u001B[0;32mIn[4], line 3\u001B[0m\n\u001B[1;32m      1\u001B[0m list1 \u001B[38;5;241m=\u001B[39m [\u001B[38;5;124m\"\u001B[39m\u001B[38;5;124mShogun\u001B[39m\u001B[38;5;124m\"\u001B[39m,\u001B[38;5;124m\"\u001B[39m\u001B[38;5;124mTapioca Express\u001B[39m\u001B[38;5;124m\"\u001B[39m,\u001B[38;5;124m\"\u001B[39m\u001B[38;5;124mBurger King\u001B[39m\u001B[38;5;124m\"\u001B[39m,\u001B[38;5;124m\"\u001B[39m\u001B[38;5;124mKFC\u001B[39m\u001B[38;5;124m\"\u001B[39m]\n\u001B[1;32m      2\u001B[0m list2 \u001B[38;5;241m=\u001B[39m [\u001B[38;5;124m\"\u001B[39m\u001B[38;5;124mPiatti\u001B[39m\u001B[38;5;124m\"\u001B[39m,\u001B[38;5;124m\"\u001B[39m\u001B[38;5;124mThe Grill at Torrey Pines\u001B[39m\u001B[38;5;124m\"\u001B[39m,\u001B[38;5;124m\"\u001B[39m\u001B[38;5;124mHungry Hunter Steakhouse\u001B[39m\u001B[38;5;124m\"\u001B[39m,\u001B[38;5;124m\"\u001B[39m\u001B[38;5;124mShogun\u001B[39m\u001B[38;5;124m\"\u001B[39m]\n\u001B[0;32m----> 3\u001B[0m \u001B[43mfindRestaurant\u001B[49m\u001B[43m(\u001B[49m\u001B[43mlist1\u001B[49m\u001B[43m,\u001B[49m\u001B[43mlist2\u001B[49m\u001B[43m)\u001B[49m\n",
      "Cell \u001B[0;32mIn[3], line 10\u001B[0m, in \u001B[0;36mfindRestaurant\u001B[0;34m(list1, list2)\u001B[0m\n\u001B[1;32m      8\u001B[0m \u001B[38;5;28;01mwhile\u001B[39;00m max_size \u001B[38;5;241m>\u001B[39m\u001B[38;5;241m=\u001B[39m \u001B[38;5;241m0\u001B[39m:\n\u001B[1;32m      9\u001B[0m     \u001B[38;5;28;01mif\u001B[39;00m min_size \u001B[38;5;241m>\u001B[39m\u001B[38;5;241m=\u001B[39m \u001B[38;5;241m0\u001B[39m:\n\u001B[0;32m---> 10\u001B[0m         \u001B[38;5;28;01mif\u001B[39;00m \u001B[38;5;129;01mnot\u001B[39;00m \u001B[43mdic\u001B[49m\u001B[38;5;241;43m.\u001B[39;49m\u001B[43mget\u001B[49m\u001B[43m(\u001B[49m\u001B[43m[\u001B[49m\u001B[43mlist1\u001B[49m\u001B[43m[\u001B[49m\u001B[43mi\u001B[49m\u001B[43m]\u001B[49m\u001B[43m]\u001B[49m\u001B[43m)\u001B[49m:\n\u001B[1;32m     11\u001B[0m             dic\u001B[38;5;241m.\u001B[39mupdate({list1[i] : \u001B[38;5;241m1\u001B[39m})\n\u001B[1;32m     12\u001B[0m         \u001B[38;5;28;01melse\u001B[39;00m:\n",
      "\u001B[0;31mTypeError\u001B[0m: unhashable type: 'list'"
     ]
    }
   ],
   "execution_count": 4
  },
  {
   "metadata": {},
   "cell_type": "code",
   "outputs": [],
   "execution_count": null,
   "source": [
    "list1 = [\"Shogun\",\"Tapioca Express\",\"Burger King\",\"KFC\"]\n",
    "list2 = [\"KFC\",\"Shogun\",\"Burger King\"]\n",
    "findRestaurant(list1,list2)"
   ],
   "id": "13264f8080b1450f"
  },
  {
   "metadata": {},
   "cell_type": "code",
   "outputs": [],
   "execution_count": null,
   "source": [
    "list1 = [\"happy\",\"sad\",\"good\"]\n",
    "list2 = [\"sad\",\"happy\",\"good\"]\n",
    "findRestaurant(list1,list2)"
   ],
   "id": "ba8220c4735688af"
  }
 ],
 "metadata": {
  "kernelspec": {
   "display_name": "Python 3",
   "language": "python",
   "name": "python3"
  },
  "language_info": {
   "codemirror_mode": {
    "name": "ipython",
    "version": 2
   },
   "file_extension": ".py",
   "mimetype": "text/x-python",
   "name": "python",
   "nbconvert_exporter": "python",
   "pygments_lexer": "ipython2",
   "version": "2.7.6"
  }
 },
 "nbformat": 4,
 "nbformat_minor": 5
}
