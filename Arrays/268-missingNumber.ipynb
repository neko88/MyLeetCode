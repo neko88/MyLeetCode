{
 "cells": [
  {
   "metadata": {},
   "cell_type": "markdown",
   "source": [
    "```\n",
    "input:\n",
    "    nums: int array\n",
    "output:\n",
    "    the missing number in the range [0, len(nums)]\n",
    "```\n",
    "```\n",
    "Example 1:\n",
    "    Input: nums = [3,0,1]\n",
    "    Output: 2\n",
    "    Explanation: n = 3 \n",
    "```\n",
    "since there are 3 numbers, so all numbers are in the range [0,3]. 2 is the missing number in the range since it does not appear in nums.\n",
    "```\n",
    "Example 2:\n",
    "    Input: nums = [0,1]\n",
    "    Output: 2\n",
    "    Explanation: n = 2 \n",
    "```\n",
    "since there are 2 numbers, so all numbers are in the range [0,2]. 2 is the missing number in the range since it does not appear in nums.\n",
    "```\n",
    "Example 3:\n",
    "    Input: nums = [9,6,4,2,3,5,7,0,1]\n",
    "    Output: 8\n",
    "    Explanation: n = 9 \n",
    "```\n",
    "since there are 9 numbers, so all numbers are in the range [0,9]. 8 is the missing number in the range since it does not appear in nums\n",
    "```"
   ]
  },
  {
   "metadata": {
    "ExecuteTime": {
     "end_time": "2024-05-22T23:55:39.434478Z",
     "start_time": "2024-05-22T23:55:39.429365Z"
    }
   },
   "cell_type": "code",
   "source": [
    "def missingNumber(nums):\n",
    "    \"\"\"\n",
    "    :type nums: List[int]\n",
    "    :rtype: int\n",
    "    \"\"\"\n",
    "    if nums[0] == 0 and len(nums) == 1:\n",
    "        return 1\n",
    "    \n",
    "    range_ = range(0, len(nums)+1)\n",
    "    print(range_)\n",
    "    missing = 0\n",
    "    \n",
    "    for num in range_:\n",
    "        if num not in nums:\n",
    "            missing = num\n",
    "    return missing\n",
    "        "
   ],
   "outputs": [],
   "execution_count": 1
  },
  {
   "metadata": {},
   "cell_type": "code",
   "outputs": [],
   "execution_count": null,
   "source": [
    "def missingNumber2(nums):\n",
    "    n = len(nums)\n",
    "    v = [-1] * (n+1)    # since we know 1 value is missing, n+1\n",
    "    \n",
    "    for num in nums:\n",
    "        v[num] = num    # num index of a box in v\n",
    "        \n",
    "    for i in range(len(v)):\n",
    "        if v[i] == -1:\n",
    "            return i\n",
    "        \n",
    "    return 0"
   ]
  },
  {
   "metadata": {},
   "cell_type": "code",
   "outputs": [
    {
     "name": "stdout",
     "output_type": "stream",
     "text": [
      "range(0, 9)\n",
      "8\n"
     ]
    }
   ],
   "execution_count": 5,
   "source": [
    "nums = [9,6,4,2,3,5,7,0,1]\n",
    "print(missingNumber(nums))"
   ]
  },
  {
   "metadata": {},
   "cell_type": "code",
   "outputs": [
    {
     "name": "stdout",
     "output_type": "stream",
     "text": [
      "range(0, 3)\n",
      "2\n"
     ]
    }
   ],
   "execution_count": 12,
   "source": [
    "nums = [0,1]\n",
    "print(missingNumber(nums))"
   ]
  }
 ],
 "metadata": {
  "kernelspec": {
   "display_name": "Python 3",
   "language": "python",
   "name": "python3"
  },
  "language_info": {
   "codemirror_mode": {
    "name": "ipython",
    "version": 2
   },
   "file_extension": ".py",
   "mimetype": "text/x-python",
   "name": "python",
   "nbconvert_exporter": "python",
   "pygments_lexer": "ipython2",
   "version": "2.7.6"
  }
 },
 "nbformat": 4,
 "nbformat_minor": 0
}
