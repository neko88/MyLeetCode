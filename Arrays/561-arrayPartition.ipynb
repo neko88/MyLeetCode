{
 "cells": [
  {
   "metadata": {},
   "cell_type": "markdown",
   "source": [
    "# 561. Array Partition\n",
    "Easy\n",
    "\n",
    "Given an integer array nums of 2n integers, group these integers into n pairs (a1, b1), (a2, b2), ..., (an, bn) such that the sum of min(ai, bi) for all i is maximized. Return the maximized sum.\n",
    "\n",
    " \n",
    "```\n",
    "Example 1:\n",
    "    Input: nums = [1,4,3,2]\n",
    "    Output: 4\n",
    "    Explanation: All possible pairings (ignoring the ordering of elements) are:\n",
    "    1. (1, 4), (2, 3) -> min(1, 4) + min(2, 3) = 1 + 2 = 3\n",
    "    2. (1, 3), (2, 4) -> min(1, 3) + min(2, 4) = 1 + 2 = 3\n",
    "    3. (1, 2), (3, 4) -> min(1, 2) + min(3, 4) = 1 + 3 = 4\n",
    "    So the maximum possible sum is 4.\n",
    "\n",
    "Example 2:\n",
    "    Input: nums = [6,2,6,5,1,2]\n",
    "    Output: 9\n",
    "    Explanation: The optimal pairing is (2, 1), (2, 5), (6, 6). min(2, 1) + min(2, 5) + min(6, 6) = 1 + 2 + 6 = 9.\n",
    "     \n",
    "Constraints:\n",
    "    1 <= n <= 104\n",
    "    nums.length == 2 * n\n",
    "    -104 <= nums[i] <= 104\n",
    "```"
   ],
   "id": "f0d434c868c73576"
  },
  {
   "metadata": {
    "ExecuteTime": {
     "end_time": "2024-06-05T22:02:02.209232Z",
     "start_time": "2024-06-05T22:02:02.201760Z"
    }
   },
   "cell_type": "code",
   "source": [
    "from collections import Counter\n",
    "\n",
    "# optimal pairing: highest elements together gives the highest possible min\n",
    "\n",
    "def arrayPairSum(nums): \n",
    "    if not nums:\n",
    "        return 0\n",
    "    maxSum = 0\n",
    "    nums = sorted(nums)\n",
    "    print(\"sort_nums: \", nums)\n",
    "    \n",
    "    n = len(nums)-1\n",
    "    n_pairs = len(nums)//2\n",
    "    print(\"n_pairs = \", n_pairs)\n",
    "    \n",
    "    while n_pairs > 0 and n >= 0:\n",
    "        min_pair = min(nums[n], nums[n-1])\n",
    "        maxSum += min_pair\n",
    "        \n",
    "        n_pairs -= 1\n",
    "        n -= 2\n",
    "        \n",
    "    return maxSum"
   ],
   "id": "initial_id",
   "outputs": [],
   "execution_count": 49
  },
  {
   "metadata": {
    "ExecuteTime": {
     "end_time": "2024-06-05T22:02:02.436423Z",
     "start_time": "2024-06-05T22:02:02.426747Z"
    }
   },
   "cell_type": "code",
   "source": [
    "nums = [1,4,3,2]\n",
    "arrayPairSum(nums)"
   ],
   "id": "602010e6a34d5757",
   "outputs": [
    {
     "name": "stdout",
     "output_type": "stream",
     "text": [
      "sort_nums:  [1, 2, 3, 4]\n",
      "n_pairs =  2\n",
      "3\n",
      "4 3\n",
      "3\n",
      "1\n",
      "2 1\n",
      "1\n"
     ]
    },
    {
     "data": {
      "text/plain": [
       "4"
      ]
     },
     "execution_count": 50,
     "metadata": {},
     "output_type": "execute_result"
    }
   ],
   "execution_count": 50
  },
  {
   "metadata": {
    "ExecuteTime": {
     "end_time": "2024-06-05T22:02:45.980381Z",
     "start_time": "2024-06-05T22:02:45.971958Z"
    }
   },
   "cell_type": "code",
   "source": [
    "nums = [3,2]\n",
    "arrayPairSum(nums)"
   ],
   "id": "de782dca468e241c",
   "outputs": [
    {
     "name": "stdout",
     "output_type": "stream",
     "text": [
      "sort_nums:  [2, 3]\n",
      "n_pairs =  1\n",
      "1\n",
      "3 2\n",
      "2\n"
     ]
    },
    {
     "data": {
      "text/plain": [
       "2"
      ]
     },
     "execution_count": 52,
     "metadata": {},
     "output_type": "execute_result"
    }
   ],
   "execution_count": 52
  },
  {
   "metadata": {
    "ExecuteTime": {
     "end_time": "2024-06-05T22:02:04.154706Z",
     "start_time": "2024-06-05T22:02:04.146087Z"
    }
   },
   "cell_type": "code",
   "source": [
    "nums = [6,2,6,5,1,2]\n",
    "arrayPairSum(nums)"
   ],
   "id": "beba0ca9381658fc",
   "outputs": [
    {
     "name": "stdout",
     "output_type": "stream",
     "text": [
      "sort_nums:  [1, 2, 2, 5, 6, 6]\n",
      "n_pairs =  3\n",
      "5\n",
      "6 6\n",
      "6\n",
      "3\n",
      "5 2\n",
      "2\n",
      "1\n",
      "2 1\n",
      "1\n"
     ]
    },
    {
     "data": {
      "text/plain": [
       "9"
      ]
     },
     "execution_count": 51,
     "metadata": {},
     "output_type": "execute_result"
    }
   ],
   "execution_count": 51
  },
  {
   "metadata": {},
   "cell_type": "code",
   "outputs": [],
   "execution_count": null,
   "source": "",
   "id": "de5413b42f368c37"
  }
 ],
 "metadata": {
  "kernelspec": {
   "display_name": "Python 3",
   "language": "python",
   "name": "python3"
  },
  "language_info": {
   "codemirror_mode": {
    "name": "ipython",
    "version": 2
   },
   "file_extension": ".py",
   "mimetype": "text/x-python",
   "name": "python",
   "nbconvert_exporter": "python",
   "pygments_lexer": "ipython2",
   "version": "2.7.6"
  }
 },
 "nbformat": 4,
 "nbformat_minor": 5
}
