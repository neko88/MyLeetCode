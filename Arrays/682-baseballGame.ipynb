{
 "cells": [
  {
   "metadata": {},
   "cell_type": "markdown",
   "source": [
    "# 682. Baseball Game\n",
    "Easy\n",
    "\n",
    "You are keeping the scores for a baseball game with strange rules. At the beginning of the game, you start with an empty record.\n",
    "\n",
    "You are given a list of strings operations, where operations[i] is the ith operation you must apply to the record and is one of the following:\n",
    "\n",
    "```\n",
    "An integer x.\n",
    "    Record a new score of x.\n",
    "'+'.\n",
    "    Record a new score that is the sum of the previous two scores.\n",
    "'D'.\n",
    "    Record a new score that is the double of the previous score.\n",
    "'C'.\n",
    "    Invalidate the previous score, removing it from the record.\n",
    "```\n",
    "### Return the sum of all the scores on the record after applying all the operations.\n",
    "\n",
    "The test cases are generated such that the answer and all intermediate calculations fit in a 32-bit integer and that all operations are valid.\n",
    " \n",
    "```\n",
    "Example 1:\n",
    "    Input: ops = [\"5\",\"2\",\"C\",\"D\",\"+\"]\n",
    "    Output: 30\n",
    "    Explanation:\n",
    "    \"5\" - Add 5 to the record, record is now [5].\n",
    "    \"2\" - Add 2 to the record, record is now [5, 2].\n",
    "    \"C\" - Invalidate and remove the previous score, record is now [5].\n",
    "    \"D\" - Add 2 * 5 = 10 to the record, record is now [5, 10].\n",
    "    \"+\" - Add 5 + 10 = 15 to the record, record is now [5, 10, 15].\n",
    "    The total sum is 5 + 10 + 15 = 30.\n",
    "\n",
    "Example 2:\n",
    "    Input: ops = [\"5\",\"-2\",\"4\",\"C\",\"D\",\"9\",\"+\",\"+\"]\n",
    "    Output: 27\n",
    "    Explanation:\n",
    "    \"5\" - Add 5 to the record, record is now [5].\n",
    "    \"-2\" - Add -2 to the record, record is now [5, -2].\n",
    "    \"4\" - Add 4 to the record, record is now [5, -2, 4].\n",
    "    \"C\" - Invalidate and remove the previous score, record is now [5, -2].\n",
    "    \"D\" - Add 2 * -2 = -4 to the record, record is now [5, -2, -4].\n",
    "    \"9\" - Add 9 to the record, record is now [5, -2, -4, 9].\n",
    "    \"+\" - Add -4 + 9 = 5 to the record, record is now [5, -2, -4, 9, 5].\n",
    "    \"+\" - Add 9 + 5 = 14 to the record, record is now [5, -2, -4, 9, 5, 14].\n",
    "    The total sum is 5 + -2 + -4 + 9 + 5 + 14 = 27.\n",
    "\n",
    "Example 3:\n",
    "    Input: ops = [\"1\",\"C\"]\n",
    "    Output: 0\n",
    "    Explanation:\n",
    "    \"1\" - Add 1 to the record, record is now [1].\n",
    "    \"C\" - Invalidate and remove the previous score, record is now [].\n",
    "    Since the record is empty, the total sum is 0.\n",
    " \n",
    "\n",
    "Constraints:\n",
    "    1 <= operations.length <= 1000\n",
    "    operations[i] is \"C\", \"D\", \"+\", or a string representing an integer in the range [-3 * 104, 3 * 104].\n",
    "    For operation \"+\", there will always be at least two previous scores on the record.\n",
    "    For operations \"C\" and \"D\", there will always be at least one previous score on the record.\n",
    "```"
   ],
   "id": "110d2b0326d9b245"
  },
  {
   "metadata": {
    "ExecuteTime": {
     "end_time": "2024-06-10T01:20:34.096342Z",
     "start_time": "2024-06-10T01:20:34.089368Z"
    }
   },
   "cell_type": "code",
   "source": [
    "def calPoints(operations):\n",
    "    \n",
    "    points = []\n",
    "    sum = 0\n",
    "    \n",
    "    for cell in operations:\n",
    "        if cell == \"C\":\n",
    "            num = points.pop()\n",
    "            sum -= num\n",
    "            \n",
    "        elif cell == \"D\":\n",
    "            if points[-1]:\n",
    "                new_score = points[-1] * 2\n",
    "                points.append(new_score)\n",
    "                sum += new_score\n",
    "            \n",
    "        elif cell == \"+\":\n",
    "            if points[-2] and points[-1]:\n",
    "                    new_score = points[-2] + points[-1]\n",
    "                    points.append(new_score)\n",
    "                    sum += new_score\n",
    "        else:\n",
    "            points.append(int(cell))\n",
    "            sum += int(cell)\n",
    "        \n",
    "        print(points)\n",
    "        print(sum)\n",
    "    return sum\n",
    "    "
   ],
   "id": "afdc6e56300fe5b4",
   "outputs": [],
   "execution_count": 30
  },
  {
   "metadata": {
    "ExecuteTime": {
     "end_time": "2024-06-10T01:20:34.315609Z",
     "start_time": "2024-06-10T01:20:34.310405Z"
    }
   },
   "cell_type": "code",
   "source": [
    "ops = [\"5\",\"2\",\"C\",\"D\",\"+\"]\n",
    "calPoints(ops)"
   ],
   "id": "77f0669312b5dcb2",
   "outputs": [
    {
     "name": "stdout",
     "output_type": "stream",
     "text": [
      "[5]\n",
      "5\n",
      "[5, 2]\n",
      "7\n",
      "[5]\n",
      "5\n",
      "[5, 10]\n",
      "15\n",
      "[5, 10, 15]\n",
      "30\n"
     ]
    }
   ],
   "execution_count": 31
  },
  {
   "metadata": {
    "ExecuteTime": {
     "end_time": "2024-06-10T01:20:36.498336Z",
     "start_time": "2024-06-10T01:20:36.491707Z"
    }
   },
   "cell_type": "code",
   "source": [
    "ops = [\"5\",\"-2\",\"4\",\"C\",\"D\",\"9\",\"+\",\"+\"]\n",
    "calPoints(ops)"
   ],
   "id": "bc3b4d639538649c",
   "outputs": [
    {
     "name": "stdout",
     "output_type": "stream",
     "text": [
      "[5]\n",
      "5\n",
      "[5, -2]\n",
      "3\n",
      "[5, -2, 4]\n",
      "7\n",
      "[5, -2]\n",
      "3\n",
      "[5, -2, -4]\n",
      "-1\n",
      "[5, -2, -4, 9]\n",
      "8\n",
      "[5, -2, -4, 9, 5]\n",
      "13\n",
      "[5, -2, -4, 9, 5, 14]\n",
      "27\n"
     ]
    }
   ],
   "execution_count": 32
  },
  {
   "metadata": {
    "ExecuteTime": {
     "end_time": "2024-06-10T01:21:06.207101Z",
     "start_time": "2024-06-10T01:21:06.202960Z"
    }
   },
   "cell_type": "code",
   "source": [
    "ops = [\"1\",\"C\"]\n",
    "calPoints(ops)"
   ],
   "id": "4a04911fb61e435a",
   "outputs": [
    {
     "name": "stdout",
     "output_type": "stream",
     "text": [
      "[1]\n",
      "1\n",
      "[]\n",
      "0\n"
     ]
    }
   ],
   "execution_count": 33
  },
  {
   "metadata": {},
   "cell_type": "code",
   "outputs": [],
   "execution_count": null,
   "source": "",
   "id": "103687fc32ec562b"
  }
 ],
 "metadata": {
  "kernelspec": {
   "display_name": "Python 3",
   "language": "python",
   "name": "python3"
  },
  "language_info": {
   "codemirror_mode": {
    "name": "ipython",
    "version": 2
   },
   "file_extension": ".py",
   "mimetype": "text/x-python",
   "name": "python",
   "nbconvert_exporter": "python",
   "pygments_lexer": "ipython2",
   "version": "2.7.6"
  }
 },
 "nbformat": 4,
 "nbformat_minor": 5
}
