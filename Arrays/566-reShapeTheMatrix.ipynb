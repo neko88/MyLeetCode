{
 "cells": [
  {
   "cell_type": "markdown",
   "source": [
    "# 566. Reshape the Matrix\n",
    "Easy\n",
    "\n",
    "Share\n",
    "In MATLAB, there is a handy function called reshape which can reshape an m x n matrix into a new one with a different size r x c keeping its original data.\n",
    "\n",
    "You are given an **m x n matrix** mat and two integers **r** and **c** representing the number of rows and the number of columns of the wanted reshaped matrix.\n",
    "\n",
    "The reshaped matrix should be filled with all the elements of the original matrix in the same row-traversing order as they were.\n",
    "\n",
    "If the reshape operation with given parameters is possible and legal, output the new reshaped matrix; Otherwise, output the original matrix.\n",
    "\n",
    "\n",
    "```\n",
    "[1][2]  --->    [1][2][3][4]\n",
    "[3][4]\n",
    "\n",
    "Example 1:\n",
    "    Input: mat = [[1,2],[3,4]], r = 1, c = 4\n",
    "    Output: [[1,2,3,4]]\n",
    "\n",
    "Example 2:\n",
    "    Input: mat = [[1,2],[3,4]], r = 2, c = 4\n",
    "    Output: [[1,2],[3,4]]\n",
    "\n",
    "Constraints:\n",
    "    m == mat.length\n",
    "    n == mat[i].length\n",
    "    1 <= m, n <= 100\n",
    "    -1000 <= mat[i][j] <= 1000\n",
    "    1 <= r, c <= 300\n",
    "```"
   ],
   "metadata": {
    "collapsed": false
   }
  },
  {
   "cell_type": "code",
   "execution_count": 39,
   "outputs": [],
   "source": [
    "def matrixReshape(mat, r, c):\n",
    "    if not mat:\n",
    "        return mat\n",
    "    m = len(mat)\n",
    "    n = len(mat[0])\n",
    "    if r==1 and c==1 or (r*c) != (m*n):\n",
    "        return mat\n",
    "\n",
    "    stack= []\n",
    "    for row in range(m):\n",
    "        for col in range(n):\n",
    "            stack.append(mat[row][col])\n",
    "\n",
    "    print(stack)\n",
    "\n",
    "    reshape = [ [0 for col in range(c)] for row in range(r)]\n",
    "\n",
    "    for row in range(r):\n",
    "        for col in range(c):\n",
    "            reshape[row][col] = stack.pop(0)\n",
    "    print(reshape)\n"
   ],
   "metadata": {
    "collapsed": false
   }
  },
  {
   "cell_type": "code",
   "execution_count": 40,
   "outputs": [
    {
     "name": "stdout",
     "output_type": "stream",
     "text": [
      "4\n",
      "[1, 2, 3, 4]\n",
      "[[1, 2, 3, 4]]\n"
     ]
    }
   ],
   "source": [
    "mat = [[1,2],[3,4]]\n",
    "\n",
    "matrixReshape(mat,r=1,c=4)"
   ],
   "metadata": {
    "collapsed": false
   }
  },
  {
   "cell_type": "code",
   "execution_count": 42,
   "outputs": [
    {
     "name": "stdout",
     "output_type": "stream",
     "text": [
      "2\n",
      "[1, 2, 3, 4, 5, 6, 7, 8, 9, 10]\n",
      "[[1, 2], [3, 4], [5, 6], [7, 8], [9, 10]]\n"
     ]
    }
   ],
   "source": [
    "#[1][2]\n",
    "#[3][4]\n",
    "#[5][6]\n",
    "#[7][8]\n",
    "#[9][10]\n",
    "\n",
    "mat = [[1,2,3,4,5],\n",
    "       [6,7,8,9,10]]\n",
    "\n",
    "matrixReshape(mat,5,2)"
   ],
   "metadata": {
    "collapsed": false
   }
  },
  {
   "cell_type": "code",
   "execution_count": null,
   "outputs": [],
   "source": [],
   "metadata": {
    "collapsed": false
   }
  }
 ],
 "metadata": {
  "kernelspec": {
   "display_name": "Python 3",
   "language": "python",
   "name": "python3"
  },
  "language_info": {
   "codemirror_mode": {
    "name": "ipython",
    "version": 2
   },
   "file_extension": ".py",
   "mimetype": "text/x-python",
   "name": "python",
   "nbconvert_exporter": "python",
   "pygments_lexer": "ipython2",
   "version": "2.7.6"
  }
 },
 "nbformat": 4,
 "nbformat_minor": 0
}
