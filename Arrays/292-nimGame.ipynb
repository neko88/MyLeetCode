{
 "cells": [
  {
   "metadata": {},
   "cell_type": "markdown",
   "source": [
    "# Nim Game\n",
    "You are playing the following Nim Game with your friend:\n",
    "\n",
    "- Initially, there is a heap of stones on the table.\n",
    "- You and your friend will alternate taking turns, and you go first.\n",
    "On each turn, the person whose turn it is will remove 1 to 3 stones from the heap.\n",
    "- The one who removes the last stone is the winner.\n",
    "\n",
    "```\n",
    "input:\n",
    "    n = num of stones in heap\n",
    "output:\n",
    "    true - you win [get last stone] given optimal gameplay\n",
    "    false - you lost\n",
    "```\n",
    "```\n",
    "Example 1:\n",
    "    Input: n = 4\n",
    "    Output: false\n",
    "\n",
    "    Explanation: These are the possible outcomes:\n",
    "    1. You remove 1 stone. Your friend removes 3 stones, including the last stone. Your friend wins.\n",
    "    2. You remove 2 stones. Your friend removes 2 stones, including the last stone. Your friend wins.\n",
    "    3. You remove 3 stones. Your friend removes the last stone. Your friend wins.\n",
    "    In all outcomes, your friend wins.\n",
    "\n",
    "Example 2:\n",
    "    Input: n = 1\n",
    "    Output: true\n",
    "\n",
    "Example 3:\n",
    "    Input: n = 2\n",
    "    Output: true\n",
    "```"
   ],
   "id": "ce3227a3621540e3"
  },
  {
   "metadata": {},
   "cell_type": "markdown",
   "source": [
    "# Approach\n",
    "\n",
    "If there are 4 stones left, you will always lose no matter how many stones you take (1, 2, or 3).\n",
    "\n",
    "4 - 3 = 1, lose\n",
    "\n",
    "4 - 2 = 2, lose\n",
    "\n",
    "4 - 1 = 3, lose\n",
    "\n",
    "5 - 1 = 4        4 - 3 = 1, win\n"
   ],
   "id": "c876abce825d580b"
  },
  {
   "metadata": {},
   "cell_type": "code",
   "outputs": [],
   "execution_count": null,
   "source": "",
   "id": "7572cbd125f2bc5e"
  },
  {
   "metadata": {},
   "cell_type": "markdown",
   "source": "",
   "id": "2742e6894514045c"
  },
  {
   "metadata": {
    "ExecuteTime": {
     "end_time": "2024-05-27T23:18:28.403949Z",
     "start_time": "2024-05-27T23:18:28.398275Z"
    }
   },
   "cell_type": "code",
   "source": [
    "def canWinNim(n):\n",
    "    return n%4 != 0"
   ],
   "id": "e66fac00115d4b28",
   "outputs": [],
   "execution_count": 8
  },
  {
   "metadata": {
    "ExecuteTime": {
     "end_time": "2024-05-27T23:18:31.594558Z",
     "start_time": "2024-05-27T23:18:31.589227Z"
    }
   },
   "cell_type": "code",
   "source": "print(canWinNim(5))",
   "id": "349c40e72e295ee0",
   "outputs": [
    {
     "name": "stdout",
     "output_type": "stream",
     "text": [
      "True\n"
     ]
    }
   ],
   "execution_count": 10
  },
  {
   "metadata": {},
   "cell_type": "code",
   "outputs": [],
   "execution_count": null,
   "source": "",
   "id": "dde70087903b15"
  }
 ],
 "metadata": {
  "kernelspec": {
   "display_name": "Python 3",
   "language": "python",
   "name": "python3"
  },
  "language_info": {
   "codemirror_mode": {
    "name": "ipython",
    "version": 2
   },
   "file_extension": ".py",
   "mimetype": "text/x-python",
   "name": "python",
   "nbconvert_exporter": "python",
   "pygments_lexer": "ipython2",
   "version": "2.7.6"
  }
 },
 "nbformat": 4,
 "nbformat_minor": 5
}
