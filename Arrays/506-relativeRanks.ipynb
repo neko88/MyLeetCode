{
 "cells": [
  {
   "metadata": {},
   "cell_type": "markdown",
   "source": [
    "# 506. Relative Ranks\n",
    "Easy\n",
    "\n",
    "You are given an integer array score of size n, where score[i] is the score of the ith athlete in a competition. All the scores are guaranteed to be unique.\n",
    "\n",
    "The athletes are placed based on their scores, where the 1st place athlete has the highest score, the 2nd place athlete has the 2nd highest score, and so on. The placement of each athlete determines their rank:\n",
    "\n",
    "The 1st place athlete's rank is \"Gold Medal\".\n",
    "The 2nd place athlete's rank is \"Silver Medal\".\n",
    "The 3rd place athlete's rank is \"Bronze Medal\".\n",
    "For the 4th place to the nth place athlete, their rank is their placement number (i.e., the xth place athlete's rank is \"x\").\n",
    "\n",
    "### Return an array answer of size n where answer[i] is the rank of the ith athlete.\n",
    "\n",
    " \n",
    "```\n",
    "Example 1:\n",
    "    Input: score = [5,4,3,2,1]\n",
    "    Output: [\"Gold Medal\",\"Silver Medal\",\"Bronze Medal\",\"4\",\"5\"]\n",
    "    Explanation: The placements are [1st, 2nd, 3rd, 4th, 5th].\n",
    "\n",
    "Example 2:\n",
    "    Input: score = [10,3,8,9,4]\n",
    "    Output: [\"Gold Medal\",\"5\",\"Bronze Medal\",\"Silver Medal\",\"4\"]\n",
    "    Explanation: The placements are [1st, 5th, 3rd, 2nd, 4th].\n",
    "\n",
    "Constraints:\n",
    "    n == score.length\n",
    "    1 <= n <= 104\n",
    "    0 <= score[i] <= 106\n",
    "    All the values in score are unique.\n",
    "```"
   ],
   "id": "81dc5c50251c80e0"
  },
  {
   "metadata": {
    "ExecuteTime": {
     "end_time": "2024-06-04T22:57:00.872948Z",
     "start_time": "2024-06-04T22:57:00.865099Z"
    }
   },
   "cell_type": "code",
   "source": [
    "def findRelativeRanks(score):\n",
    "    first = \"Gold Medal\"\n",
    "    second = \"Silver Medal\"\n",
    "    third = \"Bronze Medal\"\n",
    "    \n",
    "    stack = list(map(str, range(len(score), 3, -1)))\n",
    "    stack.append(third)\n",
    "    stack.append(second)\n",
    "    stack.append(first)\n",
    "    # create a map, saving score and indices\n",
    "    # score[i].key : i.index.val\n",
    "    score_map = {score[i]: i for i in range(len(score))}\n",
    "    print(\"score map: \", score_map)\n",
    "\n",
    "    # sort the score in descending order\n",
    "    score.sort(reverse=True)\n",
    "    print(\"sorted: \", score)\n",
    "\n",
    "    result = [0]*len(score)\n",
    "\n",
    "    # since score is sorted, access largest value's key in the score_map\n",
    "    # score_map[i] is index, place in result[]\n",
    "    for i in score:\n",
    "        print(i)\n",
    "        result[score_map[i]] = stack.pop()\n",
    "   \n",
    "    print(\"awards: \", score_map)\n",
    "\n",
    "    return result"
   ],
   "id": "74b63add89a4a42d",
   "outputs": [],
   "execution_count": 64
  },
  {
   "metadata": {
    "ExecuteTime": {
     "end_time": "2024-06-04T22:57:01.209745Z",
     "start_time": "2024-06-04T22:57:01.201920Z"
    }
   },
   "cell_type": "code",
   "source": [
    " score = [5,4,3,2,1]\n",
    "findRelativeRanks(score)"
   ],
   "id": "5e6ac5f9bfaa2528",
   "outputs": [
    {
     "name": "stdout",
     "output_type": "stream",
     "text": [
      "score map:  {5: 0, 4: 1, 3: 2, 2: 3, 1: 4}\n",
      "sorted:  [5, 4, 3, 2, 1]\n",
      "5\n",
      "4\n",
      "3\n",
      "2\n",
      "1\n",
      "awards:  {5: 0, 4: 1, 3: 2, 2: 3, 1: 4}\n"
     ]
    },
    {
     "data": {
      "text/plain": "['Gold Medal', 'Silver Medal', 'Bronze Medal', '4', '5']"
     },
     "execution_count": 65,
     "metadata": {},
     "output_type": "execute_result"
    }
   ],
   "execution_count": 65
  },
  {
   "metadata": {},
   "cell_type": "code",
   "outputs": [
    {
     "name": "stdout",
     "output_type": "stream",
     "text": [
      "score map:  {10: 0, 3: 1, 8: 2, 9: 3, 4: 4}\n",
      "sorted:  [10, 9, 8, 4, 3]\n",
      "10\n",
      "9\n",
      "8\n",
      "4\n",
      "3\n",
      "awards:  {10: 0, 3: 1, 8: 2, 9: 3, 4: 4}\n"
     ]
    },
    {
     "data": {
      "text/plain": "['Gold Medal', '5', 'Bronze Medal', 'Silver Medal', '4']"
     },
     "execution_count": 66,
     "metadata": {},
     "output_type": "execute_result"
    }
   ],
   "execution_count": 66,
   "source": [
    " score = [10,3,8,9,4]\n",
    "findRelativeRanks(score)"
   ],
   "id": "81841960f3b47721"
  },
  {
   "cell_type": "code",
   "execution_count": null,
   "outputs": [],
   "source": [],
   "metadata": {
    "collapsed": false,
    "pycharm": {
     "is_executing": true
    }
   }
  },
  {
   "cell_type": "code",
   "execution_count": 53,
   "outputs": [],
   "source": [],
   "metadata": {
    "collapsed": false
   }
  }
 ],
 "metadata": {
  "kernelspec": {
   "display_name": "Python 3",
   "language": "python",
   "name": "python3"
  },
  "language_info": {
   "codemirror_mode": {
    "name": "ipython",
    "version": 2
   },
   "file_extension": ".py",
   "mimetype": "text/x-python",
   "name": "python",
   "nbconvert_exporter": "python",
   "pygments_lexer": "ipython2",
   "version": "2.7.6"
  }
 },
 "nbformat": 4,
 "nbformat_minor": 5
}
