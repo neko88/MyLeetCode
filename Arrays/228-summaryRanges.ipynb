{
 "cells": [
  {
   "cell_type": "markdown",
   "source": [
    "```\n",
    "input:\n",
    "    nums = sorted, unique, int array\n",
    "output:\n",
    "    smallest sorted list of ranges that cover all numbers in the array exactly.\n",
    "\n",
    "Each range [a, b] in the list should be output as:\n",
    "    \"a -> b\" if a != b\n",
    "    \"a\" if a == b\n",
    "\n",
    "Example 1:\n",
    "    Input: nums = [0,1,2,4,5,7]\n",
    "    Output: [\"0->2\",\"4->5\",\"7\"]\n",
    "    Explanation: The ranges are:\n",
    "    [0,2] --> \"0->2\"\n",
    "    [4,5] --> \"4->5\"\n",
    "    [7,7] --> \"7\"\n",
    "\n",
    "Example 2:\n",
    "    Input: nums = [0,2,3,4,6,8,9]\n",
    "    Output: [\"0\",\"2->4\",\"6\",\"8->9\"]\n",
    "    Explanation: The ranges are:\n",
    "    [0,0] --> \"0\"\n",
    "    [2,4] --> \"2->4\"\n",
    "    [6,6] --> \"6\"\n",
    "    [8,9] --> \"8->9\"\n",
    "```"
   ],
   "metadata": {
    "collapsed": false
   }
  },
  {
   "metadata": {},
   "cell_type": "markdown",
   "source": ""
  }
 ],
 "metadata": {
  "kernelspec": {
   "display_name": "Python 3",
   "language": "python",
   "name": "python3"
  },
  "language_info": {
   "codemirror_mode": {
    "name": "ipython",
    "version": 2
   },
   "file_extension": ".py",
   "mimetype": "text/x-python",
   "name": "python",
   "nbconvert_exporter": "python",
   "pygments_lexer": "ipython2",
   "version": "2.7.6"
  }
 },
 "nbformat": 4,
 "nbformat_minor": 0
}
